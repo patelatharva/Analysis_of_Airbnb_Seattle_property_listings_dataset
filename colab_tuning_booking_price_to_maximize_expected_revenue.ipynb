{
  "nbformat": 4,
  "nbformat_minor": 0,
  "metadata": {
    "accelerator": "GPU",
    "colab": {
      "name": "colab_tuning_booking_price_to_maximize_expected_revenue.ipynb",
      "provenance": [],
      "collapsed_sections": [
        "jDlMsE3KyFn6",
        "gujejNkkyFoO",
        "EmCjgWC57yn9"
      ],
      "toc_visible": true,
      "machine_shape": "hm",
      "include_colab_link": true
    },
    "kernelspec": {
      "display_name": "Python 3",
      "language": "python",
      "name": "python3"
    },
    "language_info": {
      "codemirror_mode": {
        "name": "ipython",
        "version": 3
      },
      "file_extension": ".py",
      "mimetype": "text/x-python",
      "name": "python",
      "nbconvert_exporter": "python",
      "pygments_lexer": "ipython3",
      "version": "3.7.3"
    }
  },
  "cells": [
    {
      "cell_type": "markdown",
      "metadata": {
        "id": "view-in-github",
        "colab_type": "text"
      },
      "source": [
        "<a href=\"https://colab.research.google.com/github/patelatharva/Analysis_of_Airbnb_property_listings_dataset/blob/master/colab_tuning_booking_price_to_maximize_expected_revenue.ipynb\" target=\"_parent\"><img src=\"https://colab.research.google.com/assets/colab-badge.svg\" alt=\"Open In Colab\"/></a>"
      ]
    },
    {
      "cell_type": "markdown",
      "metadata": {
        "colab_type": "text",
        "id": "bB67i5sRvR3b"
      },
      "source": [
        "# A predictive analysis of how a booking company tune its prices of individual properties to maximize expected revenue"
      ]
    },
    {
      "cell_type": "code",
      "metadata": {
        "colab_type": "code",
        "id": "jmbLKuzJyFkm",
        "colab": {
          "base_uri": "https://localhost:8080/",
          "height": 105
        },
        "outputId": "8e3d98a6-b409-4860-f99e-c31529bee5ca"
      },
      "source": [
        "import os\n",
        "import numpy as np\n",
        "import pandas as pd\n",
        "import matplotlib.pyplot as plt\n",
        "import matplotlib.dates as mdates\n",
        "from sklearn.model_selection import GridSearchCV\n",
        "from sklearn.model_selection import train_test_split\n",
        "from sklearn.metrics import r2_score, mean_squared_error\n",
        "import seaborn as sns\n",
        "from pandas.plotting import register_matplotlib_converters\n",
        "register_matplotlib_converters()\n",
        "%matplotlib inline\n",
        "import glob\n",
        "import pickle\n",
        "import time\n",
        "from sklearn.metrics import roc_auc_score, f1_score, log_loss\n",
        "from sklearn.tree import DecisionTreeClassifier\n",
        "from sklearn.ensemble import GradientBoostingClassifier, AdaBoostClassifier, RandomForestClassifier\n",
        "from sklearn.svm import SVC\n",
        "import math\n",
        "from sklearn.base import clone\n",
        "!pip install -q scikit-optimize\n",
        "from skopt import gp_minimize\n",
        "!pip install -q hyperopt\n",
        "import hyperopt\n",
        "from hyperopt import fmin, tpe, hp, STATUS_OK, Trials\n",
        "from hyperopt import space_eval\n",
        "!pip install -q keras\n",
        "!pip install -q tensorflow\n",
        "import tensorflow as tf\n",
        "from tensorflow import keras\n",
        "from keras.models import Sequential\n",
        "from keras.layers import Activation, Dense, Dropout, BatchNormalization\n",
        "from keras.wrappers.scikit_learn import KerasClassifier\n",
        "from keras.optimizers import Adam\n",
        "from keras.callbacks import EarlyStopping, ModelCheckpoint\n",
        "!pip install -q h5py\n",
        "from keras.models import load_model\n",
        "import pprint\n",
        "import random\n",
        "from sklearn.linear_model import Ridge, LinearRegression\n",
        "from sklearn.preprocessing import PolynomialFeatures\n",
        "from sklearn.pipeline import make_pipeline\n",
        "!pip install -q xgboost\n",
        "from xgboost import XGBClassifier\n",
        "from google.colab import drive\n",
        "import gc\n",
        "import seaborn as sns"
      ],
      "execution_count": 2,
      "outputs": [
        {
          "output_type": "stream",
          "text": [
            "\u001b[?25l\r\u001b[K     |████▍                           | 10kB 21.7MB/s eta 0:00:01\r\u001b[K     |████████▉                       | 20kB 1.7MB/s eta 0:00:01\r\u001b[K     |█████████████▏                  | 30kB 2.6MB/s eta 0:00:01\r\u001b[K     |█████████████████▋              | 40kB 1.7MB/s eta 0:00:01\r\u001b[K     |██████████████████████          | 51kB 2.1MB/s eta 0:00:01\r\u001b[K     |██████████████████████████▍     | 61kB 2.5MB/s eta 0:00:01\r\u001b[K     |██████████████████████████████▊ | 71kB 2.9MB/s eta 0:00:01\r\u001b[K     |████████████████████████████████| 81kB 3.1MB/s \n",
            "\u001b[?25h"
          ],
          "name": "stdout"
        },
        {
          "output_type": "stream",
          "text": [
            "/usr/local/lib/python3.6/dist-packages/sklearn/externals/joblib/__init__.py:15: DeprecationWarning: sklearn.externals.joblib is deprecated in 0.21 and will be removed in 0.23. Please import this functionality directly from joblib, which can be installed with: pip install joblib. If this warning is raised when loading pickled models, you may need to re-serialize those models with scikit-learn 0.21+.\n",
            "  warnings.warn(msg, category=DeprecationWarning)\n",
            "Using TensorFlow backend.\n"
          ],
          "name": "stderr"
        }
      ]
    },
    {
      "cell_type": "markdown",
      "metadata": {
        "colab_type": "text",
        "id": "cu9Gc4QLyFk1"
      },
      "source": [
        "## Data Preparation"
      ]
    },
    {
      "cell_type": "code",
      "metadata": {
        "colab_type": "code",
        "id": "EoAef2Tqz406",
        "outputId": "95d45309-5391-4c70-fd4c-adf93862c7eb",
        "colab": {
          "base_uri": "https://localhost:8080/",
          "height": 122
        }
      },
      "source": [
        "drive.mount('/content/gdrive')"
      ],
      "execution_count": 3,
      "outputs": [
        {
          "output_type": "stream",
          "text": [
            "Go to this URL in a browser: https://accounts.google.com/o/oauth2/auth?client_id=947318989803-6bn6qk8qdgf4n4g3pfee6491hc0brc4i.apps.googleusercontent.com&redirect_uri=urn%3Aietf%3Awg%3Aoauth%3A2.0%3Aoob&scope=email%20https%3A%2F%2Fwww.googleapis.com%2Fauth%2Fdocs.test%20https%3A%2F%2Fwww.googleapis.com%2Fauth%2Fdrive%20https%3A%2F%2Fwww.googleapis.com%2Fauth%2Fdrive.photos.readonly%20https%3A%2F%2Fwww.googleapis.com%2Fauth%2Fpeopleapi.readonly&response_type=code\n",
            "\n",
            "Enter your authorization code:\n",
            "··········\n",
            "Mounted at /content/gdrive\n"
          ],
          "name": "stdout"
        }
      ]
    },
    {
      "cell_type": "code",
      "metadata": {
        "colab_type": "code",
        "id": "CfFaiZyK0WAl",
        "outputId": "07082907-6e81-4eb2-b77e-bf4ba4c6d5c1",
        "colab": {
          "base_uri": "https://localhost:8080/",
          "height": 34
        }
      },
      "source": [
        "!ls \"/content/gdrive/My Drive/Data Scientist/airbnb/data/seattle\""
      ],
      "execution_count": 4,
      "outputs": [
        {
          "output_type": "stream",
          "text": [
            "calendar.csv  listings.csv  reviews.csv\n"
          ],
          "name": "stdout"
        }
      ]
    },
    {
      "cell_type": "code",
      "metadata": {
        "colab_type": "code",
        "id": "d-N4NAgE0sPQ",
        "colab": {}
      },
      "source": [
        "project_dir = \"/content/gdrive/My Drive/Data Scientist/airbnb\""
      ],
      "execution_count": 0,
      "outputs": []
    },
    {
      "cell_type": "code",
      "metadata": {
        "colab_type": "code",
        "id": "8zLzWyzWhsdi",
        "colab": {}
      },
      "source": [
        "# project_dir = \".\""
      ],
      "execution_count": 0,
      "outputs": []
    },
    {
      "cell_type": "code",
      "metadata": {
        "colab_type": "code",
        "id": "9xA9_U2WDdIf",
        "colab": {}
      },
      "source": [
        "data_dir = project_dir + \"/data/seattle\""
      ],
      "execution_count": 0,
      "outputs": []
    },
    {
      "cell_type": "code",
      "metadata": {
        "colab_type": "code",
        "id": "V_Mb4_9pyFk2",
        "colab": {}
      },
      "source": [
        "calendar = pd.read_csv(data_dir + \"/calendar.csv\")\n",
        "reviews = pd.read_csv(data_dir + \"/reviews.csv\")\n",
        "listings = pd.read_csv(data_dir + \"/listings.csv\")"
      ],
      "execution_count": 0,
      "outputs": []
    },
    {
      "cell_type": "code",
      "metadata": {
        "colab_type": "code",
        "id": "3QkIcOZ6Fl_R",
        "outputId": "cf4b7237-81e2-46ee-97c6-bdbcc88366ac",
        "colab": {
          "base_uri": "https://localhost:8080/",
          "height": 34
        }
      },
      "source": [
        "listings[\"id\"].nunique()"
      ],
      "execution_count": 8,
      "outputs": [
        {
          "output_type": "execute_result",
          "data": {
            "text/plain": [
              "3818"
            ]
          },
          "metadata": {
            "tags": []
          },
          "execution_count": 8
        }
      ]
    },
    {
      "cell_type": "markdown",
      "metadata": {
        "colab_type": "text",
        "id": "hlXy-voYyFk5"
      },
      "source": [
        "### Transforming 'price' from string to numeric"
      ]
    },
    {
      "cell_type": "code",
      "metadata": {
        "colab_type": "code",
        "id": "3XKSmbEjyFk6",
        "outputId": "c9a90f07-8f37-46bf-c11d-cdb68fe22186",
        "colab": {
          "base_uri": "https://localhost:8080/",
          "height": 119
        }
      },
      "source": [
        "\"\"\"\n",
        "    Converts price in the string format like \"$1,125.00\" into numeric value 1125.00\n",
        "    INPUT:\n",
        "    - string price in string format\n",
        "    OUTPUT:\n",
        "    - float value corresponding to the price or None if the input is not parseable to float\n",
        "\"\"\"\n",
        "def str_to_num (string):\n",
        "    if string is not None:\n",
        "        if type(string) is str and string.startswith('$'):\n",
        "            return float(string.replace('$', '').replace(',', ''))\n",
        "        else:\n",
        "            return None\n",
        "    else:\n",
        "        return None\n",
        "listings_cleaned = pd.concat([listings.drop('price', axis=1), listings[\"price\"].apply(str_to_num)], axis=1)\n",
        "listings_cleaned['price'].head()"
      ],
      "execution_count": 9,
      "outputs": [
        {
          "output_type": "execute_result",
          "data": {
            "text/plain": [
              "0     85.0\n",
              "1    150.0\n",
              "2    975.0\n",
              "3    100.0\n",
              "4    450.0\n",
              "Name: price, dtype: float64"
            ]
          },
          "metadata": {
            "tags": []
          },
          "execution_count": 9
        }
      ]
    },
    {
      "cell_type": "code",
      "metadata": {
        "colab_type": "code",
        "id": "S-oBi3pYyFk9",
        "outputId": "e0b74935-f3e9-43d2-9f11-3242fd33439d",
        "colab": {
          "base_uri": "https://localhost:8080/",
          "height": 119
        }
      },
      "source": [
        "calendar_cleaned = pd.concat([calendar.drop('price', axis=1), calendar[\"price\"].apply(str_to_num)], axis=1)\n",
        "calendar_cleaned['price'].head()"
      ],
      "execution_count": 10,
      "outputs": [
        {
          "output_type": "execute_result",
          "data": {
            "text/plain": [
              "0    85.0\n",
              "1    85.0\n",
              "2     NaN\n",
              "3     NaN\n",
              "4     NaN\n",
              "Name: price, dtype: float64"
            ]
          },
          "metadata": {
            "tags": []
          },
          "execution_count": 10
        }
      ]
    },
    {
      "cell_type": "markdown",
      "metadata": {
        "colab_type": "text",
        "id": "C0S7xcx6yFlA"
      },
      "source": [
        "### Converting 'avilable' field from string to binary"
      ]
    },
    {
      "cell_type": "code",
      "metadata": {
        "colab_type": "code",
        "id": "Gj4ErNR1yFlB",
        "outputId": "0a0205eb-ccdf-433e-84a5-15974b7c70fc",
        "colab": {
          "base_uri": "https://localhost:8080/",
          "height": 119
        }
      },
      "source": [
        "calendar_cleaned['available'] = calendar_cleaned['available'] == 't'\n",
        "calendar_cleaned['available'].head()"
      ],
      "execution_count": 11,
      "outputs": [
        {
          "output_type": "execute_result",
          "data": {
            "text/plain": [
              "0     True\n",
              "1     True\n",
              "2    False\n",
              "3    False\n",
              "4    False\n",
              "Name: available, dtype: bool"
            ]
          },
          "metadata": {
            "tags": []
          },
          "execution_count": 11
        }
      ]
    },
    {
      "cell_type": "markdown",
      "metadata": {
        "colab_type": "text",
        "id": "2CRwPuIqyFlE"
      },
      "source": [
        "### Converting 'date' from string to datetime format"
      ]
    },
    {
      "cell_type": "code",
      "metadata": {
        "colab_type": "code",
        "id": "1AzGFXl8yFlF",
        "colab": {}
      },
      "source": [
        "calendar_cleaned[\"date\"] = pd.to_datetime(calendar_cleaned[\"date\"], format=\"%Y-%m-%d\")"
      ],
      "execution_count": 0,
      "outputs": []
    },
    {
      "cell_type": "markdown",
      "metadata": {
        "colab_type": "text",
        "id": "ckk-R1R3yFlJ"
      },
      "source": [
        "### Converting location field from numeric to categorical"
      ]
    },
    {
      "cell_type": "code",
      "metadata": {
        "colab_type": "code",
        "id": "TuPJ39X1yFlK",
        "colab": {}
      },
      "source": [
        "listings_cleaned[\"location_categorical\"] = listings_cleaned.apply(lambda row: str((format(row.latitude, '.2f'), format(row.longitude, '.2f'))), axis=1)"
      ],
      "execution_count": 0,
      "outputs": []
    },
    {
      "cell_type": "code",
      "metadata": {
        "colab_type": "code",
        "id": "k8o4rtMQyFlN",
        "outputId": "8e323a84-17b3-4c28-b438-8d82a6bb4ed2",
        "colab": {
          "base_uri": "https://localhost:8080/",
          "height": 119
        }
      },
      "source": [
        "listings_cleaned.location_categorical.head()"
      ],
      "execution_count": 14,
      "outputs": [
        {
          "output_type": "execute_result",
          "data": {
            "text/plain": [
              "0    ('47.64', '-122.37')\n",
              "1    ('47.64', '-122.37')\n",
              "2    ('47.63', '-122.37')\n",
              "3    ('47.64', '-122.37')\n",
              "4    ('47.63', '-122.37')\n",
              "Name: location_categorical, dtype: object"
            ]
          },
          "metadata": {
            "tags": []
          },
          "execution_count": 14
        }
      ]
    },
    {
      "cell_type": "markdown",
      "metadata": {
        "colab_type": "text",
        "id": "ImOYNZ59yFlP"
      },
      "source": [
        "### Converting 'amenities' field containing list into separate categorical columns for each amenity in dataframe"
      ]
    },
    {
      "cell_type": "code",
      "metadata": {
        "colab_type": "code",
        "id": "7L1sEyWwyFlQ",
        "outputId": "32ffc37a-322c-4b15-e28b-c87cb740d149",
        "colab": {
          "base_uri": "https://localhost:8080/",
          "height": 187
        }
      },
      "source": [
        "list(map(lambda amenity : amenity.replace(\"\\\"\",\"\").replace(\"{\",\"\").replace(\"}\", \"\"), listings_cleaned.amenities.iloc[0].split(\",\")))"
      ],
      "execution_count": 15,
      "outputs": [
        {
          "output_type": "execute_result",
          "data": {
            "text/plain": [
              "['TV',\n",
              " 'Cable TV',\n",
              " 'Internet',\n",
              " 'Wireless Internet',\n",
              " 'Air Conditioning',\n",
              " 'Kitchen',\n",
              " 'Heating',\n",
              " 'Family/Kid Friendly',\n",
              " 'Washer',\n",
              " 'Dryer']"
            ]
          },
          "metadata": {
            "tags": []
          },
          "execution_count": 15
        }
      ]
    },
    {
      "cell_type": "code",
      "metadata": {
        "colab_type": "code",
        "id": "it7hiVFtyFlT",
        "colab": {}
      },
      "source": [
        "\"\"\"\n",
        "    Separates the string value of `amenities` attribute in the row, into a list of individual amenities.\n",
        "    \n",
        "    INPUT:\n",
        "    - row : from dataset having amenities attribute\n",
        "    OUTPUT:    \n",
        "    - list of amenities derived from the value of `amenities` attribute in row\n",
        "\"\"\"\n",
        "def separate_amenities(row):\n",
        "    amenities = row.amenities\n",
        "    list_to_return = []\n",
        "    if (amenities is not None and type(amenities) == str):            \n",
        "        list_to_return = list(map(lambda amenity : amenity.replace(\"\\\"\",\"\").replace(\"{\",\"\").replace(\"}\", \"\"), amenities.split(\",\")))\n",
        "    if '' in list_to_return:\n",
        "        list_to_return.remove('')\n",
        "    return list_to_return\n",
        "listings_cleaned[\"amenities_list\"] = listings_cleaned.apply(separate_amenities, axis=1)"
      ],
      "execution_count": 0,
      "outputs": []
    },
    {
      "cell_type": "code",
      "metadata": {
        "colab_type": "code",
        "id": "YHE5MnhryFlV",
        "outputId": "a7f6b0ad-ae93-499e-c672-7625e8cebf06",
        "colab": {
          "base_uri": "https://localhost:8080/",
          "height": 238
        }
      },
      "source": [
        "possible_amenities = listings_cleaned['amenities_list'].apply(pd.Series).stack().unique()\n",
        "possible_amenities"
      ],
      "execution_count": 17,
      "outputs": [
        {
          "output_type": "execute_result",
          "data": {
            "text/plain": [
              "array(['TV', 'Cable TV', 'Internet', 'Wireless Internet',\n",
              "       'Air Conditioning', 'Kitchen', 'Heating', 'Family/Kid Friendly',\n",
              "       'Washer', 'Dryer', 'Free Parking on Premises',\n",
              "       'Buzzer/Wireless Intercom', 'Smoke Detector',\n",
              "       'Carbon Monoxide Detector', 'First Aid Kit', 'Safety Card',\n",
              "       'Fire Extinguisher', 'Essentials', 'Pets Allowed',\n",
              "       'Pets live on this property', 'Dog(s)', 'Cat(s)', 'Hot Tub',\n",
              "       'Indoor Fireplace', 'Shampoo', 'Breakfast', '24-Hour Check-in',\n",
              "       'Hangers', 'Hair Dryer', 'Iron', 'Laptop Friendly Workspace',\n",
              "       'Suitable for Events', 'Elevator in Building',\n",
              "       'Lock on Bedroom Door', 'Wheelchair Accessible', 'Gym', 'Pool',\n",
              "       'Smoking Allowed', 'Other pet(s)', 'Doorman', 'Washer / Dryer'],\n",
              "      dtype=object)"
            ]
          },
          "metadata": {
            "tags": []
          },
          "execution_count": 17
        }
      ]
    },
    {
      "cell_type": "code",
      "metadata": {
        "colab_type": "code",
        "id": "bXSkJj4YyFlZ",
        "colab": {}
      },
      "source": [
        "\"\"\"\n",
        "    Assigns new boolean attribute to the row based on the presence of that amenity in the list.\n",
        "    Returns updated row with additional attributes corresponding to the amenities added to it.\n",
        "    \n",
        "    INPUT:\n",
        "    - row containing attributes related to the property, including `amenities_list`\n",
        "    OUTPUT:\n",
        "    - row containing newly added boolean attributes indicating the presence of each possible type of amenity in the property\n",
        "\"\"\"\n",
        "def add_amenities_columns (row):\n",
        "    amenities = set(row.amenities_list)\n",
        "    for possible_amenity in possible_amenities:\n",
        "        row[\"amenity_\" + possible_amenity] = possible_amenity in amenities\n",
        "    return row\n",
        "\n",
        "listings_cleaned = listings_cleaned.apply(add_amenities_columns, axis=1)"
      ],
      "execution_count": 0,
      "outputs": []
    },
    {
      "cell_type": "markdown",
      "metadata": {
        "colab_type": "text",
        "id": "bjrJ8WFnyFlc"
      },
      "source": [
        "### Identifying the activation date for each property listing"
      ]
    },
    {
      "cell_type": "code",
      "metadata": {
        "colab_type": "code",
        "id": "iQ1UfXr4yFlc",
        "outputId": "f7a71112-85a6-44f2-eeda-270cedb29764",
        "colab": {
          "base_uri": "https://localhost:8080/",
          "height": 669
        }
      },
      "source": [
        "df = calendar_cleaned\n",
        "df = df.groupby('listing_id', group_keys=False)\\\n",
        "    .apply(lambda x: x[x.available.ne(x.available.shift())])\\\n",
        "    .reset_index(drop=True)\n",
        "df.head(20)"
      ],
      "execution_count": 19,
      "outputs": [
        {
          "output_type": "execute_result",
          "data": {
            "text/html": [
              "<div>\n",
              "<style scoped>\n",
              "    .dataframe tbody tr th:only-of-type {\n",
              "        vertical-align: middle;\n",
              "    }\n",
              "\n",
              "    .dataframe tbody tr th {\n",
              "        vertical-align: top;\n",
              "    }\n",
              "\n",
              "    .dataframe thead th {\n",
              "        text-align: right;\n",
              "    }\n",
              "</style>\n",
              "<table border=\"1\" class=\"dataframe\">\n",
              "  <thead>\n",
              "    <tr style=\"text-align: right;\">\n",
              "      <th></th>\n",
              "      <th>listing_id</th>\n",
              "      <th>date</th>\n",
              "      <th>available</th>\n",
              "      <th>price</th>\n",
              "    </tr>\n",
              "  </thead>\n",
              "  <tbody>\n",
              "    <tr>\n",
              "      <th>0</th>\n",
              "      <td>3335</td>\n",
              "      <td>2016-01-04</td>\n",
              "      <td>False</td>\n",
              "      <td>NaN</td>\n",
              "    </tr>\n",
              "    <tr>\n",
              "      <th>1</th>\n",
              "      <td>3335</td>\n",
              "      <td>2016-02-29</td>\n",
              "      <td>True</td>\n",
              "      <td>120.0</td>\n",
              "    </tr>\n",
              "    <tr>\n",
              "      <th>2</th>\n",
              "      <td>4291</td>\n",
              "      <td>2016-01-04</td>\n",
              "      <td>True</td>\n",
              "      <td>82.0</td>\n",
              "    </tr>\n",
              "    <tr>\n",
              "      <th>3</th>\n",
              "      <td>5682</td>\n",
              "      <td>2016-01-04</td>\n",
              "      <td>False</td>\n",
              "      <td>NaN</td>\n",
              "    </tr>\n",
              "    <tr>\n",
              "      <th>4</th>\n",
              "      <td>5682</td>\n",
              "      <td>2016-01-11</td>\n",
              "      <td>True</td>\n",
              "      <td>50.0</td>\n",
              "    </tr>\n",
              "    <tr>\n",
              "      <th>5</th>\n",
              "      <td>5682</td>\n",
              "      <td>2016-01-16</td>\n",
              "      <td>False</td>\n",
              "      <td>NaN</td>\n",
              "    </tr>\n",
              "    <tr>\n",
              "      <th>6</th>\n",
              "      <td>5682</td>\n",
              "      <td>2016-01-19</td>\n",
              "      <td>True</td>\n",
              "      <td>49.0</td>\n",
              "    </tr>\n",
              "    <tr>\n",
              "      <th>7</th>\n",
              "      <td>5682</td>\n",
              "      <td>2016-01-21</td>\n",
              "      <td>False</td>\n",
              "      <td>NaN</td>\n",
              "    </tr>\n",
              "    <tr>\n",
              "      <th>8</th>\n",
              "      <td>5682</td>\n",
              "      <td>2016-01-26</td>\n",
              "      <td>True</td>\n",
              "      <td>50.0</td>\n",
              "    </tr>\n",
              "    <tr>\n",
              "      <th>9</th>\n",
              "      <td>5682</td>\n",
              "      <td>2016-01-28</td>\n",
              "      <td>False</td>\n",
              "      <td>NaN</td>\n",
              "    </tr>\n",
              "    <tr>\n",
              "      <th>10</th>\n",
              "      <td>5682</td>\n",
              "      <td>2016-01-31</td>\n",
              "      <td>True</td>\n",
              "      <td>50.0</td>\n",
              "    </tr>\n",
              "    <tr>\n",
              "      <th>11</th>\n",
              "      <td>5682</td>\n",
              "      <td>2016-02-05</td>\n",
              "      <td>False</td>\n",
              "      <td>NaN</td>\n",
              "    </tr>\n",
              "    <tr>\n",
              "      <th>12</th>\n",
              "      <td>5682</td>\n",
              "      <td>2016-02-09</td>\n",
              "      <td>True</td>\n",
              "      <td>42.0</td>\n",
              "    </tr>\n",
              "    <tr>\n",
              "      <th>13</th>\n",
              "      <td>5682</td>\n",
              "      <td>2016-02-28</td>\n",
              "      <td>False</td>\n",
              "      <td>NaN</td>\n",
              "    </tr>\n",
              "    <tr>\n",
              "      <th>14</th>\n",
              "      <td>5682</td>\n",
              "      <td>2016-03-14</td>\n",
              "      <td>True</td>\n",
              "      <td>53.0</td>\n",
              "    </tr>\n",
              "    <tr>\n",
              "      <th>15</th>\n",
              "      <td>5682</td>\n",
              "      <td>2016-03-15</td>\n",
              "      <td>False</td>\n",
              "      <td>NaN</td>\n",
              "    </tr>\n",
              "    <tr>\n",
              "      <th>16</th>\n",
              "      <td>5682</td>\n",
              "      <td>2016-03-19</td>\n",
              "      <td>True</td>\n",
              "      <td>53.0</td>\n",
              "    </tr>\n",
              "    <tr>\n",
              "      <th>17</th>\n",
              "      <td>5682</td>\n",
              "      <td>2016-03-20</td>\n",
              "      <td>False</td>\n",
              "      <td>NaN</td>\n",
              "    </tr>\n",
              "    <tr>\n",
              "      <th>18</th>\n",
              "      <td>5682</td>\n",
              "      <td>2016-03-23</td>\n",
              "      <td>True</td>\n",
              "      <td>53.0</td>\n",
              "    </tr>\n",
              "    <tr>\n",
              "      <th>19</th>\n",
              "      <td>5682</td>\n",
              "      <td>2016-04-11</td>\n",
              "      <td>False</td>\n",
              "      <td>NaN</td>\n",
              "    </tr>\n",
              "  </tbody>\n",
              "</table>\n",
              "</div>"
            ],
            "text/plain": [
              "    listing_id       date  available  price\n",
              "0         3335 2016-01-04      False    NaN\n",
              "1         3335 2016-02-29       True  120.0\n",
              "2         4291 2016-01-04       True   82.0\n",
              "3         5682 2016-01-04      False    NaN\n",
              "4         5682 2016-01-11       True   50.0\n",
              "5         5682 2016-01-16      False    NaN\n",
              "6         5682 2016-01-19       True   49.0\n",
              "7         5682 2016-01-21      False    NaN\n",
              "8         5682 2016-01-26       True   50.0\n",
              "9         5682 2016-01-28      False    NaN\n",
              "10        5682 2016-01-31       True   50.0\n",
              "11        5682 2016-02-05      False    NaN\n",
              "12        5682 2016-02-09       True   42.0\n",
              "13        5682 2016-02-28      False    NaN\n",
              "14        5682 2016-03-14       True   53.0\n",
              "15        5682 2016-03-15      False    NaN\n",
              "16        5682 2016-03-19       True   53.0\n",
              "17        5682 2016-03-20      False    NaN\n",
              "18        5682 2016-03-23       True   53.0\n",
              "19        5682 2016-04-11      False    NaN"
            ]
          },
          "metadata": {
            "tags": []
          },
          "execution_count": 19
        }
      ]
    },
    {
      "cell_type": "code",
      "metadata": {
        "colab_type": "code",
        "id": "-BIrFIUkyFlf",
        "colab": {}
      },
      "source": [
        "listing_activation_dates = df[df.available == True].groupby(\"listing_id\")[[\"listing_id\",\"date\"]].min()"
      ],
      "execution_count": 0,
      "outputs": []
    },
    {
      "cell_type": "code",
      "metadata": {
        "colab_type": "code",
        "id": "pX3yGGkdyFli",
        "outputId": "670d04ca-07d3-4e1f-ffaf-12b756639def",
        "colab": {
          "base_uri": "https://localhost:8080/",
          "height": 235
        }
      },
      "source": [
        "listing_activation_dates.sort_values(by=[\"date\"]).head()"
      ],
      "execution_count": 21,
      "outputs": [
        {
          "output_type": "execute_result",
          "data": {
            "text/html": [
              "<div>\n",
              "<style scoped>\n",
              "    .dataframe tbody tr th:only-of-type {\n",
              "        vertical-align: middle;\n",
              "    }\n",
              "\n",
              "    .dataframe tbody tr th {\n",
              "        vertical-align: top;\n",
              "    }\n",
              "\n",
              "    .dataframe thead th {\n",
              "        text-align: right;\n",
              "    }\n",
              "</style>\n",
              "<table border=\"1\" class=\"dataframe\">\n",
              "  <thead>\n",
              "    <tr style=\"text-align: right;\">\n",
              "      <th></th>\n",
              "      <th>listing_id</th>\n",
              "      <th>date</th>\n",
              "    </tr>\n",
              "    <tr>\n",
              "      <th>listing_id</th>\n",
              "      <th></th>\n",
              "      <th></th>\n",
              "    </tr>\n",
              "  </thead>\n",
              "  <tbody>\n",
              "    <tr>\n",
              "      <th>4053972</th>\n",
              "      <td>4053972</td>\n",
              "      <td>2016-01-04</td>\n",
              "    </tr>\n",
              "    <tr>\n",
              "      <th>4783817</th>\n",
              "      <td>4783817</td>\n",
              "      <td>2016-01-04</td>\n",
              "    </tr>\n",
              "    <tr>\n",
              "      <th>4783585</th>\n",
              "      <td>4783585</td>\n",
              "      <td>2016-01-04</td>\n",
              "    </tr>\n",
              "    <tr>\n",
              "      <th>8487843</th>\n",
              "      <td>8487843</td>\n",
              "      <td>2016-01-04</td>\n",
              "    </tr>\n",
              "    <tr>\n",
              "      <th>8501721</th>\n",
              "      <td>8501721</td>\n",
              "      <td>2016-01-04</td>\n",
              "    </tr>\n",
              "  </tbody>\n",
              "</table>\n",
              "</div>"
            ],
            "text/plain": [
              "            listing_id       date\n",
              "listing_id                       \n",
              "4053972        4053972 2016-01-04\n",
              "4783817        4783817 2016-01-04\n",
              "4783585        4783585 2016-01-04\n",
              "8487843        8487843 2016-01-04\n",
              "8501721        8501721 2016-01-04"
            ]
          },
          "metadata": {
            "tags": []
          },
          "execution_count": 21
        }
      ]
    },
    {
      "cell_type": "markdown",
      "metadata": {
        "colab_type": "text",
        "id": "ft6E_fCEyFls"
      },
      "source": [
        "### Only retaining entries in calendar for each property after its activation date"
      ]
    },
    {
      "cell_type": "code",
      "metadata": {
        "colab_type": "code",
        "id": "9t9Cw9xVyFlt",
        "colab": {}
      },
      "source": [
        "cal_by_listing_groups = calendar_cleaned.groupby([\"listing_id\"])"
      ],
      "execution_count": 0,
      "outputs": []
    },
    {
      "cell_type": "code",
      "metadata": {
        "colab_type": "code",
        "id": "-Q3DS-JHyFly",
        "outputId": "2825f629-ed53-44c4-be3d-a279e117ec4c",
        "colab": {
          "base_uri": "https://localhost:8080/",
          "height": 1000
        }
      },
      "source": [
        "cal_by_listing_groups.head()"
      ],
      "execution_count": 23,
      "outputs": [
        {
          "output_type": "execute_result",
          "data": {
            "text/html": [
              "<div>\n",
              "<style scoped>\n",
              "    .dataframe tbody tr th:only-of-type {\n",
              "        vertical-align: middle;\n",
              "    }\n",
              "\n",
              "    .dataframe tbody tr th {\n",
              "        vertical-align: top;\n",
              "    }\n",
              "\n",
              "    .dataframe thead th {\n",
              "        text-align: right;\n",
              "    }\n",
              "</style>\n",
              "<table border=\"1\" class=\"dataframe\">\n",
              "  <thead>\n",
              "    <tr style=\"text-align: right;\">\n",
              "      <th></th>\n",
              "      <th>listing_id</th>\n",
              "      <th>date</th>\n",
              "      <th>available</th>\n",
              "      <th>price</th>\n",
              "    </tr>\n",
              "  </thead>\n",
              "  <tbody>\n",
              "    <tr>\n",
              "      <th>0</th>\n",
              "      <td>241032</td>\n",
              "      <td>2016-01-04</td>\n",
              "      <td>True</td>\n",
              "      <td>85.0</td>\n",
              "    </tr>\n",
              "    <tr>\n",
              "      <th>1</th>\n",
              "      <td>241032</td>\n",
              "      <td>2016-01-05</td>\n",
              "      <td>True</td>\n",
              "      <td>85.0</td>\n",
              "    </tr>\n",
              "    <tr>\n",
              "      <th>2</th>\n",
              "      <td>241032</td>\n",
              "      <td>2016-01-06</td>\n",
              "      <td>False</td>\n",
              "      <td>NaN</td>\n",
              "    </tr>\n",
              "    <tr>\n",
              "      <th>3</th>\n",
              "      <td>241032</td>\n",
              "      <td>2016-01-07</td>\n",
              "      <td>False</td>\n",
              "      <td>NaN</td>\n",
              "    </tr>\n",
              "    <tr>\n",
              "      <th>4</th>\n",
              "      <td>241032</td>\n",
              "      <td>2016-01-08</td>\n",
              "      <td>False</td>\n",
              "      <td>NaN</td>\n",
              "    </tr>\n",
              "    <tr>\n",
              "      <th>365</th>\n",
              "      <td>953595</td>\n",
              "      <td>2016-01-04</td>\n",
              "      <td>True</td>\n",
              "      <td>125.0</td>\n",
              "    </tr>\n",
              "    <tr>\n",
              "      <th>366</th>\n",
              "      <td>953595</td>\n",
              "      <td>2016-01-05</td>\n",
              "      <td>True</td>\n",
              "      <td>125.0</td>\n",
              "    </tr>\n",
              "    <tr>\n",
              "      <th>367</th>\n",
              "      <td>953595</td>\n",
              "      <td>2016-01-06</td>\n",
              "      <td>False</td>\n",
              "      <td>NaN</td>\n",
              "    </tr>\n",
              "    <tr>\n",
              "      <th>368</th>\n",
              "      <td>953595</td>\n",
              "      <td>2016-01-07</td>\n",
              "      <td>False</td>\n",
              "      <td>NaN</td>\n",
              "    </tr>\n",
              "    <tr>\n",
              "      <th>369</th>\n",
              "      <td>953595</td>\n",
              "      <td>2016-01-08</td>\n",
              "      <td>False</td>\n",
              "      <td>NaN</td>\n",
              "    </tr>\n",
              "    <tr>\n",
              "      <th>730</th>\n",
              "      <td>3308979</td>\n",
              "      <td>2016-01-04</td>\n",
              "      <td>True</td>\n",
              "      <td>975.0</td>\n",
              "    </tr>\n",
              "    <tr>\n",
              "      <th>731</th>\n",
              "      <td>3308979</td>\n",
              "      <td>2016-01-05</td>\n",
              "      <td>False</td>\n",
              "      <td>NaN</td>\n",
              "    </tr>\n",
              "    <tr>\n",
              "      <th>732</th>\n",
              "      <td>3308979</td>\n",
              "      <td>2016-01-06</td>\n",
              "      <td>False</td>\n",
              "      <td>NaN</td>\n",
              "    </tr>\n",
              "    <tr>\n",
              "      <th>733</th>\n",
              "      <td>3308979</td>\n",
              "      <td>2016-01-07</td>\n",
              "      <td>False</td>\n",
              "      <td>NaN</td>\n",
              "    </tr>\n",
              "    <tr>\n",
              "      <th>734</th>\n",
              "      <td>3308979</td>\n",
              "      <td>2016-01-08</td>\n",
              "      <td>False</td>\n",
              "      <td>NaN</td>\n",
              "    </tr>\n",
              "    <tr>\n",
              "      <th>1095</th>\n",
              "      <td>7421966</td>\n",
              "      <td>2016-01-04</td>\n",
              "      <td>False</td>\n",
              "      <td>NaN</td>\n",
              "    </tr>\n",
              "    <tr>\n",
              "      <th>1096</th>\n",
              "      <td>7421966</td>\n",
              "      <td>2016-01-05</td>\n",
              "      <td>False</td>\n",
              "      <td>NaN</td>\n",
              "    </tr>\n",
              "    <tr>\n",
              "      <th>1097</th>\n",
              "      <td>7421966</td>\n",
              "      <td>2016-01-06</td>\n",
              "      <td>False</td>\n",
              "      <td>NaN</td>\n",
              "    </tr>\n",
              "    <tr>\n",
              "      <th>1098</th>\n",
              "      <td>7421966</td>\n",
              "      <td>2016-01-07</td>\n",
              "      <td>False</td>\n",
              "      <td>NaN</td>\n",
              "    </tr>\n",
              "    <tr>\n",
              "      <th>1099</th>\n",
              "      <td>7421966</td>\n",
              "      <td>2016-01-08</td>\n",
              "      <td>False</td>\n",
              "      <td>NaN</td>\n",
              "    </tr>\n",
              "    <tr>\n",
              "      <th>1460</th>\n",
              "      <td>278830</td>\n",
              "      <td>2016-01-04</td>\n",
              "      <td>True</td>\n",
              "      <td>600.0</td>\n",
              "    </tr>\n",
              "    <tr>\n",
              "      <th>1461</th>\n",
              "      <td>278830</td>\n",
              "      <td>2016-01-05</td>\n",
              "      <td>True</td>\n",
              "      <td>600.0</td>\n",
              "    </tr>\n",
              "    <tr>\n",
              "      <th>1462</th>\n",
              "      <td>278830</td>\n",
              "      <td>2016-01-06</td>\n",
              "      <td>True</td>\n",
              "      <td>600.0</td>\n",
              "    </tr>\n",
              "    <tr>\n",
              "      <th>1463</th>\n",
              "      <td>278830</td>\n",
              "      <td>2016-01-07</td>\n",
              "      <td>True</td>\n",
              "      <td>600.0</td>\n",
              "    </tr>\n",
              "    <tr>\n",
              "      <th>1464</th>\n",
              "      <td>278830</td>\n",
              "      <td>2016-01-08</td>\n",
              "      <td>True</td>\n",
              "      <td>600.0</td>\n",
              "    </tr>\n",
              "    <tr>\n",
              "      <th>1825</th>\n",
              "      <td>5956968</td>\n",
              "      <td>2016-01-04</td>\n",
              "      <td>False</td>\n",
              "      <td>NaN</td>\n",
              "    </tr>\n",
              "    <tr>\n",
              "      <th>1826</th>\n",
              "      <td>5956968</td>\n",
              "      <td>2016-01-05</td>\n",
              "      <td>False</td>\n",
              "      <td>NaN</td>\n",
              "    </tr>\n",
              "    <tr>\n",
              "      <th>1827</th>\n",
              "      <td>5956968</td>\n",
              "      <td>2016-01-06</td>\n",
              "      <td>False</td>\n",
              "      <td>NaN</td>\n",
              "    </tr>\n",
              "    <tr>\n",
              "      <th>1828</th>\n",
              "      <td>5956968</td>\n",
              "      <td>2016-01-07</td>\n",
              "      <td>False</td>\n",
              "      <td>NaN</td>\n",
              "    </tr>\n",
              "    <tr>\n",
              "      <th>1829</th>\n",
              "      <td>5956968</td>\n",
              "      <td>2016-01-08</td>\n",
              "      <td>False</td>\n",
              "      <td>NaN</td>\n",
              "    </tr>\n",
              "    <tr>\n",
              "      <th>...</th>\n",
              "      <td>...</td>\n",
              "      <td>...</td>\n",
              "      <td>...</td>\n",
              "      <td>...</td>\n",
              "    </tr>\n",
              "    <tr>\n",
              "      <th>1391380</th>\n",
              "      <td>3383329</td>\n",
              "      <td>2016-01-04</td>\n",
              "      <td>False</td>\n",
              "      <td>NaN</td>\n",
              "    </tr>\n",
              "    <tr>\n",
              "      <th>1391381</th>\n",
              "      <td>3383329</td>\n",
              "      <td>2016-01-05</td>\n",
              "      <td>False</td>\n",
              "      <td>NaN</td>\n",
              "    </tr>\n",
              "    <tr>\n",
              "      <th>1391382</th>\n",
              "      <td>3383329</td>\n",
              "      <td>2016-01-06</td>\n",
              "      <td>False</td>\n",
              "      <td>NaN</td>\n",
              "    </tr>\n",
              "    <tr>\n",
              "      <th>1391383</th>\n",
              "      <td>3383329</td>\n",
              "      <td>2016-01-07</td>\n",
              "      <td>False</td>\n",
              "      <td>NaN</td>\n",
              "    </tr>\n",
              "    <tr>\n",
              "      <th>1391384</th>\n",
              "      <td>3383329</td>\n",
              "      <td>2016-01-08</td>\n",
              "      <td>False</td>\n",
              "      <td>NaN</td>\n",
              "    </tr>\n",
              "    <tr>\n",
              "      <th>1391745</th>\n",
              "      <td>8101950</td>\n",
              "      <td>2016-01-04</td>\n",
              "      <td>True</td>\n",
              "      <td>359.0</td>\n",
              "    </tr>\n",
              "    <tr>\n",
              "      <th>1391746</th>\n",
              "      <td>8101950</td>\n",
              "      <td>2016-01-05</td>\n",
              "      <td>True</td>\n",
              "      <td>359.0</td>\n",
              "    </tr>\n",
              "    <tr>\n",
              "      <th>1391747</th>\n",
              "      <td>8101950</td>\n",
              "      <td>2016-01-06</td>\n",
              "      <td>True</td>\n",
              "      <td>359.0</td>\n",
              "    </tr>\n",
              "    <tr>\n",
              "      <th>1391748</th>\n",
              "      <td>8101950</td>\n",
              "      <td>2016-01-07</td>\n",
              "      <td>True</td>\n",
              "      <td>359.0</td>\n",
              "    </tr>\n",
              "    <tr>\n",
              "      <th>1391749</th>\n",
              "      <td>8101950</td>\n",
              "      <td>2016-01-08</td>\n",
              "      <td>True</td>\n",
              "      <td>359.0</td>\n",
              "    </tr>\n",
              "    <tr>\n",
              "      <th>1392110</th>\n",
              "      <td>8902327</td>\n",
              "      <td>2016-01-04</td>\n",
              "      <td>False</td>\n",
              "      <td>NaN</td>\n",
              "    </tr>\n",
              "    <tr>\n",
              "      <th>1392111</th>\n",
              "      <td>8902327</td>\n",
              "      <td>2016-01-05</td>\n",
              "      <td>False</td>\n",
              "      <td>NaN</td>\n",
              "    </tr>\n",
              "    <tr>\n",
              "      <th>1392112</th>\n",
              "      <td>8902327</td>\n",
              "      <td>2016-01-06</td>\n",
              "      <td>False</td>\n",
              "      <td>NaN</td>\n",
              "    </tr>\n",
              "    <tr>\n",
              "      <th>1392113</th>\n",
              "      <td>8902327</td>\n",
              "      <td>2016-01-07</td>\n",
              "      <td>False</td>\n",
              "      <td>NaN</td>\n",
              "    </tr>\n",
              "    <tr>\n",
              "      <th>1392114</th>\n",
              "      <td>8902327</td>\n",
              "      <td>2016-01-08</td>\n",
              "      <td>False</td>\n",
              "      <td>NaN</td>\n",
              "    </tr>\n",
              "    <tr>\n",
              "      <th>1392475</th>\n",
              "      <td>10267360</td>\n",
              "      <td>2016-01-04</td>\n",
              "      <td>False</td>\n",
              "      <td>NaN</td>\n",
              "    </tr>\n",
              "    <tr>\n",
              "      <th>1392476</th>\n",
              "      <td>10267360</td>\n",
              "      <td>2016-01-05</td>\n",
              "      <td>True</td>\n",
              "      <td>93.0</td>\n",
              "    </tr>\n",
              "    <tr>\n",
              "      <th>1392477</th>\n",
              "      <td>10267360</td>\n",
              "      <td>2016-01-06</td>\n",
              "      <td>True</td>\n",
              "      <td>93.0</td>\n",
              "    </tr>\n",
              "    <tr>\n",
              "      <th>1392478</th>\n",
              "      <td>10267360</td>\n",
              "      <td>2016-01-07</td>\n",
              "      <td>True</td>\n",
              "      <td>93.0</td>\n",
              "    </tr>\n",
              "    <tr>\n",
              "      <th>1392479</th>\n",
              "      <td>10267360</td>\n",
              "      <td>2016-01-08</td>\n",
              "      <td>True</td>\n",
              "      <td>75.0</td>\n",
              "    </tr>\n",
              "    <tr>\n",
              "      <th>1392840</th>\n",
              "      <td>9604740</td>\n",
              "      <td>2016-01-04</td>\n",
              "      <td>True</td>\n",
              "      <td>99.0</td>\n",
              "    </tr>\n",
              "    <tr>\n",
              "      <th>1392841</th>\n",
              "      <td>9604740</td>\n",
              "      <td>2016-01-05</td>\n",
              "      <td>True</td>\n",
              "      <td>99.0</td>\n",
              "    </tr>\n",
              "    <tr>\n",
              "      <th>1392842</th>\n",
              "      <td>9604740</td>\n",
              "      <td>2016-01-06</td>\n",
              "      <td>True</td>\n",
              "      <td>99.0</td>\n",
              "    </tr>\n",
              "    <tr>\n",
              "      <th>1392843</th>\n",
              "      <td>9604740</td>\n",
              "      <td>2016-01-07</td>\n",
              "      <td>True</td>\n",
              "      <td>99.0</td>\n",
              "    </tr>\n",
              "    <tr>\n",
              "      <th>1392844</th>\n",
              "      <td>9604740</td>\n",
              "      <td>2016-01-08</td>\n",
              "      <td>True</td>\n",
              "      <td>99.0</td>\n",
              "    </tr>\n",
              "    <tr>\n",
              "      <th>1393205</th>\n",
              "      <td>10208623</td>\n",
              "      <td>2016-01-04</td>\n",
              "      <td>True</td>\n",
              "      <td>87.0</td>\n",
              "    </tr>\n",
              "    <tr>\n",
              "      <th>1393206</th>\n",
              "      <td>10208623</td>\n",
              "      <td>2016-01-05</td>\n",
              "      <td>True</td>\n",
              "      <td>87.0</td>\n",
              "    </tr>\n",
              "    <tr>\n",
              "      <th>1393207</th>\n",
              "      <td>10208623</td>\n",
              "      <td>2016-01-06</td>\n",
              "      <td>True</td>\n",
              "      <td>87.0</td>\n",
              "    </tr>\n",
              "    <tr>\n",
              "      <th>1393208</th>\n",
              "      <td>10208623</td>\n",
              "      <td>2016-01-07</td>\n",
              "      <td>True</td>\n",
              "      <td>87.0</td>\n",
              "    </tr>\n",
              "    <tr>\n",
              "      <th>1393209</th>\n",
              "      <td>10208623</td>\n",
              "      <td>2016-01-08</td>\n",
              "      <td>False</td>\n",
              "      <td>NaN</td>\n",
              "    </tr>\n",
              "  </tbody>\n",
              "</table>\n",
              "<p>19090 rows × 4 columns</p>\n",
              "</div>"
            ],
            "text/plain": [
              "         listing_id       date  available  price\n",
              "0            241032 2016-01-04       True   85.0\n",
              "1            241032 2016-01-05       True   85.0\n",
              "2            241032 2016-01-06      False    NaN\n",
              "3            241032 2016-01-07      False    NaN\n",
              "4            241032 2016-01-08      False    NaN\n",
              "365          953595 2016-01-04       True  125.0\n",
              "366          953595 2016-01-05       True  125.0\n",
              "367          953595 2016-01-06      False    NaN\n",
              "368          953595 2016-01-07      False    NaN\n",
              "369          953595 2016-01-08      False    NaN\n",
              "730         3308979 2016-01-04       True  975.0\n",
              "731         3308979 2016-01-05      False    NaN\n",
              "732         3308979 2016-01-06      False    NaN\n",
              "733         3308979 2016-01-07      False    NaN\n",
              "734         3308979 2016-01-08      False    NaN\n",
              "1095        7421966 2016-01-04      False    NaN\n",
              "1096        7421966 2016-01-05      False    NaN\n",
              "1097        7421966 2016-01-06      False    NaN\n",
              "1098        7421966 2016-01-07      False    NaN\n",
              "1099        7421966 2016-01-08      False    NaN\n",
              "1460         278830 2016-01-04       True  600.0\n",
              "1461         278830 2016-01-05       True  600.0\n",
              "1462         278830 2016-01-06       True  600.0\n",
              "1463         278830 2016-01-07       True  600.0\n",
              "1464         278830 2016-01-08       True  600.0\n",
              "1825        5956968 2016-01-04      False    NaN\n",
              "1826        5956968 2016-01-05      False    NaN\n",
              "1827        5956968 2016-01-06      False    NaN\n",
              "1828        5956968 2016-01-07      False    NaN\n",
              "1829        5956968 2016-01-08      False    NaN\n",
              "...             ...        ...        ...    ...\n",
              "1391380     3383329 2016-01-04      False    NaN\n",
              "1391381     3383329 2016-01-05      False    NaN\n",
              "1391382     3383329 2016-01-06      False    NaN\n",
              "1391383     3383329 2016-01-07      False    NaN\n",
              "1391384     3383329 2016-01-08      False    NaN\n",
              "1391745     8101950 2016-01-04       True  359.0\n",
              "1391746     8101950 2016-01-05       True  359.0\n",
              "1391747     8101950 2016-01-06       True  359.0\n",
              "1391748     8101950 2016-01-07       True  359.0\n",
              "1391749     8101950 2016-01-08       True  359.0\n",
              "1392110     8902327 2016-01-04      False    NaN\n",
              "1392111     8902327 2016-01-05      False    NaN\n",
              "1392112     8902327 2016-01-06      False    NaN\n",
              "1392113     8902327 2016-01-07      False    NaN\n",
              "1392114     8902327 2016-01-08      False    NaN\n",
              "1392475    10267360 2016-01-04      False    NaN\n",
              "1392476    10267360 2016-01-05       True   93.0\n",
              "1392477    10267360 2016-01-06       True   93.0\n",
              "1392478    10267360 2016-01-07       True   93.0\n",
              "1392479    10267360 2016-01-08       True   75.0\n",
              "1392840     9604740 2016-01-04       True   99.0\n",
              "1392841     9604740 2016-01-05       True   99.0\n",
              "1392842     9604740 2016-01-06       True   99.0\n",
              "1392843     9604740 2016-01-07       True   99.0\n",
              "1392844     9604740 2016-01-08       True   99.0\n",
              "1393205    10208623 2016-01-04       True   87.0\n",
              "1393206    10208623 2016-01-05       True   87.0\n",
              "1393207    10208623 2016-01-06       True   87.0\n",
              "1393208    10208623 2016-01-07       True   87.0\n",
              "1393209    10208623 2016-01-08      False    NaN\n",
              "\n",
              "[19090 rows x 4 columns]"
            ]
          },
          "metadata": {
            "tags": []
          },
          "execution_count": 23
        }
      ]
    },
    {
      "cell_type": "code",
      "metadata": {
        "colab_type": "code",
        "id": "-cjl8Nf-yFl2",
        "colab": {}
      },
      "source": [
        "def select_entries_after_activation_date(g):\n",
        "\n",
        "    listing_id = g.name\n",
        "    activation_date_df = listing_activation_dates.query(\"listing_id == @listing_id\")[\"date\"]\n",
        "    if activation_date_df.shape[0] > 0:        \n",
        "        activation_date = activation_date_df.iloc[0]\n",
        "#         print(\"activatation_date: \" + str(activation_date))\n",
        "#         print(g[\"date\"].dtype)\n",
        "#         print(type(activation_date))\n",
        "        return g[g[\"date\"] <= activation_date]\n",
        "    \n",
        "    \n",
        "cal_after_activation_dates =cal_by_listing_groups.apply(select_entries_after_activation_date)"
      ],
      "execution_count": 0,
      "outputs": []
    },
    {
      "cell_type": "markdown",
      "metadata": {
        "colab_type": "text",
        "id": "tQqPxkspyFl5"
      },
      "source": [
        "### Select and add necessary variables to be used for predicting occupancy of property at given time of the year"
      ]
    },
    {
      "cell_type": "code",
      "metadata": {
        "colab_type": "code",
        "id": "JZn6nZ1kyFl6",
        "colab": {}
      },
      "source": [
        "input_vars_from_listings = [\"neighbourhood_cleansed\", \n",
        "#                 \"neighbourhood_group_cleansed\",\n",
        "                \"city\",\n",
        "                \"state\",\n",
        "                \"zipcode\",\n",
        "                \"market\",\n",
        "                \"location_categorical\",\n",
        "                \"property_type\",\n",
        "                \"room_type\",\n",
        "                \"accommodates\",\n",
        "                \"bathrooms\",\n",
        "                \"bedrooms\",\n",
        "                \"beds\",\n",
        "                \"bed_type\",\n",
        "                \"square_feet\",\n",
        "                \"guests_included\",\n",
        "                \"minimum_nights\",\n",
        "                \"maximum_nights\",\n",
        "                \"review_scores_rating\",\n",
        "                \"review_scores_accuracy\",\n",
        "                  \"review_scores_cleanliness\",\n",
        "                  \"review_scores_checkin\",\n",
        "                  \"review_scores_communication\",\n",
        "                  \"review_scores_location\",\n",
        "                  \"review_scores_value\",\n",
        "#                   \"jurisdiction_names\",\n",
        "                  \"cancellation_policy\",\n",
        "#                   \"reviews_per_month\",\n",
        "                  \"number_of_reviews\"\n",
        "       ]\n",
        "amenity_variables = list(map(lambda amenity : \"amenity_\" + amenity, possible_amenities))\n",
        "input_vars_from_listings.extend(amenity_variables)\n"
      ],
      "execution_count": 0,
      "outputs": []
    },
    {
      "cell_type": "code",
      "metadata": {
        "colab_type": "code",
        "id": "bAlY2dhNyFl8",
        "colab": {}
      },
      "source": [
        "avg_price_by_date = calendar_cleaned.groupby(\"date\")[[\"date\", \"price\"]].agg([\"mean\"])"
      ],
      "execution_count": 0,
      "outputs": []
    },
    {
      "cell_type": "code",
      "metadata": {
        "colab_type": "code",
        "id": "nHvyPFO7yFl_",
        "outputId": "29966728-1769-4653-b199-8e97c348bdfd",
        "colab": {
          "base_uri": "https://localhost:8080/",
          "height": 350
        }
      },
      "source": [
        "prices_2016_17 = avg_price_by_date[avg_price_by_date.index >= calendar_cleaned[\"date\"].min()][avg_price_by_date.index <= calendar_cleaned[\"date\"].max()]\n",
        "dates = prices_2016_17.index\n",
        "months = mdates.MonthLocator()\n",
        "month_format = mdates.DateFormatter(\"%b\")\n",
        "fig, ax = plt.subplots()\n",
        "fig.set_size_inches(12,5)\n",
        "ax.plot(dates, prices_2016_17)\n",
        "ax.xaxis.set_major_locator(months)\n",
        "ax.xaxis.set_major_formatter(month_format)\n",
        "yticks = ax.get_yticks()\n",
        "# ax.set_yticklabels(['{}%'.format(y) for y in yticks])\n",
        "ax.set_xlabel(\"Month in 2016-17\")\n",
        "ax.set_ylabel(\"Average booking price in $ of property per night\")\n",
        "ax.set_title(\"Average booking price of properties listed on Airbnb in Boston in 2016-17\")\n",
        "plt.show()\n",
        "fig.savefig(project_dir + \"/images/average_booking_price_boston_2016_2017.png\")"
      ],
      "execution_count": 27,
      "outputs": [
        {
          "output_type": "display_data",
          "data": {
            "image/png": "[encoded data removed]",
            "text/plain": [
              "<Figure size 864x360 with 1 Axes>"
            ]
          },
          "metadata": {
            "tags": []
          }
        }
      ]
    },
    {
      "cell_type": "code",
      "metadata": {
        "colab_type": "code",
        "id": "_j7Rm21eyFmC",
        "outputId": "26a42856-5b43-4278-8334-241ceb370a41",
        "colab": {
          "base_uri": "https://localhost:8080/",
          "height": 350
        }
      },
      "source": [
        "prices_in_summer = avg_price_by_date.loc[pd.date_range('2016-05-01', '2016-05-31')]\n",
        "dates = prices_in_summer.index\n",
        "days = mdates.DayLocator()\n",
        "day_format = mdates.DateFormatter(\"%a\")\n",
        "fig, ax = plt.subplots()\n",
        "fig.set_size_inches(14,5)\n",
        "ax.plot(dates, prices_in_summer)\n",
        "ax.xaxis.set_major_locator(days)\n",
        "ax.xaxis.set_major_formatter(day_format)\n",
        "yticks = ax.get_yticks()\n",
        "ax.set_xlabel(\"Day in May 2017\")\n",
        "ax.set_ylabel(\"Average booking price in $ of property per night\")\n",
        "ax.set_title(\"Average booking price of properties listed on Airbnb in Boston in May 2017\")\n",
        "plt.show()\n",
        "fig.savefig(project_dir + \"/images/average_booking_price_boston_may_2017.png\")"
      ],
      "execution_count": 28,
      "outputs": [
        {
          "output_type": "display_data",
          "data": {
            "image/png": "[encoded data removed]",
            "text/plain": [
              "<Figure size 1008x360 with 1 Axes>"
            ]
          },
          "metadata": {
            "tags": []
          }
        }
      ]
    },
    {
      "cell_type": "code",
      "metadata": {
        "colab_type": "code",
        "id": "A6mCFrGbyFmE",
        "colab": {}
      },
      "source": [
        "calendar_cleaned[\"month\"] = calendar_cleaned['date'].dt.month_name()"
      ],
      "execution_count": 0,
      "outputs": []
    },
    {
      "cell_type": "code",
      "metadata": {
        "colab_type": "code",
        "id": "hrqcGHh0U2nC",
        "colab": {}
      },
      "source": [
        "calendar_cleaned[\"year\"] = calendar_cleaned['date'].dt.year.astype(str)"
      ],
      "execution_count": 0,
      "outputs": []
    },
    {
      "cell_type": "code",
      "metadata": {
        "colab_type": "code",
        "id": "-74JZiZ4yFmG",
        "colab": {}
      },
      "source": [
        "calendar_cleaned[\"day_of_week\"] = calendar_cleaned['date'].dt.weekday_name"
      ],
      "execution_count": 0,
      "outputs": []
    },
    {
      "cell_type": "code",
      "metadata": {
        "colab_type": "code",
        "id": "rLrwU2ESyFmK",
        "colab": {}
      },
      "source": [
        "calendar_cleaned[\"week_of_month\"] = np.ceil(calendar_cleaned['date'].dt.day/7).astype(int).astype(str)"
      ],
      "execution_count": 0,
      "outputs": []
    },
    {
      "cell_type": "code",
      "metadata": {
        "colab_type": "code",
        "id": "f5dyd-aJyFmO",
        "outputId": "f3e7439e-c758-4a04-cea6-46592d267bcd",
        "colab": {
          "base_uri": "https://localhost:8080/",
          "height": 34
        }
      },
      "source": [
        "calendar_cleaned[\"week_of_month\"].unique()"
      ],
      "execution_count": 33,
      "outputs": [
        {
          "output_type": "execute_result",
          "data": {
            "text/plain": [
              "array(['1', '2', '3', '4', '5'], dtype=object)"
            ]
          },
          "metadata": {
            "tags": []
          },
          "execution_count": 33
        }
      ]
    },
    {
      "cell_type": "code",
      "metadata": {
        "colab_type": "code",
        "id": "NdkCljl2yFmQ",
        "colab": {}
      },
      "source": [
        "df = pd.merge(listings_cleaned, calendar_cleaned, left_on=\"id\", right_on=\"listing_id\", how=\"inner\", suffixes=(\"_listings\", \"_calendar\"))"
      ],
      "execution_count": 0,
      "outputs": []
    },
    {
      "cell_type": "code",
      "metadata": {
        "colab_type": "code",
        "id": "iRFCrz2xyFmT",
        "colab": {}
      },
      "source": [
        "# This one consumes too much memory and time, but it can give more accurate price estimates for fulling missing values\n",
        "# g = df.groupby([\"listing_id\", \"month\", \"day_of_week\"]).apply(lambda x: x.sort_values(by=[\"date\"]))\n",
        "# g.loc[:, \"price_calendar\"] = g[\"price_calendar\"].fillna(method=\"ffill\")\n",
        "# df = g.reset_index(drop=True)"
      ],
      "execution_count": 0,
      "outputs": []
    },
    {
      "cell_type": "code",
      "metadata": {
        "colab_type": "code",
        "id": "fMZaINnyyFma",
        "colab": {}
      },
      "source": [
        "g = df.groupby([\"listing_id\"]).apply(lambda x: x.sort_values(by=[\"date\"]))"
      ],
      "execution_count": 0,
      "outputs": []
    },
    {
      "cell_type": "code",
      "metadata": {
        "colab_type": "code",
        "id": "c3IAf2L6yFme",
        "colab": {}
      },
      "source": [
        "g.loc[:, \"price_calendar\"] = g[\"price_calendar\"].fillna(method=\"ffill\")"
      ],
      "execution_count": 0,
      "outputs": []
    },
    {
      "cell_type": "code",
      "metadata": {
        "colab_type": "code",
        "id": "3o1z2-ObyFmg",
        "colab": {}
      },
      "source": [
        "df = g.reset_index(drop=True)"
      ],
      "execution_count": 0,
      "outputs": []
    },
    {
      "cell_type": "code",
      "metadata": {
        "colab_type": "code",
        "id": "OaESG-CDyFmj",
        "colab": {}
      },
      "source": [
        "input_vars_from_calendar = [\"year\", \"month\", \"day_of_week\", \"week_of_month\", \"price_calendar\"]"
      ],
      "execution_count": 0,
      "outputs": []
    },
    {
      "cell_type": "code",
      "metadata": {
        "colab_type": "code",
        "id": "yVTYO-dKyFmm",
        "colab": {}
      },
      "source": [
        "all_input_vars = input_vars_from_listings + input_vars_from_calendar;"
      ],
      "execution_count": 0,
      "outputs": []
    },
    {
      "cell_type": "code",
      "metadata": {
        "colab_type": "code",
        "id": "1du2p14wyFmp",
        "colab": {}
      },
      "source": [
        "df = df.dropna(subset=[\"available\"])"
      ],
      "execution_count": 0,
      "outputs": []
    },
    {
      "cell_type": "markdown",
      "metadata": {
        "colab_type": "text",
        "id": "zKvT7zDpyFmr"
      },
      "source": [
        "Select a sample of properties to be used as an environment of alternatives competing with the property to be booked that can have impact on whether the given property gets booked or not."
      ]
    },
    {
      "cell_type": "code",
      "metadata": {
        "colab_type": "code",
        "id": "7icg112wyFms",
        "colab": {}
      },
      "source": [
        "start_date = df[\"date\"].min()"
      ],
      "execution_count": 0,
      "outputs": []
    },
    {
      "cell_type": "code",
      "metadata": {
        "colab_type": "code",
        "id": "7GfRVIP4yFmu",
        "colab": {}
      },
      "source": [
        "listing_ids_environment = list(df.query(\"date == @start_date\").drop_duplicates(['listing_id'])[\"listing_id\"].sample(100, random_state=42))"
      ],
      "execution_count": 0,
      "outputs": []
    },
    {
      "cell_type": "code",
      "metadata": {
        "colab_type": "code",
        "id": "BwiI1-SWyFmx",
        "colab": {}
      },
      "source": [
        "X_with_env = df[all_input_vars + [\"listing_id\", \"date\"]].query(\"listing_id not in @listing_ids_environment\")\n",
        "for listing_id in listing_ids_environment:\n",
        "    listing_price_availability = df.query(\"listing_id == @listing_id\")[[\"price_calendar\", \"available\", \"date\"]]\n",
        "    X_with_env = pd.merge(X_with_env, listing_price_availability, left_on=\"date\", right_on=\"date\", how=\"inner\", suffixes=(\"\", \"_\"+str(listing_id)))"
      ],
      "execution_count": 0,
      "outputs": []
    },
    {
      "cell_type": "markdown",
      "metadata": {
        "colab_type": "text",
        "id": "OxZdQkPW165J"
      },
      "source": [
        "### Adding Normalized (Relative) Booking Prices for Properties"
      ]
    },
    {
      "cell_type": "markdown",
      "metadata": {
        "colab_type": "text",
        "id": "IDysuQHByFm2"
      },
      "source": [
        "- Adding normalized prices for given property and all the properties used in the dataset serving as an indicator of competitive market condition. This will help ML models to easily learn conditions involving relative prices of the properties with much less complexity. \n",
        "- I am also retaining the absolute prices for properties in the environment and added one more field for storing total prices of all the properties in environment, so that the model can learn the current demand from the sample of prices from the overall market."
      ]
    },
    {
      "cell_type": "code",
      "metadata": {
        "colab_type": "code",
        "id": "2UignVcEEzxP",
        "colab": {}
      },
      "source": [
        "price_columns_for_env = [col for col in X_with_env.columns if col.startswith(\"price_calendar\") and col != \"price_calendar\"]\n",
        "price_columns_for_prop_and_env = [col for col in X_with_env.columns if col.startswith(\"price_calendar\")]"
      ],
      "execution_count": 0,
      "outputs": []
    },
    {
      "cell_type": "code",
      "metadata": {
        "colab_type": "code",
        "id": "OFBiFgbmLwqD",
        "colab": {}
      },
      "source": [
        "X_with_env.loc[:, \"total_env_prices\"] = X_with_env[price_columns_for_env].sum(axis=1)\n",
        "for price_column_for_prop_and_env in price_columns_for_prop_and_env:\n",
        "  X_with_env.loc[:, price_column_for_prop_and_env + \"_normalized\"] = X_with_env[price_column_for_prop_and_env] / X_with_env[\"total_env_prices\"]"
      ],
      "execution_count": 0,
      "outputs": []
    },
    {
      "cell_type": "code",
      "metadata": {
        "colab_type": "code",
        "id": "BBuEBQs7L0wp",
        "colab": {}
      },
      "source": [
        "X_with_env = X_with_env.drop(columns=[\"price_calendar\"])"
      ],
      "execution_count": 0,
      "outputs": []
    },
    {
      "cell_type": "code",
      "metadata": {
        "colab_type": "code",
        "id": "rQ0cdaxiyFm9",
        "colab": {}
      },
      "source": [
        "X = X_with_env.sort_values(by=[\"listing_id\", \"date\"]).drop(columns=[\"date\"]).reset_index(drop=True)"
      ],
      "execution_count": 0,
      "outputs": []
    },
    {
      "cell_type": "code",
      "metadata": {
        "colab_type": "code",
        "id": "U5eKCWnOyFnC",
        "colab": {}
      },
      "source": [
        "y = df[[\"available\",\"listing_id\", \"date\"]].query(\"listing_id not in @listing_ids_environment\").sort_values(by=[\"listing_id\", \"date\"]).drop(columns=[\"date\"]).reset_index(drop=True)"
      ],
      "execution_count": 0,
      "outputs": []
    },
    {
      "cell_type": "code",
      "metadata": {
        "colab_type": "code",
        "id": "X015ahxdyFnE",
        "outputId": "05965cf2-f3f5-4c8d-c980-0ebf0ba1b3aa",
        "colab": {
          "base_uri": "https://localhost:8080/",
          "height": 34
        }
      },
      "source": [
        "X.shape"
      ],
      "execution_count": 50,
      "outputs": [
        {
          "output_type": "execute_result",
          "data": {
            "text/plain": [
              "(1357070, 374)"
            ]
          },
          "metadata": {
            "tags": []
          },
          "execution_count": 50
        }
      ]
    },
    {
      "cell_type": "code",
      "metadata": {
        "colab_type": "code",
        "id": "zKituPM-yFnJ",
        "outputId": "713ea160-7d98-4522-a299-16701663ae5e",
        "colab": {
          "base_uri": "https://localhost:8080/",
          "height": 34
        }
      },
      "source": [
        "y.shape"
      ],
      "execution_count": 51,
      "outputs": [
        {
          "output_type": "execute_result",
          "data": {
            "text/plain": [
              "(1357070, 2)"
            ]
          },
          "metadata": {
            "tags": []
          },
          "execution_count": 51
        }
      ]
    },
    {
      "cell_type": "code",
      "metadata": {
        "colab_type": "code",
        "id": "Iov-mCvCyFnL",
        "outputId": "97f4be66-4dd4-4527-9c5a-e6b54dea558e",
        "colab": {
          "base_uri": "https://localhost:8080/",
          "height": 34
        }
      },
      "source": [
        "X.shape[0] == y.shape[0]"
      ],
      "execution_count": 52,
      "outputs": [
        {
          "output_type": "execute_result",
          "data": {
            "text/plain": [
              "True"
            ]
          },
          "metadata": {
            "tags": []
          },
          "execution_count": 52
        }
      ]
    },
    {
      "cell_type": "code",
      "metadata": {
        "colab_type": "code",
        "id": "IrvvVhTeyFnN",
        "colab": {}
      },
      "source": [
        "(X[\"listing_id\"] == y[\"listing_id\"]).all()"
      ],
      "execution_count": 0,
      "outputs": []
    },
    {
      "cell_type": "markdown",
      "metadata": {
        "colab_type": "text",
        "id": "gF8FLl1FyFnP"
      },
      "source": [
        "### Fill missing values in numeric columns with mean of the corresponding column"
      ]
    },
    {
      "cell_type": "code",
      "metadata": {
        "colab_type": "code",
        "id": "Aqj19ppXyFnQ",
        "colab": {}
      },
      "source": [
        "num_vars = X.select_dtypes(exclude=['object']).copy().columns\n",
        "def fill_mean (col):\n",
        "    return col.fillna(col.mean())\n",
        "X.loc[X.index, num_vars] = X[num_vars].apply(fill_mean, axis=0)"
      ],
      "execution_count": 0,
      "outputs": []
    },
    {
      "cell_type": "markdown",
      "metadata": {
        "colab_type": "text",
        "id": "04PWLamayFnS"
      },
      "source": [
        "### Convert categorical variables into numeric variables with separate column for missing values"
      ]
    },
    {
      "cell_type": "code",
      "metadata": {
        "colab_type": "code",
        "id": "-K9D2fhtyFnT",
        "colab": {}
      },
      "source": [
        "cat_vars = X.select_dtypes(include=['object']).copy().columns\n",
        "for var in  cat_vars:\n",
        "    # for each cat add dummy var, drop original column\n",
        "    X = pd.concat([X.drop(var, axis=1), pd.get_dummies(X[var], prefix=var, prefix_sep='_', drop_first=False, dummy_na=True)], axis=1)    "
      ],
      "execution_count": 0,
      "outputs": []
    },
    {
      "cell_type": "markdown",
      "metadata": {
        "colab_type": "text",
        "id": "kAIbSBBPyFnU"
      },
      "source": [
        "### Splitting data into training and test sets while making sure that no property listing is common between them"
      ]
    },
    {
      "cell_type": "code",
      "metadata": {
        "colab_type": "code",
        "id": "k8chM7ieyFnV",
        "colab": {}
      },
      "source": [
        "unique_listing_ids = X[\"listing_id\"].unique()"
      ],
      "execution_count": 0,
      "outputs": []
    },
    {
      "cell_type": "code",
      "metadata": {
        "colab_type": "code",
        "id": "tnvhg6G0yFnZ",
        "colab": {}
      },
      "source": [
        "np.random.seed(42)\n",
        "listing_ids_train = np.random.choice(np.array(unique_listing_ids), size= int(0.70 * len(unique_listing_ids)), replace=False)\n",
        "listing_ids_test = [l for l in unique_listing_ids if l not in listing_ids_train]"
      ],
      "execution_count": 0,
      "outputs": []
    },
    {
      "cell_type": "code",
      "metadata": {
        "colab_type": "code",
        "id": "2cnKLnGSyFnd",
        "colab": {}
      },
      "source": [
        "X_train = X.query(\"listing_id in @listing_ids_train\")\n",
        "y_train = y.query(\"listing_id in @listing_ids_train\")"
      ],
      "execution_count": 0,
      "outputs": []
    },
    {
      "cell_type": "code",
      "metadata": {
        "colab_type": "code",
        "id": "qS176-usyFnf",
        "colab": {}
      },
      "source": [
        "(X_train.index == y_train.index).all()"
      ],
      "execution_count": 0,
      "outputs": []
    },
    {
      "cell_type": "markdown",
      "metadata": {
        "colab_type": "text",
        "id": "VafLdZDRyFnh"
      },
      "source": [
        "I am using here only a smaller sample of training data to choose hyper parameters using cross validation technique to complete the experiments in timely manner. However, in real world scenario with availability of time, higher computational resources and memory, entire training dataset should be used for choosing optimal hyper parameters."
      ]
    },
    {
      "cell_type": "code",
      "metadata": {
        "colab_type": "code",
        "id": "Pgoc-do-yFnh",
        "colab": {}
      },
      "source": [
        "X_train_sample = X_train.sample(10000, random_state=42)\n",
        "y_train_sample = y_train.loc[X_train_sample.index]"
      ],
      "execution_count": 0,
      "outputs": []
    },
    {
      "cell_type": "code",
      "metadata": {
        "colab_type": "code",
        "id": "UgKIcS2eyFnj",
        "colab": {}
      },
      "source": [
        "(X_train_sample[\"listing_id\"] == y_train_sample[\"listing_id\"]).all()"
      ],
      "execution_count": 0,
      "outputs": []
    },
    {
      "cell_type": "code",
      "metadata": {
        "colab_type": "code",
        "id": "iRBUlZk_yFnl",
        "colab": {}
      },
      "source": [
        "X_train_sample.shape"
      ],
      "execution_count": 0,
      "outputs": []
    },
    {
      "cell_type": "code",
      "metadata": {
        "colab_type": "code",
        "id": "R2xKKD-syFnn",
        "colab": {}
      },
      "source": [
        "y_train_sample.shape"
      ],
      "execution_count": 0,
      "outputs": []
    },
    {
      "cell_type": "code",
      "metadata": {
        "colab_type": "code",
        "id": "IzkKyvnayFnp",
        "colab": {}
      },
      "source": [
        "X_test = X.query(\"listing_id in @listing_ids_test\").drop(columns=[\"listing_id\"])\n",
        "y_test = y.query(\"listing_id in @listing_ids_test\").drop(columns=[\"listing_id\"])"
      ],
      "execution_count": 0,
      "outputs": []
    },
    {
      "cell_type": "code",
      "metadata": {
        "colab_type": "code",
        "id": "R-TZu3yEyFns",
        "colab": {}
      },
      "source": [
        "X_train_sample.to_csv(data_dir + \"/X_train_sample.csv\", index=False)\n",
        "y_train_sample.to_csv(data_dir + \"/y_train_sample.csv\", index=False)"
      ],
      "execution_count": 0,
      "outputs": []
    },
    {
      "cell_type": "code",
      "metadata": {
        "colab_type": "code",
        "id": "pATjxaMgNPxu",
        "colab": {}
      },
      "source": [
        "X_train.to_csv(data_dir + \"/X_train.csv\", index=False)\n",
        "y_train.to_csv(data_dir + \"/y_train.csv\", index=False)"
      ],
      "execution_count": 0,
      "outputs": []
    },
    {
      "cell_type": "code",
      "metadata": {
        "colab_type": "code",
        "id": "fe5cjok3yFnv",
        "colab": {}
      },
      "source": [
        "X_test.to_csv(data_dir + \"/X_test.csv\", index=False)\n",
        "y_test.to_csv(data_dir + \"/y_test.csv\", index=False)"
      ],
      "execution_count": 0,
      "outputs": []
    },
    {
      "cell_type": "code",
      "metadata": {
        "colab_type": "code",
        "id": "FMRN1Rk4yFnx",
        "colab": {}
      },
      "source": [
        "y_train[\"available\"].value_counts()/y_train.shape[0]"
      ],
      "execution_count": 0,
      "outputs": []
    },
    {
      "cell_type": "markdown",
      "metadata": {
        "colab_type": "text",
        "id": "AmoTCEKNyFn0"
      },
      "source": [
        "Considering the ratio of samples classified for output True and False, the data looks to be balanced."
      ]
    },
    {
      "cell_type": "markdown",
      "metadata": {
        "colab_type": "text",
        "id": "FeZg5olN1122"
      },
      "source": [
        "## Training Machine Learning Models"
      ]
    },
    {
      "cell_type": "markdown",
      "metadata": {
        "colab_type": "text",
        "id": "Ue7tJzWpyFn1"
      },
      "source": [
        "### Preparing cross validation splits to into training and test sets while making sure that no property listing is common between them"
      ]
    },
    {
      "cell_type": "markdown",
      "metadata": {
        "colab_type": "text",
        "id": "R6_MbXYcesWX"
      },
      "source": [
        "I haven't used `MyGridSearchCV` class anywhere in this notebook, \n",
        "as I decided to use Tree of Parzen Estimators Algorithm and Bayesian Optimization algo\n",
        "implemented in Hyperopt and Scikit Optimize \n",
        "for quickly narrowing down the optimal hyper parameters"
      ]
    },
    {
      "cell_type": "code",
      "metadata": {
        "colab_type": "code",
        "id": "Re7hJ1cRyFn1",
        "colab": {}
      },
      "source": [
        "class MyGridSearchCV(object):\n",
        "    \n",
        "    def __init__(self, estimator, param_grid, cv=3):\n",
        "        self.estimator = estimator\n",
        "        self.param_grid = param_grid\n",
        "        self.best_score = -math.inf\n",
        "        self.best_estimator = None\n",
        "        self.best_estimator_scores_mean = -math.inf\n",
        "        self.best_estimator_scores_stdev = -math.inf\n",
        "        self.best_params= None\n",
        "        self.cv = cv       \n",
        "    \n",
        "    def fit(self, X, y):\n",
        "        for param_point in self.get_param_grid_points():\n",
        "            def splits(array, k):\n",
        "                splits = []\n",
        "                \n",
        "                for i in range(k):\n",
        "                    split_length = math.ceil(len(array)/k)\n",
        "                    split = []\n",
        "                    for j in range(i * split_length, (i+1) * split_length):\n",
        "                        if j < len(array):\n",
        "                            split.append(array[j])\n",
        "                        \n",
        "                    splits.append(split)\n",
        "                cvs = []\n",
        "                for i, split in enumerate(splits):\n",
        "                    train = []\n",
        "                    for j, other_split in enumerate(splits):\n",
        "                        if i != j:\n",
        "                            train += other_split\n",
        "                    test = [] + split\n",
        "                    cvs.append((train, test))\n",
        "                return cvs\n",
        "                    \n",
        "            scores_for_point = []\n",
        "            estimator = clone(self.estimator)\n",
        "            estimator.set_params(**param_point)\n",
        "            for l_train, l_test in splits(list(X[\"listing_id\"].unique()), k=self.cv):                \n",
        "                X_train = X.query(\"listing_id in @l_train\").drop(columns=[\"listing_id\"])\n",
        "                X_test = X.query(\"listing_id in @l_test\").drop(columns=[\"listing_id\"])\n",
        "                y_train = y.query(\"listing_id in @l_train\").drop(columns=[\"listing_id\"])\n",
        "                y_test = y.query(\"listing_id in @l_test\").drop(columns=[\"listing_id\"])                \n",
        "                estimator.fit(X_train, y_train.values.ravel())\n",
        "                y_preds = estimator.predict(X_test)\n",
        "                f1_score_1 = f1_score(y_test, y_preds, pos_label=True)\n",
        "                f1_score_0 = f1_score(y_test, y_preds, pos_label=False)\n",
        "                score = min([f1_score_1, f1_score_0])\n",
        "                scores_for_point.append(score)\n",
        "                gc.collect()\n",
        "                \n",
        "            mean_score = np.mean(scores_for_point)\n",
        "            if mean_score > self.best_estimator_scores_mean:\n",
        "                self.best_estimator_scores_mean = mean_score\n",
        "                self.best_estimator_scores_stdev = np.std(scores_for_point)\n",
        "                self.best_estimator = estimator\n",
        "                self.best_params = self.best_estimator.get_params()\n",
        "                self.best_score = self.best_estimator_scores_mean\n",
        "            gc.collect()\n",
        "            \n",
        "    def get_param_grid_points(self):\n",
        "        points = [{}]\n",
        "        for param, values in self.param_grid.items():\n",
        "            new_points = []\n",
        "            for point in points:\n",
        "                for value in values:                    \n",
        "                    new_point = point.copy()\n",
        "                    new_point[param]= value\n",
        "                    new_points.append(new_point)\n",
        "            points = new_points\n",
        "        return points\n",
        "    \n",
        "    def print_best(self):\n",
        "        print(\"Best score:\")\n",
        "        print(self.best_score)\n",
        "        print(\"Best params:\")\n",
        "        print(self.best_params)\n",
        "        print(\"Best estimator scores mean:\")\n",
        "        print(self.best_estimator_scores_mean)\n",
        "        print(\"Best estimator scores stdev:\")\n",
        "        print(self.best_estimator_scores_stdev)"
      ],
      "execution_count": 0,
      "outputs": []
    },
    {
      "cell_type": "markdown",
      "metadata": {
        "colab_type": "text",
        "id": "dYhzvdZPfDLu"
      },
      "source": [
        "`my_cross_val_score` is used in calculating the score after each cross validation step\n",
        "while tuning hyper parameters"
      ]
    },
    {
      "cell_type": "code",
      "metadata": {
        "colab_type": "code",
        "id": "LZiAQup7yFn3",
        "colab": {}
      },
      "source": [
        "def my_cross_val_score(estimator, X, y, fit_params=None, scoring=\"f1\"):\n",
        "    def splits(array, k):\n",
        "        splits = []\n",
        "\n",
        "        for i in range(k):\n",
        "            split_length = math.ceil(len(array)/k)\n",
        "            split = []\n",
        "            for j in range(i * split_length, (i+1) * split_length):\n",
        "                if j < len(array):\n",
        "                    split.append(array[j])\n",
        "\n",
        "            splits.append(split)\n",
        "        cvs = []\n",
        "        for i, split in enumerate(splits):\n",
        "            train = []\n",
        "            for j, other_split in enumerate(splits):\n",
        "                if i != j:\n",
        "                    train += other_split\n",
        "            test = [] + split\n",
        "            cvs.append((train, test))\n",
        "        return cvs\n",
        "\n",
        "    scores_for_point = []\n",
        "    for l_train, l_test in splits(list(X[\"listing_id\"].unique()), k=5):\n",
        "        X_train = X.query(\"listing_id in @l_train\").drop(columns=[\"listing_id\"])\n",
        "        y_train = y.query(\"listing_id in @l_train\").drop(columns=[\"listing_id\"])\n",
        "        X_test = X.query(\"listing_id in @l_test\").drop(columns=[\"listing_id\"])\n",
        "        y_test = y.query(\"listing_id in @l_test\").drop(columns=[\"listing_id\"])\n",
        "        \n",
        "        if fit_params is not None:\n",
        "          estimator.fit(X=X_train, y=y_train.values.ravel(), **fit_params)\n",
        "        else:\n",
        "          estimator.fit(X=X_train, y=y_train.values.ravel())\n",
        "        \n",
        "        if scoring == \"logloss\":        \n",
        "          y_preds_proba = estimator.predict_proba(X_test)\n",
        "          score = log_loss(y_test, y_preds_proba)\n",
        "        elif scoring == \"f1\":\n",
        "          y_preds = estimator.predict(X_test)\n",
        "          f1_score_1 = f1_score(y_test, y_preds, pos_label=True)\n",
        "          f1_score_0 = f1_score(y_test, y_preds, pos_label=False)\n",
        "          score = min([f1_score_1, f1_score_0])\n",
        "          \n",
        "        scores_for_point.append(score)\n",
        "        gc.collect()\n",
        "\n",
        "    mean_score = np.mean(scores_for_point)\n",
        "    return mean_score\n",
        "\n"
      ],
      "execution_count": 0,
      "outputs": []
    },
    {
      "cell_type": "code",
      "metadata": {
        "colab_type": "code",
        "id": "imY5kFPkZFrl",
        "colab": {}
      },
      "source": [
        "import decimal\n",
        "\n",
        "def float_range(start, stop, step):\n",
        "    start = decimal.Decimal(start)\n",
        "    stop = decimal.Decimal(stop)\n",
        "    step = decimal.Decimal(step)\n",
        "    while (start < stop):\n",
        "        yield float(start)\n",
        "        start += step"
      ],
      "execution_count": 0,
      "outputs": []
    },
    {
      "cell_type": "code",
      "metadata": {
        "colab_type": "code",
        "id": "eOnt42JDNenx",
        "colab": {}
      },
      "source": [
        "X_train = pd.read_csv(data_dir + \"/X_train.csv\")\n",
        "y_train = pd.read_csv(data_dir + \"/y_train.csv\")\n",
        "garbage = gc.collect()"
      ],
      "execution_count": 0,
      "outputs": []
    },
    {
      "cell_type": "code",
      "metadata": {
        "colab_type": "code",
        "id": "fxBAn0bSDdVO",
        "colab": {}
      },
      "source": [
        "X_train_sample = pd.read_csv(data_dir + \"/X_train_sample.csv\")\n",
        "y_train_sample = pd.read_csv(data_dir + \"/y_train_sample.csv\")\n",
        "garbage = gc.collect()"
      ],
      "execution_count": 0,
      "outputs": []
    },
    {
      "cell_type": "code",
      "metadata": {
        "colab_type": "code",
        "id": "_0QLX1aBxmfm",
        "colab": {}
      },
      "source": [
        "validation_listing_ids = list(X_train_sample[[\"listing_id\"]].drop_duplicates([\"listing_id\"]).sample(frac=0.1)[\"listing_id\"])\n",
        "X_val_es = X_train_sample.query(\"listing_id in @validation_listing_ids\").drop(columns=[\"listing_id\"])\n",
        "y_val_es = y_train_sample.query(\"listing_id in @validation_listing_ids\").drop(columns=[\"listing_id\"])\n",
        "X_train_es = X_train_sample.query(\"listing_id not in @validation_listing_ids\")\n",
        "y_train_es = y_train_sample.query(\"listing_id not in @validation_listing_ids\")\n",
        "garbage = gc.collect()"
      ],
      "execution_count": 0,
      "outputs": []
    },
    {
      "cell_type": "markdown",
      "metadata": {
        "colab_type": "text",
        "id": "jDlMsE3KyFn6"
      },
      "source": [
        "### Decision Tree Classifier for testing setup"
      ]
    },
    {
      "cell_type": "markdown",
      "metadata": {
        "colab_type": "text",
        "id": "Nt75dwmnyFn6"
      },
      "source": [
        "I will be using **Tree of Parzen Estimators** algorithm implemented in **Hyperopt** library for choosing hyper parameters to be evaluated to find the optimal ones that maximizes the score = min(f1_score_for_positive_class, f1_score_for_negative_class)"
      ]
    },
    {
      "cell_type": "code",
      "metadata": {
        "colab_type": "code",
        "id": "uAQq07TayFn7",
        "outputId": "edf0b164-651d-4dad-d6ee-d3462e2d050f",
        "colab": {
          "base_uri": "https://localhost:8080/",
          "height": 1000
        }
      },
      "source": [
        "def objective_dtc(params):\n",
        "    clf = DecisionTreeClassifier()\n",
        "    clf.set_params(**params)    \n",
        "    score = my_cross_val_score(clf, X=X_train_sample, y=y_train_sample, scoring=\"logloss\")\n",
        "    print(params)\n",
        "    print(\"log loss: \" + str(score))\n",
        "    return score\n",
        "\n",
        "dtc_param_space = {\n",
        "    \"min_samples_leaf\": hp.choice(\"min_samples_leaf\", [x/X_train_sample.shape[0] for x in range(1,6,2)]),\n",
        "    \"min_samples_split\": hp.choice(\"min_samples_split\", [2*x/X_train_sample.shape[0] for x in range(1,11,2)]),\n",
        "    \"max_depth\": hp.choice(\"max_depth\", [2**x for x in range(2,11)]),    \n",
        "    \"random_state\": hp.choice(\"random_state\", [42])\n",
        "}\n",
        "start_time = time.time()\n",
        "best_params_dtc = space_eval(dtc_param_space, fmin(objective_dtc, dtc_param_space, algo=tpe.suggest, max_evals=50))\n",
        "elapsed_time = (time.time() - start_time) / 60\n",
        "print('Elapsed computation time: {:.3f} mins'.format(elapsed_time))\n",
        "print (\"Best params:\")\n",
        "print (best_params_dtc)\n"
      ],
      "execution_count": 0,
      "outputs": [
        {
          "output_type": "stream",
          "text": [
            "{'max_depth': 32, 'min_samples_leaf': 3, 'min_samples_split': 10, 'random_state': 42}\n",
            "score: 0.6296983940700798                           \n",
            "{'max_depth': 16, 'min_samples_leaf': 1, 'min_samples_split': 6, 'random_state': 42}\n",
            "score: 0.6368101288257777                                                     \n",
            "{'max_depth': 64, 'min_samples_leaf': 5, 'min_samples_split': 14, 'random_state': 42}\n",
            "score: 0.6330118900289432                                                     \n",
            "{'max_depth': 8, 'min_samples_leaf': 3, 'min_samples_split': 10, 'random_state': 42}\n",
            "score: 0.6329722870073318                                                     \n",
            "{'max_depth': 4, 'min_samples_leaf': 3, 'min_samples_split': 18, 'random_state': 42}\n",
            "score: 0.5332227970948313                                                     \n",
            "{'max_depth': 4, 'min_samples_leaf': 5, 'min_samples_split': 10, 'random_state': 42}\n",
            "score: 0.5339200591859425                                                     \n",
            "{'max_depth': 8, 'min_samples_leaf': 1, 'min_samples_split': 10, 'random_state': 42}\n",
            "score: 0.6344332235678055                                                     \n",
            "{'max_depth': 1024, 'min_samples_leaf': 3, 'min_samples_split': 10, 'random_state': 42}\n",
            "score: 0.6296983940700798                                                     \n",
            "{'max_depth': 64, 'min_samples_leaf': 3, 'min_samples_split': 6, 'random_state': 42}\n",
            "score: 0.6220363763486967                                                     \n",
            "{'max_depth': 512, 'min_samples_leaf': 5, 'min_samples_split': 6, 'random_state': 42}\n",
            "score: 0.6292458868622335                                                     \n",
            "{'max_depth': 64, 'min_samples_leaf': 3, 'min_samples_split': 2, 'random_state': 42}\n",
            "score: 0.6220363763486967                                                      \n",
            "{'max_depth': 32, 'min_samples_leaf': 1, 'min_samples_split': 14, 'random_state': 42}\n",
            "score: 0.6176405841100029                                                      \n",
            "{'max_depth': 8, 'min_samples_leaf': 3, 'min_samples_split': 14, 'random_state': 42}\n",
            "score: 0.6342217493732194                                                      \n",
            "{'max_depth': 128, 'min_samples_leaf': 1, 'min_samples_split': 18, 'random_state': 42}\n",
            "score: 0.6160812834029981                                                      \n",
            "{'max_depth': 64, 'min_samples_leaf': 1, 'min_samples_split': 10, 'random_state': 42}\n",
            "score: 0.6144316037485476                                                      \n",
            "{'max_depth': 8, 'min_samples_leaf': 3, 'min_samples_split': 10, 'random_state': 42}\n",
            "score: 0.6329722870073318                                                      \n",
            "{'max_depth': 256, 'min_samples_leaf': 3, 'min_samples_split': 10, 'random_state': 42}\n",
            "score: 0.6296983940700798                                                      \n",
            "{'max_depth': 256, 'min_samples_leaf': 5, 'min_samples_split': 2, 'random_state': 42}\n",
            "score: 0.6292458868622335                                                      \n",
            "{'max_depth': 32, 'min_samples_leaf': 5, 'min_samples_split': 2, 'random_state': 42}\n",
            "score: 0.6292458868622335                                                      \n",
            "{'max_depth': 256, 'min_samples_leaf': 5, 'min_samples_split': 10, 'random_state': 42}\n",
            "score: 0.6292458868622335                                                      \n",
            "{'max_depth': 16, 'min_samples_leaf': 1, 'min_samples_split': 6, 'random_state': 42}\n",
            "score: 0.6368101288257777                                                      \n",
            "{'max_depth': 16, 'min_samples_leaf': 1, 'min_samples_split': 6, 'random_state': 42}\n",
            "score: 0.6368101288257777                                                      \n",
            "{'max_depth': 16, 'min_samples_leaf': 1, 'min_samples_split': 6, 'random_state': 42}\n",
            "score: 0.6368101288257777                                                      \n",
            "{'max_depth': 16, 'min_samples_leaf': 1, 'min_samples_split': 6, 'random_state': 42}\n",
            "score: 0.6368101288257777                                                      \n",
            "{'max_depth': 16, 'min_samples_leaf': 1, 'min_samples_split': 6, 'random_state': 42}\n",
            "score: 0.6368101288257777                                                      \n",
            "{'max_depth': 16, 'min_samples_leaf': 1, 'min_samples_split': 6, 'random_state': 42}\n",
            "score: 0.6368101288257777                                                      \n",
            "{'max_depth': 16, 'min_samples_leaf': 1, 'min_samples_split': 6, 'random_state': 42}\n",
            "score: 0.6368101288257777                                                      \n",
            "{'max_depth': 512, 'min_samples_leaf': 1, 'min_samples_split': 6, 'random_state': 42}\n",
            "score: 0.6176457727830311                                                      \n",
            "{'max_depth': 128, 'min_samples_leaf': 1, 'min_samples_split': 18, 'random_state': 42}\n",
            "score: 0.6160812834029981                                                      \n",
            "{'max_depth': 1024, 'min_samples_leaf': 1, 'min_samples_split': 6, 'random_state': 42}\n",
            "score: 0.6176457727830311                                                      \n",
            "{'max_depth': 16, 'min_samples_leaf': 1, 'min_samples_split': 6, 'random_state': 42}\n",
            "score: 0.6368101288257777                                                      \n",
            "{'max_depth': 16, 'min_samples_leaf': 1, 'min_samples_split': 14, 'random_state': 42}\n",
            "score: 0.6330675672105448                                                      \n",
            "{'max_depth': 4, 'min_samples_leaf': 1, 'min_samples_split': 18, 'random_state': 42}\n",
            "score: 0.5333879412573499                                                      \n",
            "{'max_depth': 512, 'min_samples_leaf': 1, 'min_samples_split': 6, 'random_state': 42}\n",
            "score: 0.6176457727830311                                                      \n",
            "{'max_depth': 16, 'min_samples_leaf': 5, 'min_samples_split': 2, 'random_state': 42}\n",
            "score: 0.6389153647896277                                                      \n",
            "{'max_depth': 1024, 'min_samples_leaf': 5, 'min_samples_split': 2, 'random_state': 42}\n",
            "score: 0.6292458868622335                                                      \n",
            "{'max_depth': 128, 'min_samples_leaf': 5, 'min_samples_split': 2, 'random_state': 42}\n",
            "score: 0.6292458868622335                                                      \n",
            "{'max_depth': 4, 'min_samples_leaf': 5, 'min_samples_split': 2, 'random_state': 42}\n",
            "score: 0.5339200591859425                                                      \n",
            "{'max_depth': 32, 'min_samples_leaf': 5, 'min_samples_split': 2, 'random_state': 42}\n",
            "score: 0.6292458868622335                                                      \n",
            "{'max_depth': 16, 'min_samples_leaf': 5, 'min_samples_split': 2, 'random_state': 42}\n",
            "score: 0.6389153647896277                                                      \n",
            "{'max_depth': 16, 'min_samples_leaf': 5, 'min_samples_split': 2, 'random_state': 42}\n",
            "score: 0.6389153647896277                                                      \n",
            "{'max_depth': 1024, 'min_samples_leaf': 5, 'min_samples_split': 2, 'random_state': 42}\n",
            "score: 0.6292458868622335                                                      \n",
            "{'max_depth': 64, 'min_samples_leaf': 5, 'min_samples_split': 2, 'random_state': 42}\n",
            "score: 0.6292458868622335                                                      \n",
            "{'max_depth': 8, 'min_samples_leaf': 5, 'min_samples_split': 2, 'random_state': 42}\n",
            "score: 0.6359923835256888                                                      \n",
            "{'max_depth': 512, 'min_samples_leaf': 5, 'min_samples_split': 14, 'random_state': 42}\n",
            "score: 0.6330118900289432                                                      \n",
            "{'max_depth': 4, 'min_samples_leaf': 5, 'min_samples_split': 2, 'random_state': 42}\n",
            "score: 0.5339200591859425                                                      \n",
            "{'max_depth': 32, 'min_samples_leaf': 5, 'min_samples_split': 18, 'random_state': 42}\n",
            "score: 0.6324326088270796                                                      \n",
            "{'max_depth': 128, 'min_samples_leaf': 3, 'min_samples_split': 2, 'random_state': 42}\n",
            "score: 0.6220363763486967                                                      \n",
            "{'max_depth': 256, 'min_samples_leaf': 5, 'min_samples_split': 14, 'random_state': 42}\n",
            "score: 0.6330118900289432                                                      \n",
            "{'max_depth': 64, 'min_samples_leaf': 5, 'min_samples_split': 2, 'random_state': 42}\n",
            "score: 0.6292458868622335                                                      \n",
            "100%|██████████| 50/50 [06:30<00:00,  7.47s/it, best loss: -0.6389153647896277]\n",
            "Elapsed computation time: 6.530 mins\n",
            "Best params: \n",
            "{'max_depth': 16, 'min_samples_leaf': 5, 'min_samples_split': 2, 'random_state': 42}\n"
          ],
          "name": "stdout"
        }
      ]
    },
    {
      "cell_type": "markdown",
      "metadata": {
        "colab_type": "text",
        "id": "72jW97tJyFn9"
      },
      "source": [
        "After having evaluated the approximate optimal value for max-depth hyper parameter to be around 16, I am using **Bayesian Optimization** technique implemented in `gp_minimize` method of **Scikit Optimize** package to choose precisely optimal hyper parameters that maximizes the score = min(f1_score_for_positive_class, f1_score_for_negative_class)"
      ]
    },
    {
      "cell_type": "code",
      "metadata": {
        "colab_type": "code",
        "id": "--zQN1IOyFn9",
        "colab": {}
      },
      "source": [
        "def objective_dtc(params):\n",
        "    clf = DecisionTreeClassifier(\n",
        "        max_depth = params[0],\n",
        "        min_samples_leaf = params[1],\n",
        "        min_samples_split = params[2],\n",
        "        random_state = 42\n",
        "    )\n",
        "    score = my_cross_val_score(clf, X=X_train_sample, y=y_train_sample, scoring=\"logloss\")\n",
        "    print (\"Currently evaluating params:\")\n",
        "    print({\n",
        "      \"max_depth\": params[0],\n",
        "      \"min_samples_leaf\": params[1],\n",
        "      \"min_samples_split\": params[2]\n",
        "    })\n",
        "    print (\"log loss: \" + str(score))\n",
        "    return score\n",
        "start_time = time.time()\n",
        "dtc_opt_result = gp_minimize(\n",
        "    func=objective_dtc,\n",
        "    dimensions=[\n",
        "        (8, 30),\n",
        "        (1, 10),\n",
        "        (2, 20)\n",
        "    ],\n",
        "    random_state=42\n",
        ")\n",
        "elapsed_time = (time.time() - start_time) / 60\n",
        "print('Elapsed computation time: {:.3f} mins'.format(elapsed_time))\n",
        "best_params_list_dtc = dtc_opt_result.x\n",
        "best_score_dtc = -dtc_opt_result.fun\n",
        "best_params_dtc = {\n",
        "    \"max_depth\": best_params_list_dtc[0],\n",
        "    \"min_samples_leaf\": best_params_list_dtc[1],\n",
        "    \"min_samples_split\": best_params_list_dtc[2]\n",
        "}\n",
        "print (\"Best score (log loss): \" + str(best_score_dtc))\n",
        "print (\"Best params: \" + str(best_params_dtc))"
      ],
      "execution_count": 0,
      "outputs": []
    },
    {
      "cell_type": "code",
      "metadata": {
        "colab_type": "code",
        "id": "Xg4Jd7ECyk-g",
        "colab": {}
      },
      "source": [
        "dtc = DecisionTreeClassifier()\n",
        "best_params_dtc = {'max_depth': 8, 'min_samples_leaf': 4, 'min_samples_split': 2, 'random_state': 42}\n",
        "dtc.set_params(**best_params_dtc)\n",
        "dtc.fit(X=X_train.drop(columns=[\"listing_id\"]), y=y_train.drop(columns=[\"listing_id\"]))\n",
        "pickle.dump(dtc, open(data_dir + '/dtc_best.pkl', 'wb'))"
      ],
      "execution_count": 0,
      "outputs": []
    },
    {
      "cell_type": "markdown",
      "metadata": {
        "colab_type": "text",
        "id": "zZQsmGobyFn_"
      },
      "source": [
        "## Ensemble Learners"
      ]
    },
    {
      "cell_type": "markdown",
      "metadata": {
        "colab_type": "text",
        "id": "JWep1DD0lXFH"
      },
      "source": [
        "### Extreme Gradient Boosting (XGBoost)"
      ]
    },
    {
      "cell_type": "markdown",
      "metadata": {
        "id": "Dw3lrT8cu6Y3",
        "colab_type": "text"
      },
      "source": [
        "Tuning hyper parameters using **Hyperopt**. I initially tried using Tree of Parzen Estimator's algorithm."
      ]
    },
    {
      "cell_type": "code",
      "metadata": {
        "colab_type": "code",
        "id": "10FalIJSFWlq",
        "colab": {}
      },
      "source": [
        "def f1_eval(y_pred, dtrain):\n",
        "    y_true = dtrain.get_label()\n",
        "    err = 1-f1_score(y_true, np.round(y_pred))\n",
        "    return 'f1_err', err\n",
        "evaluated_point_scores = {}\n",
        "def objective_xgb(params):\n",
        "    if (str(params) in evaluated_point_scores):\n",
        "       return evaluated_point_scores[str(params)]\n",
        "    else:      \n",
        "      clf = XGBClassifier()\n",
        "      clf.set_params(**params)    \n",
        "      f1_score = my_cross_val_score(clf, X=X_train_es, y=y_train_es, fit_params={\n",
        "              \"eval_set\": [(X_val_es, y_val_es.values.ravel())],\n",
        "              \"early_stopping_rounds\":20,\n",
        "              \"verbose\": None,\n",
        "              \"eval_metric\": f1_eval\n",
        "          }, scoring=\"f1\")\n",
        "      print(params)\n",
        "      print(\"f1: \" + str(f1_score))\n",
        "      evaluated_point_scores[str(params)] = -f1_score\n",
        "      return -f1_score\n",
        "\n",
        "xgb_param_space = {    \n",
        "    \"max_depth\": hp.choice(\"max_depth\", range(7,15,1)),    \n",
        "#     \"min_child_weight\": hp.choice(\"min_child_weight\", range(1,51,1)),    \n",
        "#     \"gamma\": hp.choice(\"gamma\", range(0, 11, 1)),\n",
        "    \"subsample\": hp.choice(\"subsample\", [0.7, 1.0]),\n",
        "    \"random_state\": hp.choice(\"random_state\", [42]),\n",
        "    \"tree_method\": hp.choice(\"tree_method\", [\"gpu_hist\"]),\n",
        "    \"n_estimators\": hp.choice(\"n_estimators\", [1000])\n",
        "}\n",
        "start_time = time.time()\n",
        "best_params_xgb = space_eval(\n",
        "    xgb_param_space, \n",
        "    fmin(objective_xgb, \n",
        "         xgb_param_space, \n",
        "         algo=hyperopt.tpe.suggest,\n",
        "         max_evals=30))\n",
        "print(best_params_xgb)\n",
        "elapsed_time = (time.time() - start_time) / 60\n",
        "print('Elapsed computation time: {:.3f} mins'.format(elapsed_time))"
      ],
      "execution_count": 0,
      "outputs": []
    },
    {
      "cell_type": "markdown",
      "metadata": {
        "id": "C09JfBKr5DRp",
        "colab_type": "text"
      },
      "source": [
        "### Keeping our model realistic about the price elasticity for demand of properties"
      ]
    },
    {
      "cell_type": "markdown",
      "metadata": {
        "id": "YdXRo-KFzSo7",
        "colab_type": "text"
      },
      "source": [
        "Note that for max_depth ranging from 7 to 14, we have have F1-score somewhere between 69 and 72. If our main target is to estimate the price elasticity for property on given day and market condition, then it is also important that our chosen model shows positive price elasticity for as many property listings as possible to be more realistic about how the world works based on economic principle of price elasticity for demand. I choose to run another hyper parameter tuning where the objective function tries to maximize the percentage of property listings showing positive price elasticity."
      ]
    },
    {
      "cell_type": "code",
      "metadata": {
        "id": "5aW-OCpf0Gs-",
        "colab_type": "code",
        "colab": {}
      },
      "source": [
        "def f1_eval(y_pred, dtrain):\n",
        "    y_true = dtrain.get_label()\n",
        "    err = 1-f1_score(y_true, np.round(y_pred))\n",
        "    return 'f1_err', err\n",
        "evaluated_point_scores = {}\n",
        "def objective_xgb(params):\n",
        "    if (str(params) in evaluated_point_scores):\n",
        "       return evaluated_point_scores[str(params)]\n",
        "    else:      \n",
        "      print(params)\n",
        "      clf = XGBClassifier()\n",
        "      clf.set_params(**params)\n",
        "      clf.fit(X=X_train_es.drop(columns=[\"listing_id\"]), y=y_train_es.drop(columns=[\"listing_id\"]).values.ravel(), \n",
        "        eval_set=[(X_val_es, y_val_es.values.ravel())],\n",
        "        eval_metric= f1_eval,\n",
        "        early_stopping_rounds=50,\n",
        "        verbose=None\n",
        "       )\n",
        "      props_with_positive_elasticity = 0      \n",
        "      for index, listing in X_val_es.copy().sample(100, random_state=42).iterrows():\n",
        "        \n",
        "        original_listing = listing.copy()\n",
        "        \n",
        "        # Fitting a curve that captures to price elasticity trend\n",
        "        percentage = 20\n",
        "        n_points = 10\n",
        "        current_norm_price = listing[\"price_calendar_normalized\"]\n",
        "        higher_price_normalized = current_norm_price * (1 + (percentage/100))\n",
        "        lower_price_normalized = max(0, current_norm_price * (1 - (percentage/100)))    \n",
        "        samples_price_norm = list(float_range(str(lower_price_normalized), str(higher_price_normalized), str((higher_price_normalized - lower_price_normalized)/n_points)))\n",
        "        samples_price_norm += list(float_range(str(current_norm_price * (0.95)), str(current_norm_price * (1.05)), str(current_norm_price * (0.1/(n_points/2)))))\n",
        "\n",
        "        probs = []\n",
        "        \n",
        "        for sample_price_norm in samples_price_norm:\n",
        "          listing[\"price_calendar_normalized\"] = sample_price_norm\n",
        "          df = pd.DataFrame(data=listing.to_dict(), index=[0])\n",
        "          prob = clf.predict_proba(df)[0][0]\n",
        "          probs.append(prob)  \n",
        "\n",
        "        X = pd.DataFrame({\"x\" : samples_price_norm})\n",
        "        y = pd.DataFrame({\"y\": probs})\n",
        "        curve = make_pipeline(PolynomialFeatures(degree=1), LinearRegression())\n",
        "        curve.fit(X,y)\n",
        "        \n",
        "        # Calculating price elasticity \n",
        "        percentage_to_check = 20\n",
        "        listing = original_listing.copy()\n",
        "        current_normalized_price = listing[\"price_calendar_normalized\"]\n",
        "        norm_price_1 = min(0, current_normalized_price * (1 - percentage_to_check/100))\n",
        "        price_1 = norm_price_1 * listing[\"total_env_prices\"]\n",
        "        listing[\"price_calendar_normalized\"] = norm_price_1\n",
        "        df_norm_price_1 = pd.DataFrame(data={\"x\" : norm_price_1}, index=[0])\n",
        "        d_1 = curve.predict(df_norm_price_1)[0]\n",
        "\n",
        "        norm_price_2 = current_normalized_price * (1 + percentage_to_check/100)\n",
        "        price_2 = norm_price_2 * listing[\"total_env_prices\"]\n",
        "        listing[\"price_calendar_normalized\"] = norm_price_2\n",
        "        df_norm_price_2 = pd.DataFrame(data={\"x\" : norm_price_2}, index=[0])\n",
        "        d_2 = curve.predict(df_norm_price_2)[0]\n",
        "\n",
        "        price_change = (price_2 - price_1)/((price_2 + price_1)/2)\n",
        "        demand_change = (d_2 - d_1)/((d_2 + d_1)/2)\n",
        "        elasticity = - (demand_change / price_change)\n",
        "        if elasticity > 0:\n",
        "          props_with_positive_elasticity += 1\n",
        "          \n",
        "      print(\"props_with_positive_elasticity: \" + str(props_with_positive_elasticity))    \n",
        "      evaluated_point_scores[str(params)] = -props_with_positive_elasticity\n",
        "      return -props_with_positive_elasticity\n",
        "\n",
        "xgb_param_space = {    \n",
        "    \"max_depth\": hp.choice(\"max_depth\", range(7,15,1)),    \n",
        "#     \"min_child_weight\": hp.choice(\"min_child_weight\", range(1,51,1)),    \n",
        "#     \"gamma\": hp.choice(\"gamma\", range(0, 11, 1)),\n",
        "    \"subsample\": hp.choice(\"subsample\", [1.0]),\n",
        "    \"random_state\": hp.choice(\"random_state\", [42]),\n",
        "    \"tree_method\": hp.choice(\"tree_method\", [\"gpu_hist\"]),\n",
        "    \"n_estimators\": hp.choice(\"n_estimators\", [1000])\n",
        "}\n",
        "start_time = time.time()\n",
        "best_params_xgb = space_eval(\n",
        "    xgb_param_space, \n",
        "    fmin(objective_xgb, \n",
        "         xgb_param_space, \n",
        "         algo=hyperopt.tpe.suggest,\n",
        "         max_evals=20))\n",
        "print(best_params_xgb)\n",
        "elapsed_time = (time.time() - start_time) / 60\n",
        "print('Elapsed computation time: {:.3f} mins'.format(elapsed_time))"
      ],
      "execution_count": 0,
      "outputs": []
    },
    {
      "cell_type": "code",
      "metadata": {
        "colab_type": "code",
        "id": "uN-YeVc13ol8",
        "colab": {}
      },
      "source": [
        "#Deciding optimal number of estimator trees\n",
        "xgb = XGBClassifier()\n",
        "best_params_xgb[\"n_estimators\"] = 1000\n",
        "xgb.set_params(**best_params_xgb)\n",
        "xgb.fit(X=X_train_es.drop(columns=[\"listing_id\"]), y=y_train_es.drop(columns=[\"listing_id\"]).values.ravel(), \n",
        "        eval_set=[(X_val_es, y_val_es.values.ravel())],\n",
        "        eval_metric= f1_eval,\n",
        "        early_stopping_rounds=20,\n",
        "        verbose=50\n",
        "       )\n",
        "best_params_xgb[\"n_estimators\"] = xgb.best_ntree_limit\n",
        "print (\"Best params:\")\n",
        "print (best_params_xgb)"
      ],
      "execution_count": 0,
      "outputs": []
    },
    {
      "cell_type": "code",
      "metadata": {
        "colab_type": "code",
        "id": "cs0bWeRQ4Cqu",
        "colab": {}
      },
      "source": [
        "# Training XGBoost using entire training dataset with optimal hyper parameters\n",
        "# I am using small sample of 100,000 rows to train XGBoost as larger sample size\n",
        "# containing million rows causes program to run out of memory\n",
        "gc.collect()\n",
        "\n",
        "X_train_sample_xgb = X_train.sample(100000, random_state=42)\n",
        "y_train_sample_xgb = y_train.loc[X_train_sample_xgb.index]\n",
        "\n",
        "xgb = XGBClassifier()\n",
        "xgb.set_params(**best_params_xgb)\n",
        "xgb.fit(X=X_train_sample_xgb.drop(columns=[\"listing_id\"]), y=y_train_sample_xgb.drop(columns=[\"listing_id\"]).values.ravel())\n",
        "\n",
        "pickle.dump(xgb, open(data_dir + '/xgb_best.pkl', 'wb'))"
      ],
      "execution_count": 0,
      "outputs": []
    },
    {
      "cell_type": "markdown",
      "metadata": {
        "colab_type": "text",
        "id": "C4sZ8a7qyFoA"
      },
      "source": [
        "### AdaBoost\n",
        "The execution of even one iteration of of this algorithm appears to be very slow on this dataset. I have just kept this here for reference in case I want to try it in future."
      ]
    },
    {
      "cell_type": "code",
      "metadata": {
        "colab_type": "code",
        "id": "J3dlw7gAyFoB",
        "colab": {}
      },
      "source": [
        "def objective_ada(params):\n",
        "    gc.collect()\n",
        "    clf = AdaBoostClassifier(DecisionTreeClassifier())\n",
        "    clf.set_params(**params)    \n",
        "    score = my_cross_val_score(clf, X=X_train_sample, y=y_train_sample, scoring=\"f1\")\n",
        "    print(params)\n",
        "    print(\"score: \" + str(score))    \n",
        "    return -score\n",
        "ada_param_space = {\n",
        "    \"base_estimator__max_depth\": hp.choice(\"base_estimator__max_depth\", range(4,11,1)),\n",
        "    \"n_estimators\": hp.choice(\"n_estimators\", range(10, 101, 10)),\n",
        "    \"random_state\": hp.choice(\"random_state\", [42])\n",
        "}\n",
        "start_time = time.time()\n",
        "best_params_ada = space_eval(ada_param_space, fmin(objective_ada, ada_param_space, algo=tpe.suggest, max_evals=25))\n",
        "elapsed_time = (time.time() - start_time) / 60\n",
        "print('Elapsed computation time: {:.3f} mins'.format(elapsed_time))\n",
        "print (\"Best params: \")\n",
        "print (best_params_ada)\n",
        "ada = AdaBoostClassifier(DecisionTreeClassifier())\n",
        "ada.set_params(**best_params_ada)\n",
        "ada.fit(X=X_train_sample.drop(columns=[\"listing_id\"]), y=y_train_sample.drop(columns=[\"listing_id\"]))\n",
        "pickle.dump(ada, open(data_dir + '/ada_best.pkl', 'wb'))"
      ],
      "execution_count": 0,
      "outputs": []
    },
    {
      "cell_type": "markdown",
      "metadata": {
        "colab_type": "text",
        "id": "oHoXclxZyFoM"
      },
      "source": [
        "## Support Vector Machine"
      ]
    },
    {
      "cell_type": "markdown",
      "metadata": {
        "colab_type": "text",
        "id": "dUFS1poxIizF"
      },
      "source": [
        "The execution of even one iteration of of this algorithm appears to be very slow on this dataset. I have just kept this here for reference in case I want to try it in future."
      ]
    },
    {
      "cell_type": "code",
      "metadata": {
        "colab_type": "code",
        "id": "z8g0jV5eyFoM",
        "colab": {}
      },
      "source": [
        "def objective_svm(params):\n",
        "    clf = SVC()\n",
        "    clf.set_params(**params)\n",
        "    score = my_cross_val_score(clf, X=X_train_sample, y=y_train_sample)\n",
        "    print(params)\n",
        "    print(\"score: \" + str(score))\n",
        "    return -score\n",
        "svm_param_space = {\n",
        "    \"kernel\": hp.choice(\"kernel\", ['rbf']),\n",
        "    \"gamma\": hp.choice(\"gamma\", [0.001, 0.005, 0.01, 0.1, 1]),\n",
        "    \"C\": hp.choice(\"C\", [1, 5, 10, 50, 100, 500, 1000]),\n",
        "    \"random_state\": hp.choice(\"random_state\", [42]),\n",
        "  \n",
        "}\n",
        "start_time = time.time()\n",
        "best_params_svm = space_eval(svm_param_space, fmin(objective_svm, svm_param_space, algo=tpe.suggest, max_evals=50))\n",
        "elapsed_time = (time.time() - start_time) / 60\n",
        "print('Elapsed computation time: {:.3f} mins'.format(elapsed_time))\n",
        "print (\"Best params: \")\n",
        "print (best_params_svm)\n",
        "svm = SVC()\n",
        "best_params_svm[\"probability\"] = True\n",
        "svm.set_params(**best_params_svm)\n",
        "svm.fit(X=X_train.drop(columns=[\"listing_id\"]), y=y_train.drop(columns=[\"listing_id\"]).values.ravel())\n",
        "pickle.dump(svm, open(data_dir + '/svm_best.pkl', 'wb'))"
      ],
      "execution_count": 0,
      "outputs": []
    },
    {
      "cell_type": "markdown",
      "metadata": {
        "colab_type": "text",
        "id": "gujejNkkyFoO"
      },
      "source": [
        "## Neural Network with Keras"
      ]
    },
    {
      "cell_type": "markdown",
      "metadata": {
        "colab_type": "text",
        "id": "yFJ8DoLOjYE_"
      },
      "source": [
        "For deciding number of hidden layers and number of neurons in each layer, I followed following rules of thumb suggested by some ML researches on discussion forums related to machine learning and statistics.\n",
        "- The number of hidden neurons should be between the size of the input layer and the size of the output layer.\n",
        "- The number of hidden neurons should be 2/3 the size of the input layer, plus the size of the output layer.\n",
        "- The number of hidden neurons should be less than twice the size of the input layer.  \n",
        "\n",
        "While these values can be a good starting point, the most optimal values for number and width of hidden layers can be decided by treating those numbers as hyperparameters to be tuned."
      ]
    },
    {
      "cell_type": "code",
      "metadata": {
        "colab_type": "code",
        "id": "FQiNCpwfyFoO",
        "colab": {}
      },
      "source": [
        "def make_model(n_features, n_hidden_layers, n_neurons_per_layer, reduction_in_num_of_neurons_per_layer, learn_rate):\n",
        "    model = Sequential()    \n",
        "    model.add(Dense(n_neurons_per_layer, input_shape=(n_features,), kernel_initializer='glorot_normal'))\n",
        "    model.add(Activation('relu'))\n",
        "    model.add(BatchNormalization())\n",
        "    model.add(Dropout(0.5))\n",
        "    \n",
        "    for i in range(1, n_hidden_layers):\n",
        "      model.add(Dense(int(n_neurons_per_layer * (1-reduction_in_num_of_neurons_per_layer)), kernel_initializer='glorot_normal'))\n",
        "      model.add(Activation('relu'))\n",
        "      model.add(BatchNormalization())\n",
        "      model.add(Dropout(0.5))\n",
        "    \n",
        "    model.add(Dense(1, activation='sigmoid'))\n",
        "    \n",
        "    model.compile(loss='binary_crossentropy',\n",
        "                optimizer=Adam(lr=learn_rate),\n",
        "                metrics=['acc'])\n",
        "    return model"
      ],
      "execution_count": 0,
      "outputs": []
    },
    {
      "cell_type": "markdown",
      "metadata": {
        "colab_type": "text",
        "id": "EmCjgWC57yn9"
      },
      "source": [
        "### Hyper Parameter Tuner for Deep Learning model\n",
        "\n"
      ]
    },
    {
      "cell_type": "code",
      "metadata": {
        "colab_type": "code",
        "id": "uTGBuaLD4Fks",
        "colab": {}
      },
      "source": [
        "class HyperTuner(object):\n",
        "    \n",
        "    def __init__(self, param_grid, cv=3):\n",
        "        self.param_grid = param_grid\n",
        "        self.best_score = -math.inf\n",
        "        self.best_estimator_scores_median = -math.inf\n",
        "        self.best_estimator_scores_mean = -math.inf\n",
        "        self.best_estimator_scores_stdev = -math.inf\n",
        "        self.best_params= None\n",
        "        self.cv = cv       \n",
        "    \n",
        "    def fit(self, X, y):\n",
        "        for param_point in self.get_param_grid_points():\n",
        "            print (\"Evaluating Parameter Values:\")\n",
        "            print (param_point)\n",
        "            def splits(array, k):\n",
        "                splits = []\n",
        "                \n",
        "                for i in range(k):\n",
        "                    split_length = math.ceil(len(array)/k)\n",
        "                    split = []\n",
        "                    for j in range(i * split_length, (i+1) * split_length):\n",
        "                        if j < len(array):\n",
        "                            split.append(array[j])\n",
        "                        \n",
        "                    splits.append(split)\n",
        "                cvs = []\n",
        "                for i, split in enumerate(splits):\n",
        "                    train = []\n",
        "                    for j, other_split in enumerate(splits):\n",
        "                        if i != j:\n",
        "                            train += other_split\n",
        "                    test = [] + split\n",
        "                    cvs.append((train, test))\n",
        "                return cvs\n",
        "                    \n",
        "            scores_for_point = []\n",
        "            n_features = len(X.drop(columns=[\"listing_id\"]).columns)\n",
        "            n_hidden_layers = param_point[\"n_hidden_layers\"]\n",
        "            n_neurons_per_layer = param_point[\"n_neurons_per_layer\"]\n",
        "            reduction_in_num_of_neurons_per_layer = param_point[\"reduction_in_num_of_neurons_per_layer\"]\n",
        "            learn_rate = param_point[\"learn_rate\"]\n",
        "\n",
        "            for l_train, l_test in splits(list(X[\"listing_id\"].unique()), k=self.cv):   \n",
        "                model = make_model(n_features, n_hidden_layers, n_neurons_per_layer, reduction_in_num_of_neurons_per_layer, learn_rate)             \n",
        "                X_train = X.query(\"listing_id in @l_train\").drop(columns=[\"listing_id\"])\n",
        "                X_test = X.query(\"listing_id in @l_test\").drop(columns=[\"listing_id\"])\n",
        "                y_train = y.query(\"listing_id in @l_train\").drop(columns=[\"listing_id\"])\n",
        "                y_test = y.query(\"listing_id in @l_test\").drop(columns=[\"listing_id\"])                \n",
        "                model.fit(X_train, y_train, validation_data=(X_test, y_test), epochs=50, verbose=0,\n",
        "                callbacks=[\n",
        "                  EarlyStopping(monitor='val_loss', verbose=0, patience=3),\n",
        "                  ModelCheckpoint(data_dir + '/nn_best_model_temp.h5', monitor='val_loss', verbose=0)\n",
        "                 ])\n",
        "                model.load_weights(data_dir + \"/nn_best_model_temp.h5\")\n",
        "                y_preds = model.predict_classes(X_test)\n",
        "                f1_score_1 = f1_score(y_test, y_preds, pos_label=True)\n",
        "                f1_score_0 = f1_score(y_test, y_preds, pos_label=False)\n",
        "                score = min([f1_score_1, f1_score_0])\n",
        "                scores_for_point.append(score)\n",
        "                gc.collect()\n",
        "                \n",
        "            median_score = np.median(scores_for_point)\n",
        "            \n",
        "            print (\"Done evaluation param point.\\nScore: \" + str(median_score))\n",
        "            print (\"-------------------------------------\")\n",
        "            if median_score > self.best_estimator_scores_median:\n",
        "                self.best_estimator_scores_mean = np.mean(scores_for_point)\n",
        "                self.best_estimator_scores_median = median_score\n",
        "                self.best_estimator_scores_stdev = np.std(scores_for_point)\n",
        "                self.best_params = param_point\n",
        "                self.best_score = self.best_estimator_scores_median\n",
        "            gc.collect()\n",
        "            \n",
        "        print (\"Finished evaluating all values for hyper parameters.\")\n",
        "        print (\"Best Parameter Values:\")\n",
        "        print (self.best_params)\n",
        "        print (\"Best Score (median of validation scores): \" + str(median_score))\n",
        "        gc.collect()\n",
        "            \n",
        "    def get_param_grid_points(self):\n",
        "        points = [{}]\n",
        "        for param, values in self.param_grid.items():\n",
        "            new_points = []\n",
        "            for point in points:\n",
        "                for value in values:                    \n",
        "                    new_point = point.copy()\n",
        "                    new_point[param]= value\n",
        "                    new_points.append(new_point)\n",
        "            points = new_points\n",
        "        return points\n",
        "    \n",
        "    def print_best(self):\n",
        "        print(\"Best score (median of validation scores):\")\n",
        "        print(self.best_score)\n",
        "        print(\"Best params:\")\n",
        "        print(self.best_params)\n",
        "        print(\"Best estimator scores mean:\")\n",
        "        print(self.best_estimator_scores_mean)\n",
        "        print(\"Best estimator scores stdev:\")\n",
        "        print(self.best_estimator_scores_stdev)"
      ],
      "execution_count": 0,
      "outputs": []
    },
    {
      "cell_type": "code",
      "metadata": {
        "colab_type": "code",
        "id": "BjswnzY7oHKO",
        "colab": {}
      },
      "source": [
        "gc.collect()"
      ],
      "execution_count": 0,
      "outputs": []
    },
    {
      "cell_type": "code",
      "metadata": {
        "colab_type": "code",
        "id": "ic6SwXikEkR8",
        "outputId": "9551d929-a084-40a4-8e95-6fe9c9d85279",
        "colab": {}
      },
      "source": [
        "# I have fixed hyper parameters to save time and memory consumption\n",
        "# they can be tested by specifying values in the range as shown in comments\n",
        "\n",
        "hyper_tuner = HyperTuner(param_grid={\n",
        "    \"n_hidden_layers\": [3,5,7], # [3,4,5]\n",
        "    \"n_neurons_per_layer\": [100, 500], # [50, 100, 150, 200]\n",
        "    \"reduction_in_num_of_neurons_per_layer\": [0.2, 0.5], # [0, 0.1, 0.2, 0.5]\n",
        "    \"learn_rate\": [0.01] # [0.001, 0.01, 0.1]\n",
        "}, cv=3)\n",
        "hyper_tuner.fit(X_train, y_train)"
      ],
      "execution_count": 0,
      "outputs": [
        {
          "output_type": "stream",
          "text": [
            "Evaluating Parameter Values:\n",
            "{'n_hidden_layers': 3, 'n_neurons_per_layer': 100, 'reduction_in_num_of_neurons_per_layer': 0.2, 'learn_rate': 0.01}\n",
            "Done evaluation param point.\n",
            "Score: 0.1502380851154288\n",
            "-------------------------------------\n",
            "Evaluating Parameter Values:\n",
            "{'n_hidden_layers': 5, 'n_neurons_per_layer': 100, 'reduction_in_num_of_neurons_per_layer': 0.2, 'learn_rate': 0.01}\n",
            "Done evaluation param point.\n",
            "Score: 0.5409145039033704\n",
            "-------------------------------------\n",
            "Evaluating Parameter Values:\n",
            "{'n_hidden_layers': 7, 'n_neurons_per_layer': 100, 'reduction_in_num_of_neurons_per_layer': 0.2, 'learn_rate': 0.01}\n",
            "Done evaluation param point.\n",
            "Score: 0.46514626249892554\n",
            "-------------------------------------\n",
            "Finished evaluating all values for hyper parameters.\n",
            "Best Parameter Values:\n",
            "{'n_hidden_layers': 5, 'n_neurons_per_layer': 100, 'reduction_in_num_of_neurons_per_layer': 0.2, 'learn_rate': 0.01}\n",
            "Best Score (median of validation scores): 0.46514626249892554\n"
          ],
          "name": "stdout"
        }
      ]
    },
    {
      "cell_type": "code",
      "metadata": {
        "colab_type": "code",
        "id": "RZB2dv4-SG0i",
        "outputId": "d82de78a-81e5-4dcb-bb85-bed820d90f2c",
        "colab": {}
      },
      "source": [
        "hyper_tuner.print_best()"
      ],
      "execution_count": 0,
      "outputs": [
        {
          "output_type": "stream",
          "text": [
            "Best score (median of validation scores):\n",
            "0.5409145039033704\n",
            "Best params:\n",
            "{'n_hidden_layers': 5, 'n_neurons_per_layer': 100, 'reduction_in_num_of_neurons_per_layer': 0.2, 'learn_rate': 0.01}\n",
            "Best estimator scores mean:\n",
            "0.39701294453662844\n",
            "Best estimator scores stdev:\n",
            "0.21361699787078586\n"
          ],
          "name": "stdout"
        }
      ]
    },
    {
      "cell_type": "markdown",
      "metadata": {
        "colab_type": "text",
        "id": "pJ-_OdCQEOV8"
      },
      "source": [
        "Preparing the best model with optimal values of hyper parameters.\n",
        "\n",
        "- I have used Early stopping to prevent the neural network overfit to the training data while being trained on same data through multiple epochs.  \n",
        "- I have also used ModelCheckpoint that saves the weights of last best performing model, so that I can set early stopping patience to greater zero and it allows a few epochs to be executed to confirm that the performance of model on unseen data is unlikely to improve by running any more epochs."
      ]
    },
    {
      "cell_type": "code",
      "metadata": {
        "colab_type": "code",
        "id": "f4mSJXo9EJUi",
        "outputId": "991245c5-fe27-467a-b933-6a3ef754c5b7",
        "colab": {
          "base_uri": "https://localhost:8080/",
          "height": 1000
        }
      },
      "source": [
        "n_features = len(X_train.drop(columns=[\"listing_id\"]).columns)\n",
        "n_hidden_layers = hyper_tuner.best_params[\"n_hidden_layers\"]\n",
        "n_neurons_per_layer = hyper_tuner.best_params[\"n_neurons_per_layer\"]\n",
        "reduction_in_num_of_neurons_per_layer = hyper_tuner.best_params[\"reduction_in_num_of_neurons_per_layer\"]\n",
        "learn_rate = hyper_tuner.best_params[\"learn_rate\"]\n",
        "nn_model = make_model(n_features, n_hidden_layers, n_neurons_per_layer, reduction_in_num_of_neurons_per_layer, learn_rate)\n",
        "validation_listing_ids = list(X_train[[\"listing_id\"]].drop_duplicates([\"listing_id\"]).sample(frac=0.1)[\"listing_id\"])\n",
        "X_val_nn = X_train.query(\"listing_id in @validation_listing_ids\").drop(columns=[\"listing_id\"])\n",
        "y_val_nn = y_train.query(\"listing_id in @validation_listing_ids\").drop(columns=[\"listing_id\"])\n",
        "X_train_nn = X_train.query(\"listing_id not in @validation_listing_ids\").drop(columns=[\"listing_id\"])\n",
        "y_train_nn = y_train.query(\"listing_id not in @validation_listing_ids\").drop(columns=[\"listing_id\"])       \n",
        "nn_model.fit(X_train_nn, y_train_nn, validation_data=(X_val_nn, y_val_nn), epochs=50, verbose=1,\n",
        "        callbacks=[\n",
        "          EarlyStopping(monitor='val_loss', verbose=1, patience=5),\n",
        "          ModelCheckpoint(data_dir + '/nn_best_model_cv.h5', monitor='val_loss', verbose=1)\n",
        "        ])"
      ],
      "execution_count": 0,
      "outputs": [
        {
          "output_type": "stream",
          "text": [
            "WARNING:tensorflow:From /usr/local/lib/python3.6/dist-packages/keras/backend/tensorflow_backend.py:66: The name tf.get_default_graph is deprecated. Please use tf.compat.v1.get_default_graph instead.\n",
            "\n",
            "WARNING:tensorflow:From /usr/local/lib/python3.6/dist-packages/keras/backend/tensorflow_backend.py:541: The name tf.placeholder is deprecated. Please use tf.compat.v1.placeholder instead.\n",
            "\n",
            "WARNING:tensorflow:From /usr/local/lib/python3.6/dist-packages/keras/backend/tensorflow_backend.py:4479: The name tf.truncated_normal is deprecated. Please use tf.random.truncated_normal instead.\n",
            "\n",
            "WARNING:tensorflow:From /usr/local/lib/python3.6/dist-packages/keras/backend/tensorflow_backend.py:148: The name tf.placeholder_with_default is deprecated. Please use tf.compat.v1.placeholder_with_default instead.\n",
            "\n",
            "WARNING:tensorflow:From /usr/local/lib/python3.6/dist-packages/keras/backend/tensorflow_backend.py:3733: calling dropout (from tensorflow.python.ops.nn_ops) with keep_prob is deprecated and will be removed in a future version.\n",
            "Instructions for updating:\n",
            "Please use `rate` instead of `keep_prob`. Rate should be set to `rate = 1 - keep_prob`.\n",
            "WARNING:tensorflow:From /usr/local/lib/python3.6/dist-packages/keras/backend/tensorflow_backend.py:4432: The name tf.random_uniform is deprecated. Please use tf.random.uniform instead.\n",
            "\n",
            "WARNING:tensorflow:From /usr/local/lib/python3.6/dist-packages/keras/optimizers.py:793: The name tf.train.Optimizer is deprecated. Please use tf.compat.v1.train.Optimizer instead.\n",
            "\n",
            "WARNING:tensorflow:From /usr/local/lib/python3.6/dist-packages/tensorflow/python/ops/nn_impl.py:180: add_dispatch_support.<locals>.wrapper (from tensorflow.python.ops.array_ops) is deprecated and will be removed in a future version.\n",
            "Instructions for updating:\n",
            "Use tf.where in 2.0, which has the same broadcast rule as np.where\n",
            "Train on 801540 samples, validate on 89060 samples\n",
            "Epoch 1/50\n",
            "801540/801540 [==============================] - 629s 785us/step - loss: 0.6457 - acc: 0.6305 - val_loss: 0.7321 - val_acc: 0.5566\n",
            "\n",
            "Epoch 00001: saving model to /content/gdrive/My Drive/Data Scientist/airbnb/data/boston/nn_best_model_cv.h5\n",
            "Epoch 2/50\n",
            "801540/801540 [==============================] - 636s 794us/step - loss: 0.6064 - acc: 0.6729 - val_loss: 1.3314 - val_acc: 0.5189\n",
            "\n",
            "Epoch 00002: saving model to /content/gdrive/My Drive/Data Scientist/airbnb/data/boston/nn_best_model_cv.h5\n",
            "Epoch 3/50\n",
            "801540/801540 [==============================] - 635s 793us/step - loss: 0.5941 - acc: 0.6809 - val_loss: 0.6687 - val_acc: 0.5769\n",
            "\n",
            "Epoch 00003: saving model to /content/gdrive/My Drive/Data Scientist/airbnb/data/boston/nn_best_model_cv.h5\n",
            "Epoch 4/50\n",
            "801540/801540 [==============================] - 624s 778us/step - loss: 0.5850 - acc: 0.6877 - val_loss: 0.6432 - val_acc: 0.6356\n",
            "\n",
            "Epoch 00004: saving model to /content/gdrive/My Drive/Data Scientist/airbnb/data/boston/nn_best_model_cv.h5\n",
            "Epoch 5/50\n",
            "801540/801540 [==============================] - 633s 790us/step - loss: 0.5776 - acc: 0.6933 - val_loss: 0.6409 - val_acc: 0.6167\n",
            "\n",
            "Epoch 00005: saving model to /content/gdrive/My Drive/Data Scientist/airbnb/data/boston/nn_best_model_cv.h5\n",
            "Epoch 6/50\n",
            "801540/801540 [==============================] - 628s 783us/step - loss: 0.5713 - acc: 0.6987 - val_loss: 0.6341 - val_acc: 0.6588\n",
            "\n",
            "Epoch 00006: saving model to /content/gdrive/My Drive/Data Scientist/airbnb/data/boston/nn_best_model_cv.h5\n",
            "Epoch 7/50\n",
            "801540/801540 [==============================] - 628s 784us/step - loss: 0.5689 - acc: 0.7011 - val_loss: 0.6571 - val_acc: 0.6314\n",
            "\n",
            "Epoch 00007: saving model to /content/gdrive/My Drive/Data Scientist/airbnb/data/boston/nn_best_model_cv.h5\n",
            "Epoch 8/50\n",
            "801540/801540 [==============================] - 630s 786us/step - loss: 0.5648 - acc: 0.7050 - val_loss: 0.9766 - val_acc: 0.5651\n",
            "\n",
            "Epoch 00008: saving model to /content/gdrive/My Drive/Data Scientist/airbnb/data/boston/nn_best_model_cv.h5\n",
            "Epoch 9/50\n",
            "801540/801540 [==============================] - 632s 789us/step - loss: 0.5637 - acc: 0.7069 - val_loss: 0.6370 - val_acc: 0.6277\n",
            "\n",
            "Epoch 00009: saving model to /content/gdrive/My Drive/Data Scientist/airbnb/data/boston/nn_best_model_cv.h5\n",
            "Epoch 10/50\n",
            "801540/801540 [==============================] - 641s 800us/step - loss: 0.5623 - acc: 0.7081 - val_loss: 0.7840 - val_acc: 0.5597\n",
            "\n",
            "Epoch 00010: saving model to /content/gdrive/My Drive/Data Scientist/airbnb/data/boston/nn_best_model_cv.h5\n",
            "Epoch 11/50\n",
            "801540/801540 [==============================] - 627s 782us/step - loss: 0.5571 - acc: 0.7122 - val_loss: 1.7161 - val_acc: 0.4838\n",
            "\n",
            "Epoch 00011: saving model to /content/gdrive/My Drive/Data Scientist/airbnb/data/boston/nn_best_model_cv.h5\n",
            "Epoch 00011: early stopping\n"
          ],
          "name": "stdout"
        },
        {
          "output_type": "execute_result",
          "data": {
            "text/plain": [
              "<keras.callbacks.History at 0x7f9302c80278>"
            ]
          },
          "metadata": {
            "tags": []
          },
          "execution_count": 25
        }
      ]
    },
    {
      "cell_type": "code",
      "metadata": {
        "colab_type": "code",
        "id": "L3x72Fb-HgA9",
        "outputId": "d0854d44-eee0-45ea-bd7d-c56134c83f6c",
        "colab": {
          "base_uri": "https://localhost:8080/",
          "height": 164
        }
      },
      "source": [
        "nn_model.load_weights(data_dir + '/nn_best_model_cv.h5')"
      ],
      "execution_count": 0,
      "outputs": [
        {
          "output_type": "error",
          "ename": "NameError",
          "evalue": "ignored",
          "traceback": [
            "\u001b[0;31m---------------------------------------------------------------------------\u001b[0m",
            "\u001b[0;31mNameError\u001b[0m                                 Traceback (most recent call last)",
            "\u001b[0;32m<ipython-input-1-03b35dd7bb99>\u001b[0m in \u001b[0;36m<module>\u001b[0;34m()\u001b[0m\n\u001b[0;32m----> 1\u001b[0;31m \u001b[0mnn_model\u001b[0m\u001b[0;34m.\u001b[0m\u001b[0mload_weights\u001b[0m\u001b[0;34m(\u001b[0m\u001b[0mdata_dir\u001b[0m \u001b[0;34m+\u001b[0m \u001b[0;34m'/nn_best_model_cv.h5'\u001b[0m\u001b[0;34m)\u001b[0m\u001b[0;34m\u001b[0m\u001b[0;34m\u001b[0m\u001b[0m\n\u001b[0m",
            "\u001b[0;31mNameError\u001b[0m: name 'nn_model' is not defined"
          ]
        }
      ]
    },
    {
      "cell_type": "markdown",
      "metadata": {
        "colab_type": "text",
        "id": "TaYcH-S3yFof"
      },
      "source": [
        "## Prediction & Model Evaluation"
      ]
    },
    {
      "cell_type": "code",
      "metadata": {
        "colab_type": "code",
        "id": "GlqBxISCyFof",
        "colab": {}
      },
      "source": [
        "X_test = pd.read_csv(data_dir + \"/X_test.csv\")\n",
        "y_test = pd.read_csv(data_dir + \"/y_test.csv\")\n",
        "garbage = gc.collect()"
      ],
      "execution_count": 0,
      "outputs": []
    },
    {
      "cell_type": "markdown",
      "metadata": {
        "colab_type": "text",
        "id": "WK8LcQkCY8Tv"
      },
      "source": [
        "### Evaluating Neural Network"
      ]
    },
    {
      "cell_type": "code",
      "metadata": {
        "colab_type": "code",
        "id": "z-K5fkQ_yFom",
        "outputId": "b2a54922-66cc-4a7d-c52b-88dc68706073",
        "colab": {
          "base_uri": "https://localhost:8080/",
          "height": 343
        }
      },
      "source": [
        "nn_model = load_model(data_dir + \"/nn_best_model_cv.h5\")"
      ],
      "execution_count": 0,
      "outputs": [
        {
          "output_type": "stream",
          "text": [
            "WARNING:tensorflow:From /usr/local/lib/python3.6/dist-packages/keras/backend/tensorflow_backend.py:541: The name tf.placeholder is deprecated. Please use tf.compat.v1.placeholder instead.\n",
            "\n",
            "WARNING:tensorflow:From /usr/local/lib/python3.6/dist-packages/keras/backend/tensorflow_backend.py:4479: The name tf.truncated_normal is deprecated. Please use tf.random.truncated_normal instead.\n",
            "\n",
            "WARNING:tensorflow:From /usr/local/lib/python3.6/dist-packages/keras/backend/tensorflow_backend.py:66: The name tf.get_default_graph is deprecated. Please use tf.compat.v1.get_default_graph instead.\n",
            "\n",
            "WARNING:tensorflow:From /usr/local/lib/python3.6/dist-packages/keras/backend/tensorflow_backend.py:148: The name tf.placeholder_with_default is deprecated. Please use tf.compat.v1.placeholder_with_default instead.\n",
            "\n",
            "WARNING:tensorflow:From /usr/local/lib/python3.6/dist-packages/keras/backend/tensorflow_backend.py:3733: calling dropout (from tensorflow.python.ops.nn_ops) with keep_prob is deprecated and will be removed in a future version.\n",
            "Instructions for updating:\n",
            "Please use `rate` instead of `keep_prob`. Rate should be set to `rate = 1 - keep_prob`.\n",
            "WARNING:tensorflow:From /usr/local/lib/python3.6/dist-packages/keras/backend/tensorflow_backend.py:4432: The name tf.random_uniform is deprecated. Please use tf.random.uniform instead.\n",
            "\n",
            "WARNING:tensorflow:From /usr/local/lib/python3.6/dist-packages/keras/optimizers.py:793: The name tf.train.Optimizer is deprecated. Please use tf.compat.v1.train.Optimizer instead.\n",
            "\n",
            "WARNING:tensorflow:From /usr/local/lib/python3.6/dist-packages/tensorflow/python/ops/nn_impl.py:180: add_dispatch_support.<locals>.wrapper (from tensorflow.python.ops.array_ops) is deprecated and will be removed in a future version.\n",
            "Instructions for updating:\n",
            "Use tf.where in 2.0, which has the same broadcast rule as np.where\n"
          ],
          "name": "stdout"
        }
      ]
    },
    {
      "cell_type": "code",
      "metadata": {
        "colab_type": "code",
        "id": "gGvXwKHuyFoq",
        "outputId": "46c40f38-efe7-47e5-e825-8574ab7b3678",
        "colab": {
          "base_uri": "https://localhost:8080/",
          "height": 51
        }
      },
      "source": [
        "nn_model.evaluate(x=X_test,y=y_test)"
      ],
      "execution_count": 0,
      "outputs": [
        {
          "output_type": "stream",
          "text": [
            "381790/381790 [==============================] - 44s 115us/step\n"
          ],
          "name": "stdout"
        },
        {
          "output_type": "execute_result",
          "data": {
            "text/plain": [
              "[1.7062076889896705, 0.4929909112339244]"
            ]
          },
          "metadata": {
            "tags": []
          },
          "execution_count": 20
        }
      ]
    },
    {
      "cell_type": "code",
      "metadata": {
        "colab_type": "code",
        "id": "5Df89mm0yFot",
        "outputId": "30beb036-3621-413d-f5cb-65d35f0a8913",
        "colab": {
          "base_uri": "https://localhost:8080/",
          "height": 34
        }
      },
      "source": [
        "nn_model.metrics_names"
      ],
      "execution_count": 0,
      "outputs": [
        {
          "output_type": "execute_result",
          "data": {
            "text/plain": [
              "['loss', 'acc']"
            ]
          },
          "metadata": {
            "tags": []
          },
          "execution_count": 21
        }
      ]
    },
    {
      "cell_type": "code",
      "metadata": {
        "colab_type": "code",
        "id": "OgltpwJnyFov",
        "colab": {}
      },
      "source": [
        "y_preds_nn = nn_model.predict_classes(X_test)"
      ],
      "execution_count": 0,
      "outputs": []
    },
    {
      "cell_type": "code",
      "metadata": {
        "colab_type": "code",
        "id": "zyehxpAeyFoy",
        "outputId": "3e9869a6-e6eb-4c14-f0da-a2374974a097",
        "colab": {
          "base_uri": "https://localhost:8080/",
          "height": 34
        }
      },
      "source": [
        "f1 = f1_score(y_test, y_preds_nn, average=\"macro\")\n",
        "print (\"f1-score: \" + str(f1))"
      ],
      "execution_count": 0,
      "outputs": [
        {
          "output_type": "stream",
          "text": [
            "f1-score: 0.3332499128322169\n"
          ],
          "name": "stdout"
        }
      ]
    },
    {
      "cell_type": "code",
      "metadata": {
        "colab_type": "code",
        "id": "iiWq77uQcZtl",
        "outputId": "a0678ce2-2d62-4820-a097-924fc14ad8b1",
        "colab": {
          "base_uri": "https://localhost:8080/",
          "height": 102
        }
      },
      "source": [
        "nn_model.predict(X_test.iloc[0:5, :])"
      ],
      "execution_count": 0,
      "outputs": [
        {
          "output_type": "execute_result",
          "data": {
            "text/plain": [
              "array([[0.69107455],\n",
              "       [0.8719443 ],\n",
              "       [0.84361106],\n",
              "       [0.9132275 ],\n",
              "       [0.888119  ]], dtype=float32)"
            ]
          },
          "metadata": {
            "tags": []
          },
          "execution_count": 24
        }
      ]
    },
    {
      "cell_type": "markdown",
      "metadata": {
        "colab_type": "text",
        "id": "tr87BMLX9BHg"
      },
      "source": [
        "### Evaluating Learners"
      ]
    },
    {
      "cell_type": "code",
      "metadata": {
        "colab_type": "code",
        "id": "s5sdzLiPyFok",
        "colab": {}
      },
      "source": [
        "models = {\n",
        "    \"Extreme Gradient Boost\": data_dir + \"/xgb_best.pkl\",\n",
        "    \"Single Decision Tree\": data_dir + \"/dtc_best.pkl\",\n",
        "    #     \"Gradient Boost\": data_dir + \"/gb_best.pkl\",\n",
        "    #     \"Ada Boost\": data_dir + \"/ada_best.pkl\",\n",
        "    #     \"SVM\": data_dir + \"/svm_best.pkl\",\n",
        "}"
      ],
      "execution_count": 0,
      "outputs": []
    },
    {
      "cell_type": "code",
      "metadata": {
        "colab_type": "code",
        "id": "pFWr0-GSrvzl",
        "colab": {}
      },
      "source": [
        "for model_name in models.keys():\n",
        "    model_file_name = models[model_name]\n",
        "    model = pickle.load(open(model_file_name, 'rb'))\n",
        "    y_preds = model.predict(X_test)\n",
        "    y_preds_proba = model.predict_proba(X_test)\n",
        "    f1 = f1_score(y_test, y_preds, average=\"macro\")\n",
        "    logloss = log_loss(y_test, y_preds_proba)\n",
        "    print (\"Model: \" + model_name + \"\\nParams: \" + str(model.get_params()) + \"\\nf1-score: \" + str(f1) + \" log loss: \" + str(logloss) + \"\\n\")\n",
        "    gc.collect()"
      ],
      "execution_count": 0,
      "outputs": []
    },
    {
      "cell_type": "markdown",
      "metadata": {
        "id": "AgHCCVJ6k7ur",
        "colab_type": "text"
      },
      "source": [
        "## Model Interpretation"
      ]
    },
    {
      "cell_type": "code",
      "metadata": {
        "colab_type": "code",
        "id": "ttOFDaSryFod",
        "colab": {}
      },
      "source": [
        "import pprint\n",
        "pp = pprint.PrettyPrinter(indent=4)\n",
        "def print_top10(feature_names, clf, class_labels):\n",
        "    \"\"\"Prints features with the highest coefficient values, per class\"\"\"\n",
        "    pp.pprint(sorted(list(zip(feature_names, clf.feature_importances_)), key=lambda x: x[1], \n",
        "reverse=True)[:20])\n",
        "\n",
        "for model_name in models.keys():\n",
        "    model_file_name = models[model_name]\n",
        "    model = pickle.load(open(model_file_name, 'rb'))\n",
        "    print(\"\\nModel: \" + model_name)\n",
        "    print(\"Best Params: \")\n",
        "    pp.pprint(model.get_params())\n",
        "    print(\"Top 10 Feature importances: \")\n",
        "    print_top10(X_train_sample.columns, model, model.classes_)"
      ],
      "execution_count": 0,
      "outputs": []
    },
    {
      "cell_type": "markdown",
      "metadata": {
        "colab_type": "text",
        "id": "TcuK3o33yFo0"
      },
      "source": [
        "## Tuning the booking price of property"
      ]
    },
    {
      "cell_type": "markdown",
      "metadata": {
        "colab_type": "text",
        "id": "Z8JHJIIoY1bG"
      },
      "source": [
        "### Aim: Maximizing expected revneue from individual properties"
      ]
    },
    {
      "cell_type": "markdown",
      "metadata": {
        "colab_type": "text",
        "id": "3xxUHQRyyFo1"
      },
      "source": [
        "Here I tune the booking price of the property by looking at the probability of the property being booked at given price. If the probability is too low, I try increasing it by setting the price the of that property slightly low and see if it increases the probability. My goal is to maximize the profit of the company by maximizing expected revneue from individual properties. "
      ]
    },
    {
      "cell_type": "markdown",
      "metadata": {
        "colab_type": "text",
        "id": "PJyc81PlyFo4"
      },
      "source": [
        "As per the economic principle of price elasticity of demand, the quantity of a product demanded should be varying with changes in price like this curve if the demanded quantity is elastic to the price."
      ]
    },
    {
      "cell_type": "markdown",
      "metadata": {
        "colab_type": "text",
        "id": "Y9UGvjevyFo4"
      },
      "source": [
        "![Price Elasticity of Demand Curve](http://wikieducator.org/images/0/0f/Ed1.jpeg)"
      ]
    },
    {
      "cell_type": "markdown",
      "metadata": {
        "colab_type": "text",
        "id": "Um-wOQMpyFo5"
      },
      "source": [
        "In our case, the quantity of demand synonymous to the probability of the property being booked and the price is the booking price of the property. Let's try and check if some randomly selected properties from our dataset demonstrates price elasticity for probability of being booked."
      ]
    },
    {
      "cell_type": "code",
      "metadata": {
        "colab_type": "code",
        "id": "kUAoK8EPyFo3",
        "colab": {}
      },
      "source": [
        "import decimal\n",
        "\n",
        "def float_range(start, stop, step):\n",
        "    start = decimal.Decimal(start)\n",
        "    stop = decimal.Decimal(stop)\n",
        "    step = decimal.Decimal(step)\n",
        "    while (start < stop):\n",
        "        yield float(start)\n",
        "        start += step"
      ],
      "execution_count": 0,
      "outputs": []
    },
    {
      "cell_type": "markdown",
      "metadata": {
        "colab_type": "text",
        "id": "o33JjjeTyFo5"
      },
      "source": [
        "### Methods to calculate probability of a property being booked at given normalized price and market condition\n"
      ]
    },
    {
      "cell_type": "code",
      "metadata": {
        "colab_type": "code",
        "id": "bd8TYlILEQhh",
        "outputId": "bbf386e8-6d10-41a6-fc2b-99122dbb99b9",
        "colab": {
          "base_uri": "https://localhost:8080/",
          "height": 343
        }
      },
      "source": [
        "nn_model = load_model(data_dir + \"/nn_best_model_cv.h5\")\n",
        "def calc_prob_booked_nn(row):\n",
        "  df = pd.DataFrame(data=row.to_dict(), index=[0])\n",
        "  return 1 - nn_model.predict(df)[0][0]"
      ],
      "execution_count": 0,
      "outputs": [
        {
          "output_type": "stream",
          "text": [
            "WARNING:tensorflow:From /usr/local/lib/python3.6/dist-packages/keras/backend/tensorflow_backend.py:541: The name tf.placeholder is deprecated. Please use tf.compat.v1.placeholder instead.\n",
            "\n",
            "WARNING:tensorflow:From /usr/local/lib/python3.6/dist-packages/keras/backend/tensorflow_backend.py:4479: The name tf.truncated_normal is deprecated. Please use tf.random.truncated_normal instead.\n",
            "\n",
            "WARNING:tensorflow:From /usr/local/lib/python3.6/dist-packages/keras/backend/tensorflow_backend.py:66: The name tf.get_default_graph is deprecated. Please use tf.compat.v1.get_default_graph instead.\n",
            "\n",
            "WARNING:tensorflow:From /usr/local/lib/python3.6/dist-packages/keras/backend/tensorflow_backend.py:148: The name tf.placeholder_with_default is deprecated. Please use tf.compat.v1.placeholder_with_default instead.\n",
            "\n",
            "WARNING:tensorflow:From /usr/local/lib/python3.6/dist-packages/keras/backend/tensorflow_backend.py:3733: calling dropout (from tensorflow.python.ops.nn_ops) with keep_prob is deprecated and will be removed in a future version.\n",
            "Instructions for updating:\n",
            "Please use `rate` instead of `keep_prob`. Rate should be set to `rate = 1 - keep_prob`.\n",
            "WARNING:tensorflow:From /usr/local/lib/python3.6/dist-packages/keras/backend/tensorflow_backend.py:4432: The name tf.random_uniform is deprecated. Please use tf.random.uniform instead.\n",
            "\n",
            "WARNING:tensorflow:From /usr/local/lib/python3.6/dist-packages/keras/optimizers.py:793: The name tf.train.Optimizer is deprecated. Please use tf.compat.v1.train.Optimizer instead.\n",
            "\n",
            "WARNING:tensorflow:From /usr/local/lib/python3.6/dist-packages/tensorflow/python/ops/nn_impl.py:180: add_dispatch_support.<locals>.wrapper (from tensorflow.python.ops.array_ops) is deprecated and will be removed in a future version.\n",
            "Instructions for updating:\n",
            "Use tf.where in 2.0, which has the same broadcast rule as np.where\n"
          ],
          "name": "stdout"
        }
      ]
    },
    {
      "cell_type": "code",
      "metadata": {
        "colab_type": "code",
        "id": "ulKZakl5Ec7_",
        "colab": {}
      },
      "source": [
        "xgb_clf = pickle.load(open(data_dir + \"/xgb_best.pkl\", 'rb'))\n",
        "def calc_prob_booked_xgb(row):\n",
        "  df = pd.DataFrame(data=row.to_dict(), index=[0])  \n",
        "  return xgb_clf.predict_proba(df)[0][0]"
      ],
      "execution_count": 0,
      "outputs": []
    },
    {
      "cell_type": "code",
      "metadata": {
        "colab_type": "code",
        "id": "FQwZ5aLsITpG",
        "colab": {}
      },
      "source": [
        "dtc_clf = pickle.load(open(data_dir + \"/dtc_best.pkl\", 'rb'))\n",
        "def calc_prob_booked_dtc(row):\n",
        "  df = pd.DataFrame(data=row.to_dict(), index=[0])  \n",
        "  return dtc_clf.predict_proba(df)[0][0]"
      ],
      "execution_count": 0,
      "outputs": []
    },
    {
      "cell_type": "code",
      "metadata": {
        "colab_type": "code",
        "id": "bh37bojhIYn5",
        "colab": {}
      },
      "source": [
        "# gb_clf = pickle.load(open(data_dir + \"/gb_best.pkl\", 'rb'))\n",
        "# def calc_prob_booked_gb(row):\n",
        "#   df = pd.DataFrame(data=row.to_dict(), index=[0])\n",
        "#   return gb_clf.predict_proba(df)[0][0]"
      ],
      "execution_count": 0,
      "outputs": []
    },
    {
      "cell_type": "code",
      "metadata": {
        "colab_type": "code",
        "id": "JMGvhTkGMpkz",
        "colab": {}
      },
      "source": [
        "# ada_clf = pickle.load(open(data_dir + \"/ada_best.pkl\", 'rb'))\n",
        "# def calc_prob_booked_ada(row):\n",
        "#   df = pd.DataFrame(data=row.to_dict(), index=[0])\n",
        "#   return ada_clf.predict_proba(df)[0][0]"
      ],
      "execution_count": 0,
      "outputs": []
    },
    {
      "cell_type": "markdown",
      "metadata": {
        "colab_type": "text",
        "id": "eTHWeAecuAR6"
      },
      "source": [
        "### Price Elasticity for probability of a property getting booked"
      ]
    },
    {
      "cell_type": "code",
      "metadata": {
        "colab_type": "code",
        "id": "idJ1N5k4yFo8",
        "colab": {}
      },
      "source": [
        "def draw_price_elasticity_curves(calc_prob_booked):\n",
        "  fig, ax = plt.subplots(3, 2, figsize=(15,10))\n",
        "  sample_listings = [listing for (index, listing) in X_test.sample(6, random_state=42).copy().iterrows()]\n",
        "  percentage_to_check = 20\n",
        "  for plot_row in range(0,3):\n",
        "    for plot_col in range(0,2):  \n",
        "      listing = sample_listings.pop()\n",
        "      current_normalized_price = listing[\"price_calendar_normalized\"]\n",
        "      current_price = int(round(listing[\"price_calendar_normalized\"] * listing[\"total_env_prices\"],0))\n",
        "      price_upper = current_normalized_price * (1 + percentage_to_check/100)\n",
        "      price_lower = current_normalized_price * (1 - percentage_to_check/100)\n",
        "      normalized_price_range = list(float_range(str(price_lower), str(price_upper), str((price_upper - price_lower)/50)))\n",
        "\n",
        "      probs = []\n",
        "      absolute_prices = [listing[\"total_env_prices\"] * normalized_price for normalized_price in normalized_price_range]\n",
        "\n",
        "      for price in normalized_price_range:\n",
        "          listing[\"price_calendar_normalized\"] = price\n",
        "          prob = calc_prob_booked(listing)\n",
        "          probs.append(prob)\n",
        "\n",
        "      price_elasticity_curve, = ax[plot_row, plot_col].plot(absolute_prices, probs)\n",
        "      ax[plot_row, plot_col].set_ylabel('Probability of property being booked')\n",
        "      ax[plot_row, plot_col].set_xlabel('Booking price of property')\n",
        "      current_price_line = ax[plot_row, plot_col].axvline(x=current_price, color='g')   \n",
        "\n",
        "\n",
        "      ax[plot_row, plot_col].legend((current_price_line, ), ('Current price = ' +str(current_price), ))\n",
        "\n",
        "  plt.show()"
      ],
      "execution_count": 0,
      "outputs": []
    },
    {
      "cell_type": "code",
      "metadata": {
        "id": "1AmaIeHh2pog",
        "colab_type": "code",
        "colab": {}
      },
      "source": [
        ""
      ],
      "execution_count": 0,
      "outputs": []
    },
    {
      "cell_type": "markdown",
      "metadata": {
        "colab_type": "text",
        "id": "-cerGbSpImd4"
      },
      "source": [
        "### Price elasticity for probability of booking learnt by Neural Network"
      ]
    },
    {
      "cell_type": "code",
      "metadata": {
        "colab_type": "code",
        "id": "HsBY5ulTISHM",
        "outputId": "1b1dc108-e4cb-468f-c8e1-ce4988c7d5ee",
        "colab": {
          "base_uri": "https://localhost:8080/",
          "height": 617
        }
      },
      "source": [
        "draw_price_elasticity_curves(calc_prob_booked_nn)"
      ],
      "execution_count": 0,
      "outputs": [
        {
          "output_type": "display_data",
          "data": {
            "image/png": "[encoded data removed]",
            "text/plain": [
              "<Figure size 1080x720 with 6 Axes>"
            ]
          },
          "metadata": {
            "tags": []
          }
        }
      ]
    },
    {
      "cell_type": "markdown",
      "metadata": {
        "colab_type": "text",
        "id": "kDex2VuiyFo-"
      },
      "source": [
        "As we can see above, choosing some random properties from dataset and plotting relationship between normalized price and probability of getting the property booked shows that they demonstrate price elasticity for probability of the property being booked.\n",
        "\n",
        "Although the price elasticity curve generated using Neural Network is smooth, it represents that probability of property getting booked is inelastic towards price in very large price range. Such model does not very well represent the real world scenario where demand of property can be inelastic to price within only a small range of price.\n",
        "\n",
        "In my first iteration of project, I tried using absolute price to evaluate the relationship between probability of property being booked and the price. At that time, I the plot did not follow the price elasticity curve.\n",
        "\n",
        "One of the assumption in the price elasticity curve is that all the other factors in the market should be held relatively constant and only the price of the property should be varying. Only then the relation between booking probability and price will follow the popular price elasticity curve in wide range of price variation.\n",
        "\n",
        "The absolute value of price may have been increased in the dataset when the overall demand of properties for booking have increased. In such case, the property might be still getting booked at higher price duing the periods of higher demand. Therefore based on the dataset, the model trained on absolute price will suggest that the probability of booking may also increase when the property price is increased. \n",
        "\n",
        "To tackle this issue, I implemented workaround by normalizing the price relative to the sum of booking prices of all the other 100 properties that we are using in our training dataset to represent the competitive market environment conditions. Now we can observe the trend of change in probability along with the change in relative price and see that it shows some price elasticity as expected."
      ]
    },
    {
      "cell_type": "markdown",
      "metadata": {
        "colab_type": "text",
        "id": "28Ba6C_tJHvc"
      },
      "source": [
        "### Price Elasticity for probability of booking learnt by Extreme Gradient Boosting (XGBoost)"
      ]
    },
    {
      "cell_type": "code",
      "metadata": {
        "colab_type": "code",
        "id": "v3ooOBgcJN_1",
        "colab": {}
      },
      "source": [
        "draw_price_elasticity_curves(calc_prob_booked_xgb)"
      ],
      "execution_count": 0,
      "outputs": []
    },
    {
      "cell_type": "markdown",
      "metadata": {
        "colab_type": "text",
        "id": "k130UztOlZIS"
      },
      "source": [
        "### Price Elasticity for probability of booking learnt by Gradient Boosting"
      ]
    },
    {
      "cell_type": "code",
      "metadata": {
        "colab_type": "code",
        "id": "9l76sFrTlZH0",
        "colab": {}
      },
      "source": [
        "# draw_price_elasticity_curves(calc_prob_booked_gb)"
      ],
      "execution_count": 0,
      "outputs": []
    },
    {
      "cell_type": "markdown",
      "metadata": {
        "colab_type": "text",
        "id": "bDqgrtO1NAV2"
      },
      "source": [
        "### Price Elasticity for probability of booking learnt by Ada Boost"
      ]
    },
    {
      "cell_type": "code",
      "metadata": {
        "colab_type": "code",
        "id": "0K77mYrRNAV6",
        "colab": {}
      },
      "source": [
        "# draw_price_elasticity_curves(calc_prob_booked_ada)"
      ],
      "execution_count": 0,
      "outputs": []
    },
    {
      "cell_type": "markdown",
      "metadata": {
        "colab_type": "text",
        "id": "HsSSm4gKIw-9"
      },
      "source": [
        "### Price elasticity for probability of booking learnt by Single Decision Tree"
      ]
    },
    {
      "cell_type": "code",
      "metadata": {
        "colab_type": "code",
        "id": "oL9OfEMlVA5W",
        "outputId": "b4393bf8-2669-4c2b-f94d-887604f3ebdc",
        "colab": {
          "base_uri": "https://localhost:8080/",
          "height": 617
        }
      },
      "source": [
        "draw_price_elasticity_curves(calc_prob_booked_dtc)"
      ],
      "execution_count": 57,
      "outputs": [
        {
          "output_type": "display_data",
          "data": {
            "image/png": "[encoded data removed]",
            "text/plain": [
              "<Figure size 1080x720 with 6 Axes>"
            ]
          },
          "metadata": {
            "tags": []
          }
        }
      ]
    },
    {
      "cell_type": "markdown",
      "metadata": {
        "colab_type": "text",
        "id": "NgkINGajl7T3"
      },
      "source": [
        "### Calculating the expected revenue from properties after tuning the price"
      ]
    },
    {
      "cell_type": "markdown",
      "metadata": {
        "colab_type": "text",
        "id": "P7OrVhYAmyv6"
      },
      "source": [
        "Let's tune prices of the properties that show significant price elasticity for demand."
      ]
    },
    {
      "cell_type": "markdown",
      "metadata": {
        "colab_type": "text",
        "id": "FiMbgm8duMnf"
      },
      "source": [
        "`get_price_elasticity_curve` function gets price elasticity curve for the probability of property getting booked by calculating the probability from the given calc_prob_booked function within a range values varying from current normalized price of property by specified percentage. It then fits a polynomial curve that fits the points calculated from the probability of property getting booked at that normalized price point it returns that fitted curve as output."
      ]
    },
    {
      "cell_type": "code",
      "metadata": {
        "colab_type": "code",
        "id": "ahzt_W6TPQnx",
        "colab": {}
      },
      "source": [
        "def get_price_elasticity_curve(listing, calc_prob_booked, percentage, n_points=100):\n",
        "  current_norm_price = listing[\"price_calendar_normalized\"]\n",
        "  higher_price_normalized = current_norm_price * (1 + (percentage/100))\n",
        "  lower_price_normalized = max(0, current_norm_price * (1 - (percentage/100)))    \n",
        "  samples_price_norm = list(float_range(str(lower_price_normalized), str(higher_price_normalized), str((higher_price_normalized - lower_price_normalized)/n_points)))\n",
        "  samples_price_norm += list(float_range(str(current_norm_price * (0.95)), str(current_norm_price * (1.05)), str(current_norm_price * (0.1/(n_points/2)))))\n",
        "\n",
        "  probs = []\n",
        "  \n",
        "  for sample_price_norm in samples_price_norm:\n",
        "    listing[\"price_calendar_normalized\"] = sample_price_norm\n",
        "    prob = calc_prob_booked(listing)\n",
        "    probs.append(prob)  \n",
        "\n",
        "  X = pd.DataFrame({\"x\" : samples_price_norm})\n",
        "  y = pd.DataFrame({\"y\": probs})\n",
        "  curve = make_pipeline(PolynomialFeatures(degree=1), LinearRegression())\n",
        "  curve.fit(X,y)\n",
        "  return curve"
      ],
      "execution_count": 0,
      "outputs": []
    },
    {
      "cell_type": "code",
      "metadata": {
        "colab_type": "code",
        "id": "0y0TpiBcVTbY",
        "colab": {}
      },
      "source": [
        "def draw_price_elasticity_for_prop(listing, calc_prob_booked, percentage, curve, rec_price):\n",
        "    square_feet = listing[\"square_feet\"]\n",
        "    beds = listing[\"beds\"]\n",
        "    bedrooms = listing[\"bedrooms\"]\n",
        "    accommodates = listing[\"accommodates\"]\n",
        "  \n",
        "    print (f\"Price elasticity plot for a property of\")\n",
        "    print (f\"Size: {square_feet}sq.ft\")\n",
        "    print (f\"Accommodates: {accommodates}\")\n",
        "    print (f\"Bedrooms: {bedrooms}\")\n",
        "    current_normalized_price = listing[\"price_calendar_normalized\"]\n",
        "    current_price = int(round(listing[\"price_calendar_normalized\"] * listing[\"total_env_prices\"],0))\n",
        "    price_upper = current_normalized_price * (1 + percentage/100)\n",
        "    price_lower = current_normalized_price * max(0, (1 - percentage/100))\n",
        "    normalized_price_range = list(float_range(str(price_lower), str(price_upper), str((price_upper - price_lower)/50)))\n",
        "\n",
        "    probs = []\n",
        "    absolute_prices = [listing[\"total_env_prices\"] * normalized_price for normalized_price in normalized_price_range]\n",
        "    curve_probs = []\n",
        "    for price in normalized_price_range:\n",
        "        listing[\"price_calendar_normalized\"] = price\n",
        "        prob = calc_prob_booked(listing)\n",
        "        probs.append(prob)       \n",
        "        df_norm_price = pd.DataFrame(data={\"x\" : price}, index=[0])\n",
        "        curve_prob = curve.predict(df_norm_price)[0]\n",
        "        curve_probs.append(curve_prob)\n",
        "   \n",
        "    price_elasticity_curve, = plt.plot(absolute_prices, probs)\n",
        "    regression_curve, = plt.plot(absolute_prices, curve_probs)\n",
        "    recommended_price_line = plt.axvline(x=rec_price, color='g')\n",
        "    plt.ylabel('Probability of property being booked')\n",
        "    plt.xlabel('Booking price of property')\n",
        "    beds = listing[\"beds\"]\n",
        "    square_feet= listing[\"square_feet\"]\n",
        "    current_price_line = plt.axvline(x=current_price, color='r')   \n",
        "    plt.legend((current_price_line, \n",
        "                recommended_price_line,\n",
        "                price_elasticity_curve, \n",
        "                regression_curve), \n",
        "               ('Current price = ' +str(current_price), \n",
        "                'Recommended price = ' + str(rec_price),\n",
        "                'Booking probability at price', \n",
        "                'Fitted Regression line'))\n",
        "    plt.show()"
      ],
      "execution_count": 0,
      "outputs": []
    },
    {
      "cell_type": "markdown",
      "metadata": {
        "colab_type": "text",
        "id": "TAdtVEu0lxiV"
      },
      "source": [
        "- For each property I first check whether the property follows conventional price elasticity where the probability of the property getting booked increases as its relative price is decreased and only tuned price for those properties that demonstrated such trend.\n",
        "- Instead of using exact probability predicted by the classifier, I decided to use the one derived from line fitted on the predicted probability values for normalized price range near the current normalized price, so that tuning algorithm has to work with smoothly varying values that smoothes sudden bumps in the probability values often seen to be generated by ensemble learners."
      ]
    },
    {
      "cell_type": "code",
      "metadata": {
        "colab_type": "code",
        "id": "QV85nECfSUEY",
        "colab": {}
      },
      "source": [
        "def calculate_price_elasticity(curve, listing, percentage_to_check):\n",
        "  current_normalized_price = listing[\"price_calendar_normalized\"]\n",
        "  norm_price_1 = min(0, current_normalized_price * (1 - percentage_to_check/100))\n",
        "  price_1 = norm_price_1 * listing[\"total_env_prices\"]\n",
        "  listing[\"price_calendar_normalized\"] = norm_price_1\n",
        "  df_norm_price_1 = pd.DataFrame(data={\"x\" : norm_price_1}, index=[0])\n",
        "  d_1 = curve.predict(df_norm_price_1)[0]\n",
        "\n",
        "  norm_price_2 = current_normalized_price * (1 + percentage_to_check/100)\n",
        "  price_2 = norm_price_2 * listing[\"total_env_prices\"]\n",
        "  listing[\"price_calendar_normalized\"] = norm_price_2\n",
        "  df_norm_price_2 = pd.DataFrame(data={\"x\" : norm_price_2}, index=[0])\n",
        "  d_2 = curve.predict(df_norm_price_2)[0]\n",
        "\n",
        "  price_change = (price_2 - price_1)/((price_2 + price_1)/2)\n",
        "  demand_change = (d_2 - d_1)/((d_2 + d_1)/2)\n",
        "  elasticity = - (demand_change / price_change)\n",
        "  return elasticity"
      ],
      "execution_count": 0,
      "outputs": []
    },
    {
      "cell_type": "code",
      "metadata": {
        "colab_type": "code",
        "id": "3j2N3B5_yFpT",
        "colab": {}
      },
      "source": [
        "def calc_revenue_at_tuned_price(row, calc_prob_booked):  \n",
        "    current_price_norm = row[\"price_calendar_normalized\"]\n",
        "    current_price = current_price_norm * row[\"total_env_prices\"]\n",
        "    prob_booked = calc_prob_booked(row)    \n",
        "#     print(\"price_calendar: \" + str(current_price))\n",
        "    \n",
        "    # minimum_elasticity to be eligible for tuning the price, \n",
        "    # keeping it high will require the booking probability of property \n",
        "    # to be more elastic to the price.\n",
        "    # It will keep the algorithm more realistic to project expected revenue\n",
        "    minimum_elasticity = 0.4 \n",
        "    percentage_to_check = 20\n",
        "    \n",
        "    curve = get_price_elasticity_curve(listing=row, calc_prob_booked=calc_prob_booked, percentage=percentage_to_check)\n",
        "        \n",
        "#     print (\"Checking for price elasticity...\")\n",
        "    row[\"price_calendar_normalized\"] = current_price_norm\n",
        "    elasticity = calculate_price_elasticity(curve, listing=row, percentage_to_check=percentage_to_check)    \n",
        "    if elasticity > minimum_elasticity:          \n",
        "        print (\"Elasticity demonstrated: \" + str(np.round(elasticity, 3)))\n",
        "        print(\"✔ The property follows significant price elasiticity in reasonable price range according to model\")\n",
        "\n",
        "        print (\"Probability of being booked at current price: \" + str(prob_booked))\n",
        "        row[\"price_calendar_normalized\"] = current_price_norm\n",
        "        current_expected_revenue = current_price * prob_booked        \n",
        "        print (\"\")\n",
        "        print(\"Current price: \" + str(round(current_price, 0)))\n",
        "        print(\"Probability of being booked at current price: \" + str(prob_booked))\n",
        "        print(\"Expected revenue at current price: \" + str(current_expected_revenue))       \n",
        "        \n",
        "        max_expected_revenue = -math.inf\n",
        "        prob_at_max = None\n",
        "        price_at_max = None\n",
        "        lower_price_normalized = max(current_price_norm * (1 - percentage_to_check/100), 0)\n",
        "        higher_price_normalized = current_price_norm * (1 + percentage_to_check/100)\n",
        "        for trial_price_norm in float_range(str(lower_price_normalized), str(higher_price_normalized), str((higher_price_normalized-lower_price_normalized)/100)):\n",
        "          # Instead of using probability predicted by the classifier,\n",
        "          # I decided to use the one derived from line fitted on the values\n",
        "          # in normalized price range near the current normalized price\n",
        "          # so that I can have a smoothly varying values which avoid sudden\n",
        "          # bumps in the probability values often seen to be generated by\n",
        "          # ensemble learners.\n",
        "#             row[\"price_calendar_normalized\"] = trial_price_norm\n",
        "#             prob_at_trial_price_norm = calc_prob_booked(row)\n",
        "            df_trial = pd.DataFrame(data={\"x\" : trial_price_norm}, index=[0])\n",
        "            prob_at_trial_price_norm = curve.predict(df_trial)[0]   \n",
        "            expected_revenue = prob_at_trial_price_norm * trial_price_norm * row[\"total_env_prices\"]\n",
        "            if expected_revenue > max_expected_revenue:\n",
        "                max_expected_revenue = expected_revenue\n",
        "                prob_at_max = prob_at_trial_price_norm\n",
        "                price_at_max = trial_price_norm * row[\"total_env_prices\"]\n",
        "        draw_price_elasticity_for_prop(row, calc_prob_booked, percentage_to_check, curve, rec_price=round(price_at_max,0))\n",
        "        print (\"Recommended price: \" + str(round(price_at_max,0)))\n",
        "        print (\"Probability of booked at recommended price: \" + str(np.round(prob_at_max, 5)))\n",
        "        print (\"Expected revenue at recommended price: \" + str(np.round(max_expected_revenue,2)))\n",
        "        print (\"Percentage of recommended price change: \" + str(np.round(100*(price_at_max - current_price)/current_price, 3)) +\"%\")\n",
        "        print (\"Percentage of change in expected revenue: \" + str(np.round(100*(max_expected_revenue - current_expected_revenue)/current_expected_revenue, 2)) +\"%\")\n",
        "        print (\"----------------------------------------------------------------\")\n",
        "        return max_expected_revenue\n",
        "    else:\n",
        "#         print(\"✘ The property does not follow desired price elasiticity in reasonable price range according to model\")\n",
        "        return current_price * prob_booked"
      ],
      "execution_count": 0,
      "outputs": []
    },
    {
      "cell_type": "markdown",
      "metadata": {
        "colab_type": "text",
        "id": "xt7uWkaXk2lu"
      },
      "source": [
        "I decided to tune the prices of properties using Extreme Gradient Boosting model for predicting probability of property being booked under giving time, price and market conditions. The reason is that it shows higher accuracy in terms of F1-score as compared to neural network model. Even though the predicted probability graph while varying normalized price is not as smooth as the one generated by neural network, the more accurate prediction of probabilities for property getting booked leads to more accurate prediction for expected revenue from properties at given price point."
      ]
    },
    {
      "cell_type": "code",
      "metadata": {
        "colab_type": "code",
        "id": "L1NMeMG2S7Xk",
        "outputId": "429c6b81-1bff-4b5c-faaa-b4dfe315120d",
        "colab": {
          "base_uri": "https://localhost:8080/",
          "height": 1000
        }
      },
      "source": [
        "expected_revenue_at_current_prices = 0\n",
        "expected_revenue_at_recommended_prices = 0\n",
        "number_of_properties_to_be_sampled = 100\n",
        "number_of_properties_with_price_updated = 0\n",
        "\n",
        "for index, row in X_test.sample(n=number_of_properties_to_be_sampled, random_state=42).copy().iterrows():  \n",
        "    expected_revenue_at_current_prices += row[\"price_calendar_normalized\"] * row[\"total_env_prices\"] * calc_prob_booked_xgb(row)\n",
        "    expected_revenue_at_recommended_prices += calc_revenue_at_tuned_price(row, calc_prob_booked=calc_prob_booked_xgb)\n",
        "    if np.round(expected_revenue_at_current_prices, 2) != np.round(expected_revenue_at_recommended_prices, 2):\n",
        "      number_of_properties_with_price_updated += 1"
      ],
      "execution_count": 0,
      "outputs": [
        {
          "output_type": "stream",
          "text": [
            "Elasticity demonstrated: [0.725]\n",
            "✔ The property follows significant price elasiticity in reasonable price range according to model\n",
            "Probability of being booked at current price: 0.5569951\n",
            "\n",
            "Current price: 295.0\n",
            "Probability of being booked at current price: 0.5569951\n",
            "Expected revenue at current price: 164.31355267763138\n",
            "Price elasticity plot for a property of\n",
            "Size: 858.1636363636363sq.ft\n",
            "Accommodates: 6\n",
            "Bedrooms: 2.0\n"
          ],
          "name": "stdout"
        },
        {
          "output_type": "display_data",
          "data": {
            "image/png": "[encoded data removed]",
            "text/plain": [
              "<Figure size 432x288 with 1 Axes>"
            ]
          },
          "metadata": {
            "tags": []
          }
        },
        {
          "output_type": "stream",
          "text": [
            "Recommended price: 236.0\n",
            "Probability of booked at recommended price: [0.86611]\n",
            "Expected revenue at recommended price: [204.4]\n",
            "Percentage of recommended price change: -20.0%\n",
            "Percentage of change in expected revenue: [24.4]%\n",
            "----------------------------------------------------------------\n",
            "Elasticity demonstrated: [1.251]\n",
            "✔ The property follows significant price elasiticity in reasonable price range according to model\n",
            "Probability of being booked at current price: 0.0088406205\n",
            "\n",
            "Current price: 199.0\n",
            "Probability of being booked at current price: 0.0088406205\n",
            "Expected revenue at current price: 1.7592834830284116\n",
            "Price elasticity plot for a property of\n",
            "Size: 858.1636363636363sq.ft\n",
            "Accommodates: 2\n",
            "Bedrooms: 1.0\n"
          ],
          "name": "stdout"
        },
        {
          "output_type": "display_data",
          "data": {
            "image/png": "[encoded data removed]",
            "text/plain": [
              "<Figure size 432x288 with 1 Axes>"
            ]
          },
          "metadata": {
            "tags": []
          }
        },
        {
          "output_type": "stream",
          "text": [
            "Recommended price: 159.0\n",
            "Probability of booked at recommended price: [0.09586]\n",
            "Expected revenue at recommended price: [15.26]\n",
            "Percentage of recommended price change: -20.0%\n",
            "Percentage of change in expected revenue: [767.43]%\n",
            "----------------------------------------------------------------\n",
            "Elasticity demonstrated: [0.439]\n",
            "✔ The property follows significant price elasiticity in reasonable price range according to model\n",
            "Probability of being booked at current price: 0.2711733\n",
            "\n",
            "Current price: 71.0\n",
            "Probability of being booked at current price: 0.2711733\n",
            "Expected revenue at current price: 19.253304183483124\n",
            "Price elasticity plot for a property of\n",
            "Size: 858.1636363636363sq.ft\n",
            "Accommodates: 2\n",
            "Bedrooms: 1.0\n"
          ],
          "name": "stdout"
        },
        {
          "output_type": "display_data",
          "data": {
            "image/png": "[encoded data removed]",
            "text/plain": [
              "<Figure size 432x288 with 1 Axes>"
            ]
          },
          "metadata": {
            "tags": []
          }
        },
        {
          "output_type": "stream",
          "text": [
            "Recommended price: 70.0\n",
            "Probability of booked at recommended price: [0.29061]\n",
            "Expected revenue at recommended price: [20.3]\n",
            "Percentage of recommended price change: -1.6%\n",
            "Percentage of change in expected revenue: [5.45]%\n",
            "----------------------------------------------------------------\n",
            "Elasticity demonstrated: [0.487]\n",
            "✔ The property follows significant price elasiticity in reasonable price range according to model\n",
            "Probability of being booked at current price: 0.51824915\n",
            "\n",
            "Current price: 250.0\n",
            "Probability of being booked at current price: 0.51824915\n",
            "Expected revenue at current price: 129.5622885227203\n",
            "Price elasticity plot for a property of\n",
            "Size: 858.1636363636363sq.ft\n",
            "Accommodates: 6\n",
            "Bedrooms: 3.0\n"
          ],
          "name": "stdout"
        },
        {
          "output_type": "display_data",
          "data": {
            "image/png": "[encoded data removed]",
            "text/plain": [
              "<Figure size 432x288 with 1 Axes>"
            ]
          },
          "metadata": {
            "tags": []
          }
        },
        {
          "output_type": "stream",
          "text": [
            "Recommended price: 229.0\n",
            "Probability of booked at recommended price: [0.54097]\n",
            "Expected revenue at recommended price: [123.88]\n",
            "Percentage of recommended price change: -8.4%\n",
            "Percentage of change in expected revenue: [-4.38]%\n",
            "----------------------------------------------------------------\n",
            "Elasticity demonstrated: [0.54]\n",
            "✔ The property follows significant price elasiticity in reasonable price range according to model\n",
            "Probability of being booked at current price: 0.24253035\n",
            "\n",
            "Current price: 377.0\n",
            "Probability of being booked at current price: 0.24253035\n",
            "Expected revenue at current price: 91.43394041061401\n",
            "Price elasticity plot for a property of\n",
            "Size: 858.1636363636363sq.ft\n",
            "Accommodates: 3\n",
            "Bedrooms: 1.0\n"
          ],
          "name": "stdout"
        },
        {
          "output_type": "display_data",
          "data": {
            "image/png": "[encoded data removed]",
            "text/plain": [
              "<Figure size 432x288 with 1 Axes>"
            ]
          },
          "metadata": {
            "tags": []
          }
        },
        {
          "output_type": "stream",
          "text": [
            "Recommended price: 323.0\n",
            "Probability of booked at recommended price: [0.32363]\n",
            "Expected revenue at recommended price: [104.44]\n",
            "Percentage of recommended price change: -14.4%\n",
            "Percentage of change in expected revenue: [14.22]%\n",
            "----------------------------------------------------------------\n",
            "Elasticity demonstrated: [0.665]\n",
            "✔ The property follows significant price elasiticity in reasonable price range according to model\n",
            "Probability of being booked at current price: 0.53406835\n",
            "\n",
            "Current price: 70.0\n",
            "Probability of being booked at current price: 0.53406835\n",
            "Expected revenue at current price: 37.38478422164917\n",
            "Price elasticity plot for a property of\n",
            "Size: 858.1636363636363sq.ft\n",
            "Accommodates: 4\n",
            "Bedrooms: 1.0\n"
          ],
          "name": "stdout"
        },
        {
          "output_type": "display_data",
          "data": {
            "image/png": "[encoded data removed]",
            "text/plain": [
              "<Figure size 432x288 with 1 Axes>"
            ]
          },
          "metadata": {
            "tags": []
          }
        },
        {
          "output_type": "stream",
          "text": [
            "Recommended price: 56.0\n",
            "Probability of booked at recommended price: [0.89584]\n",
            "Expected revenue at recommended price: [50.17]\n",
            "Percentage of recommended price change: -20.0%\n",
            "Percentage of change in expected revenue: [34.19]%\n",
            "----------------------------------------------------------------\n",
            "Elasticity demonstrated: [0.625]\n",
            "✔ The property follows significant price elasiticity in reasonable price range according to model\n",
            "Probability of being booked at current price: 0.37891418\n",
            "\n",
            "Current price: 150.0\n",
            "Probability of being booked at current price: 0.37891418\n",
            "Expected revenue at current price: 56.83712661266327\n",
            "Price elasticity plot for a property of\n",
            "Size: 858.1636363636363sq.ft\n",
            "Accommodates: 1\n",
            "Bedrooms: 1.0\n"
          ],
          "name": "stdout"
        },
        {
          "output_type": "display_data",
          "data": {
            "image/png": "[encoded data removed]",
            "text/plain": [
              "<Figure size 432x288 with 1 Axes>"
            ]
          },
          "metadata": {
            "tags": []
          }
        },
        {
          "output_type": "stream",
          "text": [
            "Recommended price: 120.0\n",
            "Probability of booked at recommended price: [0.60659]\n",
            "Expected revenue at recommended price: [72.79]\n",
            "Percentage of recommended price change: -20.0%\n",
            "Percentage of change in expected revenue: [28.07]%\n",
            "----------------------------------------------------------------\n",
            "Elasticity demonstrated: [0.671]\n",
            "✔ The property follows significant price elasiticity in reasonable price range according to model\n",
            "Probability of being booked at current price: 0.40780258\n",
            "\n",
            "Current price: 300.0\n",
            "Probability of being booked at current price: 0.40780258\n",
            "Expected revenue at current price: 122.34077453613281\n",
            "Price elasticity plot for a property of\n",
            "Size: 858.1636363636363sq.ft\n",
            "Accommodates: 8\n",
            "Bedrooms: 3.0\n"
          ],
          "name": "stdout"
        },
        {
          "output_type": "display_data",
          "data": {
            "image/png": "[encoded data removed]",
            "text/plain": [
              "<Figure size 432x288 with 1 Axes>"
            ]
          },
          "metadata": {
            "tags": []
          }
        },
        {
          "output_type": "stream",
          "text": [
            "Recommended price: 240.0\n",
            "Probability of booked at recommended price: [0.6394]\n",
            "Expected revenue at recommended price: [153.45]\n",
            "Percentage of recommended price change: -20.0%\n",
            "Percentage of change in expected revenue: [25.43]%\n",
            "----------------------------------------------------------------\n",
            "Elasticity demonstrated: [0.479]\n",
            "✔ The property follows significant price elasiticity in reasonable price range according to model\n",
            "Probability of being booked at current price: 0.15298253\n",
            "\n",
            "Current price: 69.0\n",
            "Probability of being booked at current price: 0.15298253\n",
            "Expected revenue at current price: 10.55579477548599\n",
            "Price elasticity plot for a property of\n",
            "Size: 858.1636363636363sq.ft\n",
            "Accommodates: 2\n",
            "Bedrooms: 1.0\n"
          ],
          "name": "stdout"
        },
        {
          "output_type": "display_data",
          "data": {
            "image/png": "[encoded data removed]",
            "text/plain": [
              "<Figure size 432x288 with 1 Axes>"
            ]
          },
          "metadata": {
            "tags": []
          }
        },
        {
          "output_type": "stream",
          "text": [
            "Recommended price: 64.0\n",
            "Probability of booked at recommended price: [0.17762]\n",
            "Expected revenue at recommended price: [11.37]\n",
            "Percentage of recommended price change: -7.2%\n",
            "Percentage of change in expected revenue: [7.75]%\n",
            "----------------------------------------------------------------\n"
          ],
          "name": "stdout"
        }
      ]
    },
    {
      "cell_type": "code",
      "metadata": {
        "colab_type": "code",
        "id": "UilNVhztm0Gs",
        "colab": {}
      },
      "source": [
        "def extract_price_elasticity_info(row):\n",
        "  percentage_for_calculating_elasticity = 20\n",
        "  row_1 = row.copy()\n",
        "  curve = get_price_elasticity_curve(listing=row_1, calc_prob_booked=calc_prob_booked_xgb, percentage=percentage_for_calculating_elasticity, n_points=10)\n",
        "  elasticity = calculate_price_elasticity(curve, listing=row_1, percentage_to_check=percentage_for_calculating_elasticity)\n",
        "  \n",
        "  current_price_norm = row_1[\"price_calendar_normalized\"]  \n",
        "  df_current = pd.DataFrame(data={\"x\" : current_price_norm}, index=[0])  \n",
        "  prob_current_price = curve.predict(df_current)[0]   \n",
        "  current_expected_revenue = prob_current_price * current_price_norm * row_1[\"total_env_prices\"]\n",
        "\n",
        "  max_expected_revenue = -math.inf\n",
        "  prob_at_max = None\n",
        "  price_at_max = None\n",
        "  norm_price_at_max = None\n",
        "\n",
        "  lower_price_normalized = max(current_price_norm * (1 - percentage_for_calculating_elasticity/100), 0)\n",
        "  higher_price_normalized = current_price_norm * (1 + percentage_for_calculating_elasticity/100)\n",
        "  for trial_price_norm in float_range(str(lower_price_normalized), str(higher_price_normalized), str((higher_price_normalized-lower_price_normalized)/100)):\n",
        "    # Instead of using probability predicted by the classifier,\n",
        "    # I decided to use the one derived from line fitted on the values\n",
        "    # in normalized price range near the current normalized price\n",
        "    # so that I can have a smoothly varying values which avoid sudden\n",
        "    # bumps in the probability values often seen to be generated by\n",
        "    # ensemble learners.\n",
        "#             row_1[\"price_calendar_normalized\"] = trial_price_norm\n",
        "#             prob_at_trial_price_norm = calc_prob_booked_xgb(row)\n",
        "      df_trial = pd.DataFrame(data={\"x\" : trial_price_norm}, index=[0])\n",
        "      prob_at_trial_price_norm = curve.predict(df_trial)[0]   \n",
        "      expected_revenue = prob_at_trial_price_norm * trial_price_norm * row[\"total_env_prices\"]\n",
        "      if expected_revenue > max_expected_revenue:\n",
        "          max_expected_revenue = expected_revenue\n",
        "          prob_at_max = prob_at_trial_price_norm\n",
        "          price_at_max = trial_price_norm * row[\"total_env_prices\"]\n",
        "          norm_price_at_max = trial_price_norm\n",
        "  row_1[\"price_elasticity\"] = np.asscalar(elasticity)\n",
        "  row_1[\"current_price\"] = current_price_norm * row_1[\"total_env_prices\"]\n",
        "  row_1[\"expected_revenue_current_price\"] = np.asscalar(current_expected_revenue)\n",
        "  row_1[\"recommended_price\"] = price_at_max\n",
        "  row_1[\"recommended_normalized_price\"] = norm_price_at_max\n",
        "  row_1[\"expected_revenue_recommended_price\"] = np.asscalar(max_expected_revenue)\n",
        "  \n",
        "  row_1[\"booking_probability_at_current_price\"] = prob_current_price\n",
        "  row_1[\"booking_probability_at_recommended_price\"] = prob_at_max\n",
        "  return row_1"
      ],
      "execution_count": 0,
      "outputs": []
    },
    {
      "cell_type": "code",
      "metadata": {
        "colab_type": "code",
        "id": "B83VPwQKt21q",
        "colab": {}
      },
      "source": [
        "X_test.sample(10, random_state=42).apply(extract_price_elasticity_info, axis=1)[[\"price_elasticity\",\n",
        "                                                                                 \"current_price\",\n",
        "                                                                                 \"expected_revenue_current_price\",\n",
        "                                                                                 \"recommended_price\",\n",
        "                                                                                \"expected_revenue_recommended_price\"                                                                                 \n",
        "                                                                                ]].head(10)"
      ],
      "execution_count": 0,
      "outputs": []
    },
    {
      "cell_type": "code",
      "metadata": {
        "colab_type": "code",
        "id": "FlepVkmUz1oE",
        "colab": {}
      },
      "source": [
        "tuned_data = X_test.sample(1000, random_state=42).copy().apply(extract_price_elasticity_info, axis=1)"
      ],
      "execution_count": 0,
      "outputs": []
    },
    {
      "cell_type": "code",
      "metadata": {
        "colab_type": "code",
        "id": "Q4jLOUqd0CfA",
        "colab": {}
      },
      "source": [
        "tuned_data.to_csv(data_dir + \"/tuned_data_20.csv\", index=False)"
      ],
      "execution_count": 0,
      "outputs": []
    },
    {
      "cell_type": "markdown",
      "metadata": {
        "colab_type": "text",
        "id": "gm7RH4_MdBCe"
      },
      "source": [
        "## Analysing dataset containing tuned prices for properties\n",
        "I just created a dataframe containing data about recommended prices and changes in expected revenue after tuning prices of 1000 properties from our test dataset within 20% of their current price."
      ]
    },
    {
      "cell_type": "markdown",
      "metadata": {
        "colab_type": "text",
        "id": "wimBY5khJ3K4"
      },
      "source": [
        "Let's checkout the distribution of price elasticity values."
      ]
    },
    {
      "cell_type": "code",
      "metadata": {
        "colab_type": "code",
        "id": "-HxcgO1uNQc4",
        "outputId": "3346acd1-2438-4c09-e319-2a03386eb918",
        "colab": {
          "base_uri": "https://localhost:8080/",
          "height": 312
        }
      },
      "source": [
        "violin = sns.violinplot(x=tuned_data[\"price_elasticity\"])\n",
        "violin.set_xlabel(\"Price elasticity for demaned\")\n",
        "violin.set_ylabel(\"Relative number of properties\")\n",
        "violin.set_title(\"Distribution of properties for price elasticity of demand\")"
      ],
      "execution_count": 54,
      "outputs": [
        {
          "output_type": "execute_result",
          "data": {
            "text/plain": [
              "Text(0.5, 1.0, 'Distribution of properties for price elasticity of demand')"
            ]
          },
          "metadata": {
            "tags": []
          },
          "execution_count": 54
        },
        {
          "output_type": "display_data",
          "data": {
            "image/png": "[encoded data removed]",
            "text/plain": [
              "<Figure size 432x288 with 1 Axes>"
            ]
          },
          "metadata": {
            "tags": []
          }
        }
      ]
    },
    {
      "cell_type": "code",
      "metadata": {
        "colab_type": "code",
        "id": "VoDA4yKDNfMJ",
        "outputId": "865a8b28-f46f-4718-c46c-6b93bcee9e9d",
        "colab": {
          "base_uri": "https://localhost:8080/",
          "height": 312
        }
      },
      "source": [
        "violin = sns.violinplot(x=tuned_data.query(\"price_elasticity < 1 and price_elasticity > -1\")[\"price_elasticity\"])\n",
        "violin.set_xlabel(\"Price elasticity for demaned\")\n",
        "violin.set_ylabel(\"Relative number of properties\")\n",
        "violin.set_title(\"Distribution zoomed in between elasticity from -1 to 1\")"
      ],
      "execution_count": 55,
      "outputs": [
        {
          "output_type": "execute_result",
          "data": {
            "text/plain": [
              "Text(0.5, 1.0, 'Distribution zoomed in between elasticity from -1 to 1')"
            ]
          },
          "metadata": {
            "tags": []
          },
          "execution_count": 55
        },
        {
          "output_type": "display_data",
          "data": {
            "image/png": "[encoded data removed]",
            "text/plain": [
              "<Figure size 432x288 with 1 Axes>"
            ]
          },
          "metadata": {
            "tags": []
          }
        }
      ]
    },
    {
      "cell_type": "markdown",
      "metadata": {
        "colab_type": "text",
        "id": "k7eUHLFROUPM"
      },
      "source": [
        "Taking look at proportion of number of properties with positive price elasticity vs negative price elasticity."
      ]
    },
    {
      "cell_type": "code",
      "metadata": {
        "colab_type": "code",
        "id": "ocAOB07VOTFv",
        "outputId": "ae6b4bc3-8887-451b-da0e-023411e70a5b",
        "colab": {
          "base_uri": "https://localhost:8080/",
          "height": 68
        }
      },
      "source": [
        "100 * (tuned_data[\"price_elasticity\"] > 0).value_counts()/(tuned_data[\"price_elasticity\"]).count()"
      ],
      "execution_count": 56,
      "outputs": [
        {
          "output_type": "execute_result",
          "data": {
            "text/plain": [
              "True     51.1\n",
              "False    48.9\n",
              "Name: price_elasticity, dtype: float64"
            ]
          },
          "metadata": {
            "tags": []
          },
          "execution_count": 56
        }
      ]
    },
    {
      "cell_type": "markdown",
      "metadata": {
        "colab_type": "text",
        "id": "Vkm_5WWsO9UY"
      },
      "source": [
        "One good thing about our trained XGBoost based prediction model is that there are more number of samples demonstrating positive price elasticity than the ones showing negative price elasticity."
      ]
    },
    {
      "cell_type": "code",
      "metadata": {
        "colab_type": "code",
        "id": "iGg4L3J8QUcy",
        "outputId": "8c39188a-89c0-4cc2-8ef2-eb22f439c8cc",
        "colab": {
          "base_uri": "https://localhost:8080/",
          "height": 85
        }
      },
      "source": [
        "tuned_data[\"price_elasticity\"].quantile([.25, .5, .75])"
      ],
      "execution_count": 57,
      "outputs": [
        {
          "output_type": "execute_result",
          "data": {
            "text/plain": [
              "0.25   -0.096999\n",
              "0.50    0.005365\n",
              "0.75    0.134771\n",
              "Name: price_elasticity, dtype: float64"
            ]
          },
          "metadata": {
            "tags": []
          },
          "execution_count": 57
        }
      ]
    },
    {
      "cell_type": "markdown",
      "metadata": {
        "colab_type": "text",
        "id": "MgrmMiL8d24v"
      },
      "source": [
        "### How does the average price elasticity of demand varies with the average price of properties?"
      ]
    },
    {
      "cell_type": "markdown",
      "metadata": {
        "colab_type": "text",
        "id": "i-8-IQafeu1A"
      },
      "source": [
        "Let's first check the current price distribution of booking properties in our sample of 1000 properties.\n"
      ]
    },
    {
      "cell_type": "code",
      "metadata": {
        "colab_type": "code",
        "id": "X09uw9F0esR0",
        "outputId": "099efe48-4bd9-4246-f906-719126a7eb8d",
        "colab": {
          "base_uri": "https://localhost:8080/",
          "height": 312
        }
      },
      "source": [
        "prices_hist = tuned_data[\"current_price\"].hist(bins=100)\n",
        "prices_hist.set_xlabel(\"Average price\")\n",
        "prices_hist.set_ylabel(\"Number of properties\")\n",
        "prices_hist.set_title(\"Distribution of properties for average price\")"
      ],
      "execution_count": 58,
      "outputs": [
        {
          "output_type": "execute_result",
          "data": {
            "text/plain": [
              "Text(0.5, 1.0, 'Distribution of properties for average price')"
            ]
          },
          "metadata": {
            "tags": []
          },
          "execution_count": 58
        },
        {
          "output_type": "display_data",
          "data": {
            "image/png": "[encoded data removed]",
            "text/plain": [
              "<Figure size 432x288 with 1 Axes>"
            ]
          },
          "metadata": {
            "tags": []
          }
        }
      ]
    },
    {
      "cell_type": "code",
      "metadata": {
        "colab_type": "code",
        "id": "KaFIm3dgdCy4",
        "outputId": "1e6d6a5d-32ef-4c11-dca2-ea741c385155",
        "colab": {
          "base_uri": "https://localhost:8080/",
          "height": 312
        }
      },
      "source": [
        "prices_violin = sns.boxplot(x=tuned_data[\"current_price\"])\n",
        "prices_violin.set_xlabel(\"Average price\")\n",
        "prices_violin.set_ylabel(\"Number of properties\")\n",
        "prices_violin.set_title(\"Distribution of properties for average price\")"
      ],
      "execution_count": 59,
      "outputs": [
        {
          "output_type": "execute_result",
          "data": {
            "text/plain": [
              "Text(0.5, 1.0, 'Distribution of properties for average price')"
            ]
          },
          "metadata": {
            "tags": []
          },
          "execution_count": 59
        },
        {
          "output_type": "display_data",
          "data": {
            "image/png": "[encoded data removed]",
            "text/plain": [
              "<Figure size 432x288 with 1 Axes>"
            ]
          },
          "metadata": {
            "tags": []
          }
        }
      ]
    },
    {
      "cell_type": "markdown",
      "metadata": {
        "colab_type": "text",
        "id": "VCWGjzytgLPj"
      },
      "source": [
        "As we can see prices for most of the property listings in this sample are between 0 to 650."
      ]
    },
    {
      "cell_type": "code",
      "metadata": {
        "colab_type": "code",
        "id": "I6IwVPO2hRF2",
        "outputId": "db9d0d41-59fe-4c2a-92fb-12a4f073fe63",
        "colab": {
          "base_uri": "https://localhost:8080/",
          "height": 34
        }
      },
      "source": [
        "np.std(tuned_data[\"current_price\"])"
      ],
      "execution_count": 60,
      "outputs": [
        {
          "output_type": "execute_result",
          "data": {
            "text/plain": [
              "244.798044634955"
            ]
          },
          "metadata": {
            "tags": []
          },
          "execution_count": 60
        }
      ]
    },
    {
      "cell_type": "code",
      "metadata": {
        "colab_type": "code",
        "id": "SinZ84ZZiuXy",
        "colab": {}
      },
      "source": [
        "bin_size = 50 \n",
        "bins = pd.IntervalIndex.from_tuples([(x, x+bin_size-1) for x in range(1,tuned_data[\"current_price\"].astype(int).max(),bin_size)])\n",
        "pd.cut(tuned_data[\"current_price\"], bins)\n",
        "tuned_data_1 = tuned_data.copy()\n",
        "tuned_data_1[\"current_price_category\"] = pd.cut(tuned_data[\"current_price\"], bins)"
      ],
      "execution_count": 0,
      "outputs": []
    },
    {
      "cell_type": "code",
      "metadata": {
        "colab_type": "code",
        "id": "x_WzShjgkRuY",
        "outputId": "ae73d0f2-69fc-4225-ed78-483be0b4e71f",
        "colab": {
          "base_uri": "https://localhost:8080/",
          "height": 404
        }
      },
      "source": [
        "fig, ax = plt.subplots(figsize=(10,5))\n",
        "bar_ax = tuned_data_1.groupby([\"current_price_category\"]).mean()['price_elasticity'].iloc[:30,].plot.bar(ax=ax)\n",
        "bar_ax.set_xlabel(\"Current price range\")\n",
        "bar_ax.set_ylabel(\"Average Price elasticity for booking probability\")\n",
        "elasticity_threshold_line = bar_ax.axhline(y=0.4, color=\"g\")\n",
        "elasticity_zero_line = bar_ax.axhline(y=0.0, color=\"r\")\n",
        "bar_ax.legend((elasticity_threshold_line, elasticity_zero_line), (\"Price elasticity = 0.4\", \"Price elasticity = 0.0\"))\n",
        "title = bar_ax.set_title(\"Trend between current price and price elasticity across properties\")"
      ],
      "execution_count": 62,
      "outputs": [
        {
          "output_type": "display_data",
          "data": {
            "image/png": "[encoded data removed]",
            "text/plain": [
              "<Figure size 720x360 with 1 Axes>"
            ]
          },
          "metadata": {
            "tags": []
          }
        }
      ]
    },
    {
      "cell_type": "markdown",
      "metadata": {
        "colab_type": "text",
        "id": "B1Iu-aIvrw89"
      },
      "source": [
        "In case we choose to treat properties with negative price elasticity as erroneous projection of our model and filter them out before plotting the relationship between price elasticity of booking probability and current price range, the graph would look something like this."
      ]
    },
    {
      "cell_type": "code",
      "metadata": {
        "colab_type": "code",
        "id": "3FQQ8ZJHkJB_",
        "outputId": "d4ac3fd6-b5e0-4a97-e974-eafdcba18561",
        "colab": {
          "base_uri": "https://localhost:8080/",
          "height": 404
        }
      },
      "source": [
        "fig, ax = plt.subplots(figsize=(10,5))\n",
        "bar_ax = tuned_data_1.query(\"price_elasticity > 0\").groupby([\"current_price_category\"]).mean()['price_elasticity'].iloc[:30,].plot.bar(ax=ax)\n",
        "bar_ax.set_xlabel(\"Current price range\")\n",
        "bar_ax.set_ylabel(\"Average Price elasticity for booking probability\")\n",
        "elasticity_threshold_line = bar_ax.axhline(y=0.4, color=\"g\")\n",
        "bar_ax.legend((elasticity_threshold_line,), (\"Price elasticity = 0.4\",))\n",
        "title = bar_ax.set_title(\"Trend between current price and price elasticity across properties\")"
      ],
      "execution_count": 63,
      "outputs": [
        {
          "output_type": "display_data",
          "data": {
            "image/png": "[encoded data removed]",
            "text/plain": [
              "<Figure size 720x360 with 1 Axes>"
            ]
          },
          "metadata": {
            "tags": []
          }
        }
      ]
    },
    {
      "cell_type": "markdown",
      "metadata": {
        "colab_type": "text",
        "id": "hChA4ek5sucV"
      },
      "source": [
        "The properties in price range of 200 to 250 are showing maximum price elasticity for probability of booking. Also we can see that properties on the very high price spectrum of 1000 and above are showing high price elasticity. This means that properties in these price ranges should be considered as first choice for applying price tuning algorithm to maximize expected revenue."
      ]
    },
    {
      "cell_type": "markdown",
      "metadata": {
        "colab_type": "text",
        "id": "XUDURSRYtjSO"
      },
      "source": [
        "## How does price elasticity for booking probability varies with time across the year?\n"
      ]
    },
    {
      "cell_type": "markdown",
      "metadata": {
        "colab_type": "text",
        "id": "RnDp2QKhtuAC"
      },
      "source": [
        "We have seen earlier in our exploratory analysis that there are visible changes in the average price of properties across the year. Does it have impact on the price elasticity of demand for properties? Let's have a look.\n",
        "\n",
        "I am only considering the properties with elasticity greater than 0, while treating negative price elasticity projections by model as erroneous."
      ]
    },
    {
      "cell_type": "code",
      "metadata": {
        "colab_type": "code",
        "id": "AOzgQcf1vtSJ",
        "outputId": "5ccacc59-f6eb-4a79-d3c1-7cd875945f33",
        "colab": {
          "base_uri": "https://localhost:8080/",
          "height": 394
        }
      },
      "source": [
        "tuned_data_1[\"month\"] = \"\"\n",
        "tuned_data_1[\"month_num\"] = 13\n",
        "months = []\n",
        "for month in [col.replace(\"month_\", \"\") for col in tuned_data_1.columns if col.startswith(\"month\") and col not in [\"month\", \"month_num\"] ]:\n",
        "  query = f\"month_{month}\"\n",
        "  months_ordered = [\"September\", \"October\", \"November\", \"December\", \"January\", \n",
        "                    'February', 'March', 'April', 'May', 'June', 'July', \n",
        "                    \"August\", \"nan\"]\n",
        "  tuned_data_1.loc[tuned_data_1[query] == 1, \"month\"] = month\n",
        "  tuned_data_1.loc[tuned_data_1[query] == 1, \"month_num\"] = months_ordered.index(month) + 1\n",
        "  \n",
        "fig, ax = plt.subplots(figsize=(10,5))  \n",
        "sns.set_style(\"ticks\")\n",
        "bar_ax = tuned_data_1.query(\"price_elasticity > 0\").sort_values(by=[\"month_num\"]).groupby([\"month\"], sort=False).mean()['price_elasticity'].plot.bar(ax=ax)\n",
        "bar_ax.set_xlabel(\"Month\")\n",
        "bar_ax.set_ylabel(\"Average Price elasticity for booking probability\")\n",
        "\n",
        "ax_2 = ax.twinx()\n",
        "bar_ax_2 = tuned_data_1.query(\"price_elasticity > 0\").sort_values(by=[\"month_num\"]).groupby([\"month\"], sort=False).mean()['current_price'].plot(ax=ax_2, color=\"orange\")\n",
        "bar_ax_2.set_ylabel(\"Average Price of Properties\")\n",
        "bar_ax_2.legend([\"Monthly average price\"], loc=0)\n",
        "elasticity_threshold_line = bar_ax.axhline(y=0.4, color=\"g\")\n",
        "bar_ax.legend((elasticity_threshold_line,), (\"Price elasticity = 0.4\",))\n",
        "title = bar_ax.set_title(\"Trend between month and price elasticity across properties\")"
      ],
      "execution_count": 69,
      "outputs": [
        {
          "output_type": "display_data",
          "data": {
            "image/png": "[encoded data removed]",
            "text/plain": [
              "<Figure size 720x360 with 2 Axes>"
            ]
          },
          "metadata": {
            "tags": []
          }
        }
      ]
    },
    {
      "cell_type": "markdown",
      "metadata": {
        "colab_type": "text",
        "id": "0eC-0KIr240Y"
      },
      "source": [
        "It's evident from the above graph that this sample demonstrates highest price elasticity for booking probability in the month of **July**, the middle month of summer. This means that whether property gets booked or not in July heavily depends on the relative price of the property. I have also plotted the monthly average price of the properties for reference."
      ]
    },
    {
      "cell_type": "code",
      "metadata": {
        "colab_type": "code",
        "id": "cqtXxSZ9y8ve",
        "colab": {}
      },
      "source": [
        "tuned_data_1[\"day_of_week\"] = \"\"\n",
        "tuned_data_1[\"day_of_week_num\"] = 8\n",
        "for day_of_week in [col.replace(\"day_of_week_\", \"\") for col in tuned_data_1.columns if col.startswith(\"day_of_week_\") and col not in [\"day_of_week\", \"day_of_week_num\"] ]:\n",
        "  query = f\"day_of_week_{day_of_week}\"\n",
        "  days_of_week_ordered = [\"Monday\", \"Tuesday\", \"Wednesday\", \"Thursday\", \"Friday\", \"Saturday\", \"Sunday\", \"nan\"]\n",
        "  tuned_data_1.loc[tuned_data_1[query] == 1, \"day_of_week\"] = day_of_week\n",
        "  tuned_data_1.loc[tuned_data_1[query] == 1, \"day_of_week_num\"] = days_of_week_ordered.index(day_of_week) + 1\n",
        " \n",
        "fig, ax = plt.subplots(figsize=(10,5))  \n",
        "bar_ax = tuned_data_1.query(\"price_elasticity > 0\").sort_values(by=[\"day_of_week_num\"]).groupby([\"day_of_week\"], sort=False).mean()['price_elasticity'].plot.bar(ax=ax)\n",
        "bar_ax.set_xlabel(\"Day of week\")\n",
        "bar_ax.set_ylabel(\"Average Price elasticity for booking probability\")\n",
        "elasticity_threshold_line = bar_ax.axhline(y=0.4, color=\"g\")\n",
        "bar_ax.legend((elasticity_threshold_line,), (\"Price elasticity = 0.4\",))\n",
        "title = bar_ax.set_title(\"Trend between day of week and price elasticity across properties\")"
      ],
      "execution_count": 0,
      "outputs": []
    },
    {
      "cell_type": "markdown",
      "metadata": {
        "id": "BQepdyeqZmh_",
        "colab_type": "text"
      },
      "source": [
        "## TODO:\n",
        "Add average price per day plot in the graph for reference."
      ]
    },
    {
      "cell_type": "markdown",
      "metadata": {
        "colab_type": "text",
        "id": "7ea7_Ly05CIX"
      },
      "source": [
        "It's evident from the above graph that this sample demonstrates highest price elasticity for booking probability on **Saturday**. This means that whether property gets booked or not for Saturday, heavily depends on the relative price of the property."
      ]
    },
    {
      "cell_type": "markdown",
      "metadata": {
        "id": "saqJHoS7cbtj",
        "colab_type": "text"
      },
      "source": [
        "## TODO\n",
        "Plot the graph of number of properties available across the year."
      ]
    },
    {
      "cell_type": "markdown",
      "metadata": {
        "colab_type": "text",
        "id": "bfPqBLGiJBzW"
      },
      "source": [
        "## Finally, for which properties do we choose to tune the prices to maximise expected revenue?\n"
      ]
    },
    {
      "cell_type": "markdown",
      "metadata": {
        "colab_type": "text",
        "id": "4ytjkPSDcEL7"
      },
      "source": [
        "As different properties show different amount of price sensitivity under given day and market condition, we can choose which properties should be considered for tuning prices based on the price elasticity."
      ]
    },
    {
      "cell_type": "code",
      "metadata": {
        "colab_type": "code",
        "id": "H-wZwfoMQ18S",
        "colab": {}
      },
      "source": [
        "thresholds = list(float_range(\"0.0\", \"1.0\", \"0.05\"))\n",
        "percentage_change_in_expected_revenue = []\n",
        "for threshold in thresholds:\n",
        "  expected_revenue_from_props_above_threshold = tuned_data.query(\"price_elasticity >= @threshold\")[\"expected_revenue_recommended_price\"].sum()\n",
        "  expected_revenue_from_props_below_threshold = tuned_data.query(\"price_elasticity < @threshold\")[\"expected_revenue_current_price\"].sum()\n",
        "  expected_revenue_from_all_at_current_price = tuned_data[\"expected_revenue_current_price\"].sum()\n",
        "  change = (expected_revenue_from_props_below_threshold + expected_revenue_from_props_above_threshold - expected_revenue_from_all_at_current_price)/expected_revenue_from_all_at_current_price\n",
        "  percentage_change_in_expected_revenue.append(change)\n",
        "\n",
        "fig, ax = plt.subplots(figsize=(10,5))\n",
        "sns.set_style(\"whitegrid\")\n",
        "ax = sns.lineplot(x=list(thresholds), y=percentage_change_in_expected_revenue, ax=ax)\n",
        "ax.set_xlabel(\"Minimum price elasticity of property required to be eligible for price tuning\")\n",
        "ax.set_ylabel(\"Percentage of increment in expected revenue\")\n",
        "vals = ax.get_yticks()\n",
        "yticks = ax.set_yticklabels(['{:,.0%}'.format(x) for x in vals])\n",
        "title = ax.set_title(\"Increment in expected revenue vs. minimum threshold for price elasticity\")"
      ],
      "execution_count": 0,
      "outputs": []
    },
    {
      "cell_type": "markdown",
      "metadata": {
        "colab_type": "text",
        "id": "tGtTSYNheoY4"
      },
      "source": [
        "- If we choose to tune all the properties with positive price elasticity in our sample, the projected percentage of change in expected revenue according to XGBoost predictor is near 7.5%.\n",
        "- If instead, we choose to tune prices for only those properties with price elasticity greater than 0.4, then projected percentage of change in expected revenue is 1.5%."
      ]
    },
    {
      "cell_type": "markdown",
      "metadata": {
        "colab_type": "text",
        "id": "S3USkXgnswjX"
      },
      "source": [
        "### Ideas for improvement in accuracy of this predictive model\n",
        "- Accuracy of predicting the probability of the property getting booked can be further improved by using all the training data availabile for training the Extreme Gradient Boosting model. Currently I have used only 100,000 samples execute my code within memory constraints imposed by Google Colab environment.\n",
        "- Alternate models like deep neural network can also be utilized with availability of larger dataset and computing resources to train it and choosing the most optimal hyperparameters like number of hidden layers and number of neurons in each layer etc.\n",
        "\n",
        "This kind of improvements can result in more accurate prediction about the expected revenue from property at given price point."
      ]
    },
    {
      "cell_type": "markdown",
      "metadata": {
        "colab_type": "text",
        "id": "Sc8FY7eSmop1"
      },
      "source": [
        "## Application of this price tuning model based on predictive analysis\n",
        "Booking companies like **Booking.com**, **Trivago** and **OYO** can benefit from such kind of predictive price tuning model because they have more control over the booking price of the hotel room. Such a company can easily look at its past data of having each room offered at different prices and estimating the price elasticity for demand for each hotel room of some type. It can then train a predictive model for estimating the probability of a property getting booked at given price point on given day and market scenario. After calculating the price elasticity for given property, it can then tune the price of the hotel room type using above suggested method such that it maximizes expected revenue from that hotel room type on given day."
      ]
    }
  ]
}