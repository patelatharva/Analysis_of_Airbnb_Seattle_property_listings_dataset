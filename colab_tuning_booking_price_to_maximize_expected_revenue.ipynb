{
 "cells": [
  {
   "cell_type": "markdown",
   "metadata": {
    "colab_type": "text",
    "id": "view-in-github"
   },
   "source": [
    "<a href=\"https://colab.research.google.com/github/patelatharva/Analysis_of_Airbnb_property_listings_dataset/blob/master/colab_tuning_booking_price_to_maximize_expected_revenue.ipynb\" target=\"_parent\"><img src=\"https://colab.research.google.com/assets/colab-badge.svg\" alt=\"Open In Colab\"/></a>"
   ]
  },
  {
   "cell_type": "markdown",
   "metadata": {
    "colab_type": "text",
    "id": "bB67i5sRvR3b"
   },
   "source": [
    "# A predictive analysis of how a booking company tune its prices of individual properties to maximize expected revenue"
   ]
  },
  {
   "cell_type": "code",
   "execution_count": 1,
   "metadata": {
    "colab": {
     "base_uri": "https://localhost:8080/",
     "height": 105
    },
    "colab_type": "code",
    "id": "jmbLKuzJyFkm",
    "outputId": "8e3d98a6-b409-4860-f99e-c31529bee5ca"
   },
   "outputs": [
    {
     "name": "stderr",
     "output_type": "stream",
     "text": [
      "/Users/atharva/.pyenv/versions/anaconda3-2019.03/lib/python3.7/site-packages/sklearn/externals/joblib/__init__.py:15: DeprecationWarning: sklearn.externals.joblib is deprecated in 0.21 and will be removed in 0.23. Please import this functionality directly from joblib, which can be installed with: pip install joblib. If this warning is raised when loading pickled models, you may need to re-serialize those models with scikit-learn 0.21+.\n",
      "  warnings.warn(msg, category=DeprecationWarning)\n",
      "Using TensorFlow backend.\n"
     ]
    }
   ],
   "source": [
    "import os\n",
    "import numpy as np\n",
    "import pandas as pd\n",
    "import matplotlib.pyplot as plt\n",
    "import matplotlib.dates as mdates\n",
    "from sklearn.model_selection import GridSearchCV\n",
    "from sklearn.model_selection import train_test_split\n",
    "from sklearn.metrics import r2_score, mean_squared_error\n",
    "import seaborn as sns\n",
    "from pandas.plotting import register_matplotlib_converters\n",
    "register_matplotlib_converters()\n",
    "%matplotlib inline\n",
    "import glob\n",
    "import pickle\n",
    "import time\n",
    "from sklearn.metrics import roc_auc_score, f1_score, log_loss\n",
    "from sklearn.tree import DecisionTreeClassifier\n",
    "from sklearn.ensemble import GradientBoostingClassifier, AdaBoostClassifier, RandomForestClassifier\n",
    "from sklearn.svm import SVC\n",
    "import math\n",
    "from sklearn.base import clone\n",
    "!pip install -q scikit-optimize\n",
    "from skopt import gp_minimize\n",
    "!pip install -q hyperopt\n",
    "import hyperopt\n",
    "from hyperopt import fmin, tpe, hp, STATUS_OK, Trials\n",
    "from hyperopt import space_eval\n",
    "!pip install -q keras\n",
    "!pip install -q tensorflow\n",
    "import tensorflow as tf\n",
    "from tensorflow import keras\n",
    "from keras.models import Sequential\n",
    "from keras.layers import Activation, Dense, Dropout, BatchNormalization\n",
    "from keras.wrappers.scikit_learn import KerasClassifier\n",
    "from keras.optimizers import Adam\n",
    "from keras.callbacks import EarlyStopping, ModelCheckpoint\n",
    "!pip install -q h5py\n",
    "from keras.models import load_model\n",
    "import pprint\n",
    "import random\n",
    "from sklearn.linear_model import Ridge, LinearRegression\n",
    "from sklearn.preprocessing import PolynomialFeatures\n",
    "from sklearn.pipeline import make_pipeline\n",
    "!pip install -q xgboost\n",
    "from xgboost import XGBClassifier\n",
    "# from google.colab import drive\n",
    "import gc\n",
    "import seaborn as sns"
   ]
  },
  {
   "cell_type": "markdown",
   "metadata": {
    "colab_type": "text",
    "id": "cu9Gc4QLyFk1"
   },
   "source": [
    "## Data Preparation"
   ]
  },
  {
   "cell_type": "code",
   "execution_count": 3,
   "metadata": {
    "colab": {
     "base_uri": "https://localhost:8080/",
     "height": 122
    },
    "colab_type": "code",
    "id": "EoAef2Tqz406",
    "outputId": "95d45309-5391-4c70-fd4c-adf93862c7eb"
   },
   "outputs": [
    {
     "name": "stdout",
     "output_type": "stream",
     "text": [
      "Go to this URL in a browser: https://accounts.google.com/o/oauth2/auth?client_id=947318989803-6bn6qk8qdgf4n4g3pfee6491hc0brc4i.apps.googleusercontent.com&redirect_uri=urn%3Aietf%3Awg%3Aoauth%3A2.0%3Aoob&scope=email%20https%3A%2F%2Fwww.googleapis.com%2Fauth%2Fdocs.test%20https%3A%2F%2Fwww.googleapis.com%2Fauth%2Fdrive%20https%3A%2F%2Fwww.googleapis.com%2Fauth%2Fdrive.photos.readonly%20https%3A%2F%2Fwww.googleapis.com%2Fauth%2Fpeopleapi.readonly&response_type=code\n",
      "\n",
      "Enter your authorization code:\n",
      "··········\n",
      "Mounted at /content/gdrive\n"
     ]
    }
   ],
   "source": [
    "# drive.mount('/content/gdrive')"
   ]
  },
  {
   "cell_type": "code",
   "execution_count": 4,
   "metadata": {
    "colab": {
     "base_uri": "https://localhost:8080/",
     "height": 34
    },
    "colab_type": "code",
    "id": "CfFaiZyK0WAl",
    "outputId": "07082907-6e81-4eb2-b77e-bf4ba4c6d5c1"
   },
   "outputs": [
    {
     "name": "stdout",
     "output_type": "stream",
     "text": [
      "calendar.csv  listings.csv  reviews.csv\n"
     ]
    }
   ],
   "source": [
    "# !ls \"/content/gdrive/My Drive/Data Scientist/airbnb/data/seattle\""
   ]
  },
  {
   "cell_type": "code",
   "execution_count": 0,
   "metadata": {
    "colab": {},
    "colab_type": "code",
    "id": "d-N4NAgE0sPQ"
   },
   "outputs": [],
   "source": [
    "# project_dir = \"/content/gdrive/My Drive/Data Scientist/airbnb\""
   ]
  },
  {
   "cell_type": "code",
   "execution_count": 2,
   "metadata": {
    "colab": {},
    "colab_type": "code",
    "id": "8zLzWyzWhsdi"
   },
   "outputs": [],
   "source": [
    "project_dir = \".\""
   ]
  },
  {
   "cell_type": "code",
   "execution_count": 3,
   "metadata": {
    "colab": {},
    "colab_type": "code",
    "id": "9xA9_U2WDdIf"
   },
   "outputs": [],
   "source": [
    "data_dir = project_dir + \"/data/seattle\""
   ]
  },
  {
   "cell_type": "code",
   "execution_count": 4,
   "metadata": {
    "colab": {},
    "colab_type": "code",
    "id": "V_Mb4_9pyFk2"
   },
   "outputs": [],
   "source": [
    "calendar = pd.read_csv(data_dir + \"/calendar.csv\")\n",
    "reviews = pd.read_csv(data_dir + \"/reviews.csv\")\n",
    "listings = pd.read_csv(data_dir + \"/listings.csv\")"
   ]
  },
  {
   "cell_type": "code",
   "execution_count": 5,
   "metadata": {
    "colab": {
     "base_uri": "https://localhost:8080/",
     "height": 34
    },
    "colab_type": "code",
    "id": "3QkIcOZ6Fl_R",
    "outputId": "cf4b7237-81e2-46ee-97c6-bdbcc88366ac"
   },
   "outputs": [
    {
     "data": {
      "text/plain": [
       "3818"
      ]
     },
     "execution_count": 5,
     "metadata": {},
     "output_type": "execute_result"
    }
   ],
   "source": [
    "listings[\"id\"].nunique()"
   ]
  },
  {
   "cell_type": "markdown",
   "metadata": {
    "colab_type": "text",
    "id": "hlXy-voYyFk5"
   },
   "source": [
    "### Transforming 'price' from string to numeric"
   ]
  },
  {
   "cell_type": "code",
   "execution_count": 6,
   "metadata": {
    "colab": {
     "base_uri": "https://localhost:8080/",
     "height": 119
    },
    "colab_type": "code",
    "id": "3XKSmbEjyFk6",
    "outputId": "c9a90f07-8f37-46bf-c11d-cdb68fe22186"
   },
   "outputs": [
    {
     "data": {
      "text/plain": [
       "0     85.0\n",
       "1    150.0\n",
       "2    975.0\n",
       "3    100.0\n",
       "4    450.0\n",
       "Name: price, dtype: float64"
      ]
     },
     "execution_count": 6,
     "metadata": {},
     "output_type": "execute_result"
    }
   ],
   "source": [
    "\"\"\"\n",
    "    Converts price in the string format like \"$1,125.00\" into numeric value 1125.00\n",
    "    INPUT:\n",
    "    - string price in string format\n",
    "    OUTPUT:\n",
    "    - float value corresponding to the price or None if the input is not parseable to float\n",
    "\"\"\"\n",
    "def str_to_num (string):\n",
    "    if string is not None:\n",
    "        if type(string) is str and string.startswith('$'):\n",
    "            return float(string.replace('$', '').replace(',', ''))\n",
    "        else:\n",
    "            return None\n",
    "    else:\n",
    "        return None\n",
    "listings_cleaned = pd.concat([listings.drop('price', axis=1), listings[\"price\"].apply(str_to_num)], axis=1)\n",
    "listings_cleaned['price'].head()"
   ]
  },
  {
   "cell_type": "code",
   "execution_count": 7,
   "metadata": {
    "colab": {
     "base_uri": "https://localhost:8080/",
     "height": 119
    },
    "colab_type": "code",
    "id": "S-oBi3pYyFk9",
    "outputId": "e0b74935-f3e9-43d2-9f11-3242fd33439d"
   },
   "outputs": [
    {
     "data": {
      "text/plain": [
       "0    85.0\n",
       "1    85.0\n",
       "2     NaN\n",
       "3     NaN\n",
       "4     NaN\n",
       "Name: price, dtype: float64"
      ]
     },
     "execution_count": 7,
     "metadata": {},
     "output_type": "execute_result"
    }
   ],
   "source": [
    "calendar_cleaned = pd.concat([calendar.drop('price', axis=1), calendar[\"price\"].apply(str_to_num)], axis=1)\n",
    "calendar_cleaned['price'].head()"
   ]
  },
  {
   "cell_type": "markdown",
   "metadata": {
    "colab_type": "text",
    "id": "C0S7xcx6yFlA"
   },
   "source": [
    "### Converting 'avilable' field from string to binary"
   ]
  },
  {
   "cell_type": "code",
   "execution_count": 8,
   "metadata": {
    "colab": {
     "base_uri": "https://localhost:8080/",
     "height": 119
    },
    "colab_type": "code",
    "id": "Gj4ErNR1yFlB",
    "outputId": "0a0205eb-ccdf-433e-84a5-15974b7c70fc"
   },
   "outputs": [
    {
     "data": {
      "text/plain": [
       "0     True\n",
       "1     True\n",
       "2    False\n",
       "3    False\n",
       "4    False\n",
       "Name: available, dtype: bool"
      ]
     },
     "execution_count": 8,
     "metadata": {},
     "output_type": "execute_result"
    }
   ],
   "source": [
    "calendar_cleaned['available'] = calendar_cleaned['available'] == 't'\n",
    "calendar_cleaned['available'].head()"
   ]
  },
  {
   "cell_type": "markdown",
   "metadata": {
    "colab_type": "text",
    "id": "2CRwPuIqyFlE"
   },
   "source": [
    "### Converting 'date' from string to datetime format"
   ]
  },
  {
   "cell_type": "code",
   "execution_count": 9,
   "metadata": {
    "colab": {},
    "colab_type": "code",
    "id": "1AzGFXl8yFlF"
   },
   "outputs": [],
   "source": [
    "calendar_cleaned[\"date\"] = pd.to_datetime(calendar_cleaned[\"date\"], format=\"%Y-%m-%d\")"
   ]
  },
  {
   "cell_type": "markdown",
   "metadata": {
    "colab_type": "text",
    "id": "ckk-R1R3yFlJ"
   },
   "source": [
    "### Converting location field from numeric to categorical"
   ]
  },
  {
   "cell_type": "code",
   "execution_count": 10,
   "metadata": {
    "colab": {},
    "colab_type": "code",
    "id": "TuPJ39X1yFlK"
   },
   "outputs": [],
   "source": [
    "listings_cleaned[\"location_categorical\"] = listings_cleaned.apply(lambda row: str((format(row.latitude, '.2f'), format(row.longitude, '.2f'))), axis=1)"
   ]
  },
  {
   "cell_type": "code",
   "execution_count": 11,
   "metadata": {
    "colab": {
     "base_uri": "https://localhost:8080/",
     "height": 119
    },
    "colab_type": "code",
    "id": "k8o4rtMQyFlN",
    "outputId": "8e323a84-17b3-4c28-b438-8d82a6bb4ed2"
   },
   "outputs": [
    {
     "data": {
      "text/plain": [
       "0    ('47.64', '-122.37')\n",
       "1    ('47.64', '-122.37')\n",
       "2    ('47.63', '-122.37')\n",
       "3    ('47.64', '-122.37')\n",
       "4    ('47.63', '-122.37')\n",
       "Name: location_categorical, dtype: object"
      ]
     },
     "execution_count": 11,
     "metadata": {},
     "output_type": "execute_result"
    }
   ],
   "source": [
    "listings_cleaned.location_categorical.head()"
   ]
  },
  {
   "cell_type": "markdown",
   "metadata": {
    "colab_type": "text",
    "id": "ImOYNZ59yFlP"
   },
   "source": [
    "### Converting 'amenities' field containing list into separate categorical columns for each amenity in dataframe"
   ]
  },
  {
   "cell_type": "code",
   "execution_count": 12,
   "metadata": {
    "colab": {
     "base_uri": "https://localhost:8080/",
     "height": 187
    },
    "colab_type": "code",
    "id": "7L1sEyWwyFlQ",
    "outputId": "32ffc37a-322c-4b15-e28b-c87cb740d149"
   },
   "outputs": [
    {
     "data": {
      "text/plain": [
       "['TV',\n",
       " 'Cable TV',\n",
       " 'Internet',\n",
       " 'Wireless Internet',\n",
       " 'Air Conditioning',\n",
       " 'Kitchen',\n",
       " 'Heating',\n",
       " 'Family/Kid Friendly',\n",
       " 'Washer',\n",
       " 'Dryer']"
      ]
     },
     "execution_count": 12,
     "metadata": {},
     "output_type": "execute_result"
    }
   ],
   "source": [
    "list(map(lambda amenity : amenity.replace(\"\\\"\",\"\").replace(\"{\",\"\").replace(\"}\", \"\"), listings_cleaned.amenities.iloc[0].split(\",\")))"
   ]
  },
  {
   "cell_type": "code",
   "execution_count": 13,
   "metadata": {
    "colab": {},
    "colab_type": "code",
    "id": "it7hiVFtyFlT"
   },
   "outputs": [],
   "source": [
    "\"\"\"\n",
    "    Separates the string value of `amenities` attribute in the row, into a list of individual amenities.\n",
    "    \n",
    "    INPUT:\n",
    "    - row : from dataset having amenities attribute\n",
    "    OUTPUT:    \n",
    "    - list of amenities derived from the value of `amenities` attribute in row\n",
    "\"\"\"\n",
    "def separate_amenities(row):\n",
    "    amenities = row.amenities\n",
    "    list_to_return = []\n",
    "    if (amenities is not None and type(amenities) == str):            \n",
    "        list_to_return = list(map(lambda amenity : amenity.replace(\"\\\"\",\"\").replace(\"{\",\"\").replace(\"}\", \"\"), amenities.split(\",\")))\n",
    "    if '' in list_to_return:\n",
    "        list_to_return.remove('')\n",
    "    return list_to_return\n",
    "listings_cleaned[\"amenities_list\"] = listings_cleaned.apply(separate_amenities, axis=1)"
   ]
  },
  {
   "cell_type": "code",
   "execution_count": 14,
   "metadata": {
    "colab": {
     "base_uri": "https://localhost:8080/",
     "height": 238
    },
    "colab_type": "code",
    "id": "YHE5MnhryFlV",
    "outputId": "a7f6b0ad-ae93-499e-c672-7625e8cebf06"
   },
   "outputs": [
    {
     "data": {
      "text/plain": [
       "array(['TV', 'Cable TV', 'Internet', 'Wireless Internet',\n",
       "       'Air Conditioning', 'Kitchen', 'Heating', 'Family/Kid Friendly',\n",
       "       'Washer', 'Dryer', 'Free Parking on Premises',\n",
       "       'Buzzer/Wireless Intercom', 'Smoke Detector',\n",
       "       'Carbon Monoxide Detector', 'First Aid Kit', 'Safety Card',\n",
       "       'Fire Extinguisher', 'Essentials', 'Pets Allowed',\n",
       "       'Pets live on this property', 'Dog(s)', 'Cat(s)', 'Hot Tub',\n",
       "       'Indoor Fireplace', 'Shampoo', 'Breakfast', '24-Hour Check-in',\n",
       "       'Hangers', 'Hair Dryer', 'Iron', 'Laptop Friendly Workspace',\n",
       "       'Suitable for Events', 'Elevator in Building',\n",
       "       'Lock on Bedroom Door', 'Wheelchair Accessible', 'Gym', 'Pool',\n",
       "       'Smoking Allowed', 'Other pet(s)', 'Doorman', 'Washer / Dryer'],\n",
       "      dtype=object)"
      ]
     },
     "execution_count": 14,
     "metadata": {},
     "output_type": "execute_result"
    }
   ],
   "source": [
    "possible_amenities = listings_cleaned['amenities_list'].apply(pd.Series).stack().unique()\n",
    "possible_amenities"
   ]
  },
  {
   "cell_type": "code",
   "execution_count": 15,
   "metadata": {
    "colab": {},
    "colab_type": "code",
    "id": "bXSkJj4YyFlZ"
   },
   "outputs": [],
   "source": [
    "\"\"\"\n",
    "    Assigns new boolean attribute to the row based on the presence of that amenity in the list.\n",
    "    Returns updated row with additional attributes corresponding to the amenities added to it.\n",
    "    \n",
    "    INPUT:\n",
    "    - row containing attributes related to the property, including `amenities_list`\n",
    "    OUTPUT:\n",
    "    - row containing newly added boolean attributes indicating the presence of each possible type of amenity in the property\n",
    "\"\"\"\n",
    "def add_amenities_columns (row):\n",
    "    amenities = set(row.amenities_list)\n",
    "    for possible_amenity in possible_amenities:\n",
    "        row[\"amenity_\" + possible_amenity] = possible_amenity in amenities\n",
    "    return row\n",
    "\n",
    "listings_cleaned = listings_cleaned.apply(add_amenities_columns, axis=1)"
   ]
  },
  {
   "cell_type": "markdown",
   "metadata": {
    "colab_type": "text",
    "id": "bjrJ8WFnyFlc"
   },
   "source": [
    "### Identifying the activation date for each property listing"
   ]
  },
  {
   "cell_type": "code",
   "execution_count": 16,
   "metadata": {
    "colab": {
     "base_uri": "https://localhost:8080/",
     "height": 669
    },
    "colab_type": "code",
    "id": "iQ1UfXr4yFlc",
    "outputId": "f7a71112-85a6-44f2-eeda-270cedb29764"
   },
   "outputs": [
    {
     "data": {
      "text/html": [
       "<div>\n",
       "<style scoped>\n",
       "    .dataframe tbody tr th:only-of-type {\n",
       "        vertical-align: middle;\n",
       "    }\n",
       "\n",
       "    .dataframe tbody tr th {\n",
       "        vertical-align: top;\n",
       "    }\n",
       "\n",
       "    .dataframe thead th {\n",
       "        text-align: right;\n",
       "    }\n",
       "</style>\n",
       "<table border=\"1\" class=\"dataframe\">\n",
       "  <thead>\n",
       "    <tr style=\"text-align: right;\">\n",
       "      <th></th>\n",
       "      <th>listing_id</th>\n",
       "      <th>date</th>\n",
       "      <th>available</th>\n",
       "      <th>price</th>\n",
       "    </tr>\n",
       "  </thead>\n",
       "  <tbody>\n",
       "    <tr>\n",
       "      <th>0</th>\n",
       "      <td>3335</td>\n",
       "      <td>2016-01-04</td>\n",
       "      <td>False</td>\n",
       "      <td>NaN</td>\n",
       "    </tr>\n",
       "    <tr>\n",
       "      <th>1</th>\n",
       "      <td>3335</td>\n",
       "      <td>2016-02-29</td>\n",
       "      <td>True</td>\n",
       "      <td>120.0</td>\n",
       "    </tr>\n",
       "    <tr>\n",
       "      <th>2</th>\n",
       "      <td>4291</td>\n",
       "      <td>2016-01-04</td>\n",
       "      <td>True</td>\n",
       "      <td>82.0</td>\n",
       "    </tr>\n",
       "    <tr>\n",
       "      <th>3</th>\n",
       "      <td>5682</td>\n",
       "      <td>2016-01-04</td>\n",
       "      <td>False</td>\n",
       "      <td>NaN</td>\n",
       "    </tr>\n",
       "    <tr>\n",
       "      <th>4</th>\n",
       "      <td>5682</td>\n",
       "      <td>2016-01-11</td>\n",
       "      <td>True</td>\n",
       "      <td>50.0</td>\n",
       "    </tr>\n",
       "    <tr>\n",
       "      <th>5</th>\n",
       "      <td>5682</td>\n",
       "      <td>2016-01-16</td>\n",
       "      <td>False</td>\n",
       "      <td>NaN</td>\n",
       "    </tr>\n",
       "    <tr>\n",
       "      <th>6</th>\n",
       "      <td>5682</td>\n",
       "      <td>2016-01-19</td>\n",
       "      <td>True</td>\n",
       "      <td>49.0</td>\n",
       "    </tr>\n",
       "    <tr>\n",
       "      <th>7</th>\n",
       "      <td>5682</td>\n",
       "      <td>2016-01-21</td>\n",
       "      <td>False</td>\n",
       "      <td>NaN</td>\n",
       "    </tr>\n",
       "    <tr>\n",
       "      <th>8</th>\n",
       "      <td>5682</td>\n",
       "      <td>2016-01-26</td>\n",
       "      <td>True</td>\n",
       "      <td>50.0</td>\n",
       "    </tr>\n",
       "    <tr>\n",
       "      <th>9</th>\n",
       "      <td>5682</td>\n",
       "      <td>2016-01-28</td>\n",
       "      <td>False</td>\n",
       "      <td>NaN</td>\n",
       "    </tr>\n",
       "    <tr>\n",
       "      <th>10</th>\n",
       "      <td>5682</td>\n",
       "      <td>2016-01-31</td>\n",
       "      <td>True</td>\n",
       "      <td>50.0</td>\n",
       "    </tr>\n",
       "    <tr>\n",
       "      <th>11</th>\n",
       "      <td>5682</td>\n",
       "      <td>2016-02-05</td>\n",
       "      <td>False</td>\n",
       "      <td>NaN</td>\n",
       "    </tr>\n",
       "    <tr>\n",
       "      <th>12</th>\n",
       "      <td>5682</td>\n",
       "      <td>2016-02-09</td>\n",
       "      <td>True</td>\n",
       "      <td>42.0</td>\n",
       "    </tr>\n",
       "    <tr>\n",
       "      <th>13</th>\n",
       "      <td>5682</td>\n",
       "      <td>2016-02-28</td>\n",
       "      <td>False</td>\n",
       "      <td>NaN</td>\n",
       "    </tr>\n",
       "    <tr>\n",
       "      <th>14</th>\n",
       "      <td>5682</td>\n",
       "      <td>2016-03-14</td>\n",
       "      <td>True</td>\n",
       "      <td>53.0</td>\n",
       "    </tr>\n",
       "    <tr>\n",
       "      <th>15</th>\n",
       "      <td>5682</td>\n",
       "      <td>2016-03-15</td>\n",
       "      <td>False</td>\n",
       "      <td>NaN</td>\n",
       "    </tr>\n",
       "    <tr>\n",
       "      <th>16</th>\n",
       "      <td>5682</td>\n",
       "      <td>2016-03-19</td>\n",
       "      <td>True</td>\n",
       "      <td>53.0</td>\n",
       "    </tr>\n",
       "    <tr>\n",
       "      <th>17</th>\n",
       "      <td>5682</td>\n",
       "      <td>2016-03-20</td>\n",
       "      <td>False</td>\n",
       "      <td>NaN</td>\n",
       "    </tr>\n",
       "    <tr>\n",
       "      <th>18</th>\n",
       "      <td>5682</td>\n",
       "      <td>2016-03-23</td>\n",
       "      <td>True</td>\n",
       "      <td>53.0</td>\n",
       "    </tr>\n",
       "    <tr>\n",
       "      <th>19</th>\n",
       "      <td>5682</td>\n",
       "      <td>2016-04-11</td>\n",
       "      <td>False</td>\n",
       "      <td>NaN</td>\n",
       "    </tr>\n",
       "  </tbody>\n",
       "</table>\n",
       "</div>"
      ],
      "text/plain": [
       "    listing_id       date  available  price\n",
       "0         3335 2016-01-04      False    NaN\n",
       "1         3335 2016-02-29       True  120.0\n",
       "2         4291 2016-01-04       True   82.0\n",
       "3         5682 2016-01-04      False    NaN\n",
       "4         5682 2016-01-11       True   50.0\n",
       "5         5682 2016-01-16      False    NaN\n",
       "6         5682 2016-01-19       True   49.0\n",
       "7         5682 2016-01-21      False    NaN\n",
       "8         5682 2016-01-26       True   50.0\n",
       "9         5682 2016-01-28      False    NaN\n",
       "10        5682 2016-01-31       True   50.0\n",
       "11        5682 2016-02-05      False    NaN\n",
       "12        5682 2016-02-09       True   42.0\n",
       "13        5682 2016-02-28      False    NaN\n",
       "14        5682 2016-03-14       True   53.0\n",
       "15        5682 2016-03-15      False    NaN\n",
       "16        5682 2016-03-19       True   53.0\n",
       "17        5682 2016-03-20      False    NaN\n",
       "18        5682 2016-03-23       True   53.0\n",
       "19        5682 2016-04-11      False    NaN"
      ]
     },
     "execution_count": 16,
     "metadata": {},
     "output_type": "execute_result"
    }
   ],
   "source": [
    "df = calendar_cleaned\n",
    "df = df.groupby('listing_id', group_keys=False)\\\n",
    "    .apply(lambda x: x[x.available.ne(x.available.shift())])\\\n",
    "    .reset_index(drop=True)\n",
    "df.head(20)"
   ]
  },
  {
   "cell_type": "code",
   "execution_count": 17,
   "metadata": {
    "colab": {},
    "colab_type": "code",
    "id": "-BIrFIUkyFlf"
   },
   "outputs": [],
   "source": [
    "listing_activation_dates = df[df.available == True].groupby(\"listing_id\")[[\"listing_id\",\"date\"]].min()"
   ]
  },
  {
   "cell_type": "code",
   "execution_count": 18,
   "metadata": {
    "colab": {
     "base_uri": "https://localhost:8080/",
     "height": 235
    },
    "colab_type": "code",
    "id": "pX3yGGkdyFli",
    "outputId": "670d04ca-07d3-4e1f-ffaf-12b756639def"
   },
   "outputs": [
    {
     "data": {
      "text/html": [
       "<div>\n",
       "<style scoped>\n",
       "    .dataframe tbody tr th:only-of-type {\n",
       "        vertical-align: middle;\n",
       "    }\n",
       "\n",
       "    .dataframe tbody tr th {\n",
       "        vertical-align: top;\n",
       "    }\n",
       "\n",
       "    .dataframe thead th {\n",
       "        text-align: right;\n",
       "    }\n",
       "</style>\n",
       "<table border=\"1\" class=\"dataframe\">\n",
       "  <thead>\n",
       "    <tr style=\"text-align: right;\">\n",
       "      <th></th>\n",
       "      <th>listing_id</th>\n",
       "      <th>date</th>\n",
       "    </tr>\n",
       "    <tr>\n",
       "      <th>listing_id</th>\n",
       "      <th></th>\n",
       "      <th></th>\n",
       "    </tr>\n",
       "  </thead>\n",
       "  <tbody>\n",
       "    <tr>\n",
       "      <th>4053972</th>\n",
       "      <td>4053972</td>\n",
       "      <td>2016-01-04</td>\n",
       "    </tr>\n",
       "    <tr>\n",
       "      <th>4783817</th>\n",
       "      <td>4783817</td>\n",
       "      <td>2016-01-04</td>\n",
       "    </tr>\n",
       "    <tr>\n",
       "      <th>4783585</th>\n",
       "      <td>4783585</td>\n",
       "      <td>2016-01-04</td>\n",
       "    </tr>\n",
       "    <tr>\n",
       "      <th>8487843</th>\n",
       "      <td>8487843</td>\n",
       "      <td>2016-01-04</td>\n",
       "    </tr>\n",
       "    <tr>\n",
       "      <th>8501721</th>\n",
       "      <td>8501721</td>\n",
       "      <td>2016-01-04</td>\n",
       "    </tr>\n",
       "  </tbody>\n",
       "</table>\n",
       "</div>"
      ],
      "text/plain": [
       "            listing_id       date\n",
       "listing_id                       \n",
       "4053972        4053972 2016-01-04\n",
       "4783817        4783817 2016-01-04\n",
       "4783585        4783585 2016-01-04\n",
       "8487843        8487843 2016-01-04\n",
       "8501721        8501721 2016-01-04"
      ]
     },
     "execution_count": 18,
     "metadata": {},
     "output_type": "execute_result"
    }
   ],
   "source": [
    "listing_activation_dates.sort_values(by=[\"date\"]).head()"
   ]
  },
  {
   "cell_type": "markdown",
   "metadata": {
    "colab_type": "text",
    "id": "ft6E_fCEyFls"
   },
   "source": [
    "### Only retaining entries in calendar for each property after its activation date"
   ]
  },
  {
   "cell_type": "code",
   "execution_count": 19,
   "metadata": {
    "colab": {},
    "colab_type": "code",
    "id": "9t9Cw9xVyFlt"
   },
   "outputs": [],
   "source": [
    "cal_by_listing_groups = calendar_cleaned.groupby([\"listing_id\"])"
   ]
  },
  {
   "cell_type": "code",
   "execution_count": 20,
   "metadata": {
    "colab": {
     "base_uri": "https://localhost:8080/",
     "height": 1000
    },
    "colab_type": "code",
    "id": "-Q3DS-JHyFly",
    "outputId": "2825f629-ed53-44c4-be3d-a279e117ec4c"
   },
   "outputs": [
    {
     "data": {
      "text/html": [
       "<div>\n",
       "<style scoped>\n",
       "    .dataframe tbody tr th:only-of-type {\n",
       "        vertical-align: middle;\n",
       "    }\n",
       "\n",
       "    .dataframe tbody tr th {\n",
       "        vertical-align: top;\n",
       "    }\n",
       "\n",
       "    .dataframe thead th {\n",
       "        text-align: right;\n",
       "    }\n",
       "</style>\n",
       "<table border=\"1\" class=\"dataframe\">\n",
       "  <thead>\n",
       "    <tr style=\"text-align: right;\">\n",
       "      <th></th>\n",
       "      <th>listing_id</th>\n",
       "      <th>date</th>\n",
       "      <th>available</th>\n",
       "      <th>price</th>\n",
       "    </tr>\n",
       "  </thead>\n",
       "  <tbody>\n",
       "    <tr>\n",
       "      <th>0</th>\n",
       "      <td>241032</td>\n",
       "      <td>2016-01-04</td>\n",
       "      <td>True</td>\n",
       "      <td>85.0</td>\n",
       "    </tr>\n",
       "    <tr>\n",
       "      <th>1</th>\n",
       "      <td>241032</td>\n",
       "      <td>2016-01-05</td>\n",
       "      <td>True</td>\n",
       "      <td>85.0</td>\n",
       "    </tr>\n",
       "    <tr>\n",
       "      <th>2</th>\n",
       "      <td>241032</td>\n",
       "      <td>2016-01-06</td>\n",
       "      <td>False</td>\n",
       "      <td>NaN</td>\n",
       "    </tr>\n",
       "    <tr>\n",
       "      <th>3</th>\n",
       "      <td>241032</td>\n",
       "      <td>2016-01-07</td>\n",
       "      <td>False</td>\n",
       "      <td>NaN</td>\n",
       "    </tr>\n",
       "    <tr>\n",
       "      <th>4</th>\n",
       "      <td>241032</td>\n",
       "      <td>2016-01-08</td>\n",
       "      <td>False</td>\n",
       "      <td>NaN</td>\n",
       "    </tr>\n",
       "    <tr>\n",
       "      <th>365</th>\n",
       "      <td>953595</td>\n",
       "      <td>2016-01-04</td>\n",
       "      <td>True</td>\n",
       "      <td>125.0</td>\n",
       "    </tr>\n",
       "    <tr>\n",
       "      <th>366</th>\n",
       "      <td>953595</td>\n",
       "      <td>2016-01-05</td>\n",
       "      <td>True</td>\n",
       "      <td>125.0</td>\n",
       "    </tr>\n",
       "    <tr>\n",
       "      <th>367</th>\n",
       "      <td>953595</td>\n",
       "      <td>2016-01-06</td>\n",
       "      <td>False</td>\n",
       "      <td>NaN</td>\n",
       "    </tr>\n",
       "    <tr>\n",
       "      <th>368</th>\n",
       "      <td>953595</td>\n",
       "      <td>2016-01-07</td>\n",
       "      <td>False</td>\n",
       "      <td>NaN</td>\n",
       "    </tr>\n",
       "    <tr>\n",
       "      <th>369</th>\n",
       "      <td>953595</td>\n",
       "      <td>2016-01-08</td>\n",
       "      <td>False</td>\n",
       "      <td>NaN</td>\n",
       "    </tr>\n",
       "    <tr>\n",
       "      <th>730</th>\n",
       "      <td>3308979</td>\n",
       "      <td>2016-01-04</td>\n",
       "      <td>True</td>\n",
       "      <td>975.0</td>\n",
       "    </tr>\n",
       "    <tr>\n",
       "      <th>731</th>\n",
       "      <td>3308979</td>\n",
       "      <td>2016-01-05</td>\n",
       "      <td>False</td>\n",
       "      <td>NaN</td>\n",
       "    </tr>\n",
       "    <tr>\n",
       "      <th>732</th>\n",
       "      <td>3308979</td>\n",
       "      <td>2016-01-06</td>\n",
       "      <td>False</td>\n",
       "      <td>NaN</td>\n",
       "    </tr>\n",
       "    <tr>\n",
       "      <th>733</th>\n",
       "      <td>3308979</td>\n",
       "      <td>2016-01-07</td>\n",
       "      <td>False</td>\n",
       "      <td>NaN</td>\n",
       "    </tr>\n",
       "    <tr>\n",
       "      <th>734</th>\n",
       "      <td>3308979</td>\n",
       "      <td>2016-01-08</td>\n",
       "      <td>False</td>\n",
       "      <td>NaN</td>\n",
       "    </tr>\n",
       "    <tr>\n",
       "      <th>1095</th>\n",
       "      <td>7421966</td>\n",
       "      <td>2016-01-04</td>\n",
       "      <td>False</td>\n",
       "      <td>NaN</td>\n",
       "    </tr>\n",
       "    <tr>\n",
       "      <th>1096</th>\n",
       "      <td>7421966</td>\n",
       "      <td>2016-01-05</td>\n",
       "      <td>False</td>\n",
       "      <td>NaN</td>\n",
       "    </tr>\n",
       "    <tr>\n",
       "      <th>1097</th>\n",
       "      <td>7421966</td>\n",
       "      <td>2016-01-06</td>\n",
       "      <td>False</td>\n",
       "      <td>NaN</td>\n",
       "    </tr>\n",
       "    <tr>\n",
       "      <th>1098</th>\n",
       "      <td>7421966</td>\n",
       "      <td>2016-01-07</td>\n",
       "      <td>False</td>\n",
       "      <td>NaN</td>\n",
       "    </tr>\n",
       "    <tr>\n",
       "      <th>1099</th>\n",
       "      <td>7421966</td>\n",
       "      <td>2016-01-08</td>\n",
       "      <td>False</td>\n",
       "      <td>NaN</td>\n",
       "    </tr>\n",
       "    <tr>\n",
       "      <th>1460</th>\n",
       "      <td>278830</td>\n",
       "      <td>2016-01-04</td>\n",
       "      <td>True</td>\n",
       "      <td>600.0</td>\n",
       "    </tr>\n",
       "    <tr>\n",
       "      <th>1461</th>\n",
       "      <td>278830</td>\n",
       "      <td>2016-01-05</td>\n",
       "      <td>True</td>\n",
       "      <td>600.0</td>\n",
       "    </tr>\n",
       "    <tr>\n",
       "      <th>1462</th>\n",
       "      <td>278830</td>\n",
       "      <td>2016-01-06</td>\n",
       "      <td>True</td>\n",
       "      <td>600.0</td>\n",
       "    </tr>\n",
       "    <tr>\n",
       "      <th>1463</th>\n",
       "      <td>278830</td>\n",
       "      <td>2016-01-07</td>\n",
       "      <td>True</td>\n",
       "      <td>600.0</td>\n",
       "    </tr>\n",
       "    <tr>\n",
       "      <th>1464</th>\n",
       "      <td>278830</td>\n",
       "      <td>2016-01-08</td>\n",
       "      <td>True</td>\n",
       "      <td>600.0</td>\n",
       "    </tr>\n",
       "    <tr>\n",
       "      <th>1825</th>\n",
       "      <td>5956968</td>\n",
       "      <td>2016-01-04</td>\n",
       "      <td>False</td>\n",
       "      <td>NaN</td>\n",
       "    </tr>\n",
       "    <tr>\n",
       "      <th>1826</th>\n",
       "      <td>5956968</td>\n",
       "      <td>2016-01-05</td>\n",
       "      <td>False</td>\n",
       "      <td>NaN</td>\n",
       "    </tr>\n",
       "    <tr>\n",
       "      <th>1827</th>\n",
       "      <td>5956968</td>\n",
       "      <td>2016-01-06</td>\n",
       "      <td>False</td>\n",
       "      <td>NaN</td>\n",
       "    </tr>\n",
       "    <tr>\n",
       "      <th>1828</th>\n",
       "      <td>5956968</td>\n",
       "      <td>2016-01-07</td>\n",
       "      <td>False</td>\n",
       "      <td>NaN</td>\n",
       "    </tr>\n",
       "    <tr>\n",
       "      <th>1829</th>\n",
       "      <td>5956968</td>\n",
       "      <td>2016-01-08</td>\n",
       "      <td>False</td>\n",
       "      <td>NaN</td>\n",
       "    </tr>\n",
       "    <tr>\n",
       "      <th>...</th>\n",
       "      <td>...</td>\n",
       "      <td>...</td>\n",
       "      <td>...</td>\n",
       "      <td>...</td>\n",
       "    </tr>\n",
       "    <tr>\n",
       "      <th>1391380</th>\n",
       "      <td>3383329</td>\n",
       "      <td>2016-01-04</td>\n",
       "      <td>False</td>\n",
       "      <td>NaN</td>\n",
       "    </tr>\n",
       "    <tr>\n",
       "      <th>1391381</th>\n",
       "      <td>3383329</td>\n",
       "      <td>2016-01-05</td>\n",
       "      <td>False</td>\n",
       "      <td>NaN</td>\n",
       "    </tr>\n",
       "    <tr>\n",
       "      <th>1391382</th>\n",
       "      <td>3383329</td>\n",
       "      <td>2016-01-06</td>\n",
       "      <td>False</td>\n",
       "      <td>NaN</td>\n",
       "    </tr>\n",
       "    <tr>\n",
       "      <th>1391383</th>\n",
       "      <td>3383329</td>\n",
       "      <td>2016-01-07</td>\n",
       "      <td>False</td>\n",
       "      <td>NaN</td>\n",
       "    </tr>\n",
       "    <tr>\n",
       "      <th>1391384</th>\n",
       "      <td>3383329</td>\n",
       "      <td>2016-01-08</td>\n",
       "      <td>False</td>\n",
       "      <td>NaN</td>\n",
       "    </tr>\n",
       "    <tr>\n",
       "      <th>1391745</th>\n",
       "      <td>8101950</td>\n",
       "      <td>2016-01-04</td>\n",
       "      <td>True</td>\n",
       "      <td>359.0</td>\n",
       "    </tr>\n",
       "    <tr>\n",
       "      <th>1391746</th>\n",
       "      <td>8101950</td>\n",
       "      <td>2016-01-05</td>\n",
       "      <td>True</td>\n",
       "      <td>359.0</td>\n",
       "    </tr>\n",
       "    <tr>\n",
       "      <th>1391747</th>\n",
       "      <td>8101950</td>\n",
       "      <td>2016-01-06</td>\n",
       "      <td>True</td>\n",
       "      <td>359.0</td>\n",
       "    </tr>\n",
       "    <tr>\n",
       "      <th>1391748</th>\n",
       "      <td>8101950</td>\n",
       "      <td>2016-01-07</td>\n",
       "      <td>True</td>\n",
       "      <td>359.0</td>\n",
       "    </tr>\n",
       "    <tr>\n",
       "      <th>1391749</th>\n",
       "      <td>8101950</td>\n",
       "      <td>2016-01-08</td>\n",
       "      <td>True</td>\n",
       "      <td>359.0</td>\n",
       "    </tr>\n",
       "    <tr>\n",
       "      <th>1392110</th>\n",
       "      <td>8902327</td>\n",
       "      <td>2016-01-04</td>\n",
       "      <td>False</td>\n",
       "      <td>NaN</td>\n",
       "    </tr>\n",
       "    <tr>\n",
       "      <th>1392111</th>\n",
       "      <td>8902327</td>\n",
       "      <td>2016-01-05</td>\n",
       "      <td>False</td>\n",
       "      <td>NaN</td>\n",
       "    </tr>\n",
       "    <tr>\n",
       "      <th>1392112</th>\n",
       "      <td>8902327</td>\n",
       "      <td>2016-01-06</td>\n",
       "      <td>False</td>\n",
       "      <td>NaN</td>\n",
       "    </tr>\n",
       "    <tr>\n",
       "      <th>1392113</th>\n",
       "      <td>8902327</td>\n",
       "      <td>2016-01-07</td>\n",
       "      <td>False</td>\n",
       "      <td>NaN</td>\n",
       "    </tr>\n",
       "    <tr>\n",
       "      <th>1392114</th>\n",
       "      <td>8902327</td>\n",
       "      <td>2016-01-08</td>\n",
       "      <td>False</td>\n",
       "      <td>NaN</td>\n",
       "    </tr>\n",
       "    <tr>\n",
       "      <th>1392475</th>\n",
       "      <td>10267360</td>\n",
       "      <td>2016-01-04</td>\n",
       "      <td>False</td>\n",
       "      <td>NaN</td>\n",
       "    </tr>\n",
       "    <tr>\n",
       "      <th>1392476</th>\n",
       "      <td>10267360</td>\n",
       "      <td>2016-01-05</td>\n",
       "      <td>True</td>\n",
       "      <td>93.0</td>\n",
       "    </tr>\n",
       "    <tr>\n",
       "      <th>1392477</th>\n",
       "      <td>10267360</td>\n",
       "      <td>2016-01-06</td>\n",
       "      <td>True</td>\n",
       "      <td>93.0</td>\n",
       "    </tr>\n",
       "    <tr>\n",
       "      <th>1392478</th>\n",
       "      <td>10267360</td>\n",
       "      <td>2016-01-07</td>\n",
       "      <td>True</td>\n",
       "      <td>93.0</td>\n",
       "    </tr>\n",
       "    <tr>\n",
       "      <th>1392479</th>\n",
       "      <td>10267360</td>\n",
       "      <td>2016-01-08</td>\n",
       "      <td>True</td>\n",
       "      <td>75.0</td>\n",
       "    </tr>\n",
       "    <tr>\n",
       "      <th>1392840</th>\n",
       "      <td>9604740</td>\n",
       "      <td>2016-01-04</td>\n",
       "      <td>True</td>\n",
       "      <td>99.0</td>\n",
       "    </tr>\n",
       "    <tr>\n",
       "      <th>1392841</th>\n",
       "      <td>9604740</td>\n",
       "      <td>2016-01-05</td>\n",
       "      <td>True</td>\n",
       "      <td>99.0</td>\n",
       "    </tr>\n",
       "    <tr>\n",
       "      <th>1392842</th>\n",
       "      <td>9604740</td>\n",
       "      <td>2016-01-06</td>\n",
       "      <td>True</td>\n",
       "      <td>99.0</td>\n",
       "    </tr>\n",
       "    <tr>\n",
       "      <th>1392843</th>\n",
       "      <td>9604740</td>\n",
       "      <td>2016-01-07</td>\n",
       "      <td>True</td>\n",
       "      <td>99.0</td>\n",
       "    </tr>\n",
       "    <tr>\n",
       "      <th>1392844</th>\n",
       "      <td>9604740</td>\n",
       "      <td>2016-01-08</td>\n",
       "      <td>True</td>\n",
       "      <td>99.0</td>\n",
       "    </tr>\n",
       "    <tr>\n",
       "      <th>1393205</th>\n",
       "      <td>10208623</td>\n",
       "      <td>2016-01-04</td>\n",
       "      <td>True</td>\n",
       "      <td>87.0</td>\n",
       "    </tr>\n",
       "    <tr>\n",
       "      <th>1393206</th>\n",
       "      <td>10208623</td>\n",
       "      <td>2016-01-05</td>\n",
       "      <td>True</td>\n",
       "      <td>87.0</td>\n",
       "    </tr>\n",
       "    <tr>\n",
       "      <th>1393207</th>\n",
       "      <td>10208623</td>\n",
       "      <td>2016-01-06</td>\n",
       "      <td>True</td>\n",
       "      <td>87.0</td>\n",
       "    </tr>\n",
       "    <tr>\n",
       "      <th>1393208</th>\n",
       "      <td>10208623</td>\n",
       "      <td>2016-01-07</td>\n",
       "      <td>True</td>\n",
       "      <td>87.0</td>\n",
       "    </tr>\n",
       "    <tr>\n",
       "      <th>1393209</th>\n",
       "      <td>10208623</td>\n",
       "      <td>2016-01-08</td>\n",
       "      <td>False</td>\n",
       "      <td>NaN</td>\n",
       "    </tr>\n",
       "  </tbody>\n",
       "</table>\n",
       "<p>19090 rows × 4 columns</p>\n",
       "</div>"
      ],
      "text/plain": [
       "         listing_id       date  available  price\n",
       "0            241032 2016-01-04       True   85.0\n",
       "1            241032 2016-01-05       True   85.0\n",
       "2            241032 2016-01-06      False    NaN\n",
       "3            241032 2016-01-07      False    NaN\n",
       "4            241032 2016-01-08      False    NaN\n",
       "365          953595 2016-01-04       True  125.0\n",
       "366          953595 2016-01-05       True  125.0\n",
       "367          953595 2016-01-06      False    NaN\n",
       "368          953595 2016-01-07      False    NaN\n",
       "369          953595 2016-01-08      False    NaN\n",
       "730         3308979 2016-01-04       True  975.0\n",
       "731         3308979 2016-01-05      False    NaN\n",
       "732         3308979 2016-01-06      False    NaN\n",
       "733         3308979 2016-01-07      False    NaN\n",
       "734         3308979 2016-01-08      False    NaN\n",
       "1095        7421966 2016-01-04      False    NaN\n",
       "1096        7421966 2016-01-05      False    NaN\n",
       "1097        7421966 2016-01-06      False    NaN\n",
       "1098        7421966 2016-01-07      False    NaN\n",
       "1099        7421966 2016-01-08      False    NaN\n",
       "1460         278830 2016-01-04       True  600.0\n",
       "1461         278830 2016-01-05       True  600.0\n",
       "1462         278830 2016-01-06       True  600.0\n",
       "1463         278830 2016-01-07       True  600.0\n",
       "1464         278830 2016-01-08       True  600.0\n",
       "1825        5956968 2016-01-04      False    NaN\n",
       "1826        5956968 2016-01-05      False    NaN\n",
       "1827        5956968 2016-01-06      False    NaN\n",
       "1828        5956968 2016-01-07      False    NaN\n",
       "1829        5956968 2016-01-08      False    NaN\n",
       "...             ...        ...        ...    ...\n",
       "1391380     3383329 2016-01-04      False    NaN\n",
       "1391381     3383329 2016-01-05      False    NaN\n",
       "1391382     3383329 2016-01-06      False    NaN\n",
       "1391383     3383329 2016-01-07      False    NaN\n",
       "1391384     3383329 2016-01-08      False    NaN\n",
       "1391745     8101950 2016-01-04       True  359.0\n",
       "1391746     8101950 2016-01-05       True  359.0\n",
       "1391747     8101950 2016-01-06       True  359.0\n",
       "1391748     8101950 2016-01-07       True  359.0\n",
       "1391749     8101950 2016-01-08       True  359.0\n",
       "1392110     8902327 2016-01-04      False    NaN\n",
       "1392111     8902327 2016-01-05      False    NaN\n",
       "1392112     8902327 2016-01-06      False    NaN\n",
       "1392113     8902327 2016-01-07      False    NaN\n",
       "1392114     8902327 2016-01-08      False    NaN\n",
       "1392475    10267360 2016-01-04      False    NaN\n",
       "1392476    10267360 2016-01-05       True   93.0\n",
       "1392477    10267360 2016-01-06       True   93.0\n",
       "1392478    10267360 2016-01-07       True   93.0\n",
       "1392479    10267360 2016-01-08       True   75.0\n",
       "1392840     9604740 2016-01-04       True   99.0\n",
       "1392841     9604740 2016-01-05       True   99.0\n",
       "1392842     9604740 2016-01-06       True   99.0\n",
       "1392843     9604740 2016-01-07       True   99.0\n",
       "1392844     9604740 2016-01-08       True   99.0\n",
       "1393205    10208623 2016-01-04       True   87.0\n",
       "1393206    10208623 2016-01-05       True   87.0\n",
       "1393207    10208623 2016-01-06       True   87.0\n",
       "1393208    10208623 2016-01-07       True   87.0\n",
       "1393209    10208623 2016-01-08      False    NaN\n",
       "\n",
       "[19090 rows x 4 columns]"
      ]
     },
     "execution_count": 20,
     "metadata": {},
     "output_type": "execute_result"
    }
   ],
   "source": [
    "cal_by_listing_groups.head()"
   ]
  },
  {
   "cell_type": "code",
   "execution_count": 21,
   "metadata": {
    "colab": {},
    "colab_type": "code",
    "id": "-cjl8Nf-yFl2"
   },
   "outputs": [],
   "source": [
    "def select_entries_after_activation_date(g):\n",
    "\n",
    "    listing_id = g.name\n",
    "    activation_date_df = listing_activation_dates.query(\"listing_id == @listing_id\")[\"date\"]\n",
    "    if activation_date_df.shape[0] > 0:        \n",
    "        activation_date = activation_date_df.iloc[0]\n",
    "#         print(\"activatation_date: \" + str(activation_date))\n",
    "#         print(g[\"date\"].dtype)\n",
    "#         print(type(activation_date))\n",
    "        return g[g[\"date\"] <= activation_date]\n",
    "    \n",
    "    \n",
    "cal_after_activation_dates =cal_by_listing_groups.apply(select_entries_after_activation_date)"
   ]
  },
  {
   "cell_type": "markdown",
   "metadata": {
    "colab_type": "text",
    "id": "tQqPxkspyFl5"
   },
   "source": [
    "### Select and add necessary variables to be used for predicting occupancy of property at given time of the year"
   ]
  },
  {
   "cell_type": "code",
   "execution_count": 22,
   "metadata": {
    "colab": {},
    "colab_type": "code",
    "id": "JZn6nZ1kyFl6"
   },
   "outputs": [],
   "source": [
    "input_vars_from_listings = [\"neighbourhood_cleansed\", \n",
    "#                 \"neighbourhood_group_cleansed\",\n",
    "                \"city\",\n",
    "                \"state\",\n",
    "                \"zipcode\",\n",
    "                \"market\",\n",
    "                \"location_categorical\",\n",
    "                \"property_type\",\n",
    "                \"room_type\",\n",
    "                \"accommodates\",\n",
    "                \"bathrooms\",\n",
    "                \"bedrooms\",\n",
    "                \"beds\",\n",
    "                \"bed_type\",\n",
    "                \"square_feet\",\n",
    "                \"guests_included\",\n",
    "                \"minimum_nights\",\n",
    "                \"maximum_nights\",\n",
    "                \"review_scores_rating\",\n",
    "                \"review_scores_accuracy\",\n",
    "                  \"review_scores_cleanliness\",\n",
    "                  \"review_scores_checkin\",\n",
    "                  \"review_scores_communication\",\n",
    "                  \"review_scores_location\",\n",
    "                  \"review_scores_value\",\n",
    "#                   \"jurisdiction_names\",\n",
    "                  \"cancellation_policy\",\n",
    "#                   \"reviews_per_month\",\n",
    "                  \"number_of_reviews\"\n",
    "       ]\n",
    "amenity_variables = list(map(lambda amenity : \"amenity_\" + amenity, possible_amenities))\n",
    "input_vars_from_listings.extend(amenity_variables)\n"
   ]
  },
  {
   "cell_type": "code",
   "execution_count": 23,
   "metadata": {
    "colab": {},
    "colab_type": "code",
    "id": "bAlY2dhNyFl8"
   },
   "outputs": [],
   "source": [
    "avg_price_by_date = calendar_cleaned.groupby(\"date\")[[\"date\", \"price\"]].agg([\"mean\"])"
   ]
  },
  {
   "cell_type": "code",
   "execution_count": 24,
   "metadata": {
    "colab": {
     "base_uri": "https://localhost:8080/",
     "height": 350
    },
    "colab_type": "code",
    "id": "nHvyPFO7yFl_",
    "outputId": "29966728-1769-4653-b199-8e97c348bdfd"
   },
   "outputs": [
    {
     "data": {
      "image/png": "[encoded data removed]",
      "text/plain": [
       "<Figure size 864x360 with 1 Axes>"
      ]
     },
     "metadata": {
      "needs_background": "light"
     },
     "output_type": "display_data"
    }
   ],
   "source": [
    "prices_2016_17 = avg_price_by_date[avg_price_by_date.index >= calendar_cleaned[\"date\"].min()][avg_price_by_date.index <= calendar_cleaned[\"date\"].max()]\n",
    "dates = prices_2016_17.index\n",
    "months = mdates.MonthLocator()\n",
    "month_format = mdates.DateFormatter(\"%b\")\n",
    "fig, ax = plt.subplots()\n",
    "fig.set_size_inches(12,5)\n",
    "ax.plot(dates, prices_2016_17)\n",
    "ax.xaxis.set_major_locator(months)\n",
    "ax.xaxis.set_major_formatter(month_format)\n",
    "yticks = ax.get_yticks()\n",
    "# ax.set_yticklabels(['{}%'.format(y) for y in yticks])\n",
    "ax.set_xlabel(\"Month in 2016-17\")\n",
    "ax.set_ylabel(\"Average booking price in $ of property per night\")\n",
    "ax.set_title(\"Average booking price of properties listed on Airbnb in Boston in 2016-17\")\n",
    "plt.show()\n",
    "fig.savefig(project_dir + \"/images/average_booking_price_boston_2016_2017.png\")"
   ]
  },
  {
   "cell_type": "code",
   "execution_count": 25,
   "metadata": {
    "colab": {
     "base_uri": "https://localhost:8080/",
     "height": 350
    },
    "colab_type": "code",
    "id": "_j7Rm21eyFmC",
    "outputId": "26a42856-5b43-4278-8334-241ceb370a41"
   },
   "outputs": [
    {
     "data": {
      "image/png": "[encoded data removed]",
      "text/plain": [
       "<Figure size 1008x360 with 1 Axes>"
      ]
     },
     "metadata": {
      "needs_background": "light"
     },
     "output_type": "display_data"
    }
   ],
   "source": [
    "prices_in_summer = avg_price_by_date.loc[pd.date_range('2016-05-01', '2016-05-31')]\n",
    "dates = prices_in_summer.index\n",
    "days = mdates.DayLocator()\n",
    "day_format = mdates.DateFormatter(\"%a\")\n",
    "fig, ax = plt.subplots()\n",
    "fig.set_size_inches(14,5)\n",
    "ax.plot(dates, prices_in_summer)\n",
    "ax.xaxis.set_major_locator(days)\n",
    "ax.xaxis.set_major_formatter(day_format)\n",
    "yticks = ax.get_yticks()\n",
    "ax.set_xlabel(\"Day in May 2017\")\n",
    "ax.set_ylabel(\"Average booking price in $ of property per night\")\n",
    "ax.set_title(\"Average booking price of properties listed on Airbnb in Boston in May 2017\")\n",
    "plt.show()\n",
    "fig.savefig(project_dir + \"/images/average_booking_price_boston_may_2017.png\")"
   ]
  },
  {
   "cell_type": "code",
   "execution_count": 26,
   "metadata": {
    "colab": {},
    "colab_type": "code",
    "id": "A6mCFrGbyFmE"
   },
   "outputs": [],
   "source": [
    "calendar_cleaned[\"month\"] = calendar_cleaned['date'].dt.month_name()"
   ]
  },
  {
   "cell_type": "code",
   "execution_count": 27,
   "metadata": {
    "colab": {},
    "colab_type": "code",
    "id": "hrqcGHh0U2nC"
   },
   "outputs": [],
   "source": [
    "calendar_cleaned[\"year\"] = calendar_cleaned['date'].dt.year.astype(str)"
   ]
  },
  {
   "cell_type": "code",
   "execution_count": 28,
   "metadata": {
    "colab": {},
    "colab_type": "code",
    "id": "-74JZiZ4yFmG"
   },
   "outputs": [],
   "source": [
    "calendar_cleaned[\"day_of_week\"] = calendar_cleaned['date'].dt.weekday_name"
   ]
  },
  {
   "cell_type": "code",
   "execution_count": 29,
   "metadata": {
    "colab": {},
    "colab_type": "code",
    "id": "rLrwU2ESyFmK"
   },
   "outputs": [],
   "source": [
    "calendar_cleaned[\"week_of_month\"] = np.ceil(calendar_cleaned['date'].dt.day/7).astype(int).astype(str)"
   ]
  },
  {
   "cell_type": "code",
   "execution_count": 30,
   "metadata": {
    "colab": {
     "base_uri": "https://localhost:8080/",
     "height": 34
    },
    "colab_type": "code",
    "id": "f5dyd-aJyFmO",
    "outputId": "f3e7439e-c758-4a04-cea6-46592d267bcd"
   },
   "outputs": [
    {
     "data": {
      "text/plain": [
       "array(['1', '2', '3', '4', '5'], dtype=object)"
      ]
     },
     "execution_count": 30,
     "metadata": {},
     "output_type": "execute_result"
    }
   ],
   "source": [
    "calendar_cleaned[\"week_of_month\"].unique()"
   ]
  },
  {
   "cell_type": "code",
   "execution_count": 31,
   "metadata": {
    "colab": {},
    "colab_type": "code",
    "id": "NdkCljl2yFmQ"
   },
   "outputs": [],
   "source": [
    "df = pd.merge(listings_cleaned, calendar_cleaned, left_on=\"id\", right_on=\"listing_id\", how=\"inner\", suffixes=(\"_listings\", \"_calendar\"))"
   ]
  },
  {
   "cell_type": "code",
   "execution_count": 32,
   "metadata": {
    "colab": {},
    "colab_type": "code",
    "id": "iRFCrz2xyFmT"
   },
   "outputs": [],
   "source": [
    "# This one consumes too much memory and time, but it can give more accurate price estimates for fulling missing values\n",
    "# g = df.groupby([\"listing_id\", \"month\", \"day_of_week\"]).apply(lambda x: x.sort_values(by=[\"date\"]))\n",
    "# g.loc[:, \"price_calendar\"] = g[\"price_calendar\"].fillna(method=\"ffill\")\n",
    "# df = g.reset_index(drop=True)"
   ]
  },
  {
   "cell_type": "code",
   "execution_count": 33,
   "metadata": {
    "colab": {},
    "colab_type": "code",
    "id": "fMZaINnyyFma"
   },
   "outputs": [],
   "source": [
    "g = df.groupby([\"listing_id\"]).apply(lambda x: x.sort_values(by=[\"date\"]))"
   ]
  },
  {
   "cell_type": "code",
   "execution_count": 34,
   "metadata": {
    "colab": {},
    "colab_type": "code",
    "id": "c3IAf2L6yFme"
   },
   "outputs": [],
   "source": [
    "g.loc[:, \"price_calendar\"] = g[\"price_calendar\"].fillna(method=\"ffill\")"
   ]
  },
  {
   "cell_type": "code",
   "execution_count": 35,
   "metadata": {
    "colab": {},
    "colab_type": "code",
    "id": "3o1z2-ObyFmg"
   },
   "outputs": [],
   "source": [
    "df = g.reset_index(drop=True)"
   ]
  },
  {
   "cell_type": "code",
   "execution_count": 36,
   "metadata": {
    "colab": {},
    "colab_type": "code",
    "id": "OaESG-CDyFmj"
   },
   "outputs": [],
   "source": [
    "input_vars_from_calendar = [\"year\", \"month\", \"day_of_week\", \"week_of_month\", \"price_calendar\"]"
   ]
  },
  {
   "cell_type": "code",
   "execution_count": 37,
   "metadata": {
    "colab": {},
    "colab_type": "code",
    "id": "yVTYO-dKyFmm"
   },
   "outputs": [],
   "source": [
    "all_input_vars = input_vars_from_listings + input_vars_from_calendar;"
   ]
  },
  {
   "cell_type": "code",
   "execution_count": 38,
   "metadata": {
    "colab": {},
    "colab_type": "code",
    "id": "1du2p14wyFmp"
   },
   "outputs": [],
   "source": [
    "df = df.dropna(subset=[\"available\"])"
   ]
  },
  {
   "cell_type": "markdown",
   "metadata": {
    "colab_type": "text",
    "id": "zKvT7zDpyFmr"
   },
   "source": [
    "Select a sample of properties to be used as an environment of alternatives competing with the property to be booked that can have impact on whether the given property gets booked or not."
   ]
  },
  {
   "cell_type": "code",
   "execution_count": 39,
   "metadata": {
    "colab": {},
    "colab_type": "code",
    "id": "7icg112wyFms"
   },
   "outputs": [],
   "source": [
    "start_date = df[\"date\"].min()"
   ]
  },
  {
   "cell_type": "code",
   "execution_count": 40,
   "metadata": {
    "colab": {},
    "colab_type": "code",
    "id": "7GfRVIP4yFmu"
   },
   "outputs": [],
   "source": [
    "listing_ids_environment = list(df.query(\"date == @start_date\").drop_duplicates(['listing_id'])[\"listing_id\"].sample(100, random_state=42))"
   ]
  },
  {
   "cell_type": "code",
   "execution_count": 167,
   "metadata": {
    "colab": {},
    "colab_type": "code",
    "id": "BwiI1-SWyFmx"
   },
   "outputs": [],
   "source": [
    "X_with_env = df[all_input_vars + [\"listing_id\", \"date\"]].query(\"listing_id not in @listing_ids_environment\")\n",
    "for listing_id in listing_ids_environment:\n",
    "    listing_price_availability = df.query(\"listing_id == @listing_id\")[[\"price_calendar\", \"available\", \"date\"]]\n",
    "    X_with_env = pd.merge(X_with_env, listing_price_availability, left_on=\"date\", right_on=\"date\", how=\"inner\", suffixes=(\"\", \"_\"+str(listing_id)))"
   ]
  },
  {
   "cell_type": "markdown",
   "metadata": {
    "colab_type": "text",
    "id": "OxZdQkPW165J"
   },
   "source": [
    "### Adding Normalized (Relative) Booking Prices for Properties"
   ]
  },
  {
   "cell_type": "markdown",
   "metadata": {
    "colab_type": "text",
    "id": "IDysuQHByFm2"
   },
   "source": [
    "- Adding normalized prices for given property and all the properties used in the dataset serving as an indicator of competitive market condition. This will help ML models to easily learn conditions involving relative prices of the properties with much less complexity. \n",
    "- I am also retaining the absolute prices for properties in the environment and added one more field for storing total prices of all the properties in environment, so that the model can learn the current demand from the sample of prices from the overall market."
   ]
  },
  {
   "cell_type": "code",
   "execution_count": 168,
   "metadata": {
    "colab": {},
    "colab_type": "code",
    "id": "2UignVcEEzxP"
   },
   "outputs": [],
   "source": [
    "price_columns_for_env = [col for col in X_with_env.columns if col.startswith(\"price_calendar\") and col != \"price_calendar\"]\n",
    "price_columns_for_prop_and_env = [col for col in X_with_env.columns if col.startswith(\"price_calendar\")]"
   ]
  },
  {
   "cell_type": "code",
   "execution_count": 169,
   "metadata": {
    "colab": {},
    "colab_type": "code",
    "id": "OFBiFgbmLwqD"
   },
   "outputs": [],
   "source": [
    "X_with_env.loc[:, \"total_env_prices\"] = X_with_env[price_columns_for_env].sum(axis=1)\n",
    "for price_column_for_prop_and_env in price_columns_for_prop_and_env:\n",
    "  X_with_env.loc[:, price_column_for_prop_and_env + \"_normalized\"] = X_with_env[price_column_for_prop_and_env] / X_with_env[\"total_env_prices\"]"
   ]
  },
  {
   "cell_type": "code",
   "execution_count": 170,
   "metadata": {
    "colab": {},
    "colab_type": "code",
    "id": "BBuEBQs7L0wp"
   },
   "outputs": [],
   "source": [
    "X_with_env = X_with_env.drop(columns=[\"price_calendar\"])"
   ]
  },
  {
   "cell_type": "code",
   "execution_count": 171,
   "metadata": {},
   "outputs": [],
   "source": [
    "# X_with_env = X_with_env.drop(columns=price_columns_for_env)"
   ]
  },
  {
   "cell_type": "code",
   "execution_count": 172,
   "metadata": {
    "colab": {},
    "colab_type": "code",
    "id": "rQ0cdaxiyFm9"
   },
   "outputs": [],
   "source": [
    "X = X_with_env.sort_values(by=[\"listing_id\", \"date\"]).drop(columns=[\"date\"]).reset_index(drop=True)"
   ]
  },
  {
   "cell_type": "code",
   "execution_count": 173,
   "metadata": {},
   "outputs": [],
   "source": [
    "env_properties_availability_features = [col for col in X_with_env.columns if col.startswith(\"available\")]"
   ]
  },
  {
   "cell_type": "code",
   "execution_count": 174,
   "metadata": {},
   "outputs": [],
   "source": [
    "X[\"fraction_of_properties_available\"] = X[env_properties_availability_features].astype(int).sum(axis=1)/len(env_properties_availability_features)"
   ]
  },
  {
   "cell_type": "code",
   "execution_count": 175,
   "metadata": {},
   "outputs": [
    {
     "data": {
      "text/plain": [
       "0    0.38\n",
       "1    0.40\n",
       "2    0.37\n",
       "3    0.42\n",
       "4    0.44\n",
       "Name: fraction_of_properties_available, dtype: float64"
      ]
     },
     "execution_count": 175,
     "metadata": {},
     "output_type": "execute_result"
    }
   ],
   "source": [
    "X[\"fraction_of_properties_available\"].head()"
   ]
  },
  {
   "cell_type": "code",
   "execution_count": 176,
   "metadata": {
    "colab": {},
    "colab_type": "code",
    "id": "U5eKCWnOyFnC"
   },
   "outputs": [],
   "source": [
    "y = df[[\"available\",\"listing_id\", \"date\"]].query(\"listing_id not in @listing_ids_environment\").sort_values(by=[\"listing_id\", \"date\"]).drop(columns=[\"date\"]).reset_index(drop=True)"
   ]
  },
  {
   "cell_type": "code",
   "execution_count": 177,
   "metadata": {
    "colab": {
     "base_uri": "https://localhost:8080/",
     "height": 34
    },
    "colab_type": "code",
    "id": "X015ahxdyFnE",
    "outputId": "05965cf2-f3f5-4c8d-c980-0ebf0ba1b3aa"
   },
   "outputs": [
    {
     "data": {
      "text/plain": [
       "(1357070, 375)"
      ]
     },
     "execution_count": 177,
     "metadata": {},
     "output_type": "execute_result"
    }
   ],
   "source": [
    "X.shape"
   ]
  },
  {
   "cell_type": "code",
   "execution_count": 178,
   "metadata": {
    "colab": {
     "base_uri": "https://localhost:8080/",
     "height": 34
    },
    "colab_type": "code",
    "id": "zKituPM-yFnJ",
    "outputId": "713ea160-7d98-4522-a299-16701663ae5e"
   },
   "outputs": [
    {
     "data": {
      "text/plain": [
       "(1357070, 2)"
      ]
     },
     "execution_count": 178,
     "metadata": {},
     "output_type": "execute_result"
    }
   ],
   "source": [
    "y.shape"
   ]
  },
  {
   "cell_type": "code",
   "execution_count": 179,
   "metadata": {
    "colab": {
     "base_uri": "https://localhost:8080/",
     "height": 34
    },
    "colab_type": "code",
    "id": "Iov-mCvCyFnL",
    "outputId": "97f4be66-4dd4-4527-9c5a-e6b54dea558e"
   },
   "outputs": [
    {
     "data": {
      "text/plain": [
       "True"
      ]
     },
     "execution_count": 179,
     "metadata": {},
     "output_type": "execute_result"
    }
   ],
   "source": [
    "X.shape[0] == y.shape[0]"
   ]
  },
  {
   "cell_type": "code",
   "execution_count": 180,
   "metadata": {
    "colab": {},
    "colab_type": "code",
    "id": "IrvvVhTeyFnN"
   },
   "outputs": [
    {
     "data": {
      "text/plain": [
       "True"
      ]
     },
     "execution_count": 180,
     "metadata": {},
     "output_type": "execute_result"
    }
   ],
   "source": [
    "(X[\"listing_id\"] == y[\"listing_id\"]).all()"
   ]
  },
  {
   "cell_type": "markdown",
   "metadata": {
    "colab_type": "text",
    "id": "gF8FLl1FyFnP"
   },
   "source": [
    "### Fill missing values in numeric columns with mean of the corresponding column"
   ]
  },
  {
   "cell_type": "code",
   "execution_count": 181,
   "metadata": {
    "colab": {},
    "colab_type": "code",
    "id": "Aqj19ppXyFnQ"
   },
   "outputs": [],
   "source": [
    "num_vars = X.select_dtypes(exclude=['object']).copy().columns\n",
    "def fill_mean (col):\n",
    "    return col.fillna(col.mean())\n",
    "X.loc[X.index, num_vars] = X[num_vars].apply(fill_mean, axis=0)"
   ]
  },
  {
   "cell_type": "markdown",
   "metadata": {
    "colab_type": "text",
    "id": "04PWLamayFnS"
   },
   "source": [
    "### Convert categorical variables into numeric variables with separate column for missing values"
   ]
  },
  {
   "cell_type": "code",
   "execution_count": 182,
   "metadata": {
    "colab": {},
    "colab_type": "code",
    "id": "-K9D2fhtyFnT"
   },
   "outputs": [],
   "source": [
    "cat_vars = X.select_dtypes(include=['object']).copy().columns\n",
    "for var in  cat_vars:\n",
    "    # for each cat add dummy var, drop original column\n",
    "    X = pd.concat([X.drop(var, axis=1), pd.get_dummies(X[var], prefix=var, prefix_sep='_', drop_first=False, dummy_na=True)], axis=1)    "
   ]
  },
  {
   "cell_type": "markdown",
   "metadata": {
    "colab_type": "text",
    "id": "kAIbSBBPyFnU"
   },
   "source": [
    "### Splitting data into training and test sets while making sure that no property listing is common between them"
   ]
  },
  {
   "cell_type": "code",
   "execution_count": 183,
   "metadata": {
    "colab": {},
    "colab_type": "code",
    "id": "k8chM7ieyFnV"
   },
   "outputs": [],
   "source": [
    "unique_listing_ids = X[\"listing_id\"].unique()"
   ]
  },
  {
   "cell_type": "code",
   "execution_count": 184,
   "metadata": {
    "colab": {},
    "colab_type": "code",
    "id": "tnvhg6G0yFnZ"
   },
   "outputs": [],
   "source": [
    "np.random.seed(42)\n",
    "listing_ids_train = np.random.choice(np.array(unique_listing_ids), size= int(0.70 * len(unique_listing_ids)), replace=False)\n",
    "listing_ids_test = [l for l in unique_listing_ids if l not in listing_ids_train]"
   ]
  },
  {
   "cell_type": "code",
   "execution_count": 185,
   "metadata": {
    "colab": {},
    "colab_type": "code",
    "id": "2cnKLnGSyFnd"
   },
   "outputs": [],
   "source": [
    "X_train = X.query(\"listing_id in @listing_ids_train\")\n",
    "y_train = y.query(\"listing_id in @listing_ids_train\")"
   ]
  },
  {
   "cell_type": "code",
   "execution_count": 186,
   "metadata": {
    "colab": {},
    "colab_type": "code",
    "id": "qS176-usyFnf"
   },
   "outputs": [
    {
     "data": {
      "text/plain": [
       "True"
      ]
     },
     "execution_count": 186,
     "metadata": {},
     "output_type": "execute_result"
    }
   ],
   "source": [
    "(X_train.index == y_train.index).all()"
   ]
  },
  {
   "cell_type": "markdown",
   "metadata": {
    "colab_type": "text",
    "id": "VafLdZDRyFnh"
   },
   "source": [
    "I am using here only a smaller sample of training data to choose hyper parameters using cross validation technique to complete the experiments in timely manner. However, in real world scenario with availability of time, higher computational resources and memory, entire training dataset should be used for choosing optimal hyper parameters."
   ]
  },
  {
   "cell_type": "code",
   "execution_count": 187,
   "metadata": {
    "colab": {},
    "colab_type": "code",
    "id": "Pgoc-do-yFnh"
   },
   "outputs": [],
   "source": [
    "X_train_sample = X_train.sample(10000, random_state=42)\n",
    "y_train_sample = y_train.loc[X_train_sample.index]"
   ]
  },
  {
   "cell_type": "code",
   "execution_count": 188,
   "metadata": {
    "colab": {},
    "colab_type": "code",
    "id": "UgKIcS2eyFnj"
   },
   "outputs": [
    {
     "data": {
      "text/plain": [
       "True"
      ]
     },
     "execution_count": 188,
     "metadata": {},
     "output_type": "execute_result"
    }
   ],
   "source": [
    "(X_train_sample[\"listing_id\"] == y_train_sample[\"listing_id\"]).all()"
   ]
  },
  {
   "cell_type": "code",
   "execution_count": 189,
   "metadata": {
    "colab": {},
    "colab_type": "code",
    "id": "iRBUlZk_yFnl"
   },
   "outputs": [
    {
     "data": {
      "text/plain": [
       "(10000, 804)"
      ]
     },
     "execution_count": 189,
     "metadata": {},
     "output_type": "execute_result"
    }
   ],
   "source": [
    "X_train_sample.shape"
   ]
  },
  {
   "cell_type": "code",
   "execution_count": 190,
   "metadata": {
    "colab": {},
    "colab_type": "code",
    "id": "R2xKKD-syFnn"
   },
   "outputs": [
    {
     "data": {
      "text/plain": [
       "(10000, 2)"
      ]
     },
     "execution_count": 190,
     "metadata": {},
     "output_type": "execute_result"
    }
   ],
   "source": [
    "y_train_sample.shape"
   ]
  },
  {
   "cell_type": "code",
   "execution_count": 191,
   "metadata": {
    "colab": {},
    "colab_type": "code",
    "id": "IzkKyvnayFnp"
   },
   "outputs": [],
   "source": [
    "X_test = X.query(\"listing_id in @listing_ids_test\").drop(columns=[\"listing_id\"])\n",
    "y_test = y.query(\"listing_id in @listing_ids_test\").drop(columns=[\"listing_id\"])"
   ]
  },
  {
   "cell_type": "code",
   "execution_count": 192,
   "metadata": {
    "colab": {},
    "colab_type": "code",
    "id": "R-TZu3yEyFns"
   },
   "outputs": [],
   "source": [
    "X_train_sample.to_csv(data_dir + \"/X_train_sample.csv\", index=False)\n",
    "y_train_sample.to_csv(data_dir + \"/y_train_sample.csv\", index=False)"
   ]
  },
  {
   "cell_type": "code",
   "execution_count": 193,
   "metadata": {
    "colab": {},
    "colab_type": "code",
    "id": "pATjxaMgNPxu"
   },
   "outputs": [],
   "source": [
    "X_train.to_csv(data_dir + \"/X_train.csv\", index=False)\n",
    "y_train.to_csv(data_dir + \"/y_train.csv\", index=False)"
   ]
  },
  {
   "cell_type": "code",
   "execution_count": 194,
   "metadata": {
    "colab": {},
    "colab_type": "code",
    "id": "fe5cjok3yFnv"
   },
   "outputs": [],
   "source": [
    "X_test.to_csv(data_dir + \"/X_test.csv\", index=False)\n",
    "y_test.to_csv(data_dir + \"/y_test.csv\", index=False)"
   ]
  },
  {
   "cell_type": "code",
   "execution_count": 195,
   "metadata": {
    "colab": {},
    "colab_type": "code",
    "id": "FMRN1Rk4yFnx"
   },
   "outputs": [
    {
     "data": {
      "text/plain": [
       "True     0.67134\n",
       "False    0.32866\n",
       "Name: available, dtype: float64"
      ]
     },
     "execution_count": 195,
     "metadata": {},
     "output_type": "execute_result"
    }
   ],
   "source": [
    "y_train[\"available\"].value_counts()/y_train.shape[0]"
   ]
  },
  {
   "cell_type": "code",
   "execution_count": 200,
   "metadata": {},
   "outputs": [
    {
     "data": {
      "text/plain": [
       "['accommodates',\n",
       " 'bathrooms',\n",
       " 'bedrooms',\n",
       " 'beds',\n",
       " 'square_feet',\n",
       " 'guests_included',\n",
       " 'minimum_nights',\n",
       " 'maximum_nights',\n",
       " 'review_scores_rating',\n",
       " 'review_scores_accuracy',\n",
       " 'review_scores_cleanliness',\n",
       " 'review_scores_checkin',\n",
       " 'review_scores_communication',\n",
       " 'review_scores_location',\n",
       " 'review_scores_value',\n",
       " 'number_of_reviews',\n",
       " 'amenity_TV',\n",
       " 'amenity_Cable TV',\n",
       " 'amenity_Internet',\n",
       " 'amenity_Wireless Internet',\n",
       " 'amenity_Air Conditioning',\n",
       " 'amenity_Kitchen',\n",
       " 'amenity_Heating',\n",
       " 'amenity_Family/Kid Friendly',\n",
       " 'amenity_Washer',\n",
       " 'amenity_Dryer',\n",
       " 'amenity_Free Parking on Premises',\n",
       " 'amenity_Buzzer/Wireless Intercom',\n",
       " 'amenity_Smoke Detector',\n",
       " 'amenity_Carbon Monoxide Detector',\n",
       " 'amenity_First Aid Kit',\n",
       " 'amenity_Safety Card',\n",
       " 'amenity_Fire Extinguisher',\n",
       " 'amenity_Essentials',\n",
       " 'amenity_Pets Allowed',\n",
       " 'amenity_Pets live on this property',\n",
       " 'amenity_Dog(s)',\n",
       " 'amenity_Cat(s)',\n",
       " 'amenity_Hot Tub',\n",
       " 'amenity_Indoor Fireplace',\n",
       " 'amenity_Shampoo',\n",
       " 'amenity_Breakfast',\n",
       " 'amenity_24-Hour Check-in',\n",
       " 'amenity_Hangers',\n",
       " 'amenity_Hair Dryer',\n",
       " 'amenity_Iron',\n",
       " 'amenity_Laptop Friendly Workspace',\n",
       " 'amenity_Suitable for Events',\n",
       " 'amenity_Elevator in Building',\n",
       " 'amenity_Lock on Bedroom Door',\n",
       " 'amenity_Wheelchair Accessible',\n",
       " 'amenity_Gym',\n",
       " 'amenity_Pool',\n",
       " 'amenity_Smoking Allowed',\n",
       " 'amenity_Other pet(s)',\n",
       " 'amenity_Doorman',\n",
       " 'amenity_Washer / Dryer',\n",
       " 'listing_id',\n",
       " 'price_calendar_7533901',\n",
       " 'available',\n",
       " 'price_calendar_4524575',\n",
       " 'available_4524575',\n",
       " 'price_calendar_6747473',\n",
       " 'available_6747473',\n",
       " 'price_calendar_9368677',\n",
       " 'available_9368677',\n",
       " 'price_calendar_8369321',\n",
       " 'available_8369321',\n",
       " 'price_calendar_3732949',\n",
       " 'available_3732949',\n",
       " 'price_calendar_8483744',\n",
       " 'available_8483744',\n",
       " 'price_calendar_8735996',\n",
       " 'available_8735996',\n",
       " 'price_calendar_7421966',\n",
       " 'available_7421966',\n",
       " 'price_calendar_7800238',\n",
       " 'available_7800238',\n",
       " 'price_calendar_6362362',\n",
       " 'available_6362362',\n",
       " 'price_calendar_6403878',\n",
       " 'available_6403878',\n",
       " 'price_calendar_4559222',\n",
       " 'available_4559222',\n",
       " 'price_calendar_3720731',\n",
       " 'available_3720731',\n",
       " 'price_calendar_746380',\n",
       " 'available_746380',\n",
       " 'price_calendar_9863457',\n",
       " 'available_9863457',\n",
       " 'price_calendar_2387605',\n",
       " 'available_2387605',\n",
       " 'price_calendar_397117',\n",
       " 'available_397117',\n",
       " 'price_calendar_490076',\n",
       " 'available_490076',\n",
       " 'price_calendar_6215943',\n",
       " 'available_6215943',\n",
       " 'price_calendar_9050781',\n",
       " 'available_9050781',\n",
       " 'price_calendar_3720429',\n",
       " 'available_3720429',\n",
       " 'price_calendar_461234',\n",
       " 'available_461234',\n",
       " 'price_calendar_4661374',\n",
       " 'available_4661374',\n",
       " 'price_calendar_284813',\n",
       " 'available_284813',\n",
       " 'price_calendar_6228211',\n",
       " 'available_6228211',\n",
       " 'price_calendar_1030411',\n",
       " 'available_1030411',\n",
       " 'price_calendar_2858482',\n",
       " 'available_2858482',\n",
       " 'price_calendar_7995944',\n",
       " 'available_7995944',\n",
       " 'price_calendar_2966415',\n",
       " 'available_2966415',\n",
       " 'price_calendar_7430679',\n",
       " 'available_7430679',\n",
       " 'price_calendar_797358',\n",
       " 'available_797358',\n",
       " 'price_calendar_9615941',\n",
       " 'available_9615941',\n",
       " 'price_calendar_174636',\n",
       " 'available_174636',\n",
       " 'price_calendar_4484426',\n",
       " 'available_4484426',\n",
       " 'price_calendar_3626497',\n",
       " 'available_3626497',\n",
       " 'price_calendar_6575407',\n",
       " 'available_6575407',\n",
       " 'price_calendar_3610724',\n",
       " 'available_3610724',\n",
       " 'price_calendar_3245876',\n",
       " 'available_3245876',\n",
       " 'price_calendar_5041669',\n",
       " 'available_5041669',\n",
       " 'price_calendar_3281072',\n",
       " 'available_3281072',\n",
       " 'price_calendar_8814802',\n",
       " 'available_8814802',\n",
       " 'price_calendar_9733841',\n",
       " 'available_9733841',\n",
       " 'price_calendar_934216',\n",
       " 'available_934216',\n",
       " 'price_calendar_1622794',\n",
       " 'available_1622794',\n",
       " 'price_calendar_4477426',\n",
       " 'available_4477426',\n",
       " 'price_calendar_9612147',\n",
       " 'available_9612147',\n",
       " 'price_calendar_3562617',\n",
       " 'available_3562617',\n",
       " 'price_calendar_4599119',\n",
       " 'available_4599119',\n",
       " 'price_calendar_9939025',\n",
       " 'available_9939025',\n",
       " 'price_calendar_3793406',\n",
       " 'available_3793406',\n",
       " 'price_calendar_5683765',\n",
       " 'available_5683765',\n",
       " 'price_calendar_7229312',\n",
       " 'available_7229312',\n",
       " 'price_calendar_2628010',\n",
       " 'available_2628010',\n",
       " 'price_calendar_654734',\n",
       " 'available_654734',\n",
       " 'price_calendar_9314106',\n",
       " 'available_9314106',\n",
       " 'price_calendar_7579854',\n",
       " 'available_7579854',\n",
       " 'price_calendar_5759668',\n",
       " 'available_5759668',\n",
       " 'price_calendar_7839535',\n",
       " 'available_7839535',\n",
       " 'price_calendar_2500188',\n",
       " 'available_2500188',\n",
       " 'price_calendar_4520099',\n",
       " 'available_4520099',\n",
       " 'price_calendar_8338849',\n",
       " 'available_8338849',\n",
       " 'price_calendar_4694479',\n",
       " 'available_4694479',\n",
       " 'price_calendar_4940379',\n",
       " 'available_4940379',\n",
       " 'price_calendar_3986788',\n",
       " 'available_3986788',\n",
       " 'price_calendar_7985714',\n",
       " 'available_7985714',\n",
       " 'price_calendar_3753645',\n",
       " 'available_3753645',\n",
       " 'price_calendar_7496485',\n",
       " 'available_7496485',\n",
       " 'price_calendar_4951430',\n",
       " 'available_4951430',\n",
       " 'price_calendar_1392332',\n",
       " 'available_1392332',\n",
       " 'price_calendar_6210952',\n",
       " 'available_6210952',\n",
       " 'price_calendar_4567243',\n",
       " 'available_4567243',\n",
       " 'price_calendar_9508837',\n",
       " 'available_9508837',\n",
       " 'price_calendar_8053396',\n",
       " 'available_8053396',\n",
       " 'price_calendar_1107845',\n",
       " 'available_1107845',\n",
       " 'price_calendar_7452021',\n",
       " 'available_7452021',\n",
       " 'price_calendar_10295151',\n",
       " 'available_10295151',\n",
       " 'price_calendar_113951',\n",
       " 'available_113951',\n",
       " 'price_calendar_4738971',\n",
       " 'available_4738971',\n",
       " 'price_calendar_3889050',\n",
       " 'available_3889050',\n",
       " 'price_calendar_5014835',\n",
       " 'available_5014835',\n",
       " 'price_calendar_8608525',\n",
       " 'available_8608525',\n",
       " 'price_calendar_9012948',\n",
       " 'available_9012948',\n",
       " 'price_calendar_3916050',\n",
       " 'available_3916050',\n",
       " 'price_calendar_8193332',\n",
       " 'available_8193332',\n",
       " 'price_calendar_9519968',\n",
       " 'available_9519968',\n",
       " 'price_calendar_823989',\n",
       " 'available_823989',\n",
       " 'price_calendar_8507873',\n",
       " 'available_8507873',\n",
       " 'price_calendar_4252591',\n",
       " 'available_4252591',\n",
       " 'price_calendar_10340165',\n",
       " 'available_10340165',\n",
       " 'price_calendar_4518474',\n",
       " 'available_4518474',\n",
       " 'price_calendar_1901706',\n",
       " 'available_1901706',\n",
       " 'price_calendar_3497530',\n",
       " 'available_3497530',\n",
       " 'price_calendar_3050140',\n",
       " 'available_3050140',\n",
       " 'price_calendar_2926776',\n",
       " 'available_2926776',\n",
       " 'price_calendar_4701205',\n",
       " 'available_4701205',\n",
       " 'price_calendar_5793477',\n",
       " 'available_5793477',\n",
       " 'price_calendar_6870575',\n",
       " 'available_6870575',\n",
       " 'price_calendar_6131411',\n",
       " 'available_6131411',\n",
       " 'price_calendar_9023202',\n",
       " 'available_9023202',\n",
       " 'total_env_prices',\n",
       " 'price_calendar_normalized',\n",
       " 'price_calendar_7533901_normalized',\n",
       " 'price_calendar_4524575_normalized',\n",
       " 'price_calendar_6747473_normalized',\n",
       " 'price_calendar_9368677_normalized',\n",
       " 'price_calendar_8369321_normalized',\n",
       " 'price_calendar_3732949_normalized',\n",
       " 'price_calendar_8483744_normalized',\n",
       " 'price_calendar_8735996_normalized',\n",
       " 'price_calendar_7421966_normalized',\n",
       " 'price_calendar_7800238_normalized',\n",
       " 'price_calendar_6362362_normalized',\n",
       " 'price_calendar_6403878_normalized',\n",
       " 'price_calendar_4559222_normalized',\n",
       " 'price_calendar_3720731_normalized',\n",
       " 'price_calendar_746380_normalized',\n",
       " 'price_calendar_9863457_normalized',\n",
       " 'price_calendar_2387605_normalized',\n",
       " 'price_calendar_397117_normalized',\n",
       " 'price_calendar_490076_normalized',\n",
       " 'price_calendar_6215943_normalized',\n",
       " 'price_calendar_9050781_normalized',\n",
       " 'price_calendar_3720429_normalized',\n",
       " 'price_calendar_461234_normalized',\n",
       " 'price_calendar_4661374_normalized',\n",
       " 'price_calendar_284813_normalized',\n",
       " 'price_calendar_6228211_normalized',\n",
       " 'price_calendar_1030411_normalized',\n",
       " 'price_calendar_2858482_normalized',\n",
       " 'price_calendar_7995944_normalized',\n",
       " 'price_calendar_2966415_normalized',\n",
       " 'price_calendar_7430679_normalized',\n",
       " 'price_calendar_797358_normalized',\n",
       " 'price_calendar_9615941_normalized',\n",
       " 'price_calendar_174636_normalized',\n",
       " 'price_calendar_4484426_normalized',\n",
       " 'price_calendar_3626497_normalized',\n",
       " 'price_calendar_6575407_normalized',\n",
       " 'price_calendar_3610724_normalized',\n",
       " 'price_calendar_3245876_normalized',\n",
       " 'price_calendar_5041669_normalized',\n",
       " 'price_calendar_3281072_normalized',\n",
       " 'price_calendar_8814802_normalized',\n",
       " 'price_calendar_9733841_normalized',\n",
       " 'price_calendar_934216_normalized',\n",
       " 'price_calendar_1622794_normalized',\n",
       " 'price_calendar_4477426_normalized',\n",
       " 'price_calendar_9612147_normalized',\n",
       " 'price_calendar_3562617_normalized',\n",
       " 'price_calendar_4599119_normalized',\n",
       " 'price_calendar_9939025_normalized',\n",
       " 'price_calendar_3793406_normalized',\n",
       " 'price_calendar_5683765_normalized',\n",
       " 'price_calendar_7229312_normalized',\n",
       " 'price_calendar_2628010_normalized',\n",
       " 'price_calendar_654734_normalized',\n",
       " 'price_calendar_9314106_normalized',\n",
       " 'price_calendar_7579854_normalized',\n",
       " 'price_calendar_5759668_normalized',\n",
       " 'price_calendar_7839535_normalized',\n",
       " 'price_calendar_2500188_normalized',\n",
       " 'price_calendar_4520099_normalized',\n",
       " 'price_calendar_8338849_normalized',\n",
       " 'price_calendar_4694479_normalized',\n",
       " 'price_calendar_4940379_normalized',\n",
       " 'price_calendar_3986788_normalized',\n",
       " 'price_calendar_7985714_normalized',\n",
       " 'price_calendar_3753645_normalized',\n",
       " 'price_calendar_7496485_normalized',\n",
       " 'price_calendar_4951430_normalized',\n",
       " 'price_calendar_1392332_normalized',\n",
       " 'price_calendar_6210952_normalized',\n",
       " 'price_calendar_4567243_normalized',\n",
       " 'price_calendar_9508837_normalized',\n",
       " 'price_calendar_8053396_normalized',\n",
       " 'price_calendar_1107845_normalized',\n",
       " 'price_calendar_7452021_normalized',\n",
       " 'price_calendar_10295151_normalized',\n",
       " 'price_calendar_113951_normalized',\n",
       " 'price_calendar_4738971_normalized',\n",
       " 'price_calendar_3889050_normalized',\n",
       " 'price_calendar_5014835_normalized',\n",
       " 'price_calendar_8608525_normalized',\n",
       " 'price_calendar_9012948_normalized',\n",
       " 'price_calendar_3916050_normalized',\n",
       " 'price_calendar_8193332_normalized',\n",
       " 'price_calendar_9519968_normalized',\n",
       " 'price_calendar_823989_normalized',\n",
       " 'price_calendar_8507873_normalized',\n",
       " 'price_calendar_4252591_normalized',\n",
       " 'price_calendar_10340165_normalized',\n",
       " 'price_calendar_4518474_normalized',\n",
       " 'price_calendar_1901706_normalized',\n",
       " 'price_calendar_3497530_normalized',\n",
       " 'price_calendar_3050140_normalized',\n",
       " 'price_calendar_2926776_normalized',\n",
       " 'price_calendar_4701205_normalized',\n",
       " 'price_calendar_5793477_normalized',\n",
       " 'price_calendar_6870575_normalized',\n",
       " 'price_calendar_6131411_normalized',\n",
       " 'price_calendar_9023202_normalized',\n",
       " 'fraction_of_properties_available',\n",
       " 'neighbourhood_cleansed_Adams',\n",
       " 'neighbourhood_cleansed_Alki',\n",
       " 'neighbourhood_cleansed_Arbor Heights',\n",
       " 'neighbourhood_cleansed_Atlantic',\n",
       " 'neighbourhood_cleansed_Belltown',\n",
       " 'neighbourhood_cleansed_Bitter Lake',\n",
       " 'neighbourhood_cleansed_Briarcliff',\n",
       " 'neighbourhood_cleansed_Brighton',\n",
       " 'neighbourhood_cleansed_Broadview',\n",
       " 'neighbourhood_cleansed_Broadway',\n",
       " 'neighbourhood_cleansed_Bryant',\n",
       " 'neighbourhood_cleansed_Cedar Park',\n",
       " 'neighbourhood_cleansed_Central Business District',\n",
       " 'neighbourhood_cleansed_Columbia City',\n",
       " 'neighbourhood_cleansed_Crown Hill',\n",
       " 'neighbourhood_cleansed_Dunlap',\n",
       " 'neighbourhood_cleansed_East Queen Anne',\n",
       " 'neighbourhood_cleansed_Eastlake',\n",
       " 'neighbourhood_cleansed_Fairmount Park',\n",
       " 'neighbourhood_cleansed_Fauntleroy',\n",
       " 'neighbourhood_cleansed_First Hill',\n",
       " 'neighbourhood_cleansed_Fremont',\n",
       " 'neighbourhood_cleansed_Gatewood',\n",
       " 'neighbourhood_cleansed_Genesee',\n",
       " 'neighbourhood_cleansed_Georgetown',\n",
       " 'neighbourhood_cleansed_Green Lake',\n",
       " 'neighbourhood_cleansed_Greenwood',\n",
       " 'neighbourhood_cleansed_Haller Lake',\n",
       " 'neighbourhood_cleansed_Harrison/Denny-Blaine',\n",
       " 'neighbourhood_cleansed_High Point',\n",
       " 'neighbourhood_cleansed_Highland Park',\n",
       " 'neighbourhood_cleansed_Holly Park',\n",
       " 'neighbourhood_cleansed_Industrial District',\n",
       " 'neighbourhood_cleansed_Interbay',\n",
       " 'neighbourhood_cleansed_International District',\n",
       " 'neighbourhood_cleansed_Laurelhurst',\n",
       " 'neighbourhood_cleansed_Lawton Park',\n",
       " 'neighbourhood_cleansed_Leschi',\n",
       " 'neighbourhood_cleansed_Lower Queen Anne',\n",
       " 'neighbourhood_cleansed_Loyal Heights',\n",
       " 'neighbourhood_cleansed_Madison Park',\n",
       " 'neighbourhood_cleansed_Madrona',\n",
       " 'neighbourhood_cleansed_Mann',\n",
       " 'neighbourhood_cleansed_Maple Leaf',\n",
       " 'neighbourhood_cleansed_Matthews Beach',\n",
       " 'neighbourhood_cleansed_Meadowbrook',\n",
       " 'neighbourhood_cleansed_Mid-Beacon Hill',\n",
       " 'neighbourhood_cleansed_Minor',\n",
       " 'neighbourhood_cleansed_Montlake',\n",
       " 'neighbourhood_cleansed_Mount Baker',\n",
       " 'neighbourhood_cleansed_North Admiral',\n",
       " 'neighbourhood_cleansed_North Beach/Blue Ridge',\n",
       " 'neighbourhood_cleansed_North Beacon Hill',\n",
       " 'neighbourhood_cleansed_North College Park',\n",
       " 'neighbourhood_cleansed_North Delridge',\n",
       " 'neighbourhood_cleansed_North Queen Anne',\n",
       " 'neighbourhood_cleansed_Olympic Hills',\n",
       " 'neighbourhood_cleansed_Phinney Ridge',\n",
       " 'neighbourhood_cleansed_Pike-Market',\n",
       " 'neighbourhood_cleansed_Pinehurst',\n",
       " 'neighbourhood_cleansed_Pioneer Square',\n",
       " 'neighbourhood_cleansed_Portage Bay',\n",
       " 'neighbourhood_cleansed_Rainier Beach',\n",
       " 'neighbourhood_cleansed_Ravenna',\n",
       " 'neighbourhood_cleansed_Riverview',\n",
       " 'neighbourhood_cleansed_Roosevelt',\n",
       " 'neighbourhood_cleansed_Roxhill',\n",
       " 'neighbourhood_cleansed_Seaview',\n",
       " 'neighbourhood_cleansed_Seward Park',\n",
       " 'neighbourhood_cleansed_South Beacon Hill',\n",
       " 'neighbourhood_cleansed_South Delridge',\n",
       " 'neighbourhood_cleansed_South Lake Union',\n",
       " 'neighbourhood_cleansed_South Park',\n",
       " 'neighbourhood_cleansed_Southeast Magnolia',\n",
       " 'neighbourhood_cleansed_Stevens',\n",
       " 'neighbourhood_cleansed_Sunset Hill',\n",
       " 'neighbourhood_cleansed_University District',\n",
       " 'neighbourhood_cleansed_Victory Heights',\n",
       " 'neighbourhood_cleansed_View Ridge',\n",
       " 'neighbourhood_cleansed_Wallingford',\n",
       " 'neighbourhood_cleansed_Wedgwood',\n",
       " 'neighbourhood_cleansed_West Queen Anne',\n",
       " 'neighbourhood_cleansed_West Woodland',\n",
       " 'neighbourhood_cleansed_Westlake',\n",
       " 'neighbourhood_cleansed_Whittier Heights',\n",
       " 'neighbourhood_cleansed_Windermere',\n",
       " 'neighbourhood_cleansed_Yesler Terrace',\n",
       " 'neighbourhood_cleansed_nan',\n",
       " 'city_Ballard, Seattle',\n",
       " 'city_Phinney Ridge Seattle',\n",
       " 'city_Seattle',\n",
       " 'city_Seattle ',\n",
       " 'city_West Seattle',\n",
       " 'city_seattle',\n",
       " 'city_西雅图',\n",
       " 'city_nan',\n",
       " 'state_WA',\n",
       " 'state_wa',\n",
       " 'state_nan',\n",
       " 'zipcode_98101',\n",
       " 'zipcode_98102',\n",
       " 'zipcode_98103',\n",
       " 'zipcode_98104',\n",
       " 'zipcode_98105',\n",
       " 'zipcode_98106',\n",
       " 'zipcode_98107',\n",
       " 'zipcode_98108',\n",
       " 'zipcode_98109',\n",
       " 'zipcode_98112',\n",
       " 'zipcode_98115',\n",
       " 'zipcode_98116',\n",
       " 'zipcode_98117',\n",
       " 'zipcode_98118',\n",
       " 'zipcode_98119',\n",
       " 'zipcode_98121',\n",
       " 'zipcode_98122',\n",
       " 'zipcode_98125',\n",
       " 'zipcode_98126',\n",
       " 'zipcode_98133',\n",
       " 'zipcode_98134',\n",
       " 'zipcode_98136',\n",
       " 'zipcode_98144',\n",
       " 'zipcode_98146',\n",
       " 'zipcode_98177',\n",
       " 'zipcode_98178',\n",
       " 'zipcode_98199',\n",
       " 'zipcode_99\\n98122',\n",
       " 'zipcode_nan',\n",
       " 'market_Seattle',\n",
       " 'market_nan',\n",
       " \"location_categorical_('47.51', '-122.24')\",\n",
       " \"location_categorical_('47.51', '-122.25')\",\n",
       " \"location_categorical_('47.51', '-122.26')\",\n",
       " \"location_categorical_('47.51', '-122.38')\",\n",
       " \"location_categorical_('47.51', '-122.39')\",\n",
       " \"location_categorical_('47.52', '-122.26')\",\n",
       " \"location_categorical_('47.52', '-122.27')\",\n",
       " \"location_categorical_('47.52', '-122.28')\",\n",
       " \"location_categorical_('47.52', '-122.33')\",\n",
       " \"location_categorical_('47.52', '-122.35')\",\n",
       " \"location_categorical_('47.52', '-122.36')\",\n",
       " \"location_categorical_('47.52', '-122.37')\",\n",
       " \"location_categorical_('47.52', '-122.38')\",\n",
       " \"location_categorical_('47.52', '-122.39')\",\n",
       " \"location_categorical_('47.52', '-122.40')\",\n",
       " \"location_categorical_('47.53', '-122.26')\",\n",
       " \"location_categorical_('47.53', '-122.27')\",\n",
       " \"location_categorical_('47.53', '-122.28')\",\n",
       " \"location_categorical_('47.53', '-122.29')\",\n",
       " \"location_categorical_('47.53', '-122.32')\",\n",
       " \"location_categorical_('47.53', '-122.33')\",\n",
       " \"location_categorical_('47.53', '-122.34')\",\n",
       " \"location_categorical_('47.53', '-122.35')\",\n",
       " \"location_categorical_('47.53', '-122.36')\",\n",
       " \"location_categorical_('47.53', '-122.37')\",\n",
       " \"location_categorical_('47.53', '-122.38')\",\n",
       " \"location_categorical_('47.53', '-122.39')\",\n",
       " \"location_categorical_('47.54', '-122.26')\",\n",
       " \"location_categorical_('47.54', '-122.27')\",\n",
       " \"location_categorical_('47.54', '-122.28')\",\n",
       " \"location_categorical_('47.54', '-122.29')\",\n",
       " \"location_categorical_('47.54', '-122.30')\",\n",
       " \"location_categorical_('47.54', '-122.32')\",\n",
       " \"location_categorical_('47.54', '-122.35')\",\n",
       " \"location_categorical_('47.54', '-122.36')\",\n",
       " \"location_categorical_('47.54', '-122.37')\",\n",
       " \"location_categorical_('47.54', '-122.38')\",\n",
       " \"location_categorical_('47.54', '-122.39')\",\n",
       " \"location_categorical_('47.54', '-122.40')\",\n",
       " \"location_categorical_('47.55', '-122.26')\",\n",
       " \"location_categorical_('47.55', '-122.27')\",\n",
       " \"location_categorical_('47.55', '-122.28')\",\n",
       " \"location_categorical_('47.55', '-122.29')\",\n",
       " \"location_categorical_('47.55', '-122.30')\",\n",
       " \"location_categorical_('47.55', '-122.31')\",\n",
       " \"location_categorical_('47.55', '-122.32')\",\n",
       " \"location_categorical_('47.55', '-122.36')\",\n",
       " \"location_categorical_('47.55', '-122.37')\",\n",
       " \"location_categorical_('47.55', '-122.38')\",\n",
       " \"location_categorical_('47.55', '-122.39')\",\n",
       " \"location_categorical_('47.55', '-122.40')\",\n",
       " \"location_categorical_('47.56', '-122.26')\",\n",
       " \"location_categorical_('47.56', '-122.27')\",\n",
       " \"location_categorical_('47.56', '-122.28')\",\n",
       " \"location_categorical_('47.56', '-122.29')\",\n",
       " \"location_categorical_('47.56', '-122.30')\",\n",
       " \"location_categorical_('47.56', '-122.31')\",\n",
       " \"location_categorical_('47.56', '-122.32')\",\n",
       " \"location_categorical_('47.56', '-122.36')\",\n",
       " \"location_categorical_('47.56', '-122.37')\",\n",
       " \"location_categorical_('47.56', '-122.38')\",\n",
       " \"location_categorical_('47.56', '-122.39')\",\n",
       " \"location_categorical_('47.56', '-122.40')\",\n",
       " \"location_categorical_('47.56', '-122.41')\",\n",
       " \"location_categorical_('47.57', '-122.27')\",\n",
       " \"location_categorical_('47.57', '-122.28')\",\n",
       " \"location_categorical_('47.57', '-122.29')\",\n",
       " \"location_categorical_('47.57', '-122.30')\",\n",
       " \"location_categorical_('47.57', '-122.31')\",\n",
       " \"location_categorical_('47.57', '-122.36')\",\n",
       " \"location_categorical_('47.57', '-122.37')\",\n",
       " \"location_categorical_('47.57', '-122.38')\",\n",
       " \"location_categorical_('47.57', '-122.39')\",\n",
       " \"location_categorical_('47.57', '-122.40')\",\n",
       " \"location_categorical_('47.57', '-122.41')\",\n",
       " \"location_categorical_('47.57', '-122.42')\",\n",
       " \"location_categorical_('47.58', '-122.29')\",\n",
       " \"location_categorical_('47.58', '-122.30')\",\n",
       " \"location_categorical_('47.58', '-122.31')\",\n",
       " \"location_categorical_('47.58', '-122.32')\",\n",
       " \"location_categorical_('47.58', '-122.33')\",\n",
       " \"location_categorical_('47.58', '-122.37')\",\n",
       " \"location_categorical_('47.58', '-122.38')\",\n",
       " \"location_categorical_('47.58', '-122.39')\",\n",
       " \"location_categorical_('47.58', '-122.40')\",\n",
       " \"location_categorical_('47.58', '-122.41')\",\n",
       " \"location_categorical_('47.58', '-122.42')\",\n",
       " \"location_categorical_('47.59', '-122.29')\",\n",
       " \"location_categorical_('47.59', '-122.30')\",\n",
       " \"location_categorical_('47.59', '-122.31')\",\n",
       " \"location_categorical_('47.59', '-122.32')\",\n",
       " \"location_categorical_('47.59', '-122.33')\",\n",
       " \"location_categorical_('47.59', '-122.38')\",\n",
       " \"location_categorical_('47.59', '-122.39')\",\n",
       " \"location_categorical_('47.60', '-122.29')\",\n",
       " \"location_categorical_('47.60', '-122.30')\",\n",
       " \"location_categorical_('47.60', '-122.31')\",\n",
       " \"location_categorical_('47.60', '-122.32')\",\n",
       " \"location_categorical_('47.60', '-122.33')\",\n",
       " \"location_categorical_('47.60', '-122.34')\",\n",
       " \"location_categorical_('47.61', '-122.28')\",\n",
       " \"location_categorical_('47.61', '-122.29')\",\n",
       " \"location_categorical_('47.61', '-122.30')\",\n",
       " \"location_categorical_('47.61', '-122.31')\",\n",
       " \"location_categorical_('47.61', '-122.32')\",\n",
       " \"location_categorical_('47.61', '-122.33')\",\n",
       " \"location_categorical_('47.61', '-122.34')\",\n",
       " \"location_categorical_('47.61', '-122.35')\",\n",
       " \"location_categorical_('47.62', '-122.28')\",\n",
       " \"location_categorical_('47.62', '-122.29')\",\n",
       " \"location_categorical_('47.62', '-122.30')\",\n",
       " \"location_categorical_('47.62', '-122.31')\",\n",
       " \"location_categorical_('47.62', '-122.32')\",\n",
       " \"location_categorical_('47.62', '-122.33')\",\n",
       " \"location_categorical_('47.62', '-122.34')\",\n",
       " \"location_categorical_('47.62', '-122.35')\",\n",
       " \"location_categorical_('47.62', '-122.36')\",\n",
       " \"location_categorical_('47.63', '-122.28')\",\n",
       " \"location_categorical_('47.63', '-122.29')\",\n",
       " \"location_categorical_('47.63', '-122.30')\",\n",
       " \"location_categorical_('47.63', '-122.31')\",\n",
       " \"location_categorical_('47.63', '-122.32')\",\n",
       " \"location_categorical_('47.63', '-122.33')\",\n",
       " \"location_categorical_('47.63', '-122.34')\",\n",
       " \"location_categorical_('47.63', '-122.35')\",\n",
       " \"location_categorical_('47.63', '-122.36')\",\n",
       " \"location_categorical_('47.63', '-122.37')\",\n",
       " \"location_categorical_('47.63', '-122.38')\",\n",
       " \"location_categorical_('47.63', '-122.39')\",\n",
       " \"location_categorical_('47.63', '-122.40')\",\n",
       " \"location_categorical_('47.64', '-122.28')\",\n",
       " \"location_categorical_('47.64', '-122.30')\",\n",
       " \"location_categorical_('47.64', '-122.31')\",\n",
       " \"location_categorical_('47.64', '-122.32')\",\n",
       " \"location_categorical_('47.64', '-122.33')\",\n",
       " \"location_categorical_('47.64', '-122.34')\",\n",
       " \"location_categorical_('47.64', '-122.35')\",\n",
       " \"location_categorical_('47.64', '-122.36')\",\n",
       " \"location_categorical_('47.64', '-122.37')\",\n",
       " \"location_categorical_('47.64', '-122.38')\",\n",
       " \"location_categorical_('47.64', '-122.39')\",\n",
       " \"location_categorical_('47.64', '-122.40')\",\n",
       " \"location_categorical_('47.65', '-122.32')\",\n",
       " \"location_categorical_('47.65', '-122.33')\",\n",
       " \"location_categorical_('47.65', '-122.34')\",\n",
       " \"location_categorical_('47.65', '-122.35')\",\n",
       " \"location_categorical_('47.65', '-122.36')\",\n",
       " \"location_categorical_('47.65', '-122.37')\",\n",
       " \"location_categorical_('47.65', '-122.38')\",\n",
       " \"location_categorical_('47.65', '-122.39')\",\n",
       " \"location_categorical_('47.65', '-122.40')\",\n",
       " \"location_categorical_('47.65', '-122.41')\",\n",
       " \"location_categorical_('47.65', '-122.42')\",\n",
       " \"location_categorical_('47.66', '-122.27')\",\n",
       " \"location_categorical_('47.66', '-122.28')\",\n",
       " \"location_categorical_('47.66', '-122.29')\",\n",
       " \"location_categorical_('47.66', '-122.30')\",\n",
       " \"location_categorical_('47.66', '-122.31')\",\n",
       " \"location_categorical_('47.66', '-122.32')\",\n",
       " \"location_categorical_('47.66', '-122.33')\",\n",
       " \"location_categorical_('47.66', '-122.34')\",\n",
       " \"location_categorical_('47.66', '-122.35')\",\n",
       " \"location_categorical_('47.66', '-122.36')\",\n",
       " \"location_categorical_('47.66', '-122.37')\",\n",
       " \"location_categorical_('47.66', '-122.39')\",\n",
       " \"location_categorical_('47.66', '-122.40')\",\n",
       " \"location_categorical_('47.66', '-122.41')\",\n",
       " \"location_categorical_('47.67', '-122.26')\",\n",
       " \"location_categorical_('47.67', '-122.27')\",\n",
       " \"location_categorical_('47.67', '-122.28')\",\n",
       " \"location_categorical_('47.67', '-122.29')\",\n",
       " \"location_categorical_('47.67', '-122.30')\",\n",
       " \"location_categorical_('47.67', '-122.31')\",\n",
       " \"location_categorical_('47.67', '-122.32')\",\n",
       " \"location_categorical_('47.67', '-122.33')\",\n",
       " \"location_categorical_('47.67', '-122.34')\",\n",
       " \"location_categorical_('47.67', '-122.35')\",\n",
       " \"location_categorical_('47.67', '-122.36')\",\n",
       " \"location_categorical_('47.67', '-122.37')\",\n",
       " \"location_categorical_('47.67', '-122.38')\",\n",
       " \"location_categorical_('47.67', '-122.39')\",\n",
       " \"location_categorical_('47.67', '-122.40')\",\n",
       " \"location_categorical_('47.68', '-122.27')\",\n",
       " \"location_categorical_('47.68', '-122.28')\",\n",
       " \"location_categorical_('47.68', '-122.29')\",\n",
       " \"location_categorical_('47.68', '-122.30')\",\n",
       " \"location_categorical_('47.68', '-122.31')\",\n",
       " \"location_categorical_('47.68', '-122.32')\",\n",
       " \"location_categorical_('47.68', '-122.33')\",\n",
       " \"location_categorical_('47.68', '-122.34')\",\n",
       " \"location_categorical_('47.68', '-122.35')\",\n",
       " \"location_categorical_('47.68', '-122.36')\",\n",
       " \"location_categorical_('47.68', '-122.37')\",\n",
       " \"location_categorical_('47.68', '-122.38')\",\n",
       " \"location_categorical_('47.68', '-122.39')\",\n",
       " \"location_categorical_('47.68', '-122.40')\",\n",
       " \"location_categorical_('47.69', '-122.27')\",\n",
       " \"location_categorical_('47.69', '-122.28')\",\n",
       " \"location_categorical_('47.69', '-122.29')\",\n",
       " \"location_categorical_('47.69', '-122.30')\",\n",
       " \"location_categorical_('47.69', '-122.31')\",\n",
       " \"location_categorical_('47.69', '-122.32')\",\n",
       " \"location_categorical_('47.69', '-122.33')\",\n",
       " \"location_categorical_('47.69', '-122.34')\",\n",
       " \"location_categorical_('47.69', '-122.35')\",\n",
       " \"location_categorical_('47.69', '-122.36')\",\n",
       " \"location_categorical_('47.69', '-122.37')\",\n",
       " \"location_categorical_('47.69', '-122.38')\",\n",
       " \"location_categorical_('47.69', '-122.39')\",\n",
       " \"location_categorical_('47.69', '-122.40')\",\n",
       " \"location_categorical_('47.70', '-122.27')\",\n",
       " \"location_categorical_('47.70', '-122.28')\",\n",
       " \"location_categorical_('47.70', '-122.29')\",\n",
       " \"location_categorical_('47.70', '-122.30')\",\n",
       " \"location_categorical_('47.70', '-122.31')\",\n",
       " \"location_categorical_('47.70', '-122.32')\",\n",
       " \"location_categorical_('47.70', '-122.33')\",\n",
       " \"location_categorical_('47.70', '-122.34')\",\n",
       " \"location_categorical_('47.70', '-122.35')\",\n",
       " \"location_categorical_('47.70', '-122.36')\",\n",
       " \"location_categorical_('47.70', '-122.37')\",\n",
       " \"location_categorical_('47.70', '-122.38')\",\n",
       " \"location_categorical_('47.70', '-122.39')\",\n",
       " \"location_categorical_('47.70', '-122.40')\",\n",
       " \"location_categorical_('47.71', '-122.28')\",\n",
       " \"location_categorical_('47.71', '-122.29')\",\n",
       " \"location_categorical_('47.71', '-122.30')\",\n",
       " \"location_categorical_('47.71', '-122.31')\",\n",
       " \"location_categorical_('47.71', '-122.32')\",\n",
       " \"location_categorical_('47.71', '-122.33')\",\n",
       " \"location_categorical_('47.71', '-122.34')\",\n",
       " \"location_categorical_('47.71', '-122.35')\",\n",
       " \"location_categorical_('47.71', '-122.36')\",\n",
       " \"location_categorical_('47.71', '-122.37')\",\n",
       " \"location_categorical_('47.71', '-122.38')\",\n",
       " \"location_categorical_('47.72', '-122.28')\",\n",
       " \"location_categorical_('47.72', '-122.29')\",\n",
       " \"location_categorical_('47.72', '-122.30')\",\n",
       " \"location_categorical_('47.72', '-122.31')\",\n",
       " \"location_categorical_('47.72', '-122.33')\",\n",
       " \"location_categorical_('47.72', '-122.34')\",\n",
       " \"location_categorical_('47.72', '-122.35')\",\n",
       " \"location_categorical_('47.72', '-122.36')\",\n",
       " \"location_categorical_('47.72', '-122.37')\",\n",
       " \"location_categorical_('47.73', '-122.30')\",\n",
       " \"location_categorical_('47.73', '-122.31')\",\n",
       " \"location_categorical_('47.73', '-122.32')\",\n",
       " \"location_categorical_('47.73', '-122.33')\",\n",
       " \"location_categorical_('47.73', '-122.34')\",\n",
       " \"location_categorical_('47.73', '-122.35')\",\n",
       " \"location_categorical_('47.73', '-122.36')\",\n",
       " 'location_categorical_nan',\n",
       " 'property_type_Apartment',\n",
       " 'property_type_Bed & Breakfast',\n",
       " 'property_type_Boat',\n",
       " 'property_type_Bungalow',\n",
       " 'property_type_Cabin',\n",
       " 'property_type_Camper/RV',\n",
       " 'property_type_Chalet',\n",
       " 'property_type_Condominium',\n",
       " 'property_type_Dorm',\n",
       " 'property_type_House',\n",
       " 'property_type_Loft',\n",
       " 'property_type_Other',\n",
       " 'property_type_Tent',\n",
       " 'property_type_Townhouse',\n",
       " 'property_type_Treehouse',\n",
       " 'property_type_Yurt',\n",
       " 'property_type_nan',\n",
       " 'room_type_Entire home/apt',\n",
       " 'room_type_Private room',\n",
       " 'room_type_Shared room',\n",
       " 'room_type_nan',\n",
       " 'bed_type_Airbed',\n",
       " 'bed_type_Couch',\n",
       " 'bed_type_Futon',\n",
       " 'bed_type_Pull-out Sofa',\n",
       " 'bed_type_Real Bed',\n",
       " 'bed_type_nan',\n",
       " 'cancellation_policy_flexible',\n",
       " 'cancellation_policy_moderate',\n",
       " 'cancellation_policy_strict',\n",
       " 'cancellation_policy_nan',\n",
       " 'year_2016',\n",
       " 'year_2017',\n",
       " 'year_nan',\n",
       " 'month_April',\n",
       " 'month_August',\n",
       " 'month_December',\n",
       " 'month_February',\n",
       " 'month_January',\n",
       " 'month_July',\n",
       " 'month_June',\n",
       " 'month_March',\n",
       " 'month_May',\n",
       " 'month_November',\n",
       " 'month_October',\n",
       " 'month_September',\n",
       " 'month_nan',\n",
       " 'day_of_week_Friday',\n",
       " 'day_of_week_Monday',\n",
       " 'day_of_week_Saturday',\n",
       " 'day_of_week_Sunday',\n",
       " 'day_of_week_Thursday',\n",
       " 'day_of_week_Tuesday',\n",
       " 'day_of_week_Wednesday',\n",
       " 'day_of_week_nan',\n",
       " 'week_of_month_1',\n",
       " 'week_of_month_2',\n",
       " 'week_of_month_3',\n",
       " 'week_of_month_4',\n",
       " 'week_of_month_5',\n",
       " 'week_of_month_nan']"
      ]
     },
     "execution_count": 200,
     "metadata": {},
     "output_type": "execute_result"
    }
   ],
   "source": [
    "list(X_train_sample.columns)"
   ]
  },
  {
   "cell_type": "markdown",
   "metadata": {
    "colab_type": "text",
    "id": "AmoTCEKNyFn0"
   },
   "source": [
    "Considering the ratio of samples classified for output True and False, the data looks to be slightly imbalanced. But as the ratio of 70:30 not too imbalanced like 90:10, we are choosing not to do any weighted sampling for them."
   ]
  },
  {
   "cell_type": "markdown",
   "metadata": {
    "colab_type": "text",
    "id": "FeZg5olN1122"
   },
   "source": [
    "## Training Machine Learning Models"
   ]
  },
  {
   "cell_type": "markdown",
   "metadata": {
    "colab_type": "text",
    "id": "Ue7tJzWpyFn1"
   },
   "source": [
    "### Preparing cross validation splits to into training and test sets while making sure that no property listing is common between them"
   ]
  },
  {
   "cell_type": "markdown",
   "metadata": {
    "colab_type": "text",
    "id": "R6_MbXYcesWX"
   },
   "source": [
    "I haven't used `MyGridSearchCV` class anywhere in this notebook, \n",
    "as I decided to use Tree of Parzen Estimators Algorithm and Bayesian Optimization algo\n",
    "implemented in Hyperopt and Scikit Optimize \n",
    "for quickly narrowing down the optimal hyper parameters"
   ]
  },
  {
   "cell_type": "code",
   "execution_count": 123,
   "metadata": {
    "colab": {},
    "colab_type": "code",
    "id": "Re7hJ1cRyFn1"
   },
   "outputs": [],
   "source": [
    "class MyGridSearchCV(object):\n",
    "    \n",
    "    def __init__(self, estimator, param_grid, cv=3):\n",
    "        self.estimator = estimator\n",
    "        self.param_grid = param_grid\n",
    "        self.best_score = -math.inf\n",
    "        self.best_estimator = None\n",
    "        self.best_estimator_scores_mean = -math.inf\n",
    "        self.best_estimator_scores_stdev = -math.inf\n",
    "        self.best_params= None\n",
    "        self.cv = cv       \n",
    "    \n",
    "    def fit(self, X, y):\n",
    "        for param_point in self.get_param_grid_points():\n",
    "            def splits(array, k):\n",
    "                splits = []\n",
    "                \n",
    "                for i in range(k):\n",
    "                    split_length = math.ceil(len(array)/k)\n",
    "                    split = []\n",
    "                    for j in range(i * split_length, (i+1) * split_length):\n",
    "                        if j < len(array):\n",
    "                            split.append(array[j])\n",
    "                        \n",
    "                    splits.append(split)\n",
    "                cvs = []\n",
    "                for i, split in enumerate(splits):\n",
    "                    train = []\n",
    "                    for j, other_split in enumerate(splits):\n",
    "                        if i != j:\n",
    "                            train += other_split\n",
    "                    test = [] + split\n",
    "                    cvs.append((train, test))\n",
    "                return cvs\n",
    "                    \n",
    "            scores_for_point = []\n",
    "            estimator = clone(self.estimator)\n",
    "            estimator.set_params(**param_point)\n",
    "            for l_train, l_test in splits(list(X[\"listing_id\"].unique()), k=self.cv):                \n",
    "                X_train = X.query(\"listing_id in @l_train\").drop(columns=[\"listing_id\"])\n",
    "                X_test = X.query(\"listing_id in @l_test\").drop(columns=[\"listing_id\"])\n",
    "                y_train = y.query(\"listing_id in @l_train\").drop(columns=[\"listing_id\"])\n",
    "                y_test = y.query(\"listing_id in @l_test\").drop(columns=[\"listing_id\"])                \n",
    "                estimator.fit(X_train, y_train.values.ravel())\n",
    "                y_preds = estimator.predict(X_test)\n",
    "                f1_score_1 = f1_score(y_test, y_preds, pos_label=True)\n",
    "                f1_score_0 = f1_score(y_test, y_preds, pos_label=False)\n",
    "                score = min([f1_score_1, f1_score_0])\n",
    "                scores_for_point.append(score)\n",
    "                gc.collect()\n",
    "                \n",
    "            mean_score = np.mean(scores_for_point)\n",
    "            if mean_score > self.best_estimator_scores_mean:\n",
    "                self.best_estimator_scores_mean = mean_score\n",
    "                self.best_estimator_scores_stdev = np.std(scores_for_point)\n",
    "                self.best_estimator = estimator\n",
    "                self.best_params = self.best_estimator.get_params()\n",
    "                self.best_score = self.best_estimator_scores_mean\n",
    "            gc.collect()\n",
    "            \n",
    "    def get_param_grid_points(self):\n",
    "        points = [{}]\n",
    "        for param, values in self.param_grid.items():\n",
    "            new_points = []\n",
    "            for point in points:\n",
    "                for value in values:                    \n",
    "                    new_point = point.copy()\n",
    "                    new_point[param]= value\n",
    "                    new_points.append(new_point)\n",
    "            points = new_points\n",
    "        return points\n",
    "    \n",
    "    def print_best(self):\n",
    "        print(\"Best score:\")\n",
    "        print(self.best_score)\n",
    "        print(\"Best params:\")\n",
    "        print(self.best_params)\n",
    "        print(\"Best estimator scores mean:\")\n",
    "        print(self.best_estimator_scores_mean)\n",
    "        print(\"Best estimator scores stdev:\")\n",
    "        print(self.best_estimator_scores_stdev)"
   ]
  },
  {
   "cell_type": "markdown",
   "metadata": {
    "colab_type": "text",
    "id": "dYhzvdZPfDLu"
   },
   "source": [
    "`my_cross_val_score` is used in calculating the score after each cross validation step\n",
    "while tuning hyper parameters"
   ]
  },
  {
   "cell_type": "code",
   "execution_count": 203,
   "metadata": {
    "colab": {},
    "colab_type": "code",
    "id": "LZiAQup7yFn3"
   },
   "outputs": [],
   "source": [
    "def my_cross_val_score(estimator, X, y, fit_params=None, scoring=\"auc\"):\n",
    "    def splits(array, k):\n",
    "        splits = []\n",
    "\n",
    "        for i in range(k):\n",
    "            split_length = math.ceil(len(array)/k)\n",
    "            split = []\n",
    "            for j in range(i * split_length, (i+1) * split_length):\n",
    "                if j < len(array):\n",
    "                    split.append(array[j])\n",
    "\n",
    "            splits.append(split)\n",
    "        cvs = []\n",
    "        for i, split in enumerate(splits):\n",
    "            train = []\n",
    "            for j, other_split in enumerate(splits):\n",
    "                if i != j:\n",
    "                    train += other_split\n",
    "            test = [] + split\n",
    "            cvs.append((train, test))\n",
    "        return cvs\n",
    "\n",
    "    scores_for_point = []\n",
    "    for l_train, l_test in splits(list(X[\"listing_id\"].unique()), k=5):\n",
    "        X_train = X.query(\"listing_id in @l_train\").drop(columns=[\"listing_id\"])\n",
    "        y_train = y.query(\"listing_id in @l_train\").drop(columns=[\"listing_id\"])\n",
    "        X_test = X.query(\"listing_id in @l_test\").drop(columns=[\"listing_id\"])\n",
    "        y_test = y.query(\"listing_id in @l_test\").drop(columns=[\"listing_id\"])\n",
    "        \n",
    "        if fit_params is not None:\n",
    "          estimator.fit(X=X_train, y=y_train.values.ravel(), **fit_params)\n",
    "        else:\n",
    "          estimator.fit(X=X_train, y=y_train.values.ravel())\n",
    "        \n",
    "        if scoring == \"auc\":\n",
    "          y_preds_proba = estimator.predict_proba(X_test)\n",
    "          score = roc_auc_score(y_test, y_preds_proba[:, 1])\n",
    "        elif scoring == \"logloss\":        \n",
    "          y_preds_proba = estimator.predict_proba(X_test)\n",
    "          score = log_loss(y_test, y_preds_proba[:, 1])\n",
    "        elif scoring == \"f1\":\n",
    "          y_preds = estimator.predict(X_test)\n",
    "          f1_score_1 = f1_score(y_test, y_preds, pos_label=True)\n",
    "          f1_score_0 = f1_score(y_test, y_preds, pos_label=False)\n",
    "          score = min([f1_score_1, f1_score_0])\n",
    "          \n",
    "        scores_for_point.append(score)\n",
    "        gc.collect()\n",
    "\n",
    "    mean_score = np.mean(scores_for_point)\n",
    "    return mean_score\n",
    "\n"
   ]
  },
  {
   "cell_type": "code",
   "execution_count": 68,
   "metadata": {
    "colab": {},
    "colab_type": "code",
    "id": "imY5kFPkZFrl"
   },
   "outputs": [],
   "source": [
    "import decimal\n",
    "\n",
    "def float_range(start, stop, step):\n",
    "    start = decimal.Decimal(start)\n",
    "    stop = decimal.Decimal(stop)\n",
    "    step = decimal.Decimal(step)\n",
    "    while (start < stop):\n",
    "        yield float(start)\n",
    "        start += step"
   ]
  },
  {
   "cell_type": "code",
   "execution_count": 0,
   "metadata": {
    "colab": {},
    "colab_type": "code",
    "id": "eOnt42JDNenx"
   },
   "outputs": [],
   "source": [
    "X_train = pd.read_csv(data_dir + \"/X_train.csv\")\n",
    "y_train = pd.read_csv(data_dir + \"/y_train.csv\")\n",
    "garbage = gc.collect()"
   ]
  },
  {
   "cell_type": "code",
   "execution_count": 0,
   "metadata": {
    "colab": {},
    "colab_type": "code",
    "id": "fxBAn0bSDdVO"
   },
   "outputs": [],
   "source": [
    "X_train_sample = pd.read_csv(data_dir + \"/X_train_sample.csv\")\n",
    "y_train_sample = pd.read_csv(data_dir + \"/y_train_sample.csv\")\n",
    "garbage = gc.collect()"
   ]
  },
  {
   "cell_type": "code",
   "execution_count": 164,
   "metadata": {
    "colab": {},
    "colab_type": "code",
    "id": "_0QLX1aBxmfm"
   },
   "outputs": [],
   "source": [
    "validation_listing_ids = list(X_train_sample[[\"listing_id\"]].drop_duplicates([\"listing_id\"]).sample(frac=0.1)[\"listing_id\"])\n",
    "X_val_es = X_train_sample.query(\"listing_id in @validation_listing_ids\").drop(columns=[\"listing_id\"])\n",
    "y_val_es = y_train_sample.query(\"listing_id in @validation_listing_ids\").drop(columns=[\"listing_id\"])\n",
    "X_train_es = X_train_sample.query(\"listing_id not in @validation_listing_ids\")\n",
    "y_train_es = y_train_sample.query(\"listing_id not in @validation_listing_ids\")\n",
    "garbage = gc.collect()"
   ]
  },
  {
   "cell_type": "markdown",
   "metadata": {
    "colab_type": "text",
    "id": "jDlMsE3KyFn6"
   },
   "source": [
    "### Decision Tree Classifier for testing setup"
   ]
  },
  {
   "cell_type": "markdown",
   "metadata": {
    "colab_type": "text",
    "id": "Nt75dwmnyFn6"
   },
   "source": [
    "I will be using **Tree of Parzen Estimators** algorithm implemented in **Hyperopt** library for choosing hyper parameters to be evaluated to find the optimal ones that maximizes the score = min(f1_score_for_positive_class, f1_score_for_negative_class)"
   ]
  },
  {
   "cell_type": "code",
   "execution_count": null,
   "metadata": {
    "colab": {
     "base_uri": "https://localhost:8080/",
     "height": 1000
    },
    "colab_type": "code",
    "id": "uAQq07TayFn7",
    "outputId": "edf0b164-651d-4dad-d6ee-d3462e2d050f"
   },
   "outputs": [],
   "source": [
    "def objective_dtc(params):\n",
    "    clf = DecisionTreeClassifier()\n",
    "    clf.set_params(**params)    \n",
    "    score = my_cross_val_score(clf, X=X_train_sample, y=y_train_sample, scoring=\"auc\")\n",
    "    print(params)\n",
    "    print(\"auc roc: \" + str(score))\n",
    "    return score\n",
    "\n",
    "dtc_param_space = {\n",
    "    \"min_samples_leaf\": hp.choice(\"min_samples_leaf\", [x/X_train_sample.shape[0] for x in range(1,6,2)]),\n",
    "    \"min_samples_split\": hp.choice(\"min_samples_split\", [2*x/X_train_sample.shape[0] for x in range(1,11,2)]),\n",
    "    \"max_depth\": hp.choice(\"max_depth\", [2**x for x in range(2,11)]),    \n",
    "    \"random_state\": hp.choice(\"random_state\", [42])\n",
    "}\n",
    "start_time = time.time()\n",
    "best_params_dtc = space_eval(dtc_param_space, fmin(objective_dtc, dtc_param_space, algo=tpe.suggest, max_evals=50))\n",
    "elapsed_time = (time.time() - start_time) / 60\n",
    "print('Elapsed computation time: {:.3f} mins'.format(elapsed_time))\n",
    "print (\"Best params:\")\n",
    "print (best_params_dtc)\n"
   ]
  },
  {
   "cell_type": "markdown",
   "metadata": {
    "colab_type": "text",
    "id": "72jW97tJyFn9"
   },
   "source": [
    "After having evaluated the approximate optimal value for max-depth hyper parameter to be around 16, I am using **Bayesian Optimization** technique implemented in `gp_minimize` method of **Scikit Optimize** package to choose precisely optimal hyper parameters that maximizes the score = min(f1_score_for_positive_class, f1_score_for_negative_class)"
   ]
  },
  {
   "cell_type": "code",
   "execution_count": 0,
   "metadata": {
    "colab": {},
    "colab_type": "code",
    "id": "--zQN1IOyFn9"
   },
   "outputs": [],
   "source": [
    "def objective_dtc(params):\n",
    "    clf = DecisionTreeClassifier(\n",
    "        max_depth = params[0],\n",
    "        min_samples_leaf = params[1],\n",
    "        min_samples_split = params[2],\n",
    "        random_state = 42\n",
    "    )\n",
    "    score = my_cross_val_score(clf, X=X_train_sample, y=y_train_sample, scoring=\"auc\")\n",
    "    print (\"Currently evaluating params:\")\n",
    "    print({\n",
    "      \"max_depth\": params[0],\n",
    "      \"min_samples_leaf\": params[1],\n",
    "      \"min_samples_split\": params[2]\n",
    "    })\n",
    "    print (\"auc roc: \" + str(score))\n",
    "    return score\n",
    "start_time = time.time()\n",
    "dtc_opt_result = gp_minimize(\n",
    "    func=objective_dtc,\n",
    "    dimensions=[\n",
    "        (8, 30),\n",
    "        (1, 10),\n",
    "        (2, 20)\n",
    "    ],\n",
    "    random_state=42\n",
    ")\n",
    "elapsed_time = (time.time() - start_time) / 60\n",
    "print('Elapsed computation time: {:.3f} mins'.format(elapsed_time))\n",
    "best_params_list_dtc = dtc_opt_result.x\n",
    "best_score_dtc = -dtc_opt_result.fun\n",
    "best_params_dtc = {\n",
    "    \"max_depth\": best_params_list_dtc[0],\n",
    "    \"min_samples_leaf\": best_params_list_dtc[1],\n",
    "    \"min_samples_split\": best_params_list_dtc[2]\n",
    "}\n",
    "print (\"Best score (log loss): \" + str(best_score_dtc))\n",
    "print (\"Best params: \" + str(best_params_dtc))"
   ]
  },
  {
   "cell_type": "code",
   "execution_count": null,
   "metadata": {
    "colab": {},
    "colab_type": "code",
    "id": "Xg4Jd7ECyk-g"
   },
   "outputs": [],
   "source": [
    "dtc = DecisionTreeClassifier()\n",
    "dtc.set_params(**best_params_dtc)\n",
    "dtc.fit(X=X_train.drop(columns=[\"listing_id\"]), y=y_train.drop(columns=[\"listing_id\"]))\n",
    "pickle.dump(dtc, open(data_dir + '/dtc_best.pkl', 'wb'))"
   ]
  },
  {
   "cell_type": "markdown",
   "metadata": {
    "colab_type": "text",
    "id": "zZQsmGobyFn_"
   },
   "source": [
    "## Ensemble Learners"
   ]
  },
  {
   "cell_type": "markdown",
   "metadata": {
    "colab_type": "text",
    "id": "JWep1DD0lXFH"
   },
   "source": [
    "### Extreme Gradient Boosting (XGBoost)"
   ]
  },
  {
   "cell_type": "markdown",
   "metadata": {
    "colab_type": "text",
    "id": "Dw3lrT8cu6Y3"
   },
   "source": [
    "Tuning hyper parameters using **Hyperopt**. I initially tried using Tree of Parzen Estimator's algorithm."
   ]
  },
  {
   "cell_type": "code",
   "execution_count": 206,
   "metadata": {
    "colab": {},
    "colab_type": "code",
    "id": "10FalIJSFWlq"
   },
   "outputs": [
    {
     "name": "stdout",
     "output_type": "stream",
     "text": [
      "{'max_depth': 8, 'n_estimators': 1000, 'random_state': 42, 'subsample': 0.7}\n",
      "auc roc: 0.6702370965412059                         \n",
      "{'max_depth': 9, 'n_estimators': 1000, 'random_state': 42, 'subsample': 0.7}     \n",
      "auc roc: 0.6768105400737244                                                      \n",
      "{'max_depth': 20, 'n_estimators': 1000, 'random_state': 42, 'subsample': 0.7}    \n",
      "auc roc: 0.6739013629782556                                                      \n",
      "{'max_depth': 7, 'n_estimators': 1000, 'random_state': 42, 'subsample': 0.7}     \n",
      "auc roc: 0.6682063554220085                                                      \n",
      "{'max_depth': 13, 'n_estimators': 1000, 'random_state': 42, 'subsample': 0.7}    \n",
      "auc roc: 0.6734797006532995                                                      \n",
      "{'max_depth': 16, 'n_estimators': 1000, 'random_state': 42, 'subsample': 0.7}    \n",
      "auc roc: 0.6729678165796843                                                      \n",
      "{'max_depth': 17, 'n_estimators': 1000, 'random_state': 42, 'subsample': 0.7}    \n",
      "auc roc: 0.6737097278145109                                                      \n",
      "{'max_depth': 19, 'n_estimators': 1000, 'random_state': 42, 'subsample': 0.7}    \n",
      "auc roc: 0.671307021550898                                                       \n",
      "{'max_depth': 14, 'n_estimators': 1000, 'random_state': 42, 'subsample': 0.7}     \n",
      "auc roc: 0.6715306692165331                                                       \n",
      "{'max_depth': 10, 'n_estimators': 1000, 'random_state': 42, 'subsample': 0.7}     \n",
      "auc roc: 0.6788141145779812                                                       \n",
      "{'max_depth': 12, 'n_estimators': 1000, 'random_state': 42, 'subsample': 0.7}     \n",
      "auc roc: 0.6708674172126481                                                     \n",
      "{'max_depth': 11, 'n_estimators': 1000, 'random_state': 42, 'subsample': 0.7}   \n",
      "auc roc: 0.6737679652043485                                                     \n",
      "{'max_depth': 18, 'n_estimators': 1000, 'random_state': 42, 'subsample': 0.7}   \n",
      "auc roc: 0.67973291076885                                                         \n",
      "{'max_depth': 15, 'n_estimators': 1000, 'random_state': 42, 'subsample': 0.7}     \n",
      "auc roc: 0.6745214144521865                                                     \n",
      "100%|██████████| 30/30 [1:04:55<00:00, 144.27s/it, best loss: -0.67973291076885]\n",
      "{'max_depth': 18, 'n_estimators': 1000, 'random_state': 42, 'subsample': 0.7}\n",
      "Elapsed computation time: 64.923 mins\n"
     ]
    }
   ],
   "source": [
    "def f1_eval(y_pred, dtrain):\n",
    "    y_true = dtrain.get_label()\n",
    "    err = 1-f1_score(y_true, np.round(y_pred))\n",
    "    return 'f1_err', err\n",
    "evaluated_point_scores = {}\n",
    "def objective_xgb(params):\n",
    "    if (str(params) in evaluated_point_scores):\n",
    "       return evaluated_point_scores[str(params)]\n",
    "    else:      \n",
    "      clf = XGBClassifier()\n",
    "      clf.set_params(**params)    \n",
    "      auc_roc = my_cross_val_score(clf, X=X_train_es, y=y_train_es, fit_params={\n",
    "              \"eval_set\": [(X_val_es, y_val_es.values.ravel())],\n",
    "              \"early_stopping_rounds\":20,\n",
    "              \"verbose\": None,\n",
    "              \"eval_metric\": \"auc\"\n",
    "          }, scoring=\"auc\")\n",
    "      print(params)\n",
    "      print(\"auc roc: \" + str(auc_roc))\n",
    "      evaluated_point_scores[str(params)] = -auc_roc\n",
    "      return -auc_roc\n",
    "\n",
    "xgb_param_space = {    \n",
    "    \"max_depth\": hp.choice(\"max_depth\", range(7,21,1)),    \n",
    "#     \"min_child_weight\": hp.choice(\"min_child_weight\", range(1,51,1)),    \n",
    "#     \"gamma\": hp.choice(\"gamma\", range(0, 11, 1)),\n",
    "    \"subsample\": hp.choice(\"subsample\", [0.7]),\n",
    "    \"random_state\": hp.choice(\"random_state\", [42]),\n",
    "#     \"tree_method\": hp.choice(\"tree_method\", [\"gpu_hist\"]),    \n",
    "    \"n_estimators\": hp.choice(\"n_estimators\", [1000])\n",
    "}\n",
    "start_time = time.time()\n",
    "best_params_xgb = space_eval(\n",
    "    xgb_param_space, \n",
    "    fmin(objective_xgb, \n",
    "         xgb_param_space, \n",
    "         algo=hyperopt.tpe.suggest,\n",
    "         max_evals=30))\n",
    "print(best_params_xgb)\n",
    "elapsed_time = (time.time() - start_time) / 60\n",
    "print('Elapsed computation time: {:.3f} mins'.format(elapsed_time))"
   ]
  },
  {
   "cell_type": "markdown",
   "metadata": {
    "colab_type": "text",
    "id": "C09JfBKr5DRp"
   },
   "source": [
    "### Keeping our model realistic about the price elasticity for demand of properties"
   ]
  },
  {
   "cell_type": "markdown",
   "metadata": {
    "colab_type": "text",
    "id": "YdXRo-KFzSo7"
   },
   "source": [
    "Note that for max_depth ranging from 7 to 20, we have have F1-score somewhere between 66 and 68. If our main target is to estimate the price elasticity for property on given day and market condition, then it is also important that our chosen model shows positive price elasticity for as many property listings as possible to be more realistic about how the world works based on economic principle of price elasticity for demand.\n",
    "\n",
    "Note that this type of hyperparameter tuning is only supposed to be used if the number of properties showing positive price elasticity for demand are signficantly lower than expectations."
   ]
  },
  {
   "cell_type": "code",
   "execution_count": 0,
   "metadata": {
    "colab": {},
    "colab_type": "code",
    "id": "5aW-OCpf0Gs-"
   },
   "outputs": [],
   "source": [
    "# def f1_eval(y_pred, dtrain):\n",
    "#     y_true = dtrain.get_label()\n",
    "#     err = 1-f1_score(y_true, np.round(y_pred))\n",
    "#     return 'f1_err', err\n",
    "# evaluated_point_scores = {}\n",
    "# def objective_xgb(params):\n",
    "#     if (str(params) in evaluated_point_scores):\n",
    "#        return evaluated_point_scores[str(params)]\n",
    "#     else:      \n",
    "#       print(params)\n",
    "#       clf = XGBClassifier()\n",
    "#       clf.set_params(**params)\n",
    "#       clf.fit(X=X_train_es.drop(columns=[\"listing_id\"]), y=y_train_es.drop(columns=[\"listing_id\"]).values.ravel(), \n",
    "#         eval_set=[(X_val_es, y_val_es.values.ravel())],\n",
    "#         eval_metric= f1_eval,\n",
    "#         early_stopping_rounds=50,\n",
    "#         verbose=None\n",
    "#        )\n",
    "#       props_with_positive_elasticity = 0      \n",
    "#       for index, listing in X_val_es.copy().sample(100, random_state=42).iterrows():\n",
    "        \n",
    "#         original_listing = listing.copy()\n",
    "        \n",
    "#         # Fitting a curve that captures to price elasticity trend\n",
    "#         percentage = 20\n",
    "#         n_points = 10\n",
    "#         current_norm_price = listing[\"price_calendar_normalized\"]\n",
    "#         higher_price_normalized = current_norm_price * (1 + (percentage/100))\n",
    "#         lower_price_normalized = max(0, current_norm_price * (1 - (percentage/100)))    \n",
    "#         samples_price_norm = list(float_range(str(lower_price_normalized), str(higher_price_normalized), str((higher_price_normalized - lower_price_normalized)/n_points)))\n",
    "#         samples_price_norm += list(float_range(str(current_norm_price * (0.95)), str(current_norm_price * (1.05)), str(current_norm_price * (0.1/(n_points/2)))))\n",
    "\n",
    "#         probs = []\n",
    "        \n",
    "#         for sample_price_norm in samples_price_norm:\n",
    "#           listing[\"price_calendar_normalized\"] = sample_price_norm\n",
    "#           df = pd.DataFrame(data=listing.to_dict(), index=[0])\n",
    "#           prob = clf.predict_proba(df)[0][0]\n",
    "#           probs.append(prob)  \n",
    "\n",
    "#         X = pd.DataFrame({\"x\" : samples_price_norm})\n",
    "#         y = pd.DataFrame({\"y\": probs})\n",
    "#         curve = make_pipeline(PolynomialFeatures(degree=1), LinearRegression())\n",
    "#         curve.fit(X,y)\n",
    "        \n",
    "#         # Calculating price elasticity \n",
    "#         percentage_to_check = 20\n",
    "#         listing = original_listing.copy()\n",
    "#         current_normalized_price = listing[\"price_calendar_normalized\"]\n",
    "#         norm_price_1 = min(0, current_normalized_price * (1 - percentage_to_check/100))\n",
    "#         price_1 = norm_price_1 * listing[\"total_env_prices\"]\n",
    "#         listing[\"price_calendar_normalized\"] = norm_price_1\n",
    "#         df_norm_price_1 = pd.DataFrame(data={\"x\" : norm_price_1}, index=[0])\n",
    "#         d_1 = curve.predict(df_norm_price_1)[0]\n",
    "\n",
    "#         norm_price_2 = current_normalized_price * (1 + percentage_to_check/100)\n",
    "#         price_2 = norm_price_2 * listing[\"total_env_prices\"]\n",
    "#         listing[\"price_calendar_normalized\"] = norm_price_2\n",
    "#         df_norm_price_2 = pd.DataFrame(data={\"x\" : norm_price_2}, index=[0])\n",
    "#         d_2 = curve.predict(df_norm_price_2)[0]\n",
    "\n",
    "#         price_change = (price_2 - price_1)/((price_2 + price_1)/2)\n",
    "#         demand_change = (d_2 - d_1)/((d_2 + d_1)/2)\n",
    "#         elasticity = - (demand_change / price_change)\n",
    "#         if elasticity > 0:\n",
    "#           props_with_positive_elasticity += 1\n",
    "          \n",
    "#       print(\"props_with_positive_elasticity: \" + str(props_with_positive_elasticity))    \n",
    "#       evaluated_point_scores[str(params)] = -props_with_positive_elasticity\n",
    "#       return -props_with_positive_elasticity\n",
    "\n",
    "# xgb_param_space = {    \n",
    "#     \"max_depth\": hp.choice(\"max_depth\", range(7,15,1)),    \n",
    "# #     \"min_child_weight\": hp.choice(\"min_child_weight\", range(1,51,1)),    \n",
    "# #     \"gamma\": hp.choice(\"gamma\", range(0, 11, 1)),\n",
    "#     \"subsample\": hp.choice(\"subsample\", [1.0]),\n",
    "#     \"random_state\": hp.choice(\"random_state\", [42]),\n",
    "#     \"tree_method\": hp.choice(\"tree_method\", [\"gpu_hist\"]),\n",
    "#     \"n_estimators\": hp.choice(\"n_estimators\", [1000])\n",
    "# }\n",
    "# start_time = time.time()\n",
    "# best_params_xgb = space_eval(\n",
    "#     xgb_param_space, \n",
    "#     fmin(objective_xgb, \n",
    "#          xgb_param_space, \n",
    "#          algo=hyperopt.tpe.suggest,\n",
    "#          max_evals=20))\n",
    "# print(best_params_xgb)\n",
    "# elapsed_time = (time.time() - start_time) / 60\n",
    "# print('Elapsed computation time: {:.3f} mins'.format(elapsed_time))"
   ]
  },
  {
   "cell_type": "code",
   "execution_count": 207,
   "metadata": {
    "colab": {},
    "colab_type": "code",
    "id": "uN-YeVc13ol8"
   },
   "outputs": [
    {
     "name": "stdout",
     "output_type": "stream",
     "text": [
      "[0]\tvalidation_0-auc:0.529626\n",
      "Will train until validation_0-auc hasn't improved in 20 rounds.\n",
      "[50]\tvalidation_0-auc:0.677661\n",
      "Stopping. Best iteration:\n",
      "[53]\tvalidation_0-auc:0.679825\n",
      "\n",
      "Best params:\n",
      "{'max_depth': 18, 'n_estimators': 54, 'random_state': 42, 'subsample': 0.7}\n"
     ]
    }
   ],
   "source": [
    "#Deciding optimal number of estimator trees\n",
    "xgb = XGBClassifier()\n",
    "xgb.set_params(**best_params_xgb)\n",
    "xgb.fit(X=X_train_es.drop(columns=[\"listing_id\"]), y=y_train_es.drop(columns=[\"listing_id\"]).values.ravel(), \n",
    "        eval_set=[(X_val_es, y_val_es.values.ravel())],\n",
    "        eval_metric= \"auc\",\n",
    "        early_stopping_rounds=20,\n",
    "        verbose=50\n",
    "       )\n",
    "best_params_xgb[\"n_estimators\"] = xgb.best_ntree_limit\n",
    "print (\"Best params:\")\n",
    "print (best_params_xgb)"
   ]
  },
  {
   "cell_type": "code",
   "execution_count": 208,
   "metadata": {
    "colab": {},
    "colab_type": "code",
    "id": "cs0bWeRQ4Cqu"
   },
   "outputs": [],
   "source": [
    "# Training XGBoost using entire training dataset with optimal hyper parameters\n",
    "# I am using small sample of 100,000 rows to train XGBoost as larger sample size\n",
    "# containing million rows causes program to run out of memory\n",
    "gc.collect()\n",
    "\n",
    "X_train_sample_xgb = X_train.sample(100000, random_state=42)\n",
    "y_train_sample_xgb = y_train.loc[X_train_sample_xgb.index]\n",
    "\n",
    "xgb = XGBClassifier()\n",
    "xgb.set_params(**best_params_xgb)\n",
    "xgb.fit(X=X_train_sample_xgb.drop(columns=[\"listing_id\"]), y=y_train_sample_xgb.drop(columns=[\"listing_id\"]).values.ravel())\n",
    "\n",
    "pickle.dump(xgb, open(data_dir + '/xgb_best.pkl', 'wb'))"
   ]
  },
  {
   "cell_type": "markdown",
   "metadata": {
    "colab_type": "text",
    "id": "C4sZ8a7qyFoA"
   },
   "source": [
    "### AdaBoost\n",
    "The execution of even one iteration of of this algorithm appears to be very slow on this dataset. I have just kept this here for reference in case I want to try it in future."
   ]
  },
  {
   "cell_type": "code",
   "execution_count": 0,
   "metadata": {
    "colab": {},
    "colab_type": "code",
    "id": "J3dlw7gAyFoB"
   },
   "outputs": [],
   "source": [
    "def objective_ada(params):\n",
    "    gc.collect()\n",
    "    clf = AdaBoostClassifier(DecisionTreeClassifier())\n",
    "    clf.set_params(**params)    \n",
    "    score = my_cross_val_score(clf, X=X_train_sample, y=y_train_sample, scoring=\"f1\")\n",
    "    print(params)\n",
    "    print(\"score: \" + str(score))    \n",
    "    return -score\n",
    "ada_param_space = {\n",
    "    \"base_estimator__max_depth\": hp.choice(\"base_estimator__max_depth\", range(4,11,1)),\n",
    "    \"n_estimators\": hp.choice(\"n_estimators\", range(10, 101, 10)),\n",
    "    \"random_state\": hp.choice(\"random_state\", [42])\n",
    "}\n",
    "start_time = time.time()\n",
    "best_params_ada = space_eval(ada_param_space, fmin(objective_ada, ada_param_space, algo=tpe.suggest, max_evals=25))\n",
    "elapsed_time = (time.time() - start_time) / 60\n",
    "print('Elapsed computation time: {:.3f} mins'.format(elapsed_time))\n",
    "print (\"Best params: \")\n",
    "print (best_params_ada)\n",
    "ada = AdaBoostClassifier(DecisionTreeClassifier())\n",
    "ada.set_params(**best_params_ada)\n",
    "ada.fit(X=X_train_sample.drop(columns=[\"listing_id\"]), y=y_train_sample.drop(columns=[\"listing_id\"]))\n",
    "pickle.dump(ada, open(data_dir + '/ada_best.pkl', 'wb'))"
   ]
  },
  {
   "cell_type": "markdown",
   "metadata": {
    "colab_type": "text",
    "id": "oHoXclxZyFoM"
   },
   "source": [
    "## Support Vector Machine"
   ]
  },
  {
   "cell_type": "markdown",
   "metadata": {
    "colab_type": "text",
    "id": "dUFS1poxIizF"
   },
   "source": [
    "The execution of even one iteration of of this algorithm appears to be very slow on this dataset. I have just kept this here for reference in case I want to try it in future."
   ]
  },
  {
   "cell_type": "code",
   "execution_count": 0,
   "metadata": {
    "colab": {},
    "colab_type": "code",
    "id": "z8g0jV5eyFoM"
   },
   "outputs": [],
   "source": [
    "def objective_svm(params):\n",
    "    clf = SVC()\n",
    "    clf.set_params(**params)\n",
    "    score = my_cross_val_score(clf, X=X_train_sample, y=y_train_sample)\n",
    "    print(params)\n",
    "    print(\"score: \" + str(score))\n",
    "    return -score\n",
    "svm_param_space = {\n",
    "    \"kernel\": hp.choice(\"kernel\", ['rbf']),\n",
    "    \"gamma\": hp.choice(\"gamma\", [0.001, 0.005, 0.01, 0.1, 1]),\n",
    "    \"C\": hp.choice(\"C\", [1, 5, 10, 50, 100, 500, 1000]),\n",
    "    \"random_state\": hp.choice(\"random_state\", [42]),\n",
    "  \n",
    "}\n",
    "start_time = time.time()\n",
    "best_params_svm = space_eval(svm_param_space, fmin(objective_svm, svm_param_space, algo=tpe.suggest, max_evals=50))\n",
    "elapsed_time = (time.time() - start_time) / 60\n",
    "print('Elapsed computation time: {:.3f} mins'.format(elapsed_time))\n",
    "print (\"Best params: \")\n",
    "print (best_params_svm)\n",
    "svm = SVC()\n",
    "best_params_svm[\"probability\"] = True\n",
    "svm.set_params(**best_params_svm)\n",
    "svm.fit(X=X_train.drop(columns=[\"listing_id\"]), y=y_train.drop(columns=[\"listing_id\"]).values.ravel())\n",
    "pickle.dump(svm, open(data_dir + '/svm_best.pkl', 'wb'))"
   ]
  },
  {
   "cell_type": "markdown",
   "metadata": {
    "colab_type": "text",
    "id": "gujejNkkyFoO"
   },
   "source": [
    "## Neural Network with Keras"
   ]
  },
  {
   "cell_type": "markdown",
   "metadata": {
    "colab_type": "text",
    "id": "yFJ8DoLOjYE_"
   },
   "source": [
    "For deciding number of hidden layers and number of neurons in each layer, I followed following rules of thumb suggested by some ML researches on discussion forums related to machine learning and statistics.\n",
    "- The number of hidden neurons should be between the size of the input layer and the size of the output layer.\n",
    "- The number of hidden neurons should be 2/3 the size of the input layer, plus the size of the output layer.\n",
    "- The number of hidden neurons should be less than twice the size of the input layer.  \n",
    "\n",
    "While these values can be a good starting point, the most optimal values for number and width of hidden layers can be decided by treating those numbers as hyperparameters to be tuned."
   ]
  },
  {
   "cell_type": "code",
   "execution_count": 0,
   "metadata": {
    "colab": {},
    "colab_type": "code",
    "id": "FQiNCpwfyFoO"
   },
   "outputs": [],
   "source": [
    "def make_model(n_features, n_hidden_layers, n_neurons_per_layer, reduction_in_num_of_neurons_per_layer, learn_rate):\n",
    "    model = Sequential()    \n",
    "    model.add(Dense(n_neurons_per_layer, input_shape=(n_features,), kernel_initializer='glorot_normal'))\n",
    "    model.add(Activation('relu'))\n",
    "    model.add(BatchNormalization())\n",
    "    model.add(Dropout(0.5))\n",
    "    \n",
    "    for i in range(1, n_hidden_layers):\n",
    "      model.add(Dense(int(n_neurons_per_layer * (1-reduction_in_num_of_neurons_per_layer)), kernel_initializer='glorot_normal'))\n",
    "      model.add(Activation('relu'))\n",
    "      model.add(BatchNormalization())\n",
    "      model.add(Dropout(0.5))\n",
    "    \n",
    "    model.add(Dense(1, activation='sigmoid'))\n",
    "    \n",
    "    model.compile(loss='binary_crossentropy',\n",
    "                optimizer=Adam(lr=learn_rate),\n",
    "                metrics=['acc'])\n",
    "    return model"
   ]
  },
  {
   "cell_type": "markdown",
   "metadata": {
    "colab_type": "text",
    "id": "EmCjgWC57yn9"
   },
   "source": [
    "### Hyper Parameter Tuner for Deep Learning model\n",
    "\n"
   ]
  },
  {
   "cell_type": "code",
   "execution_count": 0,
   "metadata": {
    "colab": {},
    "colab_type": "code",
    "id": "uTGBuaLD4Fks"
   },
   "outputs": [],
   "source": [
    "class HyperTuner(object):\n",
    "    \n",
    "    def __init__(self, param_grid, cv=3):\n",
    "        self.param_grid = param_grid\n",
    "        self.best_score = -math.inf\n",
    "        self.best_estimator_scores_median = -math.inf\n",
    "        self.best_estimator_scores_mean = -math.inf\n",
    "        self.best_estimator_scores_stdev = -math.inf\n",
    "        self.best_params= None\n",
    "        self.cv = cv       \n",
    "    \n",
    "    def fit(self, X, y):\n",
    "        for param_point in self.get_param_grid_points():\n",
    "            print (\"Evaluating Parameter Values:\")\n",
    "            print (param_point)\n",
    "            def splits(array, k):\n",
    "                splits = []\n",
    "                \n",
    "                for i in range(k):\n",
    "                    split_length = math.ceil(len(array)/k)\n",
    "                    split = []\n",
    "                    for j in range(i * split_length, (i+1) * split_length):\n",
    "                        if j < len(array):\n",
    "                            split.append(array[j])\n",
    "                        \n",
    "                    splits.append(split)\n",
    "                cvs = []\n",
    "                for i, split in enumerate(splits):\n",
    "                    train = []\n",
    "                    for j, other_split in enumerate(splits):\n",
    "                        if i != j:\n",
    "                            train += other_split\n",
    "                    test = [] + split\n",
    "                    cvs.append((train, test))\n",
    "                return cvs\n",
    "                    \n",
    "            scores_for_point = []\n",
    "            n_features = len(X.drop(columns=[\"listing_id\"]).columns)\n",
    "            n_hidden_layers = param_point[\"n_hidden_layers\"]\n",
    "            n_neurons_per_layer = param_point[\"n_neurons_per_layer\"]\n",
    "            reduction_in_num_of_neurons_per_layer = param_point[\"reduction_in_num_of_neurons_per_layer\"]\n",
    "            learn_rate = param_point[\"learn_rate\"]\n",
    "\n",
    "            for l_train, l_test in splits(list(X[\"listing_id\"].unique()), k=self.cv):   \n",
    "                model = make_model(n_features, n_hidden_layers, n_neurons_per_layer, reduction_in_num_of_neurons_per_layer, learn_rate)             \n",
    "                X_train = X.query(\"listing_id in @l_train\").drop(columns=[\"listing_id\"])\n",
    "                X_test = X.query(\"listing_id in @l_test\").drop(columns=[\"listing_id\"])\n",
    "                y_train = y.query(\"listing_id in @l_train\").drop(columns=[\"listing_id\"])\n",
    "                y_test = y.query(\"listing_id in @l_test\").drop(columns=[\"listing_id\"])                \n",
    "                model.fit(X_train, y_train, validation_data=(X_test, y_test), epochs=50, verbose=0,\n",
    "                callbacks=[\n",
    "                  EarlyStopping(monitor='val_loss', verbose=0, patience=3),\n",
    "                  ModelCheckpoint(data_dir + '/nn_best_model_temp.h5', monitor='val_loss', verbose=0)\n",
    "                 ])\n",
    "                model.load_weights(data_dir + \"/nn_best_model_temp.h5\")\n",
    "                y_preds = model.predict_classes(X_test)\n",
    "                f1_score_1 = f1_score(y_test, y_preds, pos_label=True)\n",
    "                f1_score_0 = f1_score(y_test, y_preds, pos_label=False)\n",
    "                score = min([f1_score_1, f1_score_0])\n",
    "                scores_for_point.append(score)\n",
    "                gc.collect()\n",
    "                \n",
    "            median_score = np.median(scores_for_point)\n",
    "            \n",
    "            print (\"Done evaluation param point.\\nScore: \" + str(median_score))\n",
    "            print (\"-------------------------------------\")\n",
    "            if median_score > self.best_estimator_scores_median:\n",
    "                self.best_estimator_scores_mean = np.mean(scores_for_point)\n",
    "                self.best_estimator_scores_median = median_score\n",
    "                self.best_estimator_scores_stdev = np.std(scores_for_point)\n",
    "                self.best_params = param_point\n",
    "                self.best_score = self.best_estimator_scores_median\n",
    "            gc.collect()\n",
    "            \n",
    "        print (\"Finished evaluating all values for hyper parameters.\")\n",
    "        print (\"Best Parameter Values:\")\n",
    "        print (self.best_params)\n",
    "        print (\"Best Score (median of validation scores): \" + str(median_score))\n",
    "        gc.collect()\n",
    "            \n",
    "    def get_param_grid_points(self):\n",
    "        points = [{}]\n",
    "        for param, values in self.param_grid.items():\n",
    "            new_points = []\n",
    "            for point in points:\n",
    "                for value in values:                    \n",
    "                    new_point = point.copy()\n",
    "                    new_point[param]= value\n",
    "                    new_points.append(new_point)\n",
    "            points = new_points\n",
    "        return points\n",
    "    \n",
    "    def print_best(self):\n",
    "        print(\"Best score (median of validation scores):\")\n",
    "        print(self.best_score)\n",
    "        print(\"Best params:\")\n",
    "        print(self.best_params)\n",
    "        print(\"Best estimator scores mean:\")\n",
    "        print(self.best_estimator_scores_mean)\n",
    "        print(\"Best estimator scores stdev:\")\n",
    "        print(self.best_estimator_scores_stdev)"
   ]
  },
  {
   "cell_type": "code",
   "execution_count": 0,
   "metadata": {
    "colab": {},
    "colab_type": "code",
    "id": "BjswnzY7oHKO"
   },
   "outputs": [],
   "source": [
    "gc.collect()"
   ]
  },
  {
   "cell_type": "code",
   "execution_count": 0,
   "metadata": {
    "colab": {},
    "colab_type": "code",
    "id": "ic6SwXikEkR8",
    "outputId": "9551d929-a084-40a4-8e95-6fe9c9d85279"
   },
   "outputs": [
    {
     "name": "stdout",
     "output_type": "stream",
     "text": [
      "Evaluating Parameter Values:\n",
      "{'n_hidden_layers': 3, 'n_neurons_per_layer': 100, 'reduction_in_num_of_neurons_per_layer': 0.2, 'learn_rate': 0.01}\n",
      "Done evaluation param point.\n",
      "Score: 0.1502380851154288\n",
      "-------------------------------------\n",
      "Evaluating Parameter Values:\n",
      "{'n_hidden_layers': 5, 'n_neurons_per_layer': 100, 'reduction_in_num_of_neurons_per_layer': 0.2, 'learn_rate': 0.01}\n",
      "Done evaluation param point.\n",
      "Score: 0.5409145039033704\n",
      "-------------------------------------\n",
      "Evaluating Parameter Values:\n",
      "{'n_hidden_layers': 7, 'n_neurons_per_layer': 100, 'reduction_in_num_of_neurons_per_layer': 0.2, 'learn_rate': 0.01}\n",
      "Done evaluation param point.\n",
      "Score: 0.46514626249892554\n",
      "-------------------------------------\n",
      "Finished evaluating all values for hyper parameters.\n",
      "Best Parameter Values:\n",
      "{'n_hidden_layers': 5, 'n_neurons_per_layer': 100, 'reduction_in_num_of_neurons_per_layer': 0.2, 'learn_rate': 0.01}\n",
      "Best Score (median of validation scores): 0.46514626249892554\n"
     ]
    }
   ],
   "source": [
    "# I have fixed hyper parameters to save time and memory consumption\n",
    "# they can be tested by specifying values in the range as shown in comments\n",
    "\n",
    "hyper_tuner = HyperTuner(param_grid={\n",
    "    \"n_hidden_layers\": [3,5,7], # [3,4,5]\n",
    "    \"n_neurons_per_layer\": [100, 500], # [50, 100, 150, 200]\n",
    "    \"reduction_in_num_of_neurons_per_layer\": [0.2, 0.5], # [0, 0.1, 0.2, 0.5]\n",
    "    \"learn_rate\": [0.01] # [0.001, 0.01, 0.1]\n",
    "}, cv=3)\n",
    "hyper_tuner.fit(X_train, y_train)"
   ]
  },
  {
   "cell_type": "code",
   "execution_count": 0,
   "metadata": {
    "colab": {},
    "colab_type": "code",
    "id": "RZB2dv4-SG0i",
    "outputId": "d82de78a-81e5-4dcb-bb85-bed820d90f2c"
   },
   "outputs": [
    {
     "name": "stdout",
     "output_type": "stream",
     "text": [
      "Best score (median of validation scores):\n",
      "0.5409145039033704\n",
      "Best params:\n",
      "{'n_hidden_layers': 5, 'n_neurons_per_layer': 100, 'reduction_in_num_of_neurons_per_layer': 0.2, 'learn_rate': 0.01}\n",
      "Best estimator scores mean:\n",
      "0.39701294453662844\n",
      "Best estimator scores stdev:\n",
      "0.21361699787078586\n"
     ]
    }
   ],
   "source": [
    "hyper_tuner.print_best()"
   ]
  },
  {
   "cell_type": "markdown",
   "metadata": {
    "colab_type": "text",
    "id": "pJ-_OdCQEOV8"
   },
   "source": [
    "Preparing the best model with optimal values of hyper parameters.\n",
    "\n",
    "- I have used Early stopping to prevent the neural network overfit to the training data while being trained on same data through multiple epochs.  \n",
    "- I have also used ModelCheckpoint that saves the weights of last best performing model, so that I can set early stopping patience to greater zero and it allows a few epochs to be executed to confirm that the performance of model on unseen data is unlikely to improve by running any more epochs."
   ]
  },
  {
   "cell_type": "code",
   "execution_count": 0,
   "metadata": {
    "colab": {
     "base_uri": "https://localhost:8080/",
     "height": 1000
    },
    "colab_type": "code",
    "id": "f4mSJXo9EJUi",
    "outputId": "991245c5-fe27-467a-b933-6a3ef754c5b7"
   },
   "outputs": [
    {
     "name": "stdout",
     "output_type": "stream",
     "text": [
      "WARNING:tensorflow:From /usr/local/lib/python3.6/dist-packages/keras/backend/tensorflow_backend.py:66: The name tf.get_default_graph is deprecated. Please use tf.compat.v1.get_default_graph instead.\n",
      "\n",
      "WARNING:tensorflow:From /usr/local/lib/python3.6/dist-packages/keras/backend/tensorflow_backend.py:541: The name tf.placeholder is deprecated. Please use tf.compat.v1.placeholder instead.\n",
      "\n",
      "WARNING:tensorflow:From /usr/local/lib/python3.6/dist-packages/keras/backend/tensorflow_backend.py:4479: The name tf.truncated_normal is deprecated. Please use tf.random.truncated_normal instead.\n",
      "\n",
      "WARNING:tensorflow:From /usr/local/lib/python3.6/dist-packages/keras/backend/tensorflow_backend.py:148: The name tf.placeholder_with_default is deprecated. Please use tf.compat.v1.placeholder_with_default instead.\n",
      "\n",
      "WARNING:tensorflow:From /usr/local/lib/python3.6/dist-packages/keras/backend/tensorflow_backend.py:3733: calling dropout (from tensorflow.python.ops.nn_ops) with keep_prob is deprecated and will be removed in a future version.\n",
      "Instructions for updating:\n",
      "Please use `rate` instead of `keep_prob`. Rate should be set to `rate = 1 - keep_prob`.\n",
      "WARNING:tensorflow:From /usr/local/lib/python3.6/dist-packages/keras/backend/tensorflow_backend.py:4432: The name tf.random_uniform is deprecated. Please use tf.random.uniform instead.\n",
      "\n",
      "WARNING:tensorflow:From /usr/local/lib/python3.6/dist-packages/keras/optimizers.py:793: The name tf.train.Optimizer is deprecated. Please use tf.compat.v1.train.Optimizer instead.\n",
      "\n",
      "WARNING:tensorflow:From /usr/local/lib/python3.6/dist-packages/tensorflow/python/ops/nn_impl.py:180: add_dispatch_support.<locals>.wrapper (from tensorflow.python.ops.array_ops) is deprecated and will be removed in a future version.\n",
      "Instructions for updating:\n",
      "Use tf.where in 2.0, which has the same broadcast rule as np.where\n",
      "Train on 801540 samples, validate on 89060 samples\n",
      "Epoch 1/50\n",
      "801540/801540 [==============================] - 629s 785us/step - loss: 0.6457 - acc: 0.6305 - val_loss: 0.7321 - val_acc: 0.5566\n",
      "\n",
      "Epoch 00001: saving model to /content/gdrive/My Drive/Data Scientist/airbnb/data/boston/nn_best_model_cv.h5\n",
      "Epoch 2/50\n",
      "801540/801540 [==============================] - 636s 794us/step - loss: 0.6064 - acc: 0.6729 - val_loss: 1.3314 - val_acc: 0.5189\n",
      "\n",
      "Epoch 00002: saving model to /content/gdrive/My Drive/Data Scientist/airbnb/data/boston/nn_best_model_cv.h5\n",
      "Epoch 3/50\n",
      "801540/801540 [==============================] - 635s 793us/step - loss: 0.5941 - acc: 0.6809 - val_loss: 0.6687 - val_acc: 0.5769\n",
      "\n",
      "Epoch 00003: saving model to /content/gdrive/My Drive/Data Scientist/airbnb/data/boston/nn_best_model_cv.h5\n",
      "Epoch 4/50\n",
      "801540/801540 [==============================] - 624s 778us/step - loss: 0.5850 - acc: 0.6877 - val_loss: 0.6432 - val_acc: 0.6356\n",
      "\n",
      "Epoch 00004: saving model to /content/gdrive/My Drive/Data Scientist/airbnb/data/boston/nn_best_model_cv.h5\n",
      "Epoch 5/50\n",
      "801540/801540 [==============================] - 633s 790us/step - loss: 0.5776 - acc: 0.6933 - val_loss: 0.6409 - val_acc: 0.6167\n",
      "\n",
      "Epoch 00005: saving model to /content/gdrive/My Drive/Data Scientist/airbnb/data/boston/nn_best_model_cv.h5\n",
      "Epoch 6/50\n",
      "801540/801540 [==============================] - 628s 783us/step - loss: 0.5713 - acc: 0.6987 - val_loss: 0.6341 - val_acc: 0.6588\n",
      "\n",
      "Epoch 00006: saving model to /content/gdrive/My Drive/Data Scientist/airbnb/data/boston/nn_best_model_cv.h5\n",
      "Epoch 7/50\n",
      "801540/801540 [==============================] - 628s 784us/step - loss: 0.5689 - acc: 0.7011 - val_loss: 0.6571 - val_acc: 0.6314\n",
      "\n",
      "Epoch 00007: saving model to /content/gdrive/My Drive/Data Scientist/airbnb/data/boston/nn_best_model_cv.h5\n",
      "Epoch 8/50\n",
      "801540/801540 [==============================] - 630s 786us/step - loss: 0.5648 - acc: 0.7050 - val_loss: 0.9766 - val_acc: 0.5651\n",
      "\n",
      "Epoch 00008: saving model to /content/gdrive/My Drive/Data Scientist/airbnb/data/boston/nn_best_model_cv.h5\n",
      "Epoch 9/50\n",
      "801540/801540 [==============================] - 632s 789us/step - loss: 0.5637 - acc: 0.7069 - val_loss: 0.6370 - val_acc: 0.6277\n",
      "\n",
      "Epoch 00009: saving model to /content/gdrive/My Drive/Data Scientist/airbnb/data/boston/nn_best_model_cv.h5\n",
      "Epoch 10/50\n",
      "801540/801540 [==============================] - 641s 800us/step - loss: 0.5623 - acc: 0.7081 - val_loss: 0.7840 - val_acc: 0.5597\n",
      "\n",
      "Epoch 00010: saving model to /content/gdrive/My Drive/Data Scientist/airbnb/data/boston/nn_best_model_cv.h5\n",
      "Epoch 11/50\n",
      "801540/801540 [==============================] - 627s 782us/step - loss: 0.5571 - acc: 0.7122 - val_loss: 1.7161 - val_acc: 0.4838\n",
      "\n",
      "Epoch 00011: saving model to /content/gdrive/My Drive/Data Scientist/airbnb/data/boston/nn_best_model_cv.h5\n",
      "Epoch 00011: early stopping\n"
     ]
    },
    {
     "data": {
      "text/plain": [
       "<keras.callbacks.History at 0x7f9302c80278>"
      ]
     },
     "execution_count": 25,
     "metadata": {
      "tags": []
     },
     "output_type": "execute_result"
    }
   ],
   "source": [
    "n_features = len(X_train.drop(columns=[\"listing_id\"]).columns)\n",
    "n_hidden_layers = hyper_tuner.best_params[\"n_hidden_layers\"]\n",
    "n_neurons_per_layer = hyper_tuner.best_params[\"n_neurons_per_layer\"]\n",
    "reduction_in_num_of_neurons_per_layer = hyper_tuner.best_params[\"reduction_in_num_of_neurons_per_layer\"]\n",
    "learn_rate = hyper_tuner.best_params[\"learn_rate\"]\n",
    "nn_model = make_model(n_features, n_hidden_layers, n_neurons_per_layer, reduction_in_num_of_neurons_per_layer, learn_rate)\n",
    "validation_listing_ids = list(X_train[[\"listing_id\"]].drop_duplicates([\"listing_id\"]).sample(frac=0.1)[\"listing_id\"])\n",
    "X_val_nn = X_train.query(\"listing_id in @validation_listing_ids\").drop(columns=[\"listing_id\"])\n",
    "y_val_nn = y_train.query(\"listing_id in @validation_listing_ids\").drop(columns=[\"listing_id\"])\n",
    "X_train_nn = X_train.query(\"listing_id not in @validation_listing_ids\").drop(columns=[\"listing_id\"])\n",
    "y_train_nn = y_train.query(\"listing_id not in @validation_listing_ids\").drop(columns=[\"listing_id\"])       \n",
    "nn_model.fit(X_train_nn, y_train_nn, validation_data=(X_val_nn, y_val_nn), epochs=50, verbose=1,\n",
    "        callbacks=[\n",
    "          EarlyStopping(monitor='val_loss', verbose=1, patience=5),\n",
    "          ModelCheckpoint(data_dir + '/nn_best_model_cv.h5', monitor='val_loss', verbose=1)\n",
    "        ])"
   ]
  },
  {
   "cell_type": "code",
   "execution_count": 0,
   "metadata": {
    "colab": {
     "base_uri": "https://localhost:8080/",
     "height": 164
    },
    "colab_type": "code",
    "id": "L3x72Fb-HgA9",
    "outputId": "d0854d44-eee0-45ea-bd7d-c56134c83f6c"
   },
   "outputs": [
    {
     "ename": "NameError",
     "evalue": "ignored",
     "output_type": "error",
     "traceback": [
      "\u001b[0;31m---------------------------------------------------------------------------\u001b[0m",
      "\u001b[0;31mNameError\u001b[0m                                 Traceback (most recent call last)",
      "\u001b[0;32m<ipython-input-1-03b35dd7bb99>\u001b[0m in \u001b[0;36m<module>\u001b[0;34m()\u001b[0m\n\u001b[0;32m----> 1\u001b[0;31m \u001b[0mnn_model\u001b[0m\u001b[0;34m.\u001b[0m\u001b[0mload_weights\u001b[0m\u001b[0;34m(\u001b[0m\u001b[0mdata_dir\u001b[0m \u001b[0;34m+\u001b[0m \u001b[0;34m'/nn_best_model_cv.h5'\u001b[0m\u001b[0;34m)\u001b[0m\u001b[0;34m\u001b[0m\u001b[0;34m\u001b[0m\u001b[0m\n\u001b[0m",
      "\u001b[0;31mNameError\u001b[0m: name 'nn_model' is not defined"
     ]
    }
   ],
   "source": [
    "nn_model.load_weights(data_dir + '/nn_best_model_cv.h5')"
   ]
  },
  {
   "cell_type": "markdown",
   "metadata": {
    "colab_type": "text",
    "id": "TaYcH-S3yFof"
   },
   "source": [
    "## Prediction & Model Evaluation"
   ]
  },
  {
   "cell_type": "code",
   "execution_count": 0,
   "metadata": {
    "colab": {},
    "colab_type": "code",
    "id": "GlqBxISCyFof"
   },
   "outputs": [],
   "source": [
    "X_test = pd.read_csv(data_dir + \"/X_test.csv\")\n",
    "y_test = pd.read_csv(data_dir + \"/y_test.csv\")\n",
    "garbage = gc.collect()"
   ]
  },
  {
   "cell_type": "markdown",
   "metadata": {
    "colab_type": "text",
    "id": "WK8LcQkCY8Tv"
   },
   "source": [
    "### Evaluating Neural Network"
   ]
  },
  {
   "cell_type": "code",
   "execution_count": 0,
   "metadata": {
    "colab": {
     "base_uri": "https://localhost:8080/",
     "height": 343
    },
    "colab_type": "code",
    "id": "z-K5fkQ_yFom",
    "outputId": "b2a54922-66cc-4a7d-c52b-88dc68706073"
   },
   "outputs": [
    {
     "name": "stdout",
     "output_type": "stream",
     "text": [
      "WARNING:tensorflow:From /usr/local/lib/python3.6/dist-packages/keras/backend/tensorflow_backend.py:541: The name tf.placeholder is deprecated. Please use tf.compat.v1.placeholder instead.\n",
      "\n",
      "WARNING:tensorflow:From /usr/local/lib/python3.6/dist-packages/keras/backend/tensorflow_backend.py:4479: The name tf.truncated_normal is deprecated. Please use tf.random.truncated_normal instead.\n",
      "\n",
      "WARNING:tensorflow:From /usr/local/lib/python3.6/dist-packages/keras/backend/tensorflow_backend.py:66: The name tf.get_default_graph is deprecated. Please use tf.compat.v1.get_default_graph instead.\n",
      "\n",
      "WARNING:tensorflow:From /usr/local/lib/python3.6/dist-packages/keras/backend/tensorflow_backend.py:148: The name tf.placeholder_with_default is deprecated. Please use tf.compat.v1.placeholder_with_default instead.\n",
      "\n",
      "WARNING:tensorflow:From /usr/local/lib/python3.6/dist-packages/keras/backend/tensorflow_backend.py:3733: calling dropout (from tensorflow.python.ops.nn_ops) with keep_prob is deprecated and will be removed in a future version.\n",
      "Instructions for updating:\n",
      "Please use `rate` instead of `keep_prob`. Rate should be set to `rate = 1 - keep_prob`.\n",
      "WARNING:tensorflow:From /usr/local/lib/python3.6/dist-packages/keras/backend/tensorflow_backend.py:4432: The name tf.random_uniform is deprecated. Please use tf.random.uniform instead.\n",
      "\n",
      "WARNING:tensorflow:From /usr/local/lib/python3.6/dist-packages/keras/optimizers.py:793: The name tf.train.Optimizer is deprecated. Please use tf.compat.v1.train.Optimizer instead.\n",
      "\n",
      "WARNING:tensorflow:From /usr/local/lib/python3.6/dist-packages/tensorflow/python/ops/nn_impl.py:180: add_dispatch_support.<locals>.wrapper (from tensorflow.python.ops.array_ops) is deprecated and will be removed in a future version.\n",
      "Instructions for updating:\n",
      "Use tf.where in 2.0, which has the same broadcast rule as np.where\n"
     ]
    }
   ],
   "source": [
    "nn_model = load_model(data_dir + \"/nn_best_model_cv.h5\")"
   ]
  },
  {
   "cell_type": "code",
   "execution_count": 0,
   "metadata": {
    "colab": {
     "base_uri": "https://localhost:8080/",
     "height": 51
    },
    "colab_type": "code",
    "id": "gGvXwKHuyFoq",
    "outputId": "46c40f38-efe7-47e5-e825-8574ab7b3678"
   },
   "outputs": [
    {
     "name": "stdout",
     "output_type": "stream",
     "text": [
      "381790/381790 [==============================] - 44s 115us/step\n"
     ]
    },
    {
     "data": {
      "text/plain": [
       "[1.7062076889896705, 0.4929909112339244]"
      ]
     },
     "execution_count": 20,
     "metadata": {
      "tags": []
     },
     "output_type": "execute_result"
    }
   ],
   "source": [
    "nn_model.evaluate(x=X_test,y=y_test)"
   ]
  },
  {
   "cell_type": "code",
   "execution_count": 0,
   "metadata": {
    "colab": {
     "base_uri": "https://localhost:8080/",
     "height": 34
    },
    "colab_type": "code",
    "id": "5Df89mm0yFot",
    "outputId": "30beb036-3621-413d-f5cb-65d35f0a8913"
   },
   "outputs": [
    {
     "data": {
      "text/plain": [
       "['loss', 'acc']"
      ]
     },
     "execution_count": 21,
     "metadata": {
      "tags": []
     },
     "output_type": "execute_result"
    }
   ],
   "source": [
    "nn_model.metrics_names"
   ]
  },
  {
   "cell_type": "code",
   "execution_count": 0,
   "metadata": {
    "colab": {},
    "colab_type": "code",
    "id": "OgltpwJnyFov"
   },
   "outputs": [],
   "source": [
    "y_preds_nn = nn_model.predict_classes(X_test)"
   ]
  },
  {
   "cell_type": "code",
   "execution_count": 0,
   "metadata": {
    "colab": {
     "base_uri": "https://localhost:8080/",
     "height": 34
    },
    "colab_type": "code",
    "id": "zyehxpAeyFoy",
    "outputId": "3e9869a6-e6eb-4c14-f0da-a2374974a097"
   },
   "outputs": [
    {
     "name": "stdout",
     "output_type": "stream",
     "text": [
      "f1-score: 0.3332499128322169\n"
     ]
    }
   ],
   "source": [
    "f1 = f1_score(y_test, y_preds_nn, average=\"macro\")\n",
    "print (\"f1-score: \" + str(f1))"
   ]
  },
  {
   "cell_type": "code",
   "execution_count": 0,
   "metadata": {
    "colab": {
     "base_uri": "https://localhost:8080/",
     "height": 102
    },
    "colab_type": "code",
    "id": "iiWq77uQcZtl",
    "outputId": "a0678ce2-2d62-4820-a097-924fc14ad8b1"
   },
   "outputs": [
    {
     "data": {
      "text/plain": [
       "array([[0.69107455],\n",
       "       [0.8719443 ],\n",
       "       [0.84361106],\n",
       "       [0.9132275 ],\n",
       "       [0.888119  ]], dtype=float32)"
      ]
     },
     "execution_count": 24,
     "metadata": {
      "tags": []
     },
     "output_type": "execute_result"
    }
   ],
   "source": [
    "nn_model.predict(X_test.iloc[0:5, :])"
   ]
  },
  {
   "cell_type": "markdown",
   "metadata": {
    "colab_type": "text",
    "id": "tr87BMLX9BHg"
   },
   "source": [
    "### Evaluating Learners"
   ]
  },
  {
   "cell_type": "code",
   "execution_count": 212,
   "metadata": {
    "colab": {},
    "colab_type": "code",
    "id": "s5sdzLiPyFok"
   },
   "outputs": [],
   "source": [
    "models = {\n",
    "    \"Extreme Gradient Boost\": data_dir + \"/xgb_best.pkl\",\n",
    "#     \"Single Decision Tree\": data_dir + \"/dtc_best.pkl\",\n",
    "    #     \"Gradient Boost\": data_dir + \"/gb_best.pkl\",\n",
    "    #     \"Ada Boost\": data_dir + \"/ada_best.pkl\",\n",
    "    #     \"SVM\": data_dir + \"/svm_best.pkl\",\n",
    "}"
   ]
  },
  {
   "cell_type": "code",
   "execution_count": 216,
   "metadata": {
    "colab": {},
    "colab_type": "code",
    "id": "pFWr0-GSrvzl"
   },
   "outputs": [
    {
     "name": "stdout",
     "output_type": "stream",
     "text": [
      "Model: Extreme Gradient Boost\n",
      "Params: {'base_score': 0.5, 'booster': 'gbtree', 'colsample_bylevel': 1, 'colsample_bynode': 1, 'colsample_bytree': 1, 'gamma': 0, 'learning_rate': 0.1, 'max_delta_step': 0, 'max_depth': 18, 'min_child_weight': 1, 'missing': nan, 'n_estimators': 54, 'n_jobs': 1, 'nthread': None, 'objective': 'binary:logistic', 'random_state': 42, 'reg_alpha': 0, 'reg_lambda': 1, 'scale_pos_weight': 1, 'seed': None, 'silent': None, 'subsample': 0.7, 'verbosity': 1}\n",
      "f1-score: 0.6102002124839769 log loss: 0.6080727416961699\n",
      " roc auc: 0.7016967628970718\n"
     ]
    }
   ],
   "source": [
    "for model_name in models.keys():\n",
    "    model_file_name = models[model_name]\n",
    "    model = pickle.load(open(model_file_name, 'rb'))\n",
    "    y_preds = model.predict(X_test)\n",
    "    y_preds_proba = model.predict_proba(X_test)\n",
    "    f1 = f1_score(y_test, y_preds, average=\"macro\")\n",
    "    logloss = log_loss(y_test, y_preds_proba[:,1])\n",
    "    auc = roc_auc_score(y_test, y_preds_proba[:, 1])\n",
    "    print (\"Model: \" + model_name + \"\\nParams: \" + str(model.get_params()) + \"\\nf1-score: \" + str(f1) + \" log loss: \" + str(logloss) + \"\\n roc auc: \" + str(auc))\n",
    "    gc.collect()"
   ]
  },
  {
   "cell_type": "markdown",
   "metadata": {
    "colab_type": "text",
    "id": "AgHCCVJ6k7ur"
   },
   "source": [
    "## Model Interpretation"
   ]
  },
  {
   "cell_type": "code",
   "execution_count": 0,
   "metadata": {
    "colab": {},
    "colab_type": "code",
    "id": "ttOFDaSryFod"
   },
   "outputs": [],
   "source": [
    "import pprint\n",
    "pp = pprint.PrettyPrinter(indent=4)\n",
    "def print_top10(feature_names, clf, class_labels):\n",
    "    \"\"\"Prints features with the highest coefficient values, per class\"\"\"\n",
    "    pp.pprint(sorted(list(zip(feature_names, clf.feature_importances_)), key=lambda x: x[1], \n",
    "reverse=True)[:20])\n",
    "\n",
    "for model_name in models.keys():\n",
    "    model_file_name = models[model_name]\n",
    "    model = pickle.load(open(model_file_name, 'rb'))\n",
    "    print(\"\\nModel: \" + model_name)\n",
    "    print(\"Best Params: \")\n",
    "    pp.pprint(model.get_params())\n",
    "    print(\"Top 10 Feature importances: \")\n",
    "    print_top10(X_train_sample.columns, model, model.classes_)"
   ]
  },
  {
   "cell_type": "markdown",
   "metadata": {
    "colab_type": "text",
    "id": "TcuK3o33yFo0"
   },
   "source": [
    "## Tuning the booking price of property"
   ]
  },
  {
   "cell_type": "markdown",
   "metadata": {
    "colab_type": "text",
    "id": "Z8JHJIIoY1bG"
   },
   "source": [
    "### Aim: Maximizing expected revneue from individual properties"
   ]
  },
  {
   "cell_type": "markdown",
   "metadata": {
    "colab_type": "text",
    "id": "3xxUHQRyyFo1"
   },
   "source": [
    "Here I tune the booking price of the property by looking at the probability of the property being booked at given price. If the probability is too low, I try increasing it by setting the price the of that property slightly low and see if it increases the probability. My goal is to maximize the profit of the company by maximizing expected revneue from individual properties. "
   ]
  },
  {
   "cell_type": "markdown",
   "metadata": {
    "colab_type": "text",
    "id": "PJyc81PlyFo4"
   },
   "source": [
    "As per the economic principle of price elasticity of demand, the quantity of a product demanded should be varying with changes in price like this curve if the demanded quantity is elastic to the price."
   ]
  },
  {
   "cell_type": "markdown",
   "metadata": {
    "colab_type": "text",
    "id": "Y9UGvjevyFo4"
   },
   "source": [
    "![Price Elasticity of Demand Curve](http://wikieducator.org/images/0/0f/Ed1.jpeg)"
   ]
  },
  {
   "cell_type": "markdown",
   "metadata": {
    "colab_type": "text",
    "id": "Um-wOQMpyFo5"
   },
   "source": [
    "In our case, the quantity of demand synonymous to the probability of the property being booked and the price is the booking price of the property. Let's try and check if some randomly selected properties from our dataset demonstrates price elasticity for probability of being booked."
   ]
  },
  {
   "cell_type": "code",
   "execution_count": 217,
   "metadata": {
    "colab": {},
    "colab_type": "code",
    "id": "kUAoK8EPyFo3"
   },
   "outputs": [],
   "source": [
    "import decimal\n",
    "\n",
    "def float_range(start, stop, step):\n",
    "    start = decimal.Decimal(start)\n",
    "    stop = decimal.Decimal(stop)\n",
    "    step = decimal.Decimal(step)\n",
    "    while (start < stop):\n",
    "        yield float(start)\n",
    "        start += step"
   ]
  },
  {
   "cell_type": "markdown",
   "metadata": {
    "colab_type": "text",
    "id": "o33JjjeTyFo5"
   },
   "source": [
    "### Methods to calculate probability of a property being booked at given normalized price and market condition\n"
   ]
  },
  {
   "cell_type": "code",
   "execution_count": 0,
   "metadata": {
    "colab": {
     "base_uri": "https://localhost:8080/",
     "height": 343
    },
    "colab_type": "code",
    "id": "bd8TYlILEQhh",
    "outputId": "bbf386e8-6d10-41a6-fc2b-99122dbb99b9"
   },
   "outputs": [
    {
     "name": "stdout",
     "output_type": "stream",
     "text": [
      "WARNING:tensorflow:From /usr/local/lib/python3.6/dist-packages/keras/backend/tensorflow_backend.py:541: The name tf.placeholder is deprecated. Please use tf.compat.v1.placeholder instead.\n",
      "\n",
      "WARNING:tensorflow:From /usr/local/lib/python3.6/dist-packages/keras/backend/tensorflow_backend.py:4479: The name tf.truncated_normal is deprecated. Please use tf.random.truncated_normal instead.\n",
      "\n",
      "WARNING:tensorflow:From /usr/local/lib/python3.6/dist-packages/keras/backend/tensorflow_backend.py:66: The name tf.get_default_graph is deprecated. Please use tf.compat.v1.get_default_graph instead.\n",
      "\n",
      "WARNING:tensorflow:From /usr/local/lib/python3.6/dist-packages/keras/backend/tensorflow_backend.py:148: The name tf.placeholder_with_default is deprecated. Please use tf.compat.v1.placeholder_with_default instead.\n",
      "\n",
      "WARNING:tensorflow:From /usr/local/lib/python3.6/dist-packages/keras/backend/tensorflow_backend.py:3733: calling dropout (from tensorflow.python.ops.nn_ops) with keep_prob is deprecated and will be removed in a future version.\n",
      "Instructions for updating:\n",
      "Please use `rate` instead of `keep_prob`. Rate should be set to `rate = 1 - keep_prob`.\n",
      "WARNING:tensorflow:From /usr/local/lib/python3.6/dist-packages/keras/backend/tensorflow_backend.py:4432: The name tf.random_uniform is deprecated. Please use tf.random.uniform instead.\n",
      "\n",
      "WARNING:tensorflow:From /usr/local/lib/python3.6/dist-packages/keras/optimizers.py:793: The name tf.train.Optimizer is deprecated. Please use tf.compat.v1.train.Optimizer instead.\n",
      "\n",
      "WARNING:tensorflow:From /usr/local/lib/python3.6/dist-packages/tensorflow/python/ops/nn_impl.py:180: add_dispatch_support.<locals>.wrapper (from tensorflow.python.ops.array_ops) is deprecated and will be removed in a future version.\n",
      "Instructions for updating:\n",
      "Use tf.where in 2.0, which has the same broadcast rule as np.where\n"
     ]
    }
   ],
   "source": [
    "nn_model = load_model(data_dir + \"/nn_best_model_cv.h5\")\n",
    "def calc_prob_booked_nn(row):\n",
    "  df = pd.DataFrame(data=row.to_dict(), index=[0])\n",
    "  return 1 - nn_model.predict(df)[0][0]"
   ]
  },
  {
   "cell_type": "code",
   "execution_count": 218,
   "metadata": {
    "colab": {},
    "colab_type": "code",
    "id": "ulKZakl5Ec7_"
   },
   "outputs": [],
   "source": [
    "xgb_clf = pickle.load(open(data_dir + \"/xgb_best.pkl\", 'rb'))\n",
    "def calc_prob_booked_xgb(row):\n",
    "  df = pd.DataFrame(data=row.to_dict(), index=[0])  \n",
    "  return xgb_clf.predict_proba(df)[0][0]"
   ]
  },
  {
   "cell_type": "code",
   "execution_count": null,
   "metadata": {
    "colab": {},
    "colab_type": "code",
    "id": "FQwZ5aLsITpG"
   },
   "outputs": [],
   "source": [
    "dtc_clf = pickle.load(open(data_dir + \"/dtc_best.pkl\", 'rb'))\n",
    "def calc_prob_booked_dtc(row):\n",
    "  df = pd.DataFrame(data=row.to_dict(), index=[0])  \n",
    "  return dtc_clf.predict_proba(df)[0][0]"
   ]
  },
  {
   "cell_type": "code",
   "execution_count": 0,
   "metadata": {
    "colab": {},
    "colab_type": "code",
    "id": "bh37bojhIYn5"
   },
   "outputs": [],
   "source": [
    "# gb_clf = pickle.load(open(data_dir + \"/gb_best.pkl\", 'rb'))\n",
    "# def calc_prob_booked_gb(row):\n",
    "#   df = pd.DataFrame(data=row.to_dict(), index=[0])\n",
    "#   return gb_clf.predict_proba(df)[0][0]"
   ]
  },
  {
   "cell_type": "code",
   "execution_count": 0,
   "metadata": {
    "colab": {},
    "colab_type": "code",
    "id": "JMGvhTkGMpkz"
   },
   "outputs": [],
   "source": [
    "# ada_clf = pickle.load(open(data_dir + \"/ada_best.pkl\", 'rb'))\n",
    "# def calc_prob_booked_ada(row):\n",
    "#   df = pd.DataFrame(data=row.to_dict(), index=[0])\n",
    "#   return ada_clf.predict_proba(df)[0][0]"
   ]
  },
  {
   "cell_type": "markdown",
   "metadata": {
    "colab_type": "text",
    "id": "eTHWeAecuAR6"
   },
   "source": [
    "### Price Elasticity for probability of a property getting booked"
   ]
  },
  {
   "cell_type": "code",
   "execution_count": 219,
   "metadata": {
    "colab": {},
    "colab_type": "code",
    "id": "idJ1N5k4yFo8"
   },
   "outputs": [],
   "source": [
    "def draw_price_elasticity_curves(calc_prob_booked):\n",
    "  fig, ax = plt.subplots(3, 2, figsize=(15,10))\n",
    "  sample_listings = [listing for (index, listing) in X_test.sample(6, random_state=42).copy().iterrows()]\n",
    "  percentage_to_check = 20\n",
    "  for plot_row in range(0,3):\n",
    "    for plot_col in range(0,2):  \n",
    "      listing = sample_listings.pop()\n",
    "      current_normalized_price = listing[\"price_calendar_normalized\"]\n",
    "      current_price = int(round(listing[\"price_calendar_normalized\"] * listing[\"total_env_prices\"],0))\n",
    "      price_upper = current_normalized_price * (1 + percentage_to_check/100)\n",
    "      price_lower = current_normalized_price * (1 - percentage_to_check/100)\n",
    "      normalized_price_range = list(float_range(str(price_lower), str(price_upper), str((price_upper - price_lower)/50)))\n",
    "\n",
    "      probs = []\n",
    "      absolute_prices = [listing[\"total_env_prices\"] * normalized_price for normalized_price in normalized_price_range]\n",
    "\n",
    "      for price in normalized_price_range:\n",
    "          listing[\"price_calendar_normalized\"] = price\n",
    "          prob = calc_prob_booked(listing)\n",
    "          probs.append(prob)\n",
    "\n",
    "      price_elasticity_curve, = ax[plot_row, plot_col].plot(absolute_prices, probs)\n",
    "      ax[plot_row, plot_col].set_ylabel('Probability of property being booked')\n",
    "      ax[plot_row, plot_col].set_xlabel('Booking price of property')\n",
    "      current_price_line = ax[plot_row, plot_col].axvline(x=current_price, color='g')   \n",
    "\n",
    "\n",
    "      ax[plot_row, plot_col].legend((current_price_line, ), ('Current price = ' +str(current_price), ))\n",
    "\n",
    "  plt.show()"
   ]
  },
  {
   "cell_type": "code",
   "execution_count": null,
   "metadata": {
    "colab": {},
    "colab_type": "code",
    "id": "1AmaIeHh2pog"
   },
   "outputs": [],
   "source": []
  },
  {
   "cell_type": "markdown",
   "metadata": {
    "colab_type": "text",
    "id": "-cerGbSpImd4"
   },
   "source": [
    "### Price elasticity for probability of booking learnt by Neural Network"
   ]
  },
  {
   "cell_type": "code",
   "execution_count": 0,
   "metadata": {
    "colab": {
     "base_uri": "https://localhost:8080/",
     "height": 617
    },
    "colab_type": "code",
    "id": "HsBY5ulTISHM",
    "outputId": "1b1dc108-e4cb-468f-c8e1-ce4988c7d5ee"
   },
   "outputs": [
    {
     "data": {
      "image/png": "[encoded data removed]",
      "text/plain": [
       "<Figure size 1080x720 with 6 Axes>"
      ]
     },
     "metadata": {
      "tags": []
     },
     "output_type": "display_data"
    }
   ],
   "source": [
    "draw_price_elasticity_curves(calc_prob_booked_nn)"
   ]
  },
  {
   "cell_type": "markdown",
   "metadata": {
    "colab_type": "text",
    "id": "kDex2VuiyFo-"
   },
   "source": [
    "As we can see above, choosing some random properties from dataset and plotting relationship between normalized price and probability of getting the property booked shows that they demonstrate price elasticity for probability of the property being booked.\n",
    "\n",
    "Although the price elasticity curve generated using Neural Network is smooth, it represents that probability of property getting booked is inelastic towards price in very large price range. Such model does not very well represent the real world scenario where demand of property can be inelastic to price within only a small range of price.\n",
    "\n",
    "In my first iteration of project, I tried using absolute price to evaluate the relationship between probability of property being booked and the price. At that time, I the plot did not follow the price elasticity curve.\n",
    "\n",
    "One of the assumption in the price elasticity curve is that all the other factors in the market should be held relatively constant and only the price of the property should be varying. Only then the relation between booking probability and price will follow the popular price elasticity curve in wide range of price variation.\n",
    "\n",
    "The absolute value of price may have been increased in the dataset when the overall demand of properties for booking have increased. In such case, the property might be still getting booked at higher price duing the periods of higher demand. Therefore based on the dataset, the model trained on absolute price will suggest that the probability of booking may also increase when the property price is increased. \n",
    "\n",
    "To tackle this issue, I implemented workaround by normalizing the price relative to the sum of booking prices of all the other 100 properties that we are using in our training dataset to represent the competitive market environment conditions. Now we can observe the trend of change in probability along with the change in relative price and see that it shows some price elasticity as expected."
   ]
  },
  {
   "cell_type": "markdown",
   "metadata": {
    "colab_type": "text",
    "id": "28Ba6C_tJHvc"
   },
   "source": [
    "### Price Elasticity for probability of booking learnt by Extreme Gradient Boosting (XGBoost)"
   ]
  },
  {
   "cell_type": "code",
   "execution_count": 220,
   "metadata": {
    "colab": {},
    "colab_type": "code",
    "id": "v3ooOBgcJN_1"
   },
   "outputs": [
    {
     "data": {
      "image/png": "[encoded data removed]",
      "text/plain": [
       "<Figure size 1080x720 with 6 Axes>"
      ]
     },
     "metadata": {
      "needs_background": "light"
     },
     "output_type": "display_data"
    }
   ],
   "source": [
    "draw_price_elasticity_curves(calc_prob_booked_xgb)"
   ]
  },
  {
   "cell_type": "markdown",
   "metadata": {},
   "source": [
    "As you can see in this sample, 4 out of 6 images are showing trend of positive price elasticity where as the booking price of property under given market condition increases, the probability of being booked decreases."
   ]
  },
  {
   "cell_type": "markdown",
   "metadata": {
    "colab_type": "text",
    "id": "k130UztOlZIS"
   },
   "source": [
    "### Price Elasticity for probability of booking learnt by Gradient Boosting"
   ]
  },
  {
   "cell_type": "code",
   "execution_count": 0,
   "metadata": {
    "colab": {},
    "colab_type": "code",
    "id": "9l76sFrTlZH0"
   },
   "outputs": [],
   "source": [
    "# draw_price_elasticity_curves(calc_prob_booked_gb)"
   ]
  },
  {
   "cell_type": "markdown",
   "metadata": {
    "colab_type": "text",
    "id": "bDqgrtO1NAV2"
   },
   "source": [
    "### Price Elasticity for probability of booking learnt by Ada Boost"
   ]
  },
  {
   "cell_type": "code",
   "execution_count": 0,
   "metadata": {
    "colab": {},
    "colab_type": "code",
    "id": "0K77mYrRNAV6"
   },
   "outputs": [],
   "source": [
    "# draw_price_elasticity_curves(calc_prob_booked_ada)"
   ]
  },
  {
   "cell_type": "markdown",
   "metadata": {
    "colab_type": "text",
    "id": "HsSSm4gKIw-9"
   },
   "source": [
    "### Price elasticity for probability of booking learnt by Single Decision Tree"
   ]
  },
  {
   "cell_type": "code",
   "execution_count": 57,
   "metadata": {
    "colab": {
     "base_uri": "https://localhost:8080/",
     "height": 617
    },
    "colab_type": "code",
    "id": "oL9OfEMlVA5W",
    "outputId": "b4393bf8-2669-4c2b-f94d-887604f3ebdc"
   },
   "outputs": [
    {
     "data": {
      "image/png": "[encoded data removed]",
      "text/plain": [
       "<Figure size 1080x720 with 6 Axes>"
      ]
     },
     "metadata": {
      "tags": []
     },
     "output_type": "display_data"
    }
   ],
   "source": [
    "draw_price_elasticity_curves(calc_prob_booked_dtc)"
   ]
  },
  {
   "cell_type": "markdown",
   "metadata": {
    "colab_type": "text",
    "id": "NgkINGajl7T3"
   },
   "source": [
    "### Calculating the expected revenue from properties after tuning the price"
   ]
  },
  {
   "cell_type": "markdown",
   "metadata": {
    "colab_type": "text",
    "id": "P7OrVhYAmyv6"
   },
   "source": [
    "Let's tune prices of the properties that show significant price elasticity for demand."
   ]
  },
  {
   "cell_type": "markdown",
   "metadata": {
    "colab_type": "text",
    "id": "FiMbgm8duMnf"
   },
   "source": [
    "`get_price_elasticity_curve` function gets price elasticity curve for the probability of property getting booked by calculating the probability from the given calc_prob_booked function within a range values varying from current normalized price of property by specified percentage. It then fits a polynomial curve that fits the points calculated from the probability of property getting booked at that normalized price point it returns that fitted curve as output."
   ]
  },
  {
   "cell_type": "code",
   "execution_count": 221,
   "metadata": {
    "colab": {},
    "colab_type": "code",
    "id": "ahzt_W6TPQnx"
   },
   "outputs": [],
   "source": [
    "def get_price_elasticity_curve(listing, calc_prob_booked, percentage, n_points=100):\n",
    "  current_norm_price = listing[\"price_calendar_normalized\"]\n",
    "  higher_price_normalized = current_norm_price * (1 + (percentage/100))\n",
    "  lower_price_normalized = max(0, current_norm_price * (1 - (percentage/100)))    \n",
    "  samples_price_norm = list(float_range(str(lower_price_normalized), str(higher_price_normalized), str((higher_price_normalized - lower_price_normalized)/n_points)))\n",
    "  samples_price_norm += list(float_range(str(current_norm_price * (0.95)), str(current_norm_price * (1.05)), str(current_norm_price * (0.1/(n_points/2)))))\n",
    "\n",
    "  probs = []\n",
    "  \n",
    "  for sample_price_norm in samples_price_norm:\n",
    "    listing[\"price_calendar_normalized\"] = sample_price_norm\n",
    "    prob = calc_prob_booked(listing)\n",
    "    probs.append(prob)  \n",
    "\n",
    "  X = pd.DataFrame({\"x\" : samples_price_norm})\n",
    "  y = pd.DataFrame({\"y\": probs})\n",
    "  curve = make_pipeline(PolynomialFeatures(degree=1), LinearRegression())\n",
    "  curve.fit(X,y)\n",
    "  return curve"
   ]
  },
  {
   "cell_type": "code",
   "execution_count": 222,
   "metadata": {
    "colab": {},
    "colab_type": "code",
    "id": "0y0TpiBcVTbY"
   },
   "outputs": [],
   "source": [
    "def draw_price_elasticity_for_prop(listing, calc_prob_booked, percentage, curve, rec_price):\n",
    "    square_feet = listing[\"square_feet\"]\n",
    "    beds = listing[\"beds\"]\n",
    "    bedrooms = listing[\"bedrooms\"]\n",
    "    accommodates = listing[\"accommodates\"]\n",
    "  \n",
    "    print (f\"Price elasticity plot for a property of\")\n",
    "    print (f\"Size: {square_feet}sq.ft\")\n",
    "    print (f\"Accommodates: {accommodates}\")\n",
    "    print (f\"Bedrooms: {bedrooms}\")\n",
    "    current_normalized_price = listing[\"price_calendar_normalized\"]\n",
    "    current_price = int(round(listing[\"price_calendar_normalized\"] * listing[\"total_env_prices\"],0))\n",
    "    price_upper = current_normalized_price * (1 + percentage/100)\n",
    "    price_lower = current_normalized_price * max(0, (1 - percentage/100))\n",
    "    normalized_price_range = list(float_range(str(price_lower), str(price_upper), str((price_upper - price_lower)/50)))\n",
    "\n",
    "    probs = []\n",
    "    absolute_prices = [listing[\"total_env_prices\"] * normalized_price for normalized_price in normalized_price_range]\n",
    "    curve_probs = []\n",
    "    for price in normalized_price_range:\n",
    "        listing[\"price_calendar_normalized\"] = price\n",
    "        prob = calc_prob_booked(listing)\n",
    "        probs.append(prob)       \n",
    "        df_norm_price = pd.DataFrame(data={\"x\" : price}, index=[0])\n",
    "        curve_prob = curve.predict(df_norm_price)[0]\n",
    "        curve_probs.append(curve_prob)\n",
    "   \n",
    "    price_elasticity_curve, = plt.plot(absolute_prices, probs)\n",
    "    regression_curve, = plt.plot(absolute_prices, curve_probs)\n",
    "    recommended_price_line = plt.axvline(x=rec_price, color='g')\n",
    "    plt.ylabel('Probability of property being booked')\n",
    "    plt.xlabel('Booking price of property')\n",
    "    beds = listing[\"beds\"]\n",
    "    square_feet= listing[\"square_feet\"]\n",
    "    current_price_line = plt.axvline(x=current_price, color='r')   \n",
    "    plt.legend((current_price_line, \n",
    "                recommended_price_line,\n",
    "                price_elasticity_curve, \n",
    "                regression_curve), \n",
    "               ('Current price = ' +str(current_price), \n",
    "                'Recommended price = ' + str(rec_price),\n",
    "                'Booking probability at price', \n",
    "                'Fitted Regression line'))\n",
    "    plt.show()"
   ]
  },
  {
   "cell_type": "markdown",
   "metadata": {
    "colab_type": "text",
    "id": "TAdtVEu0lxiV"
   },
   "source": [
    "- For each property I first check whether the property follows conventional price elasticity where the probability of the property getting booked increases as its relative price is decreased and only tuned price for those properties that demonstrated such trend.\n",
    "- Instead of using exact probability predicted by the classifier, I decided to use the one derived from line fitted on the predicted probability values for normalized price range near the current normalized price, so that tuning algorithm has to work with smoothly varying values that smoothes sudden bumps in the probability values often seen to be generated by ensemble learners."
   ]
  },
  {
   "cell_type": "code",
   "execution_count": 243,
   "metadata": {
    "colab": {},
    "colab_type": "code",
    "id": "QV85nECfSUEY"
   },
   "outputs": [],
   "source": [
    "def calculate_price_elasticity(curve, listing, percentage_to_check):\n",
    "  current_normalized_price = listing[\"price_calendar_normalized\"]\n",
    "  norm_price_1 = max(0, current_normalized_price * (1 - percentage_to_check/100))\n",
    "  price_1 = norm_price_1 * listing[\"total_env_prices\"]\n",
    "  listing[\"price_calendar_normalized\"] = norm_price_1\n",
    "  df_norm_price_1 = pd.DataFrame(data={\"x\" : norm_price_1}, index=[0])\n",
    "  d_1 = curve.predict(df_norm_price_1)[0]\n",
    "\n",
    "  norm_price_2 = current_normalized_price * (1 + percentage_to_check/100)\n",
    "  price_2 = norm_price_2 * listing[\"total_env_prices\"]\n",
    "  listing[\"price_calendar_normalized\"] = norm_price_2\n",
    "  df_norm_price_2 = pd.DataFrame(data={\"x\" : norm_price_2}, index=[0])\n",
    "  d_2 = curve.predict(df_norm_price_2)[0]\n",
    "\n",
    "  price_change = (price_2 - price_1)/((price_2 + price_1)/2)\n",
    "  demand_change = (d_2 - d_1)/((d_2 + d_1)/2)\n",
    "  elasticity = - (demand_change / price_change)\n",
    "  return elasticity"
   ]
  },
  {
   "cell_type": "markdown",
   "metadata": {
    "colab_type": "text",
    "id": "xt7uWkaXk2lu"
   },
   "source": [
    "I decided to tune the prices of properties using Extreme Gradient Boosting model for predicting probability of property being booked under giving time, price and market conditions. The reason is that it shows higher prediction accuracy as compared to neural network model. Even though the predicted probability graph while varying normalized price is not as smooth as the one generated by neural network, the more accurate prediction of probabilities for property getting booked leads to more accurate prediction for expected revenue from properties at given price point."
   ]
  },
  {
   "cell_type": "code",
   "execution_count": 245,
   "metadata": {
    "colab": {},
    "colab_type": "code",
    "id": "UilNVhztm0Gs"
   },
   "outputs": [],
   "source": [
    "def extract_price_elasticity_info(row):\n",
    "  percentage_for_calculating_elasticity = 20\n",
    "  row_1 = row.copy()\n",
    "  curve = get_price_elasticity_curve(listing=row_1, calc_prob_booked=calc_prob_booked_xgb, percentage=percentage_for_calculating_elasticity, n_points=10)\n",
    "  elasticity = calculate_price_elasticity(curve, listing=row_1, percentage_to_check=percentage_for_calculating_elasticity)\n",
    "  \n",
    "  current_price_norm = row_1[\"price_calendar_normalized\"]  \n",
    "  df_current = pd.DataFrame(data={\"x\" : current_price_norm}, index=[0])  \n",
    "  prob_current_price = curve.predict(df_current)[0]   \n",
    "  current_expected_revenue = prob_current_price * current_price_norm * row_1[\"total_env_prices\"]\n",
    "\n",
    "  max_expected_revenue = -math.inf\n",
    "  prob_at_max = None\n",
    "  price_at_max = None\n",
    "  norm_price_at_max = None\n",
    "\n",
    "  lower_price_normalized = max(current_price_norm * (1 - percentage_for_calculating_elasticity/100), 0)\n",
    "  higher_price_normalized = current_price_norm * (1 + percentage_for_calculating_elasticity/100)\n",
    "  for trial_price_norm in float_range(str(lower_price_normalized), str(higher_price_normalized), str((higher_price_normalized-lower_price_normalized)/100)):\n",
    "    # Instead of using probability predicted by the classifier,\n",
    "    # I decided to use the one derived from line fitted on the values\n",
    "    # in normalized price range near the current normalized price\n",
    "    # so that I can have a smoothly varying values which avoid sudden\n",
    "    # bumps in the probability values often seen to be generated by\n",
    "    # ensemble learners.\n",
    "#             row_1[\"price_calendar_normalized\"] = trial_price_norm\n",
    "#             prob_at_trial_price_norm = calc_prob_booked_xgb(row)\n",
    "      df_trial = pd.DataFrame(data={\"x\" : trial_price_norm}, index=[0])\n",
    "      prob_at_trial_price_norm = curve.predict(df_trial)[0]   \n",
    "      expected_revenue = prob_at_trial_price_norm * trial_price_norm * row[\"total_env_prices\"]\n",
    "      if expected_revenue > max_expected_revenue:\n",
    "          max_expected_revenue = expected_revenue\n",
    "          prob_at_max = prob_at_trial_price_norm\n",
    "          price_at_max = trial_price_norm * row[\"total_env_prices\"]\n",
    "          norm_price_at_max = trial_price_norm\n",
    "  row_1[\"price_elasticity\"] = np.asscalar(elasticity)\n",
    "  row_1[\"current_price\"] = current_price_norm * row_1[\"total_env_prices\"]\n",
    "  row_1[\"expected_revenue_current_price\"] = np.asscalar(current_expected_revenue)\n",
    "  row_1[\"recommended_price\"] = price_at_max\n",
    "  row_1[\"recommended_normalized_price\"] = norm_price_at_max\n",
    "  row_1[\"expected_revenue_recommended_price\"] = np.asscalar(max_expected_revenue)\n",
    "  \n",
    "  row_1[\"booking_probability_at_current_price\"] = prob_current_price\n",
    "  row_1[\"booking_probability_at_recommended_price\"] = prob_at_max\n",
    "  return row_1"
   ]
  },
  {
   "cell_type": "code",
   "execution_count": 246,
   "metadata": {
    "colab": {},
    "colab_type": "code",
    "id": "B83VPwQKt21q"
   },
   "outputs": [
    {
     "data": {
      "text/html": [
       "<div>\n",
       "<style scoped>\n",
       "    .dataframe tbody tr th:only-of-type {\n",
       "        vertical-align: middle;\n",
       "    }\n",
       "\n",
       "    .dataframe tbody tr th {\n",
       "        vertical-align: top;\n",
       "    }\n",
       "\n",
       "    .dataframe thead th {\n",
       "        text-align: right;\n",
       "    }\n",
       "</style>\n",
       "<table border=\"1\" class=\"dataframe\">\n",
       "  <thead>\n",
       "    <tr style=\"text-align: right;\">\n",
       "      <th></th>\n",
       "      <th>price_elasticity</th>\n",
       "      <th>current_price</th>\n",
       "      <th>expected_revenue_current_price</th>\n",
       "      <th>recommended_price</th>\n",
       "      <th>expected_revenue_recommended_price</th>\n",
       "    </tr>\n",
       "  </thead>\n",
       "  <tbody>\n",
       "    <tr>\n",
       "      <th>1153073</th>\n",
       "      <td>2.237118</td>\n",
       "      <td>104.58</td>\n",
       "      <td>22.015534</td>\n",
       "      <td>83.66400</td>\n",
       "      <td>34.725464</td>\n",
       "    </tr>\n",
       "    <tr>\n",
       "      <th>841535</th>\n",
       "      <td>-0.231293</td>\n",
       "      <td>278.10</td>\n",
       "      <td>44.254849</td>\n",
       "      <td>332.60760</td>\n",
       "      <td>55.680833</td>\n",
       "    </tr>\n",
       "    <tr>\n",
       "      <th>744524</th>\n",
       "      <td>0.112923</td>\n",
       "      <td>63.00</td>\n",
       "      <td>11.773891</td>\n",
       "      <td>75.60000</td>\n",
       "      <td>13.736914</td>\n",
       "    </tr>\n",
       "    <tr>\n",
       "      <th>825565</th>\n",
       "      <td>0.512893</td>\n",
       "      <td>753.48</td>\n",
       "      <td>109.578941</td>\n",
       "      <td>901.16208</td>\n",
       "      <td>113.439648</td>\n",
       "    </tr>\n",
       "    <tr>\n",
       "      <th>511286</th>\n",
       "      <td>1.666974</td>\n",
       "      <td>432.60</td>\n",
       "      <td>29.296689</td>\n",
       "      <td>346.08000</td>\n",
       "      <td>37.503647</td>\n",
       "    </tr>\n",
       "    <tr>\n",
       "      <th>291252</th>\n",
       "      <td>-1.465492</td>\n",
       "      <td>220.50</td>\n",
       "      <td>74.878217</td>\n",
       "      <td>263.71800</td>\n",
       "      <td>113.425643</td>\n",
       "    </tr>\n",
       "    <tr>\n",
       "      <th>1298130</th>\n",
       "      <td>3.450276</td>\n",
       "      <td>238.14</td>\n",
       "      <td>7.863883</td>\n",
       "      <td>190.51200</td>\n",
       "      <td>23.098783</td>\n",
       "    </tr>\n",
       "    <tr>\n",
       "      <th>145938</th>\n",
       "      <td>2.482612</td>\n",
       "      <td>115.92</td>\n",
       "      <td>4.841318</td>\n",
       "      <td>92.73600</td>\n",
       "      <td>8.456517</td>\n",
       "    </tr>\n",
       "    <tr>\n",
       "      <th>484550</th>\n",
       "      <td>-0.093458</td>\n",
       "      <td>79.38</td>\n",
       "      <td>19.236923</td>\n",
       "      <td>94.93848</td>\n",
       "      <td>23.503814</td>\n",
       "    </tr>\n",
       "    <tr>\n",
       "      <th>892335</th>\n",
       "      <td>-2.910428</td>\n",
       "      <td>163.80</td>\n",
       "      <td>26.840453</td>\n",
       "      <td>195.90480</td>\n",
       "      <td>45.990637</td>\n",
       "    </tr>\n",
       "  </tbody>\n",
       "</table>\n",
       "</div>"
      ],
      "text/plain": [
       "         price_elasticity  current_price  expected_revenue_current_price  \\\n",
       "1153073          2.237118         104.58                       22.015534   \n",
       "841535          -0.231293         278.10                       44.254849   \n",
       "744524           0.112923          63.00                       11.773891   \n",
       "825565           0.512893         753.48                      109.578941   \n",
       "511286           1.666974         432.60                       29.296689   \n",
       "291252          -1.465492         220.50                       74.878217   \n",
       "1298130          3.450276         238.14                        7.863883   \n",
       "145938           2.482612         115.92                        4.841318   \n",
       "484550          -0.093458          79.38                       19.236923   \n",
       "892335          -2.910428         163.80                       26.840453   \n",
       "\n",
       "         recommended_price  expected_revenue_recommended_price  \n",
       "1153073           83.66400                           34.725464  \n",
       "841535           332.60760                           55.680833  \n",
       "744524            75.60000                           13.736914  \n",
       "825565           901.16208                          113.439648  \n",
       "511286           346.08000                           37.503647  \n",
       "291252           263.71800                          113.425643  \n",
       "1298130          190.51200                           23.098783  \n",
       "145938            92.73600                            8.456517  \n",
       "484550            94.93848                           23.503814  \n",
       "892335           195.90480                           45.990637  "
      ]
     },
     "execution_count": 246,
     "metadata": {},
     "output_type": "execute_result"
    }
   ],
   "source": [
    "X_test.sample(10, random_state=42).apply(extract_price_elasticity_info, axis=1)[[\"price_elasticity\",\n",
    "                                                                                 \"current_price\",\n",
    "                                                                                 \"expected_revenue_current_price\",\n",
    "                                                                                 \"recommended_price\",\n",
    "                                                                                \"expected_revenue_recommended_price\"                                                                                 \n",
    "                                                                                ]].head(10)"
   ]
  },
  {
   "cell_type": "code",
   "execution_count": 300,
   "metadata": {
    "colab": {},
    "colab_type": "code",
    "id": "FlepVkmUz1oE"
   },
   "outputs": [],
   "source": [
    "tuned_data = X_test.sample(10000, random_state=42).copy().apply(extract_price_elasticity_info, axis=1)"
   ]
  },
  {
   "cell_type": "code",
   "execution_count": 301,
   "metadata": {
    "colab": {},
    "colab_type": "code",
    "id": "Q4jLOUqd0CfA"
   },
   "outputs": [],
   "source": [
    "tuned_data.to_csv(data_dir + \"/tuned_data_20.csv\", index=False)"
   ]
  },
  {
   "cell_type": "markdown",
   "metadata": {
    "colab_type": "text",
    "id": "gm7RH4_MdBCe"
   },
   "source": [
    "## Analysing dataset containing tuned prices for properties\n",
    "I just created a dataframe containing data about recommended prices and changes in expected revenue after tuning prices of 1000 properties from our test dataset within 20% of their current price."
   ]
  },
  {
   "cell_type": "markdown",
   "metadata": {
    "colab_type": "text",
    "id": "wimBY5khJ3K4"
   },
   "source": [
    "Let's checkout the distribution of price elasticity values."
   ]
  },
  {
   "cell_type": "code",
   "execution_count": 302,
   "metadata": {
    "colab": {
     "base_uri": "https://localhost:8080/",
     "height": 312
    },
    "colab_type": "code",
    "id": "-HxcgO1uNQc4",
    "outputId": "3346acd1-2438-4c09-e319-2a03386eb918"
   },
   "outputs": [
    {
     "data": {
      "text/plain": [
       "Text(0.5, 1.0, 'Distribution of properties for price elasticity of demand')"
      ]
     },
     "execution_count": 302,
     "metadata": {},
     "output_type": "execute_result"
    },
    {
     "data": {
      "image/png": "[encoded data removed]",
      "text/plain": [
       "<Figure size 432x288 with 1 Axes>"
      ]
     },
     "metadata": {},
     "output_type": "display_data"
    }
   ],
   "source": [
    "violin = sns.violinplot(x=tuned_data[\"price_elasticity\"])\n",
    "violin.set_xlabel(\"Price elasticity for demaned\")\n",
    "violin.set_ylabel(\"Relative number of properties\")\n",
    "violin.set_title(\"Distribution of properties for price elasticity of demand\")"
   ]
  },
  {
   "cell_type": "code",
   "execution_count": 341,
   "metadata": {
    "colab": {
     "base_uri": "https://localhost:8080/",
     "height": 312
    },
    "colab_type": "code",
    "id": "VoDA4yKDNfMJ",
    "outputId": "865a8b28-f46f-4718-c46c-6b93bcee9e9d"
   },
   "outputs": [
    {
     "data": {
      "text/plain": [
       "Text(0.5, 1.0, 'Distribution zoomed in between elasticity from -2 to 2')"
      ]
     },
     "execution_count": 341,
     "metadata": {},
     "output_type": "execute_result"
    },
    {
     "data": {
      "image/png": "[encoded data removed]",
      "text/plain": [
       "<Figure size 432x288 with 1 Axes>"
      ]
     },
     "metadata": {},
     "output_type": "display_data"
    }
   ],
   "source": [
    "violin = sns.violinplot(x=tuned_data.query(\"price_elasticity < 2 and price_elasticity > -2\")[\"price_elasticity\"])\n",
    "violin.set_xlabel(\"Price elasticity for demaned\")\n",
    "violin.set_ylabel(\"Relative number of properties\")\n",
    "violin.set_title(\"Distribution zoomed in between elasticity from -2 to 2\")"
   ]
  },
  {
   "cell_type": "markdown",
   "metadata": {
    "colab_type": "text",
    "id": "k7eUHLFROUPM"
   },
   "source": [
    "Taking look at proportion of number of properties with positive price elasticity vs negative price elasticity."
   ]
  },
  {
   "cell_type": "code",
   "execution_count": 304,
   "metadata": {
    "colab": {
     "base_uri": "https://localhost:8080/",
     "height": 68
    },
    "colab_type": "code",
    "id": "ocAOB07VOTFv",
    "outputId": "ae6b4bc3-8887-451b-da0e-023411e70a5b"
   },
   "outputs": [
    {
     "data": {
      "text/plain": [
       "True     65.74\n",
       "False    34.26\n",
       "Name: price_elasticity, dtype: float64"
      ]
     },
     "execution_count": 304,
     "metadata": {},
     "output_type": "execute_result"
    }
   ],
   "source": [
    "100 * (tuned_data[\"price_elasticity\"] > 0).value_counts()/(tuned_data[\"price_elasticity\"]).count()"
   ]
  },
  {
   "cell_type": "markdown",
   "metadata": {
    "colab_type": "text",
    "id": "Vkm_5WWsO9UY"
   },
   "source": [
    "One good thing about our trained XGBoost based prediction model is that there are more number of samples demonstrating positive price elasticity than the ones showing negative price elasticity."
   ]
  },
  {
   "cell_type": "code",
   "execution_count": 305,
   "metadata": {
    "colab": {
     "base_uri": "https://localhost:8080/",
     "height": 85
    },
    "colab_type": "code",
    "id": "iGg4L3J8QUcy",
    "outputId": "8c39188a-89c0-4cc2-8ef2-eb22f439c8cc"
   },
   "outputs": [
    {
     "data": {
      "text/plain": [
       "0.25   -0.291243\n",
       "0.50    0.425109\n",
       "0.75    1.615132\n",
       "Name: price_elasticity, dtype: float64"
      ]
     },
     "execution_count": 305,
     "metadata": {},
     "output_type": "execute_result"
    }
   ],
   "source": [
    "tuned_data[\"price_elasticity\"].quantile([.25, .5, .75])"
   ]
  },
  {
   "cell_type": "markdown",
   "metadata": {
    "colab_type": "text",
    "id": "MgrmMiL8d24v"
   },
   "source": [
    "### How does the average price elasticity of demand varies with the average price of properties?"
   ]
  },
  {
   "cell_type": "markdown",
   "metadata": {
    "colab_type": "text",
    "id": "i-8-IQafeu1A"
   },
   "source": [
    "Let's first check the current price distribution of booking properties in our sample of 1000 properties.\n"
   ]
  },
  {
   "cell_type": "code",
   "execution_count": 306,
   "metadata": {
    "colab": {
     "base_uri": "https://localhost:8080/",
     "height": 312
    },
    "colab_type": "code",
    "id": "X09uw9F0esR0",
    "outputId": "099efe48-4bd9-4246-f906-719126a7eb8d"
   },
   "outputs": [
    {
     "data": {
      "text/plain": [
       "Text(0.5, 1.0, 'Distribution of properties for average price')"
      ]
     },
     "execution_count": 306,
     "metadata": {},
     "output_type": "execute_result"
    },
    {
     "data": {
      "image/png": "[encoded data removed]",
      "text/plain": [
       "<Figure size 432x288 with 1 Axes>"
      ]
     },
     "metadata": {},
     "output_type": "display_data"
    }
   ],
   "source": [
    "prices_hist = tuned_data[\"current_price\"].hist(bins=100)\n",
    "prices_hist.set_xlabel(\"Average price\")\n",
    "prices_hist.set_ylabel(\"Number of properties\")\n",
    "prices_hist.set_title(\"Distribution of properties for average price\")"
   ]
  },
  {
   "cell_type": "code",
   "execution_count": 307,
   "metadata": {
    "colab": {
     "base_uri": "https://localhost:8080/",
     "height": 312
    },
    "colab_type": "code",
    "id": "KaFIm3dgdCy4",
    "outputId": "1e6d6a5d-32ef-4c11-dca2-ea741c385155"
   },
   "outputs": [
    {
     "data": {
      "text/plain": [
       "Text(0.5, 1.0, 'Distribution of properties for average price')"
      ]
     },
     "execution_count": 307,
     "metadata": {},
     "output_type": "execute_result"
    },
    {
     "data": {
      "image/png": "[encoded data removed]",
      "text/plain": [
       "<Figure size 432x288 with 1 Axes>"
      ]
     },
     "metadata": {},
     "output_type": "display_data"
    }
   ],
   "source": [
    "prices_violin = sns.boxplot(x=tuned_data[\"current_price\"])\n",
    "prices_violin.set_xlabel(\"Average price\")\n",
    "prices_violin.set_ylabel(\"Number of properties\")\n",
    "prices_violin.set_title(\"Distribution of properties for average price\")"
   ]
  },
  {
   "cell_type": "markdown",
   "metadata": {
    "colab_type": "text",
    "id": "VCWGjzytgLPj"
   },
   "source": [
    "As we can see prices for most of the property listings in this sample are between 0 to 650."
   ]
  },
  {
   "cell_type": "code",
   "execution_count": 308,
   "metadata": {
    "colab": {
     "base_uri": "https://localhost:8080/",
     "height": 34
    },
    "colab_type": "code",
    "id": "I6IwVPO2hRF2",
    "outputId": "db9d0d41-59fe-4c2a-92fb-12a4f073fe63"
   },
   "outputs": [
    {
     "data": {
      "text/plain": [
       "124.38814355733241"
      ]
     },
     "execution_count": 308,
     "metadata": {},
     "output_type": "execute_result"
    }
   ],
   "source": [
    "np.std(tuned_data[\"current_price\"])"
   ]
  },
  {
   "cell_type": "code",
   "execution_count": 309,
   "metadata": {
    "colab": {},
    "colab_type": "code",
    "id": "SinZ84ZZiuXy"
   },
   "outputs": [],
   "source": [
    "bin_size = 50 \n",
    "bins = pd.IntervalIndex.from_tuples([(x, x+bin_size-1) for x in range(1,tuned_data[\"current_price\"].astype(int).max(),bin_size)])\n",
    "pd.cut(tuned_data[\"current_price\"], bins)\n",
    "tuned_data_1 = tuned_data.copy()\n",
    "tuned_data_1[\"current_price_category\"] = pd.cut(tuned_data[\"current_price\"], bins)"
   ]
  },
  {
   "cell_type": "code",
   "execution_count": 329,
   "metadata": {
    "colab": {
     "base_uri": "https://localhost:8080/",
     "height": 404
    },
    "colab_type": "code",
    "id": "x_WzShjgkRuY",
    "outputId": "ae73d0f2-69fc-4225-ed78-483be0b4e71f"
   },
   "outputs": [
    {
     "data": {
      "image/png": "[encoded data removed]",
      "text/plain": [
       "<Figure size 720x360 with 1 Axes>"
      ]
     },
     "metadata": {},
     "output_type": "display_data"
    }
   ],
   "source": [
    "fig, ax = plt.subplots(figsize=(10,5))\n",
    "bar_ax = tuned_data_1.groupby([\"current_price_category\"]).mean()['price_elasticity'].iloc[:30,].plot.bar(ax=ax)\n",
    "bar_ax.set_xlabel(\"Current price range\")\n",
    "bar_ax.set_ylabel(\"Average Price elasticity for booking probability\")\n",
    "elasticity_threshold_line = bar_ax.axhline(y=1, color=\"g\")\n",
    "elasticity_zero_line = bar_ax.axhline(y=0, color=\"r\")\n",
    "title = bar_ax.set_title(\"Trend between current price and price elasticity across properties\")"
   ]
  },
  {
   "cell_type": "markdown",
   "metadata": {
    "colab_type": "text",
    "id": "B1Iu-aIvrw89"
   },
   "source": [
    "In case we choose to treat properties with negative price elasticity as erroneous projection of our model and filter them out before plotting the relationship between price elasticity of booking probability and current price range, the graph would look something like this."
   ]
  },
  {
   "cell_type": "code",
   "execution_count": 328,
   "metadata": {
    "colab": {
     "base_uri": "https://localhost:8080/",
     "height": 404
    },
    "colab_type": "code",
    "id": "3FQQ8ZJHkJB_",
    "outputId": "d4ac3fd6-b5e0-4a97-e974-eafdcba18561"
   },
   "outputs": [
    {
     "data": {
      "image/png": "[encoded data removed]",
      "text/plain": [
       "<Figure size 720x360 with 1 Axes>"
      ]
     },
     "metadata": {},
     "output_type": "display_data"
    }
   ],
   "source": [
    "fig, ax = plt.subplots(figsize=(10,5))\n",
    "bar_ax = tuned_data_1.query(\"price_elasticity > 0\").groupby([\"current_price_category\"]).mean()['price_elasticity'].iloc[:30,].plot.bar(ax=ax)\n",
    "bar_ax.set_xlabel(\"Current price range\")\n",
    "bar_ax.set_ylabel(\"Average Price elasticity for booking probability\")\n",
    "elasticity_threshold_line = bar_ax.axhline(y=1, color=\"g\")\n",
    "bar_ax.legend((elasticity_threshold_line,), (\"Price elasticity = 1\",))\n",
    "title = bar_ax.set_title(\"Trend between current price and price elasticity across properties\")"
   ]
  },
  {
   "cell_type": "markdown",
   "metadata": {
    "colab_type": "text",
    "id": "hChA4ek5sucV"
   },
   "source": [
    "The properties in price range of 1 to 300 are showing maximum price elasticity for probability of booking. This means that properties in these price ranges should be considered as first choice for applying price tuning algorithm to maximize expected revenue."
   ]
  },
  {
   "cell_type": "markdown",
   "metadata": {
    "colab_type": "text",
    "id": "XUDURSRYtjSO"
   },
   "source": [
    "## How does price elasticity for booking probability varies with time across the year?\n"
   ]
  },
  {
   "cell_type": "markdown",
   "metadata": {
    "colab_type": "text",
    "id": "RnDp2QKhtuAC"
   },
   "source": [
    "We have seen earlier in our exploratory analysis that there are visible changes in the average price of properties across the year. Does it have impact on the price elasticity of demand for properties? Let's have a look."
   ]
  },
  {
   "cell_type": "code",
   "execution_count": 336,
   "metadata": {
    "colab": {
     "base_uri": "https://localhost:8080/",
     "height": 394
    },
    "colab_type": "code",
    "id": "AOzgQcf1vtSJ",
    "outputId": "5ccacc59-f6eb-4a79-d3c1-7cd875945f33"
   },
   "outputs": [
    {
     "data": {
      "image/png": "[encoded data removed]",
      "text/plain": [
       "<Figure size 720x360 with 2 Axes>"
      ]
     },
     "metadata": {},
     "output_type": "display_data"
    }
   ],
   "source": [
    "tuned_data_1[\"month\"] = \"\"\n",
    "tuned_data_1[\"month_num\"] = 13\n",
    "months = []\n",
    "for month in [col.replace(\"month_\", \"\") for col in tuned_data_1.columns if col.startswith(\"month\") and col not in [\"month\", \"month_num\"] ]:\n",
    "  query = f\"month_{month}\"\n",
    "  months_ordered = [\"January\", \n",
    "                    'February', 'March', 'April', 'May', 'June', 'July', \n",
    "                    \"August\",\"September\", \"October\", \"November\", \"December\",  \"nan\"]\n",
    "  tuned_data_1.loc[tuned_data_1[query] == 1, \"month\"] = month\n",
    "  tuned_data_1.loc[tuned_data_1[query] == 1, \"month_num\"] = months_ordered.index(month) + 1\n",
    "  \n",
    "fig, ax = plt.subplots(figsize=(10,5))  \n",
    "sns.set_style(\"ticks\")\n",
    "bar_ax = tuned_data_1.sort_values(by=[\"month_num\"]).groupby([\"month\"], sort=False).mean()['price_elasticity'].plot.bar(ax=ax)\n",
    "bar_ax.set_xlabel(\"Month\")\n",
    "bar_ax.set_ylabel(\"Average Price elasticity for booking probability\")\n",
    "\n",
    "ax_2 = ax.twinx()\n",
    "bar_ax_2 = tuned_data_1.sort_values(by=[\"month_num\"]).groupby([\"month\"], sort=False).mean()['current_price'].plot(ax=ax_2, color=\"orange\")\n",
    "bar_ax_2.set_ylabel(\"Average Price of Properties\")\n",
    "bar_ax_2.legend([\"Monthly average price\"], loc=0)\n",
    "elasticity_1_threshold_line = bar_ax.axhline(y=1, color=\"g\")\n",
    "bar_ax.legend((elasticity_1_5_threshold_line,), (\"Price elasticity = 1\",))\n",
    "title = bar_ax.set_title(\"Trend between month and price elasticity across properties\")"
   ]
  },
  {
   "cell_type": "markdown",
   "metadata": {
    "colab_type": "text",
    "id": "0eC-0KIr240Y"
   },
   "source": [
    "It's evident from the above graph that this sample demonstrates highest price elasticity for booking probability in the month of **November** & **July**, the middle month of summer and November. However it also remains consistently above 0.4 in all the months."
   ]
  },
  {
   "cell_type": "code",
   "execution_count": 340,
   "metadata": {
    "colab": {},
    "colab_type": "code",
    "id": "cqtXxSZ9y8ve"
   },
   "outputs": [
    {
     "data": {
      "image/png": "[encoded data removed]",
      "text/plain": [
       "<Figure size 720x360 with 2 Axes>"
      ]
     },
     "metadata": {},
     "output_type": "display_data"
    }
   ],
   "source": [
    "tuned_data_1[\"day_of_week\"] = \"\"\n",
    "tuned_data_1[\"day_of_week_num\"] = 8\n",
    "for day_of_week in [col.replace(\"day_of_week_\", \"\") for col in tuned_data_1.columns if col.startswith(\"day_of_week_\") and col not in [\"day_of_week\", \"day_of_week_num\"] ]:\n",
    "  query = f\"day_of_week_{day_of_week}\"\n",
    "  days_of_week_ordered = [\"Monday\", \"Tuesday\", \"Wednesday\", \"Thursday\", \"Friday\", \"Saturday\", \"Sunday\", \"nan\"]\n",
    "  tuned_data_1.loc[tuned_data_1[query] == 1, \"day_of_week\"] = day_of_week\n",
    "  tuned_data_1.loc[tuned_data_1[query] == 1, \"day_of_week_num\"] = days_of_week_ordered.index(day_of_week) + 1\n",
    " \n",
    "fig, ax = plt.subplots(figsize=(10,5))  \n",
    "bar_ax = tuned_data_1.sort_values(by=[\"day_of_week_num\"]).groupby([\"day_of_week\"], sort=False).mean()['price_elasticity'].plot.bar(ax=ax)\n",
    "bar_ax.set_xlabel(\"Day of week\")\n",
    "bar_ax.set_ylabel(\"Average Price elasticity for booking probability\")\n",
    "elasticity_threshold_line = bar_ax.axhline(y=0.4, color=\"g\")\n",
    "bar_ax.legend((elasticity_threshold_line,), (\"Price elasticity = 0.4\",))\n",
    "\n",
    "ax_2 = ax.twinx()\n",
    "bar_ax_2 = tuned_data_1.sort_values(by=[\"day_of_week_num\"]).groupby([\"day_of_week\"], sort=False).mean()['current_price'].plot(ax=ax_2, color=\"orange\")\n",
    "bar_ax_2.set_ylabel(\"Average Price of Properties\")\n",
    "bar_ax_2.legend([\"Daily average price\"], loc=0)\n",
    "\n",
    "title = bar_ax.set_title(\"Trend between day of week and price elasticity across properties\")"
   ]
  },
  {
   "cell_type": "markdown",
   "metadata": {
    "colab_type": "text",
    "id": "7ea7_Ly05CIX"
   },
   "source": [
    "It's evident from the above graph that this sample demonstrates highest price elasticity remains almost similar on all the days around the week."
   ]
  },
  {
   "cell_type": "markdown",
   "metadata": {
    "colab_type": "text",
    "id": "bfPqBLGiJBzW"
   },
   "source": [
    "## Finally, for which properties do we choose to tune the prices to maximise expected revenue?\n"
   ]
  },
  {
   "cell_type": "markdown",
   "metadata": {
    "colab_type": "text",
    "id": "4ytjkPSDcEL7"
   },
   "source": [
    "As different properties show different amount of price sensitivity under given day and market condition, we can choose which properties should be considered for tuning prices based on the price elasticity."
   ]
  },
  {
   "cell_type": "code",
   "execution_count": 319,
   "metadata": {
    "colab": {},
    "colab_type": "code",
    "id": "H-wZwfoMQ18S"
   },
   "outputs": [
    {
     "data": {
      "image/png": "[encoded data removed]",
      "text/plain": [
       "<Figure size 720x360 with 1 Axes>"
      ]
     },
     "metadata": {},
     "output_type": "display_data"
    }
   ],
   "source": [
    "thresholds = list(float_range(\"0.0\", \"5.0\", \"0.05\"))\n",
    "percentage_change_in_expected_revenue = []\n",
    "for threshold in thresholds:\n",
    "  expected_revenue_from_props_above_threshold = tuned_data.query(\"price_elasticity >= @threshold\")[\"expected_revenue_recommended_price\"].sum()\n",
    "  expected_revenue_from_props_below_threshold = tuned_data.query(\"price_elasticity < @threshold\")[\"expected_revenue_current_price\"].sum()\n",
    "  expected_revenue_from_all_at_current_price = tuned_data[\"expected_revenue_current_price\"].sum()\n",
    "  change = (expected_revenue_from_props_below_threshold + expected_revenue_from_props_above_threshold - expected_revenue_from_all_at_current_price)/expected_revenue_from_all_at_current_price\n",
    "  percentage_change_in_expected_revenue.append(change)\n",
    "\n",
    "fig, ax = plt.subplots(figsize=(10,5))\n",
    "sns.set_style(\"whitegrid\")\n",
    "ax = sns.lineplot(x=list(thresholds), y=percentage_change_in_expected_revenue, ax=ax)\n",
    "ax.set_xlabel(\"Minimum price elasticity of property required to be eligible for price tuning\")\n",
    "ax.set_ylabel(\"Percentage of increment in expected revenue\")\n",
    "vals = ax.get_yticks()\n",
    "yticks = ax.set_yticklabels(['{:,.0%}'.format(x) for x in vals])\n",
    "title = ax.set_title(\"Increment in expected revenue vs. minimum threshold for price elasticity\")"
   ]
  },
  {
   "cell_type": "markdown",
   "metadata": {
    "colab_type": "text",
    "id": "tGtTSYNheoY4"
   },
   "source": [
    "- If we choose to tune all the properties with positive price elasticity in our sample, the projected percentage of change in expected revenue according to XGBoost predictor is near ___%.\n",
    "- If instead, we choose to tune prices for only those properties with price elasticity greater than ___, then projected percentage of change in expected revenue is ____%."
   ]
  },
  {
   "cell_type": "code",
   "execution_count": 330,
   "metadata": {
    "colab": {},
    "colab_type": "code",
    "id": "3j2N3B5_yFpT"
   },
   "outputs": [],
   "source": [
    "def calc_revenue_at_tuned_price(row, calc_prob_booked):  \n",
    "    current_price_norm = row[\"price_calendar_normalized\"]\n",
    "    current_price = current_price_norm * row[\"total_env_prices\"]\n",
    "    prob_booked = calc_prob_booked(row)    \n",
    "#     print(\"price_calendar: \" + str(current_price))\n",
    "    \n",
    "    # minimum_elasticity to be eligible for tuning the price, \n",
    "    # keeping it high will require the booking probability of property \n",
    "    # to be more elastic to the price.\n",
    "    # It will keep the algorithm more realistic to project expected revenue\n",
    "    minimum_elasticity = 0.4 \n",
    "    percentage_to_check = 20\n",
    "    \n",
    "    curve = get_price_elasticity_curve(listing=row, calc_prob_booked=calc_prob_booked, percentage=percentage_to_check)\n",
    "        \n",
    "#     print (\"Checking for price elasticity...\")\n",
    "    row[\"price_calendar_normalized\"] = current_price_norm\n",
    "    elasticity = calculate_price_elasticity(curve, listing=row, percentage_to_check=percentage_to_check)    \n",
    "    if elasticity > minimum_elasticity:          \n",
    "        print (\"Elasticity demonstrated: \" + str(np.round(elasticity, 3)))\n",
    "        print(\"✔ The property follows significant price elasiticity in reasonable price range according to model\")\n",
    "\n",
    "        print (\"Probability of being booked at current price: \" + str(prob_booked))\n",
    "        row[\"price_calendar_normalized\"] = current_price_norm\n",
    "        current_expected_revenue = current_price * prob_booked        \n",
    "        print (\"\")\n",
    "        print(\"Current price: \" + str(round(current_price, 0)))\n",
    "        print(\"Probability of being booked at current price: \" + str(prob_booked))\n",
    "        print(\"Expected revenue at current price: \" + str(current_expected_revenue))       \n",
    "        \n",
    "        max_expected_revenue = -math.inf\n",
    "        prob_at_max = None\n",
    "        price_at_max = None\n",
    "        lower_price_normalized = max(current_price_norm * (1 - percentage_to_check/100), 0)\n",
    "        higher_price_normalized = current_price_norm * (1 + percentage_to_check/100)\n",
    "        for trial_price_norm in float_range(str(lower_price_normalized), str(higher_price_normalized), str((higher_price_normalized-lower_price_normalized)/100)):\n",
    "          # Instead of using probability predicted by the classifier,\n",
    "          # I decided to use the one derived from line fitted on the values\n",
    "          # in normalized price range near the current normalized price\n",
    "          # so that I can have a smoothly varying values which avoid sudden\n",
    "          # bumps in the probability values often seen to be generated by\n",
    "          # ensemble learners.\n",
    "#             row[\"price_calendar_normalized\"] = trial_price_norm\n",
    "#             prob_at_trial_price_norm = calc_prob_booked(row)\n",
    "            df_trial = pd.DataFrame(data={\"x\" : trial_price_norm}, index=[0])\n",
    "            prob_at_trial_price_norm = curve.predict(df_trial)[0]   \n",
    "            expected_revenue = prob_at_trial_price_norm * trial_price_norm * row[\"total_env_prices\"]\n",
    "            if expected_revenue > max_expected_revenue:\n",
    "                max_expected_revenue = expected_revenue\n",
    "                prob_at_max = prob_at_trial_price_norm\n",
    "                price_at_max = trial_price_norm * row[\"total_env_prices\"]\n",
    "        draw_price_elasticity_for_prop(row, calc_prob_booked, percentage_to_check, curve, rec_price=round(price_at_max,0))\n",
    "        print (\"Recommended price: \" + str(round(price_at_max,0)))\n",
    "        print (\"Probability of booked at recommended price: \" + str(np.round(prob_at_max, 5)))\n",
    "        print (\"Expected revenue at recommended price: \" + str(np.round(max_expected_revenue,2)))\n",
    "        print (\"Percentage of recommended price change: \" + str(np.round(100*(price_at_max - current_price)/current_price, 3)) +\"%\")\n",
    "        print (\"Percentage of change in expected revenue: \" + str(np.round(100*(max_expected_revenue - current_expected_revenue)/current_expected_revenue, 2)) +\"%\")\n",
    "        print (\"----------------------------------------------------------------\")\n",
    "        return max_expected_revenue\n",
    "    else:\n",
    "#         print(\"✘ The property does not follow desired price elasiticity in reasonable price range according to model\")\n",
    "        return current_price * prob_booked"
   ]
  },
  {
   "cell_type": "code",
   "execution_count": 334,
   "metadata": {
    "colab": {
     "base_uri": "https://localhost:8080/",
     "height": 1000
    },
    "colab_type": "code",
    "id": "L1NMeMG2S7Xk",
    "outputId": "429c6b81-1bff-4b5c-faaa-b4dfe315120d"
   },
   "outputs": [
    {
     "name": "stdout",
     "output_type": "stream",
     "text": [
      "Elasticity demonstrated: [1.843]\n",
      "✔ The property follows significant price elasiticity in reasonable price range according to model\n",
      "Probability of being booked at current price: 0.23616666\n",
      "\n",
      "Current price: 145.0\n",
      "Probability of being booked at current price: 0.23616666\n",
      "Expected revenue at current price: 34.22054845690727\n",
      "Price elasticity plot for a property of\n",
      "Size: 847.3085106382979sq.ft\n",
      "Accommodates: 4\n",
      "Bedrooms: 1.0\n"
     ]
    },
    {
     "data": {
      "image/png": "[encoded data removed]",
      "text/plain": [
       "<Figure size 432x288 with 1 Axes>"
      ]
     },
     "metadata": {},
     "output_type": "display_data"
    },
    {
     "name": "stdout",
     "output_type": "stream",
     "text": [
      "Recommended price: 116.0\n",
      "Probability of booked at recommended price: [0.29628]\n",
      "Expected revenue at recommended price: [34.35]\n",
      "Percentage of recommended price change: -20.0%\n",
      "Percentage of change in expected revenue: [0.36]%\n",
      "----------------------------------------------------------------\n",
      "Elasticity demonstrated: [1.94]\n",
      "✔ The property follows significant price elasiticity in reasonable price range according to model\n",
      "Probability of being booked at current price: 0.13721484\n",
      "\n",
      "Current price: 145.0\n",
      "Probability of being booked at current price: 0.13721484\n",
      "Expected revenue at current price: 19.882430237531658\n",
      "Price elasticity plot for a property of\n",
      "Size: 847.3085106382979sq.ft\n",
      "Accommodates: 4\n",
      "Bedrooms: 1.0\n"
     ]
    },
    {
     "data": {
      "image/png": "[encoded data removed]",
      "text/plain": [
       "<Figure size 432x288 with 1 Axes>"
      ]
     },
     "metadata": {},
     "output_type": "display_data"
    },
    {
     "name": "stdout",
     "output_type": "stream",
     "text": [
      "Recommended price: 116.0\n",
      "Probability of booked at recommended price: [0.21389]\n",
      "Expected revenue at recommended price: [24.79]\n",
      "Percentage of recommended price change: -20.0%\n",
      "Percentage of change in expected revenue: [24.7]%\n",
      "----------------------------------------------------------------\n",
      "Elasticity demonstrated: [2.878]\n",
      "✔ The property follows significant price elasiticity in reasonable price range according to model\n",
      "Probability of being booked at current price: 0.03108573\n",
      "\n",
      "Current price: 149.0\n",
      "Probability of being booked at current price: 0.03108573\n",
      "Expected revenue at current price: 4.621826276779175\n",
      "Price elasticity plot for a property of\n",
      "Size: 847.3085106382979sq.ft\n",
      "Accommodates: 4\n",
      "Bedrooms: 1.0\n"
     ]
    },
    {
     "data": {
      "image/png": "[encoded data removed]",
      "text/plain": [
       "<Figure size 432x288 with 1 Axes>"
      ]
     },
     "metadata": {},
     "output_type": "display_data"
    },
    {
     "name": "stdout",
     "output_type": "stream",
     "text": [
      "Recommended price: 119.0\n",
      "Probability of booked at recommended price: [0.06171]\n",
      "Expected revenue at recommended price: [7.34]\n",
      "Percentage of recommended price change: -20.0%\n",
      "Percentage of change in expected revenue: [58.82]%\n",
      "----------------------------------------------------------------\n",
      "Elasticity demonstrated: [1.258]\n",
      "✔ The property follows significant price elasiticity in reasonable price range according to model\n",
      "Probability of being booked at current price: 0.34289736\n",
      "\n",
      "Current price: 295.0\n",
      "Probability of being booked at current price: 0.34289736\n",
      "Expected revenue at current price: 101.09985631227492\n",
      "Price elasticity plot for a property of\n",
      "Size: 847.3085106382979sq.ft\n",
      "Accommodates: 7\n",
      "Bedrooms: 3.0\n"
     ]
    },
    {
     "data": {
      "image/png": "[encoded data removed]",
      "text/plain": [
       "<Figure size 432x288 with 1 Axes>"
      ]
     },
     "metadata": {},
     "output_type": "display_data"
    },
    {
     "name": "stdout",
     "output_type": "stream",
     "text": [
      "Recommended price: 264.0\n",
      "Probability of booked at recommended price: [0.43657]\n",
      "Expected revenue at recommended price: [115.33]\n",
      "Percentage of recommended price change: -10.4%\n",
      "Percentage of change in expected revenue: [14.08]%\n",
      "----------------------------------------------------------------\n",
      "After tuning prices of porperty listings with price elasticity at least 0.4,\n",
      " the change in expected in expected revenue is 7.74%\n"
     ]
    }
   ],
   "source": [
    "expected_revenue_at_current_prices = 0\n",
    "expected_revenue_at_recommended_prices = 0\n",
    "number_of_properties_to_be_sampled = 10\n",
    "number_of_properties_with_price_updated = 0\n",
    "min_price_elasticity_threshold = 0.4\n",
    "for index, row in tuned_data.query(\"price_elasticity > 0.4\")[X_test.columns].sample(n=number_of_properties_to_be_sampled, random_state=42).copy().iterrows():  \n",
    "    expected_revenue_at_current_prices += row[\"price_calendar_normalized\"] * row[\"total_env_prices\"] * calc_prob_booked_xgb(row)\n",
    "    expected_revenue_at_recommended_prices += calc_revenue_at_tuned_price(row, calc_prob_booked=calc_prob_booked_xgb)\n",
    "    if np.round(expected_revenue_at_current_prices, 2) != np.round(expected_revenue_at_recommended_prices, 2):\n",
    "      number_of_properties_with_price_updated += 1\n",
    "percentage_change_in_expected_revenue = 100 * (expected_revenue_at_recommended_prices- expected_revenue_at_current_prices)/(expected_revenue_at_current_prices)\n",
    "print (f\"After tuning prices of porperty listings with price elasticity at least {min_price_elasticity_threshold},\\n the change in expected in expected revenue is {str(np.asscalar(np.round(percentage_change_in_expected_revenue, 2)))}%\")"
   ]
  },
  {
   "cell_type": "markdown",
   "metadata": {
    "colab_type": "text",
    "id": "S3USkXgnswjX"
   },
   "source": [
    "### Ideas for improvement in accuracy of this predictive model\n",
    "- Accuracy of predicting the probability of the property getting booked can be further improved by using all the training data availabile for training the Extreme Gradient Boosting model. Currently I have used only 100,000 samples execute my code within memory constraints imposed by Google Colab environment.\n",
    "- Alternate models like deep neural network can also be utilized with availability of larger dataset and computing resources to train it and choosing the most optimal hyperparameters like number of hidden layers and number of neurons in each layer etc.\n",
    "\n",
    "This kind of improvements can result in more accurate prediction about the expected revenue from property at given price point."
   ]
  },
  {
   "cell_type": "markdown",
   "metadata": {
    "colab_type": "text",
    "id": "Sc8FY7eSmop1"
   },
   "source": [
    "## Application of this price tuning model based on predictive analysis\n",
    "Booking companies like **Booking.com**, **Trivago** and **OYO** can benefit from such kind of predictive price tuning model because they have more control over the booking price of the hotel room. Such a company can easily look at its past data of having each room offered at different prices and estimating the price elasticity for demand for each hotel room of some type. It can then train a predictive model for estimating the probability of a property getting booked at given price point on given day and market scenario. After calculating the price elasticity for given property, it can then tune the price of the hotel room type using above suggested method such that it maximizes expected revenue from that hotel room type on given day."
   ]
  }
 ],
 "metadata": {
  "accelerator": "GPU",
  "colab": {
   "collapsed_sections": [
    "jDlMsE3KyFn6",
    "gujejNkkyFoO",
    "EmCjgWC57yn9"
   ],
   "include_colab_link": true,
   "machine_shape": "hm",
   "name": "colab_tuning_booking_price_to_maximize_expected_revenue.ipynb",
   "provenance": [],
   "toc_visible": true
  },
  "kernelspec": {
   "display_name": "Python 3",
   "language": "python",
   "name": "python3"
  }
 },
 "nbformat": 4,
 "nbformat_minor": 1
}
