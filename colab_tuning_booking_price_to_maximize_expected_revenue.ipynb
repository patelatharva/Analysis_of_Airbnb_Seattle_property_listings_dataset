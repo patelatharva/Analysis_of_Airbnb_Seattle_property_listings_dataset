{
 "cells": [
  {
   "cell_type": "markdown",
   "metadata": {
    "colab_type": "text",
    "id": "view-in-github"
   },
   "source": [
    "<a href=\"https://colab.research.google.com/github/patelatharva/Analysis_of_Airbnb_property_listings_dataset/blob/master/colab_tuning_booking_price_to_maximize_expected_revenue.ipynb\" target=\"_parent\"><img src=\"https://colab.research.google.com/assets/colab-badge.svg\" alt=\"Open In Colab\"/></a>"
   ]
  },
  {
   "cell_type": "markdown",
   "metadata": {
    "colab_type": "text",
    "id": "bB67i5sRvR3b"
   },
   "source": [
    "# A predictive analysis of how a booking company tune its prices of individual properties to maximize expected revenue"
   ]
  },
  {
   "cell_type": "code",
   "execution_count": 1,
   "metadata": {
    "colab": {},
    "colab_type": "code",
    "id": "jmbLKuzJyFkm"
   },
   "outputs": [
    {
     "name": "stderr",
     "output_type": "stream",
     "text": [
      "Using TensorFlow backend.\n"
     ]
    }
   ],
   "source": [
    "import os\n",
    "import numpy as np\n",
    "import pandas as pd\n",
    "import matplotlib.pyplot as plt\n",
    "import matplotlib.dates as mdates\n",
    "from sklearn.model_selection import GridSearchCV\n",
    "from sklearn.model_selection import train_test_split\n",
    "from sklearn.metrics import r2_score, mean_squared_error\n",
    "import seaborn as sns\n",
    "from pandas.plotting import register_matplotlib_converters\n",
    "register_matplotlib_converters()\n",
    "%matplotlib inline\n",
    "import glob\n",
    "import pickle\n",
    "import time\n",
    "from sklearn.metrics import roc_auc_score, f1_score\n",
    "from sklearn.tree import DecisionTreeClassifier\n",
    "from sklearn.ensemble import GradientBoostingClassifier, AdaBoostClassifier, RandomForestClassifier\n",
    "from sklearn.svm import SVC\n",
    "import math\n",
    "from sklearn.base import clone\n",
    "!pip install -q scikit-optimize\n",
    "from skopt import gp_minimize\n",
    "!pip install -q hyperopt\n",
    "from hyperopt import fmin, tpe, hp, STATUS_OK, Trials\n",
    "from hyperopt import space_eval\n",
    "!pip install -q keras\n",
    "!pip install -q tensorflow\n",
    "import tensorflow as tf\n",
    "from tensorflow import keras\n",
    "from keras.models import Sequential\n",
    "from keras.layers import Activation, Dense, Dropout, BatchNormalization\n",
    "from keras.wrappers.scikit_learn import KerasClassifier\n",
    "from keras.optimizers import Adam\n",
    "from keras.callbacks import EarlyStopping, ModelCheckpoint\n",
    "!pip install -q h5py\n",
    "from keras.models import load_model\n",
    "import pprint\n",
    "import random\n",
    "from sklearn.linear_model import Ridge, LinearRegression\n",
    "from sklearn.preprocessing import PolynomialFeatures\n",
    "from sklearn.pipeline import make_pipeline\n",
    "!pip install -q xgboost\n",
    "from xgboost import XGBClassifier\n",
    "# from google.colab import drive\n",
    "import gc"
   ]
  },
  {
   "cell_type": "markdown",
   "metadata": {
    "colab_type": "text",
    "id": "cu9Gc4QLyFk1"
   },
   "source": [
    "## Data Preparation"
   ]
  },
  {
   "cell_type": "code",
   "execution_count": 2,
   "metadata": {
    "colab": {
     "base_uri": "https://localhost:8080/",
     "height": 122
    },
    "colab_type": "code",
    "id": "EoAef2Tqz406",
    "outputId": "3481f3ce-ffb9-4b85-9e1d-7e63b2e64f20"
   },
   "outputs": [],
   "source": [
    "# drive.mount('/content/gdrive')"
   ]
  },
  {
   "cell_type": "code",
   "execution_count": 3,
   "metadata": {
    "colab": {
     "base_uri": "https://localhost:8080/",
     "height": 85
    },
    "colab_type": "code",
    "id": "CfFaiZyK0WAl",
    "outputId": "5b76c874-2304-4329-c8ac-adefca2429c2"
   },
   "outputs": [],
   "source": [
    "# !ls \"/content/gdrive/My Drive/Data Scientist/airbnb/data/boston\""
   ]
  },
  {
   "cell_type": "code",
   "execution_count": 4,
   "metadata": {
    "colab": {},
    "colab_type": "code",
    "id": "d-N4NAgE0sPQ"
   },
   "outputs": [],
   "source": [
    "# project_dir = \"/content/gdrive/My Drive/Data Scientist/airbnb\""
   ]
  },
  {
   "cell_type": "code",
   "execution_count": 2,
   "metadata": {
    "colab": {},
    "colab_type": "code",
    "id": "8zLzWyzWhsdi"
   },
   "outputs": [],
   "source": [
    "project_dir = \".\""
   ]
  },
  {
   "cell_type": "code",
   "execution_count": 3,
   "metadata": {
    "colab": {},
    "colab_type": "code",
    "id": "9xA9_U2WDdIf"
   },
   "outputs": [],
   "source": [
    "data_dir = project_dir + \"/data/boston\""
   ]
  },
  {
   "cell_type": "code",
   "execution_count": 0,
   "metadata": {
    "colab": {},
    "colab_type": "code",
    "id": "V_Mb4_9pyFk2"
   },
   "outputs": [],
   "source": [
    "calendar = pd.read_csv(data_dir + \"/calendar.csv\")\n",
    "reviews = pd.read_csv(data_dir + \"/reviews.csv\")\n",
    "listings = pd.read_csv(data_dir + \"/listings.csv\")"
   ]
  },
  {
   "cell_type": "code",
   "execution_count": 0,
   "metadata": {
    "colab": {
     "base_uri": "https://localhost:8080/",
     "height": 34
    },
    "colab_type": "code",
    "id": "3QkIcOZ6Fl_R",
    "outputId": "c7dbeb97-6fe6-44ac-cfce-fa6899d1da8a"
   },
   "outputs": [
    {
     "data": {
      "text/plain": [
       "3585"
      ]
     },
     "execution_count": 8,
     "metadata": {
      "tags": []
     },
     "output_type": "execute_result"
    }
   ],
   "source": [
    "listings[\"id\"].nunique()"
   ]
  },
  {
   "cell_type": "markdown",
   "metadata": {
    "colab_type": "text",
    "id": "hlXy-voYyFk5"
   },
   "source": [
    "### Transforming 'price' from string to numeric"
   ]
  },
  {
   "cell_type": "code",
   "execution_count": 0,
   "metadata": {
    "colab": {
     "base_uri": "https://localhost:8080/",
     "height": 119
    },
    "colab_type": "code",
    "id": "3XKSmbEjyFk6",
    "outputId": "aa8953eb-981c-43dd-ffb1-4a398b6a530b"
   },
   "outputs": [
    {
     "data": {
      "text/plain": [
       "0    250.0\n",
       "1     65.0\n",
       "2     65.0\n",
       "3     75.0\n",
       "4     79.0\n",
       "Name: price, dtype: float64"
      ]
     },
     "execution_count": 9,
     "metadata": {
      "tags": []
     },
     "output_type": "execute_result"
    }
   ],
   "source": [
    "\"\"\"\n",
    "    Converts price in the string format like \"$1,125.00\" into numeric value 1125.00\n",
    "    INPUT:\n",
    "    - string price in string format\n",
    "    OUTPUT:\n",
    "    - float value corresponding to the price or None if the input is not parseable to float\n",
    "\"\"\"\n",
    "def str_to_num (string):\n",
    "    if string is not None:\n",
    "        if type(string) is str and string.startswith('$'):\n",
    "            return float(string.replace('$', '').replace(',', ''))\n",
    "        else:\n",
    "            return None\n",
    "    else:\n",
    "        return None\n",
    "listings_cleaned = pd.concat([listings.drop('price', axis=1), listings[\"price\"].apply(str_to_num)], axis=1)\n",
    "listings_cleaned['price'].head()"
   ]
  },
  {
   "cell_type": "code",
   "execution_count": 0,
   "metadata": {
    "colab": {
     "base_uri": "https://localhost:8080/",
     "height": 119
    },
    "colab_type": "code",
    "id": "S-oBi3pYyFk9",
    "outputId": "b458fa36-f182-4575-88f6-684877c1fdb8"
   },
   "outputs": [
    {
     "data": {
      "text/plain": [
       "0   NaN\n",
       "1   NaN\n",
       "2   NaN\n",
       "3   NaN\n",
       "4   NaN\n",
       "Name: price, dtype: float64"
      ]
     },
     "execution_count": 10,
     "metadata": {
      "tags": []
     },
     "output_type": "execute_result"
    }
   ],
   "source": [
    "calendar_cleaned = pd.concat([calendar.drop('price', axis=1), calendar[\"price\"].apply(str_to_num)], axis=1)\n",
    "calendar_cleaned['price'].head()"
   ]
  },
  {
   "cell_type": "markdown",
   "metadata": {
    "colab_type": "text",
    "id": "C0S7xcx6yFlA"
   },
   "source": [
    "### Converting 'avilable' field from string to binary"
   ]
  },
  {
   "cell_type": "code",
   "execution_count": 0,
   "metadata": {
    "colab": {
     "base_uri": "https://localhost:8080/",
     "height": 119
    },
    "colab_type": "code",
    "id": "Gj4ErNR1yFlB",
    "outputId": "01427eeb-a77c-424f-9610-07d316faa95d"
   },
   "outputs": [
    {
     "data": {
      "text/plain": [
       "0    False\n",
       "1    False\n",
       "2    False\n",
       "3    False\n",
       "4    False\n",
       "Name: available, dtype: bool"
      ]
     },
     "execution_count": 11,
     "metadata": {
      "tags": []
     },
     "output_type": "execute_result"
    }
   ],
   "source": [
    "calendar_cleaned['available'] = calendar_cleaned['available'] == 't'\n",
    "calendar_cleaned['available'].head()"
   ]
  },
  {
   "cell_type": "markdown",
   "metadata": {
    "colab_type": "text",
    "id": "2CRwPuIqyFlE"
   },
   "source": [
    "### Converting 'date' from string to datetime format"
   ]
  },
  {
   "cell_type": "code",
   "execution_count": 0,
   "metadata": {
    "colab": {},
    "colab_type": "code",
    "id": "1AzGFXl8yFlF"
   },
   "outputs": [],
   "source": [
    "calendar_cleaned[\"date\"] = pd.to_datetime(calendar_cleaned[\"date\"], format=\"%Y-%m-%d\")"
   ]
  },
  {
   "cell_type": "markdown",
   "metadata": {
    "colab_type": "text",
    "id": "ckk-R1R3yFlJ"
   },
   "source": [
    "### Converting location field from numeric to categorical"
   ]
  },
  {
   "cell_type": "code",
   "execution_count": 0,
   "metadata": {
    "colab": {},
    "colab_type": "code",
    "id": "TuPJ39X1yFlK"
   },
   "outputs": [],
   "source": [
    "listings_cleaned[\"location_categorical\"] = listings_cleaned.apply(lambda row: str((format(row.latitude, '.2f'), format(row.longitude, '.2f'))), axis=1)"
   ]
  },
  {
   "cell_type": "code",
   "execution_count": 0,
   "metadata": {
    "colab": {
     "base_uri": "https://localhost:8080/",
     "height": 119
    },
    "colab_type": "code",
    "id": "k8o4rtMQyFlN",
    "outputId": "04fed338-6fbc-41cc-89a6-c33c801c296d"
   },
   "outputs": [
    {
     "data": {
      "text/plain": [
       "0    ('42.28', '-71.13')\n",
       "1    ('42.29', '-71.13')\n",
       "2    ('42.29', '-71.14')\n",
       "3    ('42.28', '-71.12')\n",
       "4    ('42.28', '-71.14')\n",
       "Name: location_categorical, dtype: object"
      ]
     },
     "execution_count": 14,
     "metadata": {
      "tags": []
     },
     "output_type": "execute_result"
    }
   ],
   "source": [
    "listings_cleaned.location_categorical.head()"
   ]
  },
  {
   "cell_type": "markdown",
   "metadata": {
    "colab_type": "text",
    "id": "ImOYNZ59yFlP"
   },
   "source": [
    "### Converting 'amenities' field containing list into separate categorical columns for each amenity in dataframe"
   ]
  },
  {
   "cell_type": "code",
   "execution_count": 0,
   "metadata": {
    "colab": {
     "base_uri": "https://localhost:8080/",
     "height": 272
    },
    "colab_type": "code",
    "id": "7L1sEyWwyFlQ",
    "outputId": "df4886ca-1263-41b1-c144-9456daa2f0ea"
   },
   "outputs": [
    {
     "data": {
      "text/plain": [
       "['TV',\n",
       " 'Wireless Internet',\n",
       " 'Kitchen',\n",
       " 'Free Parking on Premises',\n",
       " 'Pets live on this property',\n",
       " 'Dog(s)',\n",
       " 'Heating',\n",
       " 'Family/Kid Friendly',\n",
       " 'Washer',\n",
       " 'Dryer',\n",
       " 'Smoke Detector',\n",
       " 'Fire Extinguisher',\n",
       " 'Essentials',\n",
       " 'Shampoo',\n",
       " 'Laptop Friendly Workspace']"
      ]
     },
     "execution_count": 15,
     "metadata": {
      "tags": []
     },
     "output_type": "execute_result"
    }
   ],
   "source": [
    "list(map(lambda amenity : amenity.replace(\"\\\"\",\"\").replace(\"{\",\"\").replace(\"}\", \"\"), listings_cleaned.amenities.iloc[0].split(\",\")))"
   ]
  },
  {
   "cell_type": "code",
   "execution_count": 0,
   "metadata": {
    "colab": {},
    "colab_type": "code",
    "id": "it7hiVFtyFlT"
   },
   "outputs": [],
   "source": [
    "\"\"\"\n",
    "    Separates the string value of `amenities` attribute in the row, into a list of individual amenities.\n",
    "    \n",
    "    INPUT:\n",
    "    - row : from dataset having amenities attribute\n",
    "    OUTPUT:    \n",
    "    - list of amenities derived from the value of `amenities` attribute in row\n",
    "\"\"\"\n",
    "def separate_amenities(row):\n",
    "    amenities = row.amenities\n",
    "    list_to_return = []\n",
    "    if (amenities is not None and type(amenities) == str):            \n",
    "        list_to_return = list(map(lambda amenity : amenity.replace(\"\\\"\",\"\").replace(\"{\",\"\").replace(\"}\", \"\"), amenities.split(\",\")))\n",
    "    if '' in list_to_return:\n",
    "        list_to_return.remove('')\n",
    "    return list_to_return\n",
    "listings_cleaned[\"amenities_list\"] = listings_cleaned.apply(separate_amenities, axis=1)"
   ]
  },
  {
   "cell_type": "code",
   "execution_count": 0,
   "metadata": {
    "colab": {
     "base_uri": "https://localhost:8080/",
     "height": 272
    },
    "colab_type": "code",
    "id": "YHE5MnhryFlV",
    "outputId": "928f3789-9dba-40ab-d26e-8fd794645aa0"
   },
   "outputs": [
    {
     "data": {
      "text/plain": [
       "array(['TV', 'Wireless Internet', 'Kitchen', 'Free Parking on Premises',\n",
       "       'Pets live on this property', 'Dog(s)', 'Heating',\n",
       "       'Family/Kid Friendly', 'Washer', 'Dryer', 'Smoke Detector',\n",
       "       'Fire Extinguisher', 'Essentials', 'Shampoo',\n",
       "       'Laptop Friendly Workspace', 'Internet', 'Air Conditioning',\n",
       "       'Pets Allowed', 'Carbon Monoxide Detector', 'Lock on Bedroom Door',\n",
       "       'Hangers', 'Hair Dryer', 'Iron', 'Cable TV', 'First Aid Kit',\n",
       "       'Safety Card', 'translation missing: en.hosting_amenity_49',\n",
       "       'translation missing: en.hosting_amenity_50', 'Gym', 'Breakfast',\n",
       "       'Indoor Fireplace', 'Cat(s)', '24-Hour Check-in', 'Hot Tub',\n",
       "       'Buzzer/Wireless Intercom', 'Other pet(s)', 'Washer / Dryer',\n",
       "       'Smoking Allowed', 'Suitable for Events', 'Wheelchair Accessible',\n",
       "       'Elevator in Building', 'Pool', 'Doorman',\n",
       "       'Paid Parking Off Premises', 'Free Parking on Street'],\n",
       "      dtype=object)"
      ]
     },
     "execution_count": 17,
     "metadata": {
      "tags": []
     },
     "output_type": "execute_result"
    }
   ],
   "source": [
    "possible_amenities = listings_cleaned['amenities_list'].apply(pd.Series).stack().unique()\n",
    "possible_amenities"
   ]
  },
  {
   "cell_type": "code",
   "execution_count": 0,
   "metadata": {
    "colab": {},
    "colab_type": "code",
    "id": "bXSkJj4YyFlZ"
   },
   "outputs": [],
   "source": [
    "\"\"\"\n",
    "    Assigns new boolean attribute to the row based on the presence of that amenity in the list.\n",
    "    Returns updated row with additional attributes corresponding to the amenities added to it.\n",
    "    \n",
    "    INPUT:\n",
    "    - row containing attributes related to the property, including `amenities_list`\n",
    "    OUTPUT:\n",
    "    - row containing newly added boolean attributes indicating the presence of each possible type of amenity in the property\n",
    "\"\"\"\n",
    "def add_amenities_columns (row):\n",
    "    amenities = set(row.amenities_list)\n",
    "    for possible_amenity in possible_amenities:\n",
    "        row[\"amenity_\" + possible_amenity] = possible_amenity in amenities\n",
    "    return row\n",
    "\n",
    "listings_cleaned = listings_cleaned.apply(add_amenities_columns, axis=1)"
   ]
  },
  {
   "cell_type": "markdown",
   "metadata": {
    "colab_type": "text",
    "id": "bjrJ8WFnyFlc"
   },
   "source": [
    "### Identifying the activation date for each property listing"
   ]
  },
  {
   "cell_type": "code",
   "execution_count": 0,
   "metadata": {
    "colab": {
     "base_uri": "https://localhost:8080/",
     "height": 669
    },
    "colab_type": "code",
    "id": "iQ1UfXr4yFlc",
    "outputId": "1b39ba3d-a980-46a4-f74a-bdf0cc8ee664"
   },
   "outputs": [
    {
     "data": {
      "text/html": [
       "<div>\n",
       "<style scoped>\n",
       "    .dataframe tbody tr th:only-of-type {\n",
       "        vertical-align: middle;\n",
       "    }\n",
       "\n",
       "    .dataframe tbody tr th {\n",
       "        vertical-align: top;\n",
       "    }\n",
       "\n",
       "    .dataframe thead th {\n",
       "        text-align: right;\n",
       "    }\n",
       "</style>\n",
       "<table border=\"1\" class=\"dataframe\">\n",
       "  <thead>\n",
       "    <tr style=\"text-align: right;\">\n",
       "      <th></th>\n",
       "      <th>listing_id</th>\n",
       "      <th>date</th>\n",
       "      <th>available</th>\n",
       "      <th>price</th>\n",
       "    </tr>\n",
       "  </thead>\n",
       "  <tbody>\n",
       "    <tr>\n",
       "      <th>0</th>\n",
       "      <td>3353</td>\n",
       "      <td>2017-09-05</td>\n",
       "      <td>True</td>\n",
       "      <td>36.0</td>\n",
       "    </tr>\n",
       "    <tr>\n",
       "      <th>1</th>\n",
       "      <td>3353</td>\n",
       "      <td>2016-12-30</td>\n",
       "      <td>False</td>\n",
       "      <td>NaN</td>\n",
       "    </tr>\n",
       "    <tr>\n",
       "      <th>2</th>\n",
       "      <td>3353</td>\n",
       "      <td>2017-08-18</td>\n",
       "      <td>True</td>\n",
       "      <td>36.0</td>\n",
       "    </tr>\n",
       "    <tr>\n",
       "      <th>3</th>\n",
       "      <td>3353</td>\n",
       "      <td>2016-10-12</td>\n",
       "      <td>False</td>\n",
       "      <td>NaN</td>\n",
       "    </tr>\n",
       "    <tr>\n",
       "      <th>4</th>\n",
       "      <td>5506</td>\n",
       "      <td>2017-09-05</td>\n",
       "      <td>True</td>\n",
       "      <td>145.0</td>\n",
       "    </tr>\n",
       "    <tr>\n",
       "      <th>5</th>\n",
       "      <td>5506</td>\n",
       "      <td>2016-10-10</td>\n",
       "      <td>False</td>\n",
       "      <td>NaN</td>\n",
       "    </tr>\n",
       "    <tr>\n",
       "      <th>6</th>\n",
       "      <td>5506</td>\n",
       "      <td>2016-10-03</td>\n",
       "      <td>True</td>\n",
       "      <td>145.0</td>\n",
       "    </tr>\n",
       "    <tr>\n",
       "      <th>7</th>\n",
       "      <td>5506</td>\n",
       "      <td>2016-09-30</td>\n",
       "      <td>False</td>\n",
       "      <td>NaN</td>\n",
       "    </tr>\n",
       "    <tr>\n",
       "      <th>8</th>\n",
       "      <td>5506</td>\n",
       "      <td>2016-09-28</td>\n",
       "      <td>True</td>\n",
       "      <td>145.0</td>\n",
       "    </tr>\n",
       "    <tr>\n",
       "      <th>9</th>\n",
       "      <td>5506</td>\n",
       "      <td>2016-09-25</td>\n",
       "      <td>False</td>\n",
       "      <td>NaN</td>\n",
       "    </tr>\n",
       "    <tr>\n",
       "      <th>10</th>\n",
       "      <td>5506</td>\n",
       "      <td>2016-09-22</td>\n",
       "      <td>True</td>\n",
       "      <td>145.0</td>\n",
       "    </tr>\n",
       "    <tr>\n",
       "      <th>11</th>\n",
       "      <td>5506</td>\n",
       "      <td>2016-09-21</td>\n",
       "      <td>False</td>\n",
       "      <td>NaN</td>\n",
       "    </tr>\n",
       "    <tr>\n",
       "      <th>12</th>\n",
       "      <td>5506</td>\n",
       "      <td>2016-09-19</td>\n",
       "      <td>True</td>\n",
       "      <td>145.0</td>\n",
       "    </tr>\n",
       "    <tr>\n",
       "      <th>13</th>\n",
       "      <td>5506</td>\n",
       "      <td>2016-09-18</td>\n",
       "      <td>False</td>\n",
       "      <td>NaN</td>\n",
       "    </tr>\n",
       "    <tr>\n",
       "      <th>14</th>\n",
       "      <td>5506</td>\n",
       "      <td>2016-09-15</td>\n",
       "      <td>True</td>\n",
       "      <td>145.0</td>\n",
       "    </tr>\n",
       "    <tr>\n",
       "      <th>15</th>\n",
       "      <td>5506</td>\n",
       "      <td>2016-09-12</td>\n",
       "      <td>False</td>\n",
       "      <td>NaN</td>\n",
       "    </tr>\n",
       "    <tr>\n",
       "      <th>16</th>\n",
       "      <td>5506</td>\n",
       "      <td>2016-09-08</td>\n",
       "      <td>True</td>\n",
       "      <td>145.0</td>\n",
       "    </tr>\n",
       "    <tr>\n",
       "      <th>17</th>\n",
       "      <td>6695</td>\n",
       "      <td>2017-09-05</td>\n",
       "      <td>True</td>\n",
       "      <td>195.0</td>\n",
       "    </tr>\n",
       "    <tr>\n",
       "      <th>18</th>\n",
       "      <td>6695</td>\n",
       "      <td>2016-10-24</td>\n",
       "      <td>False</td>\n",
       "      <td>NaN</td>\n",
       "    </tr>\n",
       "    <tr>\n",
       "      <th>19</th>\n",
       "      <td>6695</td>\n",
       "      <td>2016-10-19</td>\n",
       "      <td>True</td>\n",
       "      <td>195.0</td>\n",
       "    </tr>\n",
       "  </tbody>\n",
       "</table>\n",
       "</div>"
      ],
      "text/plain": [
       "    listing_id       date  available  price\n",
       "0         3353 2017-09-05       True   36.0\n",
       "1         3353 2016-12-30      False    NaN\n",
       "2         3353 2017-08-18       True   36.0\n",
       "3         3353 2016-10-12      False    NaN\n",
       "4         5506 2017-09-05       True  145.0\n",
       "5         5506 2016-10-10      False    NaN\n",
       "6         5506 2016-10-03       True  145.0\n",
       "7         5506 2016-09-30      False    NaN\n",
       "8         5506 2016-09-28       True  145.0\n",
       "9         5506 2016-09-25      False    NaN\n",
       "10        5506 2016-09-22       True  145.0\n",
       "11        5506 2016-09-21      False    NaN\n",
       "12        5506 2016-09-19       True  145.0\n",
       "13        5506 2016-09-18      False    NaN\n",
       "14        5506 2016-09-15       True  145.0\n",
       "15        5506 2016-09-12      False    NaN\n",
       "16        5506 2016-09-08       True  145.0\n",
       "17        6695 2017-09-05       True  195.0\n",
       "18        6695 2016-10-24      False    NaN\n",
       "19        6695 2016-10-19       True  195.0"
      ]
     },
     "execution_count": 19,
     "metadata": {
      "tags": []
     },
     "output_type": "execute_result"
    }
   ],
   "source": [
    "df = calendar_cleaned\n",
    "df = df.groupby('listing_id', group_keys=False)\\\n",
    "    .apply(lambda x: x[x.available.ne(x.available.shift())])\\\n",
    "    .reset_index(drop=True)\n",
    "df.head(20)"
   ]
  },
  {
   "cell_type": "code",
   "execution_count": 0,
   "metadata": {
    "colab": {},
    "colab_type": "code",
    "id": "-BIrFIUkyFlf"
   },
   "outputs": [],
   "source": [
    "listing_activation_dates = df[df.available == True].groupby(\"listing_id\")[[\"listing_id\",\"date\"]].min()"
   ]
  },
  {
   "cell_type": "code",
   "execution_count": 0,
   "metadata": {
    "colab": {
     "base_uri": "https://localhost:8080/",
     "height": 235
    },
    "colab_type": "code",
    "id": "pX3yGGkdyFli",
    "outputId": "0aecd336-de1e-4869-ed14-52c273ab2e52"
   },
   "outputs": [
    {
     "data": {
      "text/html": [
       "<div>\n",
       "<style scoped>\n",
       "    .dataframe tbody tr th:only-of-type {\n",
       "        vertical-align: middle;\n",
       "    }\n",
       "\n",
       "    .dataframe tbody tr th {\n",
       "        vertical-align: top;\n",
       "    }\n",
       "\n",
       "    .dataframe thead th {\n",
       "        text-align: right;\n",
       "    }\n",
       "</style>\n",
       "<table border=\"1\" class=\"dataframe\">\n",
       "  <thead>\n",
       "    <tr style=\"text-align: right;\">\n",
       "      <th></th>\n",
       "      <th>listing_id</th>\n",
       "      <th>date</th>\n",
       "    </tr>\n",
       "    <tr>\n",
       "      <th>listing_id</th>\n",
       "      <th></th>\n",
       "      <th></th>\n",
       "    </tr>\n",
       "  </thead>\n",
       "  <tbody>\n",
       "    <tr>\n",
       "      <th>530983</th>\n",
       "      <td>530983</td>\n",
       "      <td>2016-09-06</td>\n",
       "    </tr>\n",
       "    <tr>\n",
       "      <th>815639</th>\n",
       "      <td>815639</td>\n",
       "      <td>2016-09-06</td>\n",
       "    </tr>\n",
       "    <tr>\n",
       "      <th>12726343</th>\n",
       "      <td>12726343</td>\n",
       "      <td>2016-09-06</td>\n",
       "    </tr>\n",
       "    <tr>\n",
       "      <th>2776391</th>\n",
       "      <td>2776391</td>\n",
       "      <td>2016-09-06</td>\n",
       "    </tr>\n",
       "    <tr>\n",
       "      <th>10524612</th>\n",
       "      <td>10524612</td>\n",
       "      <td>2016-09-06</td>\n",
       "    </tr>\n",
       "  </tbody>\n",
       "</table>\n",
       "</div>"
      ],
      "text/plain": [
       "            listing_id       date\n",
       "listing_id                       \n",
       "530983          530983 2016-09-06\n",
       "815639          815639 2016-09-06\n",
       "12726343      12726343 2016-09-06\n",
       "2776391        2776391 2016-09-06\n",
       "10524612      10524612 2016-09-06"
      ]
     },
     "execution_count": 21,
     "metadata": {
      "tags": []
     },
     "output_type": "execute_result"
    }
   ],
   "source": [
    "listing_activation_dates.sort_values(by=[\"date\"]).head()"
   ]
  },
  {
   "cell_type": "markdown",
   "metadata": {
    "colab_type": "text",
    "id": "ft6E_fCEyFls"
   },
   "source": [
    "### Only retaining entries in calendar for each property after its activation date"
   ]
  },
  {
   "cell_type": "code",
   "execution_count": 0,
   "metadata": {
    "colab": {},
    "colab_type": "code",
    "id": "9t9Cw9xVyFlt"
   },
   "outputs": [],
   "source": [
    "cal_by_listing_groups = calendar_cleaned.groupby([\"listing_id\"])"
   ]
  },
  {
   "cell_type": "code",
   "execution_count": 0,
   "metadata": {
    "colab": {
     "base_uri": "https://localhost:8080/",
     "height": 1000
    },
    "colab_type": "code",
    "id": "-Q3DS-JHyFly",
    "outputId": "32d7d293-39c3-4809-c2e0-fe35c728608f"
   },
   "outputs": [
    {
     "data": {
      "text/html": [
       "<div>\n",
       "<style scoped>\n",
       "    .dataframe tbody tr th:only-of-type {\n",
       "        vertical-align: middle;\n",
       "    }\n",
       "\n",
       "    .dataframe tbody tr th {\n",
       "        vertical-align: top;\n",
       "    }\n",
       "\n",
       "    .dataframe thead th {\n",
       "        text-align: right;\n",
       "    }\n",
       "</style>\n",
       "<table border=\"1\" class=\"dataframe\">\n",
       "  <thead>\n",
       "    <tr style=\"text-align: right;\">\n",
       "      <th></th>\n",
       "      <th>listing_id</th>\n",
       "      <th>date</th>\n",
       "      <th>available</th>\n",
       "      <th>price</th>\n",
       "    </tr>\n",
       "  </thead>\n",
       "  <tbody>\n",
       "    <tr>\n",
       "      <th>0</th>\n",
       "      <td>12147973</td>\n",
       "      <td>2017-09-05</td>\n",
       "      <td>False</td>\n",
       "      <td>NaN</td>\n",
       "    </tr>\n",
       "    <tr>\n",
       "      <th>1</th>\n",
       "      <td>12147973</td>\n",
       "      <td>2017-09-04</td>\n",
       "      <td>False</td>\n",
       "      <td>NaN</td>\n",
       "    </tr>\n",
       "    <tr>\n",
       "      <th>2</th>\n",
       "      <td>12147973</td>\n",
       "      <td>2017-09-03</td>\n",
       "      <td>False</td>\n",
       "      <td>NaN</td>\n",
       "    </tr>\n",
       "    <tr>\n",
       "      <th>3</th>\n",
       "      <td>12147973</td>\n",
       "      <td>2017-09-02</td>\n",
       "      <td>False</td>\n",
       "      <td>NaN</td>\n",
       "    </tr>\n",
       "    <tr>\n",
       "      <th>4</th>\n",
       "      <td>12147973</td>\n",
       "      <td>2017-09-01</td>\n",
       "      <td>False</td>\n",
       "      <td>NaN</td>\n",
       "    </tr>\n",
       "    <tr>\n",
       "      <th>365</th>\n",
       "      <td>3075044</td>\n",
       "      <td>2017-08-22</td>\n",
       "      <td>True</td>\n",
       "      <td>65.0</td>\n",
       "    </tr>\n",
       "    <tr>\n",
       "      <th>366</th>\n",
       "      <td>3075044</td>\n",
       "      <td>2017-08-21</td>\n",
       "      <td>True</td>\n",
       "      <td>65.0</td>\n",
       "    </tr>\n",
       "    <tr>\n",
       "      <th>367</th>\n",
       "      <td>3075044</td>\n",
       "      <td>2017-08-20</td>\n",
       "      <td>True</td>\n",
       "      <td>65.0</td>\n",
       "    </tr>\n",
       "    <tr>\n",
       "      <th>368</th>\n",
       "      <td>3075044</td>\n",
       "      <td>2017-08-19</td>\n",
       "      <td>True</td>\n",
       "      <td>75.0</td>\n",
       "    </tr>\n",
       "    <tr>\n",
       "      <th>369</th>\n",
       "      <td>3075044</td>\n",
       "      <td>2017-08-18</td>\n",
       "      <td>True</td>\n",
       "      <td>75.0</td>\n",
       "    </tr>\n",
       "    <tr>\n",
       "      <th>730</th>\n",
       "      <td>6976</td>\n",
       "      <td>2017-05-12</td>\n",
       "      <td>True</td>\n",
       "      <td>65.0</td>\n",
       "    </tr>\n",
       "    <tr>\n",
       "      <th>731</th>\n",
       "      <td>6976</td>\n",
       "      <td>2017-05-11</td>\n",
       "      <td>True</td>\n",
       "      <td>65.0</td>\n",
       "    </tr>\n",
       "    <tr>\n",
       "      <th>732</th>\n",
       "      <td>6976</td>\n",
       "      <td>2017-05-10</td>\n",
       "      <td>True</td>\n",
       "      <td>65.0</td>\n",
       "    </tr>\n",
       "    <tr>\n",
       "      <th>733</th>\n",
       "      <td>6976</td>\n",
       "      <td>2017-05-09</td>\n",
       "      <td>True</td>\n",
       "      <td>65.0</td>\n",
       "    </tr>\n",
       "    <tr>\n",
       "      <th>734</th>\n",
       "      <td>6976</td>\n",
       "      <td>2017-05-08</td>\n",
       "      <td>True</td>\n",
       "      <td>65.0</td>\n",
       "    </tr>\n",
       "    <tr>\n",
       "      <th>1095</th>\n",
       "      <td>1436513</td>\n",
       "      <td>2017-05-10</td>\n",
       "      <td>False</td>\n",
       "      <td>NaN</td>\n",
       "    </tr>\n",
       "    <tr>\n",
       "      <th>1096</th>\n",
       "      <td>1436513</td>\n",
       "      <td>2017-05-09</td>\n",
       "      <td>False</td>\n",
       "      <td>NaN</td>\n",
       "    </tr>\n",
       "    <tr>\n",
       "      <th>1097</th>\n",
       "      <td>1436513</td>\n",
       "      <td>2017-05-08</td>\n",
       "      <td>False</td>\n",
       "      <td>NaN</td>\n",
       "    </tr>\n",
       "    <tr>\n",
       "      <th>1098</th>\n",
       "      <td>1436513</td>\n",
       "      <td>2017-05-07</td>\n",
       "      <td>True</td>\n",
       "      <td>75.0</td>\n",
       "    </tr>\n",
       "    <tr>\n",
       "      <th>1099</th>\n",
       "      <td>1436513</td>\n",
       "      <td>2017-05-06</td>\n",
       "      <td>True</td>\n",
       "      <td>75.0</td>\n",
       "    </tr>\n",
       "    <tr>\n",
       "      <th>1460</th>\n",
       "      <td>7651065</td>\n",
       "      <td>2017-06-21</td>\n",
       "      <td>True</td>\n",
       "      <td>79.0</td>\n",
       "    </tr>\n",
       "    <tr>\n",
       "      <th>1461</th>\n",
       "      <td>7651065</td>\n",
       "      <td>2017-06-20</td>\n",
       "      <td>True</td>\n",
       "      <td>79.0</td>\n",
       "    </tr>\n",
       "    <tr>\n",
       "      <th>1462</th>\n",
       "      <td>7651065</td>\n",
       "      <td>2017-06-19</td>\n",
       "      <td>True</td>\n",
       "      <td>79.0</td>\n",
       "    </tr>\n",
       "    <tr>\n",
       "      <th>1463</th>\n",
       "      <td>7651065</td>\n",
       "      <td>2017-06-18</td>\n",
       "      <td>True</td>\n",
       "      <td>79.0</td>\n",
       "    </tr>\n",
       "    <tr>\n",
       "      <th>1464</th>\n",
       "      <td>7651065</td>\n",
       "      <td>2017-06-17</td>\n",
       "      <td>True</td>\n",
       "      <td>79.0</td>\n",
       "    </tr>\n",
       "    <tr>\n",
       "      <th>1825</th>\n",
       "      <td>12386020</td>\n",
       "      <td>2017-04-25</td>\n",
       "      <td>False</td>\n",
       "      <td>NaN</td>\n",
       "    </tr>\n",
       "    <tr>\n",
       "      <th>1826</th>\n",
       "      <td>12386020</td>\n",
       "      <td>2017-04-24</td>\n",
       "      <td>False</td>\n",
       "      <td>NaN</td>\n",
       "    </tr>\n",
       "    <tr>\n",
       "      <th>1827</th>\n",
       "      <td>12386020</td>\n",
       "      <td>2017-04-23</td>\n",
       "      <td>False</td>\n",
       "      <td>NaN</td>\n",
       "    </tr>\n",
       "    <tr>\n",
       "      <th>1828</th>\n",
       "      <td>12386020</td>\n",
       "      <td>2017-04-22</td>\n",
       "      <td>False</td>\n",
       "      <td>NaN</td>\n",
       "    </tr>\n",
       "    <tr>\n",
       "      <th>1829</th>\n",
       "      <td>12386020</td>\n",
       "      <td>2017-04-21</td>\n",
       "      <td>False</td>\n",
       "      <td>NaN</td>\n",
       "    </tr>\n",
       "    <tr>\n",
       "      <th>...</th>\n",
       "      <td>...</td>\n",
       "      <td>...</td>\n",
       "      <td>...</td>\n",
       "      <td>...</td>\n",
       "    </tr>\n",
       "    <tr>\n",
       "      <th>1306700</th>\n",
       "      <td>14852179</td>\n",
       "      <td>2017-08-20</td>\n",
       "      <td>False</td>\n",
       "      <td>NaN</td>\n",
       "    </tr>\n",
       "    <tr>\n",
       "      <th>1306701</th>\n",
       "      <td>14852179</td>\n",
       "      <td>2017-08-19</td>\n",
       "      <td>False</td>\n",
       "      <td>NaN</td>\n",
       "    </tr>\n",
       "    <tr>\n",
       "      <th>1306702</th>\n",
       "      <td>14852179</td>\n",
       "      <td>2017-08-18</td>\n",
       "      <td>False</td>\n",
       "      <td>NaN</td>\n",
       "    </tr>\n",
       "    <tr>\n",
       "      <th>1306703</th>\n",
       "      <td>14852179</td>\n",
       "      <td>2017-08-17</td>\n",
       "      <td>False</td>\n",
       "      <td>NaN</td>\n",
       "    </tr>\n",
       "    <tr>\n",
       "      <th>1306704</th>\n",
       "      <td>14852179</td>\n",
       "      <td>2017-08-16</td>\n",
       "      <td>False</td>\n",
       "      <td>NaN</td>\n",
       "    </tr>\n",
       "    <tr>\n",
       "      <th>1307065</th>\n",
       "      <td>8373729</td>\n",
       "      <td>2017-05-18</td>\n",
       "      <td>True</td>\n",
       "      <td>69.0</td>\n",
       "    </tr>\n",
       "    <tr>\n",
       "      <th>1307066</th>\n",
       "      <td>8373729</td>\n",
       "      <td>2017-05-17</td>\n",
       "      <td>True</td>\n",
       "      <td>69.0</td>\n",
       "    </tr>\n",
       "    <tr>\n",
       "      <th>1307067</th>\n",
       "      <td>8373729</td>\n",
       "      <td>2017-05-16</td>\n",
       "      <td>True</td>\n",
       "      <td>69.0</td>\n",
       "    </tr>\n",
       "    <tr>\n",
       "      <th>1307068</th>\n",
       "      <td>8373729</td>\n",
       "      <td>2017-05-15</td>\n",
       "      <td>True</td>\n",
       "      <td>69.0</td>\n",
       "    </tr>\n",
       "    <tr>\n",
       "      <th>1307069</th>\n",
       "      <td>8373729</td>\n",
       "      <td>2017-05-14</td>\n",
       "      <td>True</td>\n",
       "      <td>69.0</td>\n",
       "    </tr>\n",
       "    <tr>\n",
       "      <th>1307430</th>\n",
       "      <td>14844274</td>\n",
       "      <td>2017-06-22</td>\n",
       "      <td>True</td>\n",
       "      <td>150.0</td>\n",
       "    </tr>\n",
       "    <tr>\n",
       "      <th>1307431</th>\n",
       "      <td>14844274</td>\n",
       "      <td>2017-06-21</td>\n",
       "      <td>True</td>\n",
       "      <td>150.0</td>\n",
       "    </tr>\n",
       "    <tr>\n",
       "      <th>1307432</th>\n",
       "      <td>14844274</td>\n",
       "      <td>2017-06-20</td>\n",
       "      <td>True</td>\n",
       "      <td>150.0</td>\n",
       "    </tr>\n",
       "    <tr>\n",
       "      <th>1307433</th>\n",
       "      <td>14844274</td>\n",
       "      <td>2017-06-19</td>\n",
       "      <td>True</td>\n",
       "      <td>150.0</td>\n",
       "    </tr>\n",
       "    <tr>\n",
       "      <th>1307434</th>\n",
       "      <td>14844274</td>\n",
       "      <td>2017-06-18</td>\n",
       "      <td>True</td>\n",
       "      <td>150.0</td>\n",
       "    </tr>\n",
       "    <tr>\n",
       "      <th>1307795</th>\n",
       "      <td>14585486</td>\n",
       "      <td>2017-09-05</td>\n",
       "      <td>False</td>\n",
       "      <td>NaN</td>\n",
       "    </tr>\n",
       "    <tr>\n",
       "      <th>1307796</th>\n",
       "      <td>14585486</td>\n",
       "      <td>2017-09-04</td>\n",
       "      <td>False</td>\n",
       "      <td>NaN</td>\n",
       "    </tr>\n",
       "    <tr>\n",
       "      <th>1307797</th>\n",
       "      <td>14585486</td>\n",
       "      <td>2017-09-03</td>\n",
       "      <td>False</td>\n",
       "      <td>NaN</td>\n",
       "    </tr>\n",
       "    <tr>\n",
       "      <th>1307798</th>\n",
       "      <td>14585486</td>\n",
       "      <td>2017-09-02</td>\n",
       "      <td>False</td>\n",
       "      <td>NaN</td>\n",
       "    </tr>\n",
       "    <tr>\n",
       "      <th>1307799</th>\n",
       "      <td>14585486</td>\n",
       "      <td>2017-09-01</td>\n",
       "      <td>False</td>\n",
       "      <td>NaN</td>\n",
       "    </tr>\n",
       "    <tr>\n",
       "      <th>1308160</th>\n",
       "      <td>14603878</td>\n",
       "      <td>2017-09-05</td>\n",
       "      <td>True</td>\n",
       "      <td>59.0</td>\n",
       "    </tr>\n",
       "    <tr>\n",
       "      <th>1308161</th>\n",
       "      <td>14603878</td>\n",
       "      <td>2017-09-04</td>\n",
       "      <td>True</td>\n",
       "      <td>59.0</td>\n",
       "    </tr>\n",
       "    <tr>\n",
       "      <th>1308162</th>\n",
       "      <td>14603878</td>\n",
       "      <td>2017-09-03</td>\n",
       "      <td>True</td>\n",
       "      <td>59.0</td>\n",
       "    </tr>\n",
       "    <tr>\n",
       "      <th>1308163</th>\n",
       "      <td>14603878</td>\n",
       "      <td>2017-09-02</td>\n",
       "      <td>True</td>\n",
       "      <td>59.0</td>\n",
       "    </tr>\n",
       "    <tr>\n",
       "      <th>1308164</th>\n",
       "      <td>14603878</td>\n",
       "      <td>2017-09-01</td>\n",
       "      <td>True</td>\n",
       "      <td>59.0</td>\n",
       "    </tr>\n",
       "    <tr>\n",
       "      <th>1308525</th>\n",
       "      <td>14504422</td>\n",
       "      <td>2017-06-21</td>\n",
       "      <td>False</td>\n",
       "      <td>NaN</td>\n",
       "    </tr>\n",
       "    <tr>\n",
       "      <th>1308526</th>\n",
       "      <td>14504422</td>\n",
       "      <td>2017-06-20</td>\n",
       "      <td>False</td>\n",
       "      <td>NaN</td>\n",
       "    </tr>\n",
       "    <tr>\n",
       "      <th>1308527</th>\n",
       "      <td>14504422</td>\n",
       "      <td>2017-06-19</td>\n",
       "      <td>False</td>\n",
       "      <td>NaN</td>\n",
       "    </tr>\n",
       "    <tr>\n",
       "      <th>1308528</th>\n",
       "      <td>14504422</td>\n",
       "      <td>2017-06-18</td>\n",
       "      <td>False</td>\n",
       "      <td>NaN</td>\n",
       "    </tr>\n",
       "    <tr>\n",
       "      <th>1308529</th>\n",
       "      <td>14504422</td>\n",
       "      <td>2017-06-17</td>\n",
       "      <td>False</td>\n",
       "      <td>NaN</td>\n",
       "    </tr>\n",
       "  </tbody>\n",
       "</table>\n",
       "<p>17925 rows × 4 columns</p>\n",
       "</div>"
      ],
      "text/plain": [
       "         listing_id       date  available  price\n",
       "0          12147973 2017-09-05      False    NaN\n",
       "1          12147973 2017-09-04      False    NaN\n",
       "2          12147973 2017-09-03      False    NaN\n",
       "3          12147973 2017-09-02      False    NaN\n",
       "4          12147973 2017-09-01      False    NaN\n",
       "365         3075044 2017-08-22       True   65.0\n",
       "366         3075044 2017-08-21       True   65.0\n",
       "367         3075044 2017-08-20       True   65.0\n",
       "368         3075044 2017-08-19       True   75.0\n",
       "369         3075044 2017-08-18       True   75.0\n",
       "730            6976 2017-05-12       True   65.0\n",
       "731            6976 2017-05-11       True   65.0\n",
       "732            6976 2017-05-10       True   65.0\n",
       "733            6976 2017-05-09       True   65.0\n",
       "734            6976 2017-05-08       True   65.0\n",
       "1095        1436513 2017-05-10      False    NaN\n",
       "1096        1436513 2017-05-09      False    NaN\n",
       "1097        1436513 2017-05-08      False    NaN\n",
       "1098        1436513 2017-05-07       True   75.0\n",
       "1099        1436513 2017-05-06       True   75.0\n",
       "1460        7651065 2017-06-21       True   79.0\n",
       "1461        7651065 2017-06-20       True   79.0\n",
       "1462        7651065 2017-06-19       True   79.0\n",
       "1463        7651065 2017-06-18       True   79.0\n",
       "1464        7651065 2017-06-17       True   79.0\n",
       "1825       12386020 2017-04-25      False    NaN\n",
       "1826       12386020 2017-04-24      False    NaN\n",
       "1827       12386020 2017-04-23      False    NaN\n",
       "1828       12386020 2017-04-22      False    NaN\n",
       "1829       12386020 2017-04-21      False    NaN\n",
       "...             ...        ...        ...    ...\n",
       "1306700    14852179 2017-08-20      False    NaN\n",
       "1306701    14852179 2017-08-19      False    NaN\n",
       "1306702    14852179 2017-08-18      False    NaN\n",
       "1306703    14852179 2017-08-17      False    NaN\n",
       "1306704    14852179 2017-08-16      False    NaN\n",
       "1307065     8373729 2017-05-18       True   69.0\n",
       "1307066     8373729 2017-05-17       True   69.0\n",
       "1307067     8373729 2017-05-16       True   69.0\n",
       "1307068     8373729 2017-05-15       True   69.0\n",
       "1307069     8373729 2017-05-14       True   69.0\n",
       "1307430    14844274 2017-06-22       True  150.0\n",
       "1307431    14844274 2017-06-21       True  150.0\n",
       "1307432    14844274 2017-06-20       True  150.0\n",
       "1307433    14844274 2017-06-19       True  150.0\n",
       "1307434    14844274 2017-06-18       True  150.0\n",
       "1307795    14585486 2017-09-05      False    NaN\n",
       "1307796    14585486 2017-09-04      False    NaN\n",
       "1307797    14585486 2017-09-03      False    NaN\n",
       "1307798    14585486 2017-09-02      False    NaN\n",
       "1307799    14585486 2017-09-01      False    NaN\n",
       "1308160    14603878 2017-09-05       True   59.0\n",
       "1308161    14603878 2017-09-04       True   59.0\n",
       "1308162    14603878 2017-09-03       True   59.0\n",
       "1308163    14603878 2017-09-02       True   59.0\n",
       "1308164    14603878 2017-09-01       True   59.0\n",
       "1308525    14504422 2017-06-21      False    NaN\n",
       "1308526    14504422 2017-06-20      False    NaN\n",
       "1308527    14504422 2017-06-19      False    NaN\n",
       "1308528    14504422 2017-06-18      False    NaN\n",
       "1308529    14504422 2017-06-17      False    NaN\n",
       "\n",
       "[17925 rows x 4 columns]"
      ]
     },
     "execution_count": 23,
     "metadata": {
      "tags": []
     },
     "output_type": "execute_result"
    }
   ],
   "source": [
    "cal_by_listing_groups.head()"
   ]
  },
  {
   "cell_type": "code",
   "execution_count": 0,
   "metadata": {
    "colab": {},
    "colab_type": "code",
    "id": "-cjl8Nf-yFl2"
   },
   "outputs": [],
   "source": [
    "def select_entries_after_activation_date(g):\n",
    "\n",
    "    listing_id = g.name\n",
    "    activation_date_df = listing_activation_dates.query(\"listing_id == @listing_id\")[\"date\"]\n",
    "    if activation_date_df.shape[0] > 0:        \n",
    "        activation_date = activation_date_df.iloc[0]\n",
    "#         print(\"activatation_date: \" + str(activation_date))\n",
    "#         print(g[\"date\"].dtype)\n",
    "#         print(type(activation_date))\n",
    "        return g[g[\"date\"] <= activation_date]\n",
    "    \n",
    "    \n",
    "cal_after_activation_dates =cal_by_listing_groups.apply(select_entries_after_activation_date)"
   ]
  },
  {
   "cell_type": "markdown",
   "metadata": {
    "colab_type": "text",
    "id": "tQqPxkspyFl5"
   },
   "source": [
    "### Select and add necessary variables to be used for predicting occupancy of property at given time of the year"
   ]
  },
  {
   "cell_type": "code",
   "execution_count": 0,
   "metadata": {
    "colab": {},
    "colab_type": "code",
    "id": "JZn6nZ1kyFl6"
   },
   "outputs": [],
   "source": [
    "input_vars_from_listings = [\"neighbourhood_cleansed\", \n",
    "#                 \"neighbourhood_group_cleansed\",\n",
    "                \"city\",\n",
    "                \"state\",\n",
    "                \"zipcode\",\n",
    "                \"market\",\n",
    "                \"location_categorical\",\n",
    "                \"property_type\",\n",
    "                \"room_type\",\n",
    "                \"accommodates\",\n",
    "                \"bathrooms\",\n",
    "                \"bedrooms\",\n",
    "                \"beds\",\n",
    "                \"bed_type\",\n",
    "                \"square_feet\",\n",
    "                \"guests_included\",\n",
    "                \"minimum_nights\",\n",
    "                \"maximum_nights\",\n",
    "                \"review_scores_rating\",\n",
    "                \"review_scores_accuracy\",\n",
    "                  \"review_scores_cleanliness\",\n",
    "                  \"review_scores_checkin\",\n",
    "                  \"review_scores_communication\",\n",
    "                  \"review_scores_location\",\n",
    "                  \"review_scores_value\",\n",
    "#                   \"jurisdiction_names\",\n",
    "                  \"cancellation_policy\",\n",
    "#                   \"reviews_per_month\",\n",
    "                  \"number_of_reviews\"\n",
    "       ]\n",
    "amenity_variables = list(map(lambda amenity : \"amenity_\" + amenity, possible_amenities))\n",
    "input_vars_from_listings.extend(amenity_variables)\n"
   ]
  },
  {
   "cell_type": "code",
   "execution_count": 0,
   "metadata": {
    "colab": {},
    "colab_type": "code",
    "id": "bAlY2dhNyFl8"
   },
   "outputs": [],
   "source": [
    "avg_price_by_date = calendar_cleaned.groupby(\"date\")[[\"date\", \"price\"]].agg([\"mean\"])"
   ]
  },
  {
   "cell_type": "code",
   "execution_count": 0,
   "metadata": {
    "colab": {
     "base_uri": "https://localhost:8080/",
     "height": 350
    },
    "colab_type": "code",
    "id": "nHvyPFO7yFl_",
    "outputId": "8262593a-eb59-420f-de69-7a9db207b352"
   },
   "outputs": [
    {
     "data": {
      "image/png": "[encoded data removed]",
      "text/plain": [
       "<Figure size 864x360 with 1 Axes>"
      ]
     },
     "metadata": {
      "needs_background": "light",
      "tags": []
     },
     "output_type": "display_data"
    }
   ],
   "source": [
    "prices_2016_17 = avg_price_by_date[avg_price_by_date.index >= calendar_cleaned[\"date\"].min()][avg_price_by_date.index <= calendar_cleaned[\"date\"].max()]\n",
    "dates = prices_2016_17.index\n",
    "months = mdates.MonthLocator()\n",
    "month_format = mdates.DateFormatter(\"%b\")\n",
    "fig, ax = plt.subplots()\n",
    "fig.set_size_inches(12,5)\n",
    "ax.plot(dates, prices_2016_17)\n",
    "ax.xaxis.set_major_locator(months)\n",
    "ax.xaxis.set_major_formatter(month_format)\n",
    "yticks = ax.get_yticks()\n",
    "# ax.set_yticklabels(['{}%'.format(y) for y in yticks])\n",
    "ax.set_xlabel(\"Month in 2016-17\")\n",
    "ax.set_ylabel(\"Average booking price in $ of property per night\")\n",
    "ax.set_title(\"Average booking price of properties listed on Airbnb in Boston in 2016-17\")\n",
    "plt.show()\n",
    "fig.savefig(project_dir + \"/images/average_booking_price_boston_2016_2017.png\")"
   ]
  },
  {
   "cell_type": "code",
   "execution_count": 0,
   "metadata": {
    "colab": {
     "base_uri": "https://localhost:8080/",
     "height": 350
    },
    "colab_type": "code",
    "id": "_j7Rm21eyFmC",
    "outputId": "b84e2ac5-f12e-473c-c790-984b69880ceb"
   },
   "outputs": [
    {
     "data": {
      "image/png": "[encoded data removed]",
      "text/plain": [
       "<Figure size 1008x360 with 1 Axes>"
      ]
     },
     "metadata": {
      "needs_background": "light",
      "tags": []
     },
     "output_type": "display_data"
    }
   ],
   "source": [
    "prices_in_summer = avg_price_by_date.loc[pd.date_range('2017-05-01', '2017-05-31')]\n",
    "dates = prices_in_summer.index\n",
    "days = mdates.DayLocator()\n",
    "day_format = mdates.DateFormatter(\"%a\")\n",
    "fig, ax = plt.subplots()\n",
    "fig.set_size_inches(14,5)\n",
    "ax.plot(dates, prices_in_summer)\n",
    "ax.xaxis.set_major_locator(days)\n",
    "ax.xaxis.set_major_formatter(day_format)\n",
    "yticks = ax.get_yticks()\n",
    "ax.set_xlabel(\"Day in May 2017\")\n",
    "ax.set_ylabel(\"Average booking price in $ of property per night\")\n",
    "ax.set_title(\"Average booking price of properties listed on Airbnb in Boston in May 2017\")\n",
    "plt.show()\n",
    "fig.savefig(project_dir + \"/images/average_booking_price_boston_may_2017.png\")"
   ]
  },
  {
   "cell_type": "code",
   "execution_count": 0,
   "metadata": {
    "colab": {},
    "colab_type": "code",
    "id": "A6mCFrGbyFmE"
   },
   "outputs": [],
   "source": [
    "calendar_cleaned[\"month\"] = calendar_cleaned['date'].dt.month_name()"
   ]
  },
  {
   "cell_type": "code",
   "execution_count": 0,
   "metadata": {
    "colab": {},
    "colab_type": "code",
    "id": "hrqcGHh0U2nC"
   },
   "outputs": [],
   "source": [
    "calendar_cleaned[\"year\"] = calendar_cleaned['date'].dt.year.astype(str)"
   ]
  },
  {
   "cell_type": "code",
   "execution_count": 0,
   "metadata": {
    "colab": {},
    "colab_type": "code",
    "id": "-74JZiZ4yFmG"
   },
   "outputs": [],
   "source": [
    "calendar_cleaned[\"day_of_week\"] = calendar_cleaned['date'].dt.weekday_name"
   ]
  },
  {
   "cell_type": "code",
   "execution_count": 0,
   "metadata": {
    "colab": {},
    "colab_type": "code",
    "id": "rLrwU2ESyFmK"
   },
   "outputs": [],
   "source": [
    "calendar_cleaned[\"week_of_month\"] = np.ceil(calendar_cleaned['date'].dt.day/7).astype(int).astype(str)"
   ]
  },
  {
   "cell_type": "code",
   "execution_count": 0,
   "metadata": {
    "colab": {
     "base_uri": "https://localhost:8080/",
     "height": 34
    },
    "colab_type": "code",
    "id": "f5dyd-aJyFmO",
    "outputId": "61c283ce-094e-49f3-e70f-c6ef5a97fc04"
   },
   "outputs": [
    {
     "data": {
      "text/plain": [
       "array(['1', '5', '4', '3', '2'], dtype=object)"
      ]
     },
     "execution_count": 33,
     "metadata": {
      "tags": []
     },
     "output_type": "execute_result"
    }
   ],
   "source": [
    "calendar_cleaned[\"week_of_month\"].unique()"
   ]
  },
  {
   "cell_type": "code",
   "execution_count": 0,
   "metadata": {
    "colab": {},
    "colab_type": "code",
    "id": "NdkCljl2yFmQ"
   },
   "outputs": [],
   "source": [
    "df = pd.merge(listings_cleaned, calendar_cleaned, left_on=\"id\", right_on=\"listing_id\", how=\"inner\", suffixes=(\"_listings\", \"_calendar\"))"
   ]
  },
  {
   "cell_type": "code",
   "execution_count": 0,
   "metadata": {
    "colab": {},
    "colab_type": "code",
    "id": "iRFCrz2xyFmT"
   },
   "outputs": [],
   "source": [
    "# This one consumes too much memory and time, but it can give more accurate price estimates for fulling missing values\n",
    "# g = df.groupby([\"listing_id\", \"month\", \"day_of_week\"]).apply(lambda x: x.sort_values(by=[\"date\"]))\n",
    "# g.loc[:, \"price_calendar\"] = g[\"price_calendar\"].fillna(method=\"ffill\")\n",
    "# df = g.reset_index(drop=True)"
   ]
  },
  {
   "cell_type": "code",
   "execution_count": 0,
   "metadata": {
    "colab": {},
    "colab_type": "code",
    "id": "fMZaINnyyFma"
   },
   "outputs": [],
   "source": [
    "g = df.groupby([\"listing_id\"]).apply(lambda x: x.sort_values(by=[\"date\"]))"
   ]
  },
  {
   "cell_type": "code",
   "execution_count": 0,
   "metadata": {
    "colab": {},
    "colab_type": "code",
    "id": "c3IAf2L6yFme"
   },
   "outputs": [],
   "source": [
    "g.loc[:, \"price_calendar\"] = g[\"price_calendar\"].fillna(method=\"ffill\")"
   ]
  },
  {
   "cell_type": "code",
   "execution_count": 0,
   "metadata": {
    "colab": {},
    "colab_type": "code",
    "id": "3o1z2-ObyFmg"
   },
   "outputs": [],
   "source": [
    "df = g.reset_index(drop=True)"
   ]
  },
  {
   "cell_type": "code",
   "execution_count": 0,
   "metadata": {
    "colab": {},
    "colab_type": "code",
    "id": "OaESG-CDyFmj"
   },
   "outputs": [],
   "source": [
    "input_vars_from_calendar = [\"year\", \"month\", \"day_of_week\", \"week_of_month\", \"price_calendar\"]"
   ]
  },
  {
   "cell_type": "code",
   "execution_count": 0,
   "metadata": {
    "colab": {},
    "colab_type": "code",
    "id": "yVTYO-dKyFmm"
   },
   "outputs": [],
   "source": [
    "all_input_vars = input_vars_from_listings + input_vars_from_calendar;"
   ]
  },
  {
   "cell_type": "code",
   "execution_count": 0,
   "metadata": {
    "colab": {},
    "colab_type": "code",
    "id": "1du2p14wyFmp"
   },
   "outputs": [],
   "source": [
    "df = df.dropna(subset=[\"available\"])"
   ]
  },
  {
   "cell_type": "markdown",
   "metadata": {
    "colab_type": "text",
    "id": "zKvT7zDpyFmr"
   },
   "source": [
    "Select a sample of properties to be used as an environment of alternatives competing with the property to be booked that can have impact on whether the given property gets booked or not."
   ]
  },
  {
   "cell_type": "code",
   "execution_count": 0,
   "metadata": {
    "colab": {},
    "colab_type": "code",
    "id": "7icg112wyFms"
   },
   "outputs": [],
   "source": [
    "start_date = df[\"date\"].min()"
   ]
  },
  {
   "cell_type": "code",
   "execution_count": 0,
   "metadata": {
    "colab": {},
    "colab_type": "code",
    "id": "7GfRVIP4yFmu"
   },
   "outputs": [],
   "source": [
    "listing_ids_environment = list(df.query(\"date == @start_date\").drop_duplicates(['listing_id'])[\"listing_id\"].sample(100, random_state=42))"
   ]
  },
  {
   "cell_type": "code",
   "execution_count": 0,
   "metadata": {
    "colab": {},
    "colab_type": "code",
    "id": "BwiI1-SWyFmx"
   },
   "outputs": [],
   "source": [
    "X_with_env = df[all_input_vars + [\"listing_id\", \"date\"]].query(\"listing_id not in @listing_ids_environment\")\n",
    "for listing_id in listing_ids_environment:\n",
    "    listing_price_availability = df.query(\"listing_id == @listing_id\")[[\"price_calendar\", \"available\", \"date\"]]\n",
    "    X_with_env = pd.merge(X_with_env, listing_price_availability, left_on=\"date\", right_on=\"date\", how=\"inner\", suffixes=(\"\", \"_\"+str(listing_id)))"
   ]
  },
  {
   "cell_type": "markdown",
   "metadata": {
    "colab_type": "text",
    "id": "OxZdQkPW165J"
   },
   "source": [
    "### Adding Normalized (Relative) Booking Prices for Properties"
   ]
  },
  {
   "cell_type": "markdown",
   "metadata": {
    "colab_type": "text",
    "id": "IDysuQHByFm2"
   },
   "source": [
    "- Adding normalized prices for given property and all the properties used in the dataset serving as an indicator of competitive market condition. This will help ML models to easily learn conditions involving relative prices of the properties with much less complexity. \n",
    "- I am also retaining the absolute prices for properties in the environment and added one more field for storing total prices of all the properties in environment, so that the model can learn the current demand from the sample of prices from the overall market."
   ]
  },
  {
   "cell_type": "code",
   "execution_count": 0,
   "metadata": {
    "colab": {},
    "colab_type": "code",
    "id": "2UignVcEEzxP"
   },
   "outputs": [],
   "source": [
    "price_columns_for_env = [col for col in X_with_env.columns if col.startswith(\"price_calendar\") and col != \"price_calendar\"]\n",
    "price_columns_for_prop_and_env = [col for col in X_with_env.columns if col.startswith(\"price_calendar\")]"
   ]
  },
  {
   "cell_type": "code",
   "execution_count": 0,
   "metadata": {
    "colab": {},
    "colab_type": "code",
    "id": "OFBiFgbmLwqD"
   },
   "outputs": [],
   "source": [
    "X_with_env.loc[:, \"total_env_prices\"] = X_with_env[price_columns_for_env].sum(axis=1)\n",
    "for price_column_for_prop_and_env in price_columns_for_prop_and_env:\n",
    "  X_with_env.loc[:, price_column_for_prop_and_env + \"_normalized\"] = X_with_env[price_column_for_prop_and_env] / X_with_env[\"total_env_prices\"]"
   ]
  },
  {
   "cell_type": "code",
   "execution_count": 0,
   "metadata": {
    "colab": {},
    "colab_type": "code",
    "id": "BBuEBQs7L0wp"
   },
   "outputs": [],
   "source": [
    "X_with_env = X_with_env.drop(columns=[\"price_calendar\"])"
   ]
  },
  {
   "cell_type": "code",
   "execution_count": 0,
   "metadata": {
    "colab": {},
    "colab_type": "code",
    "id": "rQ0cdaxiyFm9"
   },
   "outputs": [],
   "source": [
    "X = X_with_env.sort_values(by=[\"listing_id\", \"date\"]).drop(columns=[\"date\"]).reset_index(drop=True)"
   ]
  },
  {
   "cell_type": "code",
   "execution_count": 0,
   "metadata": {
    "colab": {},
    "colab_type": "code",
    "id": "U5eKCWnOyFnC"
   },
   "outputs": [],
   "source": [
    "y = df[[\"available\",\"listing_id\", \"date\"]].query(\"listing_id not in @listing_ids_environment\").sort_values(by=[\"listing_id\", \"date\"]).drop(columns=[\"date\"]).reset_index(drop=True)"
   ]
  },
  {
   "cell_type": "code",
   "execution_count": 0,
   "metadata": {
    "colab": {
     "base_uri": "https://localhost:8080/",
     "height": 34
    },
    "colab_type": "code",
    "id": "X015ahxdyFnE",
    "outputId": "1470914f-92c3-4209-ba46-a3759f701012"
   },
   "outputs": [
    {
     "data": {
      "text/plain": [
       "(1272390, 378)"
      ]
     },
     "execution_count": 50,
     "metadata": {
      "tags": []
     },
     "output_type": "execute_result"
    }
   ],
   "source": [
    "X.shape"
   ]
  },
  {
   "cell_type": "code",
   "execution_count": 0,
   "metadata": {
    "colab": {
     "base_uri": "https://localhost:8080/",
     "height": 34
    },
    "colab_type": "code",
    "id": "zKituPM-yFnJ",
    "outputId": "839c6d5a-ded7-429a-8e11-d66a601fb48f"
   },
   "outputs": [
    {
     "data": {
      "text/plain": [
       "(1272390, 2)"
      ]
     },
     "execution_count": 51,
     "metadata": {
      "tags": []
     },
     "output_type": "execute_result"
    }
   ],
   "source": [
    "y.shape"
   ]
  },
  {
   "cell_type": "code",
   "execution_count": 0,
   "metadata": {
    "colab": {
     "base_uri": "https://localhost:8080/",
     "height": 34
    },
    "colab_type": "code",
    "id": "Iov-mCvCyFnL",
    "outputId": "38185405-138e-4bfb-ff6c-48ec320d9acc"
   },
   "outputs": [
    {
     "data": {
      "text/plain": [
       "True"
      ]
     },
     "execution_count": 52,
     "metadata": {
      "tags": []
     },
     "output_type": "execute_result"
    }
   ],
   "source": [
    "X.shape[0] == y.shape[0]"
   ]
  },
  {
   "cell_type": "code",
   "execution_count": 0,
   "metadata": {
    "colab": {
     "base_uri": "https://localhost:8080/",
     "height": 34
    },
    "colab_type": "code",
    "id": "IrvvVhTeyFnN",
    "outputId": "a4765a27-427e-4020-b4e0-7f5992eed392"
   },
   "outputs": [
    {
     "data": {
      "text/plain": [
       "True"
      ]
     },
     "execution_count": 53,
     "metadata": {
      "tags": []
     },
     "output_type": "execute_result"
    }
   ],
   "source": [
    "(X[\"listing_id\"] == y[\"listing_id\"]).all()"
   ]
  },
  {
   "cell_type": "markdown",
   "metadata": {
    "colab_type": "text",
    "id": "gF8FLl1FyFnP"
   },
   "source": [
    "### Fill missing values in numeric columns with mean of the corresponding column"
   ]
  },
  {
   "cell_type": "code",
   "execution_count": 0,
   "metadata": {
    "colab": {},
    "colab_type": "code",
    "id": "Aqj19ppXyFnQ"
   },
   "outputs": [],
   "source": [
    "num_vars = X.select_dtypes(exclude=['object']).copy().columns\n",
    "def fill_mean (col):\n",
    "    return col.fillna(col.mean())\n",
    "X.loc[X.index, num_vars] = X[num_vars].apply(fill_mean, axis=0)"
   ]
  },
  {
   "cell_type": "markdown",
   "metadata": {
    "colab_type": "text",
    "id": "04PWLamayFnS"
   },
   "source": [
    "### Convert categorical variables into numeric variables with separate column for missing values"
   ]
  },
  {
   "cell_type": "code",
   "execution_count": 0,
   "metadata": {
    "colab": {},
    "colab_type": "code",
    "id": "-K9D2fhtyFnT"
   },
   "outputs": [],
   "source": [
    "cat_vars = X.select_dtypes(include=['object']).copy().columns\n",
    "for var in  cat_vars:\n",
    "    # for each cat add dummy var, drop original column\n",
    "    X = pd.concat([X.drop(var, axis=1), pd.get_dummies(X[var], prefix=var, prefix_sep='_', drop_first=False, dummy_na=True)], axis=1)    "
   ]
  },
  {
   "cell_type": "markdown",
   "metadata": {
    "colab_type": "text",
    "id": "kAIbSBBPyFnU"
   },
   "source": [
    "### Splitting data into training and test sets while making sure that no property listing is common between them"
   ]
  },
  {
   "cell_type": "code",
   "execution_count": 0,
   "metadata": {
    "colab": {},
    "colab_type": "code",
    "id": "k8chM7ieyFnV"
   },
   "outputs": [],
   "source": [
    "unique_listing_ids = X[\"listing_id\"].unique()"
   ]
  },
  {
   "cell_type": "code",
   "execution_count": 0,
   "metadata": {
    "colab": {},
    "colab_type": "code",
    "id": "tnvhg6G0yFnZ"
   },
   "outputs": [],
   "source": [
    "np.random.seed(42)\n",
    "listing_ids_train = np.random.choice(np.array(unique_listing_ids), size= int(0.70 * len(unique_listing_ids)), replace=False)\n",
    "listing_ids_test = [l for l in unique_listing_ids if l not in listing_ids_train]"
   ]
  },
  {
   "cell_type": "code",
   "execution_count": 0,
   "metadata": {
    "colab": {},
    "colab_type": "code",
    "id": "2cnKLnGSyFnd"
   },
   "outputs": [],
   "source": [
    "X_train = X.query(\"listing_id in @listing_ids_train\")\n",
    "y_train = y.query(\"listing_id in @listing_ids_train\")"
   ]
  },
  {
   "cell_type": "code",
   "execution_count": 0,
   "metadata": {
    "colab": {
     "base_uri": "https://localhost:8080/",
     "height": 34
    },
    "colab_type": "code",
    "id": "qS176-usyFnf",
    "outputId": "45f0ae23-de54-455a-aca2-341837bedf97"
   },
   "outputs": [
    {
     "data": {
      "text/plain": [
       "True"
      ]
     },
     "execution_count": 59,
     "metadata": {
      "tags": []
     },
     "output_type": "execute_result"
    }
   ],
   "source": [
    "(X_train.index == y_train.index).all()"
   ]
  },
  {
   "cell_type": "markdown",
   "metadata": {
    "colab_type": "text",
    "id": "VafLdZDRyFnh"
   },
   "source": [
    "I am using here only a smaller sample of training data to choose hyper parameters using cross validation technique to complete the experiments in timely manner. However, in real world scenario with availability of time, higher computational resources and memory, entire training dataset should be used for choosing optimal hyper parameters."
   ]
  },
  {
   "cell_type": "code",
   "execution_count": 10,
   "metadata": {
    "colab": {
     "base_uri": "https://localhost:8080/",
     "height": 181
    },
    "colab_type": "code",
    "id": "Pgoc-do-yFnh",
    "outputId": "ba3f783d-82f8-4904-fb87-bf9b9a9af0fa"
   },
   "outputs": [],
   "source": [
    "X_train_sample = X_train.sample(10000, random_state=42)\n",
    "y_train_sample = y_train.loc[X_train_sample.index]"
   ]
  },
  {
   "cell_type": "code",
   "execution_count": 0,
   "metadata": {
    "colab": {
     "base_uri": "https://localhost:8080/",
     "height": 34
    },
    "colab_type": "code",
    "id": "UgKIcS2eyFnj",
    "outputId": "ffc6fc3b-9068-425e-e45b-18f59fe11932"
   },
   "outputs": [
    {
     "data": {
      "text/plain": [
       "True"
      ]
     },
     "execution_count": 61,
     "metadata": {
      "tags": []
     },
     "output_type": "execute_result"
    }
   ],
   "source": [
    "(X_train_sample[\"listing_id\"] == y_train_sample[\"listing_id\"]).all()"
   ]
  },
  {
   "cell_type": "code",
   "execution_count": 0,
   "metadata": {
    "colab": {
     "base_uri": "https://localhost:8080/",
     "height": 34
    },
    "colab_type": "code",
    "id": "iRBUlZk_yFnl",
    "outputId": "d3f5e61d-d633-424a-9c2c-1daea41346ce"
   },
   "outputs": [
    {
     "data": {
      "text/plain": [
       "(10000, 675)"
      ]
     },
     "execution_count": 62,
     "metadata": {
      "tags": []
     },
     "output_type": "execute_result"
    }
   ],
   "source": [
    "X_train_sample.shape"
   ]
  },
  {
   "cell_type": "code",
   "execution_count": 0,
   "metadata": {
    "colab": {
     "base_uri": "https://localhost:8080/",
     "height": 34
    },
    "colab_type": "code",
    "id": "R2xKKD-syFnn",
    "outputId": "cb435007-ad8d-47f1-c154-53e7fda1d51d"
   },
   "outputs": [
    {
     "data": {
      "text/plain": [
       "(10000, 2)"
      ]
     },
     "execution_count": 63,
     "metadata": {
      "tags": []
     },
     "output_type": "execute_result"
    }
   ],
   "source": [
    "y_train_sample.shape"
   ]
  },
  {
   "cell_type": "code",
   "execution_count": 0,
   "metadata": {
    "colab": {},
    "colab_type": "code",
    "id": "IzkKyvnayFnp"
   },
   "outputs": [],
   "source": [
    "X_test = X.query(\"listing_id in @listing_ids_test\").drop(columns=[\"listing_id\"])\n",
    "y_test = y.query(\"listing_id in @listing_ids_test\").drop(columns=[\"listing_id\"])"
   ]
  },
  {
   "cell_type": "code",
   "execution_count": 12,
   "metadata": {
    "colab": {},
    "colab_type": "code",
    "id": "R-TZu3yEyFns"
   },
   "outputs": [],
   "source": [
    "X_train_sample.to_csv(data_dir + \"/X_train_sample.csv\", index=False)\n",
    "y_train_sample.to_csv(data_dir + \"/y_train_sample.csv\", index=False)"
   ]
  },
  {
   "cell_type": "code",
   "execution_count": 11,
   "metadata": {
    "colab": {},
    "colab_type": "code",
    "id": "pATjxaMgNPxu"
   },
   "outputs": [],
   "source": [
    "X_train.to_csv(data_dir + \"/X_train.csv\", index=False)\n",
    "y_train.to_csv(data_dir + \"/y_train.csv\", index=False)"
   ]
  },
  {
   "cell_type": "code",
   "execution_count": 0,
   "metadata": {
    "colab": {},
    "colab_type": "code",
    "id": "fe5cjok3yFnv"
   },
   "outputs": [],
   "source": [
    "X_test.to_csv(data_dir + \"/X_test.csv\", index=False)\n",
    "y_test.to_csv(data_dir + \"/y_test.csv\", index=False)"
   ]
  },
  {
   "cell_type": "code",
   "execution_count": 0,
   "metadata": {
    "colab": {
     "base_uri": "https://localhost:8080/",
     "height": 68
    },
    "colab_type": "code",
    "id": "FMRN1Rk4yFnx",
    "outputId": "3540b98d-1caf-4b81-c290-2e84b12931e5"
   },
   "outputs": [
    {
     "data": {
      "text/plain": [
       "False    0.510761\n",
       "True     0.489239\n",
       "Name: available, dtype: float64"
      ]
     },
     "execution_count": 68,
     "metadata": {
      "tags": []
     },
     "output_type": "execute_result"
    }
   ],
   "source": [
    "y_train[\"available\"].value_counts()/y_train.shape[0]"
   ]
  },
  {
   "cell_type": "markdown",
   "metadata": {
    "colab_type": "text",
    "id": "AmoTCEKNyFn0"
   },
   "source": [
    "Considering the ratio of samples classified for output True and False, the data looks to be balanced."
   ]
  },
  {
   "cell_type": "markdown",
   "metadata": {
    "colab_type": "text",
    "id": "FeZg5olN1122"
   },
   "source": [
    "## Training Machine Learning Models"
   ]
  },
  {
   "cell_type": "markdown",
   "metadata": {
    "colab_type": "text",
    "id": "Ue7tJzWpyFn1"
   },
   "source": [
    "### Preparing cross validation splits to into training and test sets while making sure that no property listing is common between them"
   ]
  },
  {
   "cell_type": "markdown",
   "metadata": {
    "colab_type": "text",
    "id": "R6_MbXYcesWX"
   },
   "source": [
    "I haven't used `MyGridSearchCV` class anywhere in this notebook, \n",
    "as I decided to use Tree of Parzen Estimators Algorithm and Bayesian Optimization algo\n",
    "implemented in Hyperopt and Scikit Optimize \n",
    "for quickly narrowing down the optimal hyper parameters"
   ]
  },
  {
   "cell_type": "code",
   "execution_count": 4,
   "metadata": {
    "colab": {},
    "colab_type": "code",
    "id": "Re7hJ1cRyFn1"
   },
   "outputs": [],
   "source": [
    "class MyGridSearchCV(object):\n",
    "    \n",
    "    def __init__(self, estimator, param_grid, cv=3):\n",
    "        self.estimator = estimator\n",
    "        self.param_grid = param_grid\n",
    "        self.best_score = -math.inf\n",
    "        self.best_estimator = None\n",
    "        self.best_estimator_scores_mean = -math.inf\n",
    "        self.best_estimator_scores_stdev = -math.inf\n",
    "        self.best_params= None\n",
    "        self.cv = cv       \n",
    "    \n",
    "    def fit(self, X, y):\n",
    "        for param_point in self.get_param_grid_points():\n",
    "            def splits(array, k):\n",
    "                splits = []\n",
    "                \n",
    "                for i in range(k):\n",
    "                    split_length = math.ceil(len(array)/k)\n",
    "                    split = []\n",
    "                    for j in range(i * split_length, (i+1) * split_length):\n",
    "                        if j < len(array):\n",
    "                            split.append(array[j])\n",
    "                        \n",
    "                    splits.append(split)\n",
    "                cvs = []\n",
    "                for i, split in enumerate(splits):\n",
    "                    train = []\n",
    "                    for j, other_split in enumerate(splits):\n",
    "                        if i != j:\n",
    "                            train += other_split\n",
    "                    test = [] + split\n",
    "                    cvs.append((train, test))\n",
    "                return cvs\n",
    "                    \n",
    "            scores_for_point = []\n",
    "            estimator = clone(self.estimator)\n",
    "            estimator.set_params(**param_point)\n",
    "            for l_train, l_test in splits(list(X[\"listing_id\"].unique()), k=self.cv):                \n",
    "                X_train = X.query(\"listing_id in @l_train\").drop(columns=[\"listing_id\"])\n",
    "                X_test = X.query(\"listing_id in @l_test\").drop(columns=[\"listing_id\"])\n",
    "                y_train = y.query(\"listing_id in @l_train\").drop(columns=[\"listing_id\"])\n",
    "                y_test = y.query(\"listing_id in @l_test\").drop(columns=[\"listing_id\"])                \n",
    "                estimator.fit(X_train, y_train.values.ravel())\n",
    "                y_preds = estimator.predict(X_test)\n",
    "                f1_score_1 = f1_score(y_test, y_preds, pos_label=True)\n",
    "                f1_score_0 = f1_score(y_test, y_preds, pos_label=False)\n",
    "                score = min([f1_score_1, f1_score_0])\n",
    "                scores_for_point.append(score)\n",
    "                gc.collect()\n",
    "                \n",
    "            mean_score = np.mean(scores_for_point)\n",
    "            if mean_score > self.best_estimator_scores_mean:\n",
    "                self.best_estimator_scores_mean = mean_score\n",
    "                self.best_estimator_scores_stdev = np.std(scores_for_point)\n",
    "                self.best_estimator = estimator\n",
    "                self.best_params = self.best_estimator.get_params()\n",
    "                self.best_score = self.best_estimator_scores_mean\n",
    "            gc.collect()\n",
    "            \n",
    "    def get_param_grid_points(self):\n",
    "        points = [{}]\n",
    "        for param, values in self.param_grid.items():\n",
    "            new_points = []\n",
    "            for point in points:\n",
    "                for value in values:                    \n",
    "                    new_point = point.copy()\n",
    "                    new_point[param]= value\n",
    "                    new_points.append(new_point)\n",
    "            points = new_points\n",
    "        return points\n",
    "    \n",
    "    def print_best(self):\n",
    "        print(\"Best score:\")\n",
    "        print(self.best_score)\n",
    "        print(\"Best params:\")\n",
    "        print(self.best_params)\n",
    "        print(\"Best estimator scores mean:\")\n",
    "        print(self.best_estimator_scores_mean)\n",
    "        print(\"Best estimator scores stdev:\")\n",
    "        print(self.best_estimator_scores_stdev)"
   ]
  },
  {
   "cell_type": "markdown",
   "metadata": {
    "colab_type": "text",
    "id": "dYhzvdZPfDLu"
   },
   "source": [
    "`my_cross_val_score` is used in calculating the score after each cross validation step\n",
    "while tuning hyper parameters"
   ]
  },
  {
   "cell_type": "code",
   "execution_count": 5,
   "metadata": {
    "colab": {},
    "colab_type": "code",
    "id": "LZiAQup7yFn3"
   },
   "outputs": [],
   "source": [
    "def my_cross_val_score(estimator, X, y):\n",
    "    def splits(array, k):\n",
    "        splits = []\n",
    "\n",
    "        for i in range(k):\n",
    "            split_length = math.ceil(len(array)/k)\n",
    "            split = []\n",
    "            for j in range(i * split_length, (i+1) * split_length):\n",
    "                if j < len(array):\n",
    "                    split.append(array[j])\n",
    "\n",
    "            splits.append(split)\n",
    "        cvs = []\n",
    "        for i, split in enumerate(splits):\n",
    "            train = []\n",
    "            for j, other_split in enumerate(splits):\n",
    "                if i != j:\n",
    "                    train += other_split\n",
    "            test = [] + split\n",
    "            cvs.append((train, test))\n",
    "        return cvs\n",
    "\n",
    "    scores_for_point = []\n",
    "    for l_train, l_test in splits(list(X[\"listing_id\"].unique()), k=5):\n",
    "        X_train = X.query(\"listing_id in @l_train\").drop(columns=[\"listing_id\"])\n",
    "        y_train = y.query(\"listing_id in @l_train\").drop(columns=[\"listing_id\"])\n",
    "        X_test = X.query(\"listing_id in @l_test\").drop(columns=[\"listing_id\"])\n",
    "        y_test = y.query(\"listing_id in @l_test\").drop(columns=[\"listing_id\"])\n",
    "        estimator.fit(X=X_train, y=y_train.astype('int').values.ravel())\n",
    "        y_preds = estimator.predict(X_test)\n",
    "        f1_score_1 = f1_score(y_test, y_preds, pos_label=True)\n",
    "        f1_score_0 = f1_score(y_test, y_preds, pos_label=False)\n",
    "        score = min([f1_score_1, f1_score_0])\n",
    "        scores_for_point.append(score)\n",
    "        gc.collect()\n",
    "\n",
    "    mean_score = np.mean(scores_for_point)\n",
    "    return mean_score\n",
    "\n"
   ]
  },
  {
   "cell_type": "code",
   "execution_count": 6,
   "metadata": {
    "colab": {},
    "colab_type": "code",
    "id": "imY5kFPkZFrl"
   },
   "outputs": [],
   "source": [
    "import decimal\n",
    "\n",
    "def float_range(start, stop, step):\n",
    "    start = decimal.Decimal(start)\n",
    "    stop = decimal.Decimal(stop)\n",
    "    step = decimal.Decimal(step)\n",
    "    while (start < stop):\n",
    "        yield float(start)\n",
    "        start += step"
   ]
  },
  {
   "cell_type": "code",
   "execution_count": 7,
   "metadata": {
    "colab": {},
    "colab_type": "code",
    "id": "eOnt42JDNenx"
   },
   "outputs": [
    {
     "data": {
      "text/plain": [
       "11"
      ]
     },
     "execution_count": 7,
     "metadata": {},
     "output_type": "execute_result"
    }
   ],
   "source": [
    "X_train = pd.read_csv(data_dir + \"/X_train.csv\")\n",
    "y_train = pd.read_csv(data_dir + \"/y_train.csv\")\n",
    "gc.collect()"
   ]
  },
  {
   "cell_type": "code",
   "execution_count": 8,
   "metadata": {
    "colab": {},
    "colab_type": "code",
    "id": "fxBAn0bSDdVO"
   },
   "outputs": [
    {
     "data": {
      "text/plain": [
       "0"
      ]
     },
     "execution_count": 8,
     "metadata": {},
     "output_type": "execute_result"
    }
   ],
   "source": [
    "X_train_sample = pd.read_csv(data_dir + \"/X_train_sample.csv\")\n",
    "y_train_sample = pd.read_csv(data_dir + \"/y_train_sample.csv\")\n",
    "gc.collect()"
   ]
  },
  {
   "cell_type": "markdown",
   "metadata": {
    "colab_type": "text",
    "id": "jDlMsE3KyFn6"
   },
   "source": [
    "### Decision Tree Classifier for testing setup"
   ]
  },
  {
   "cell_type": "markdown",
   "metadata": {
    "colab_type": "text",
    "id": "Nt75dwmnyFn6"
   },
   "source": [
    "I will be using **Tree of Parzen Estimators** algorithm implemented in **Hyperopt** library for choosing hyper parameters to be evaluated to find the optimal ones that maximizes the score = min(f1_score_for_positive_class, f1_score_for_negative_class)"
   ]
  },
  {
   "cell_type": "code",
   "execution_count": 0,
   "metadata": {
    "colab": {
     "base_uri": "https://localhost:8080/",
     "height": 1000
    },
    "colab_type": "code",
    "id": "uAQq07TayFn7",
    "outputId": "edf0b164-651d-4dad-d6ee-d3462e2d050f"
   },
   "outputs": [
    {
     "name": "stdout",
     "output_type": "stream",
     "text": [
      "{'max_depth': 32, 'min_samples_leaf': 3, 'min_samples_split': 10, 'random_state': 42}\n",
      "score: 0.6296983940700798                           \n",
      "{'max_depth': 16, 'min_samples_leaf': 1, 'min_samples_split': 6, 'random_state': 42}\n",
      "score: 0.6368101288257777                                                     \n",
      "{'max_depth': 64, 'min_samples_leaf': 5, 'min_samples_split': 14, 'random_state': 42}\n",
      "score: 0.6330118900289432                                                     \n",
      "{'max_depth': 8, 'min_samples_leaf': 3, 'min_samples_split': 10, 'random_state': 42}\n",
      "score: 0.6329722870073318                                                     \n",
      "{'max_depth': 4, 'min_samples_leaf': 3, 'min_samples_split': 18, 'random_state': 42}\n",
      "score: 0.5332227970948313                                                     \n",
      "{'max_depth': 4, 'min_samples_leaf': 5, 'min_samples_split': 10, 'random_state': 42}\n",
      "score: 0.5339200591859425                                                     \n",
      "{'max_depth': 8, 'min_samples_leaf': 1, 'min_samples_split': 10, 'random_state': 42}\n",
      "score: 0.6344332235678055                                                     \n",
      "{'max_depth': 1024, 'min_samples_leaf': 3, 'min_samples_split': 10, 'random_state': 42}\n",
      "score: 0.6296983940700798                                                     \n",
      "{'max_depth': 64, 'min_samples_leaf': 3, 'min_samples_split': 6, 'random_state': 42}\n",
      "score: 0.6220363763486967                                                     \n",
      "{'max_depth': 512, 'min_samples_leaf': 5, 'min_samples_split': 6, 'random_state': 42}\n",
      "score: 0.6292458868622335                                                     \n",
      "{'max_depth': 64, 'min_samples_leaf': 3, 'min_samples_split': 2, 'random_state': 42}\n",
      "score: 0.6220363763486967                                                      \n",
      "{'max_depth': 32, 'min_samples_leaf': 1, 'min_samples_split': 14, 'random_state': 42}\n",
      "score: 0.6176405841100029                                                      \n",
      "{'max_depth': 8, 'min_samples_leaf': 3, 'min_samples_split': 14, 'random_state': 42}\n",
      "score: 0.6342217493732194                                                      \n",
      "{'max_depth': 128, 'min_samples_leaf': 1, 'min_samples_split': 18, 'random_state': 42}\n",
      "score: 0.6160812834029981                                                      \n",
      "{'max_depth': 64, 'min_samples_leaf': 1, 'min_samples_split': 10, 'random_state': 42}\n",
      "score: 0.6144316037485476                                                      \n",
      "{'max_depth': 8, 'min_samples_leaf': 3, 'min_samples_split': 10, 'random_state': 42}\n",
      "score: 0.6329722870073318                                                      \n",
      "{'max_depth': 256, 'min_samples_leaf': 3, 'min_samples_split': 10, 'random_state': 42}\n",
      "score: 0.6296983940700798                                                      \n",
      "{'max_depth': 256, 'min_samples_leaf': 5, 'min_samples_split': 2, 'random_state': 42}\n",
      "score: 0.6292458868622335                                                      \n",
      "{'max_depth': 32, 'min_samples_leaf': 5, 'min_samples_split': 2, 'random_state': 42}\n",
      "score: 0.6292458868622335                                                      \n",
      "{'max_depth': 256, 'min_samples_leaf': 5, 'min_samples_split': 10, 'random_state': 42}\n",
      "score: 0.6292458868622335                                                      \n",
      "{'max_depth': 16, 'min_samples_leaf': 1, 'min_samples_split': 6, 'random_state': 42}\n",
      "score: 0.6368101288257777                                                      \n",
      "{'max_depth': 16, 'min_samples_leaf': 1, 'min_samples_split': 6, 'random_state': 42}\n",
      "score: 0.6368101288257777                                                      \n",
      "{'max_depth': 16, 'min_samples_leaf': 1, 'min_samples_split': 6, 'random_state': 42}\n",
      "score: 0.6368101288257777                                                      \n",
      "{'max_depth': 16, 'min_samples_leaf': 1, 'min_samples_split': 6, 'random_state': 42}\n",
      "score: 0.6368101288257777                                                      \n",
      "{'max_depth': 16, 'min_samples_leaf': 1, 'min_samples_split': 6, 'random_state': 42}\n",
      "score: 0.6368101288257777                                                      \n",
      "{'max_depth': 16, 'min_samples_leaf': 1, 'min_samples_split': 6, 'random_state': 42}\n",
      "score: 0.6368101288257777                                                      \n",
      "{'max_depth': 16, 'min_samples_leaf': 1, 'min_samples_split': 6, 'random_state': 42}\n",
      "score: 0.6368101288257777                                                      \n",
      "{'max_depth': 512, 'min_samples_leaf': 1, 'min_samples_split': 6, 'random_state': 42}\n",
      "score: 0.6176457727830311                                                      \n",
      "{'max_depth': 128, 'min_samples_leaf': 1, 'min_samples_split': 18, 'random_state': 42}\n",
      "score: 0.6160812834029981                                                      \n",
      "{'max_depth': 1024, 'min_samples_leaf': 1, 'min_samples_split': 6, 'random_state': 42}\n",
      "score: 0.6176457727830311                                                      \n",
      "{'max_depth': 16, 'min_samples_leaf': 1, 'min_samples_split': 6, 'random_state': 42}\n",
      "score: 0.6368101288257777                                                      \n",
      "{'max_depth': 16, 'min_samples_leaf': 1, 'min_samples_split': 14, 'random_state': 42}\n",
      "score: 0.6330675672105448                                                      \n",
      "{'max_depth': 4, 'min_samples_leaf': 1, 'min_samples_split': 18, 'random_state': 42}\n",
      "score: 0.5333879412573499                                                      \n",
      "{'max_depth': 512, 'min_samples_leaf': 1, 'min_samples_split': 6, 'random_state': 42}\n",
      "score: 0.6176457727830311                                                      \n",
      "{'max_depth': 16, 'min_samples_leaf': 5, 'min_samples_split': 2, 'random_state': 42}\n",
      "score: 0.6389153647896277                                                      \n",
      "{'max_depth': 1024, 'min_samples_leaf': 5, 'min_samples_split': 2, 'random_state': 42}\n",
      "score: 0.6292458868622335                                                      \n",
      "{'max_depth': 128, 'min_samples_leaf': 5, 'min_samples_split': 2, 'random_state': 42}\n",
      "score: 0.6292458868622335                                                      \n",
      "{'max_depth': 4, 'min_samples_leaf': 5, 'min_samples_split': 2, 'random_state': 42}\n",
      "score: 0.5339200591859425                                                      \n",
      "{'max_depth': 32, 'min_samples_leaf': 5, 'min_samples_split': 2, 'random_state': 42}\n",
      "score: 0.6292458868622335                                                      \n",
      "{'max_depth': 16, 'min_samples_leaf': 5, 'min_samples_split': 2, 'random_state': 42}\n",
      "score: 0.6389153647896277                                                      \n",
      "{'max_depth': 16, 'min_samples_leaf': 5, 'min_samples_split': 2, 'random_state': 42}\n",
      "score: 0.6389153647896277                                                      \n",
      "{'max_depth': 1024, 'min_samples_leaf': 5, 'min_samples_split': 2, 'random_state': 42}\n",
      "score: 0.6292458868622335                                                      \n",
      "{'max_depth': 64, 'min_samples_leaf': 5, 'min_samples_split': 2, 'random_state': 42}\n",
      "score: 0.6292458868622335                                                      \n",
      "{'max_depth': 8, 'min_samples_leaf': 5, 'min_samples_split': 2, 'random_state': 42}\n",
      "score: 0.6359923835256888                                                      \n",
      "{'max_depth': 512, 'min_samples_leaf': 5, 'min_samples_split': 14, 'random_state': 42}\n",
      "score: 0.6330118900289432                                                      \n",
      "{'max_depth': 4, 'min_samples_leaf': 5, 'min_samples_split': 2, 'random_state': 42}\n",
      "score: 0.5339200591859425                                                      \n",
      "{'max_depth': 32, 'min_samples_leaf': 5, 'min_samples_split': 18, 'random_state': 42}\n",
      "score: 0.6324326088270796                                                      \n",
      "{'max_depth': 128, 'min_samples_leaf': 3, 'min_samples_split': 2, 'random_state': 42}\n",
      "score: 0.6220363763486967                                                      \n",
      "{'max_depth': 256, 'min_samples_leaf': 5, 'min_samples_split': 14, 'random_state': 42}\n",
      "score: 0.6330118900289432                                                      \n",
      "{'max_depth': 64, 'min_samples_leaf': 5, 'min_samples_split': 2, 'random_state': 42}\n",
      "score: 0.6292458868622335                                                      \n",
      "100%|██████████| 50/50 [06:30<00:00,  7.47s/it, best loss: -0.6389153647896277]\n",
      "Elapsed computation time: 6.530 mins\n",
      "Best params: \n",
      "{'max_depth': 16, 'min_samples_leaf': 5, 'min_samples_split': 2, 'random_state': 42}\n"
     ]
    }
   ],
   "source": [
    "def objective_dtc(params):\n",
    "    clf = DecisionTreeClassifier()\n",
    "    clf.set_params(**params)    \n",
    "    score = my_cross_val_score(clf, X=X_train_sample, y=y_train_sample)\n",
    "    print(params)\n",
    "    print(\"score: \" + str(score))\n",
    "    return -score\n",
    "\n",
    "dtc_param_space = {\n",
    "    \"min_samples_leaf\": hp.choice(\"min_samples_leaf\", [x/X_train_sample.shape[0] for x in range(1,6,2)]),\n",
    "    \"min_samples_split\": hp.choice(\"min_samples_split\", [2*x/X_train_sample.shape[0] for x in range(1,11,2)]),\n",
    "    \"max_depth\": hp.choice(\"max_depth\", [2**x for x in range(2,11)]),    \n",
    "    \"random_state\": hp.choice(\"random_state\", [42])\n",
    "}\n",
    "start_time = time.time()\n",
    "best_params_dtc = space_eval(dtc_param_space, fmin(objective_dtc, dtc_param_space, algo=tpe.suggest, max_evals=50))\n",
    "elapsed_time = (time.time() - start_time) / 60\n",
    "print('Elapsed computation time: {:.3f} mins'.format(elapsed_time))\n",
    "print (\"Best params:\")\n",
    "print (best_params_dtc)\n"
   ]
  },
  {
   "cell_type": "markdown",
   "metadata": {
    "colab_type": "text",
    "id": "72jW97tJyFn9"
   },
   "source": [
    "After having evaluated the approximate optimal value for max-depth hyper parameter to be around 16, I am using **Bayesian Optimization** technique implemented in `gp_minimize` method of **Scikit Optimize** package to choose precisely optimal hyper parameters that maximizes the score = min(f1_score_for_positive_class, f1_score_for_negative_class)"
   ]
  },
  {
   "cell_type": "code",
   "execution_count": 0,
   "metadata": {
    "colab": {
     "base_uri": "https://localhost:8080/",
     "height": 1000
    },
    "colab_type": "code",
    "id": "--zQN1IOyFn9",
    "outputId": "21bb3096-8574-4f65-fba6-799f4c99a68f"
   },
   "outputs": [
    {
     "name": "stdout",
     "output_type": "stream",
     "text": [
      "Currently evaluating params:\n",
      "{'max_depth': 26, 'min_samples_leaf': 3, 'min_samples_split': 16}\n",
      "score: 0.6290458417095474\n",
      "Currently evaluating params:\n",
      "{'max_depth': 21, 'min_samples_leaf': 5, 'min_samples_split': 4}\n",
      "score: 0.6304007189462216\n",
      "Currently evaluating params:\n",
      "{'max_depth': 18, 'min_samples_leaf': 4, 'min_samples_split': 5}\n",
      "score: 0.6324209667694043\n",
      "Currently evaluating params:\n",
      "{'max_depth': 22, 'min_samples_leaf': 2, 'min_samples_split': 15}\n",
      "score: 0.6256932739224876\n",
      "Currently evaluating params:\n",
      "{'max_depth': 29, 'min_samples_leaf': 1, 'min_samples_split': 20}\n",
      "score: 0.621785870117562\n",
      "Currently evaluating params:\n",
      "{'max_depth': 22, 'min_samples_leaf': 7, 'min_samples_split': 2}\n",
      "score: 0.6263113859234382\n",
      "Currently evaluating params:\n",
      "{'max_depth': 9, 'min_samples_leaf': 6, 'min_samples_split': 9}\n",
      "score: 0.6352617041580381\n",
      "Currently evaluating params:\n",
      "{'max_depth': 9, 'min_samples_leaf': 10, 'min_samples_split': 6}\n",
      "score: 0.631579723755445\n",
      "Currently evaluating params:\n",
      "{'max_depth': 10, 'min_samples_leaf': 7, 'min_samples_split': 9}\n",
      "score: 0.6339724675699114\n",
      "Currently evaluating params:\n",
      "{'max_depth': 30, 'min_samples_leaf': 5, 'min_samples_split': 17}\n",
      "score: 0.6368206692960483\n",
      "Currently evaluating params:\n",
      "{'max_depth': 30, 'min_samples_leaf': 10, 'min_samples_split': 20}\n",
      "score: 0.6236094758810931\n",
      "Currently evaluating params:\n",
      "{'max_depth': 8, 'min_samples_leaf': 1, 'min_samples_split': 20}\n",
      "score: 0.6321371560495125\n",
      "Currently evaluating params:\n",
      "{'max_depth': 8, 'min_samples_leaf': 10, 'min_samples_split': 20}\n",
      "score: 0.6308548478729094\n",
      "Currently evaluating params:\n",
      "{'max_depth': 8, 'min_samples_leaf': 1, 'min_samples_split': 2}\n",
      "score: 0.6324077140510225\n",
      "Currently evaluating params:\n",
      "{'max_depth': 8, 'min_samples_leaf': 10, 'min_samples_split': 2}\n",
      "score: 0.6308548478729094\n",
      "Currently evaluating params:\n",
      "{'max_depth': 8, 'min_samples_leaf': 1, 'min_samples_split': 18}\n",
      "score: 0.6331894725829186\n"
     ]
    },
    {
     "name": "stderr",
     "output_type": "stream",
     "text": [
      "/Users/atharva/.pyenv/versions/anaconda3-2019.03/lib/python3.7/site-packages/skopt/optimizer/optimizer.py:399: UserWarning: The objective has been evaluated at this point before.\n",
      "  warnings.warn(\"The objective has been evaluated \"\n"
     ]
    },
    {
     "name": "stdout",
     "output_type": "stream",
     "text": [
      "Currently evaluating params:\n",
      "{'max_depth': 8, 'min_samples_leaf': 1, 'min_samples_split': 2}\n",
      "score: 0.6324077140510225\n",
      "Currently evaluating params:\n",
      "{'max_depth': 8, 'min_samples_leaf': 10, 'min_samples_split': 19}\n",
      "score: 0.6308548478729094\n",
      "Currently evaluating params:\n",
      "{'max_depth': 30, 'min_samples_leaf': 10, 'min_samples_split': 3}\n",
      "score: 0.6236094758810931\n",
      "Currently evaluating params:\n",
      "{'max_depth': 8, 'min_samples_leaf': 1, 'min_samples_split': 19}\n",
      "score: 0.6321371560495125\n"
     ]
    },
    {
     "name": "stderr",
     "output_type": "stream",
     "text": [
      "/Users/atharva/.pyenv/versions/anaconda3-2019.03/lib/python3.7/site-packages/skopt/optimizer/optimizer.py:399: UserWarning: The objective has been evaluated at this point before.\n",
      "  warnings.warn(\"The objective has been evaluated \"\n"
     ]
    },
    {
     "name": "stdout",
     "output_type": "stream",
     "text": [
      "Currently evaluating params:\n",
      "{'max_depth': 8, 'min_samples_leaf': 10, 'min_samples_split': 2}\n",
      "score: 0.6308548478729094\n"
     ]
    },
    {
     "name": "stderr",
     "output_type": "stream",
     "text": [
      "/Users/atharva/.pyenv/versions/anaconda3-2019.03/lib/python3.7/site-packages/skopt/optimizer/optimizer.py:399: UserWarning: The objective has been evaluated at this point before.\n",
      "  warnings.warn(\"The objective has been evaluated \"\n"
     ]
    },
    {
     "name": "stdout",
     "output_type": "stream",
     "text": [
      "Currently evaluating params:\n",
      "{'max_depth': 8, 'min_samples_leaf': 1, 'min_samples_split': 2}\n",
      "score: 0.6324077140510225\n",
      "Currently evaluating params:\n",
      "{'max_depth': 8, 'min_samples_leaf': 10, 'min_samples_split': 18}\n",
      "score: 0.6308548478729094\n",
      "Currently evaluating params:\n",
      "{'max_depth': 30, 'min_samples_leaf': 2, 'min_samples_split': 2}\n",
      "score: 0.6223129504675017\n"
     ]
    },
    {
     "name": "stderr",
     "output_type": "stream",
     "text": [
      "/Users/atharva/.pyenv/versions/anaconda3-2019.03/lib/python3.7/site-packages/skopt/optimizer/optimizer.py:399: UserWarning: The objective has been evaluated at this point before.\n",
      "  warnings.warn(\"The objective has been evaluated \"\n"
     ]
    },
    {
     "name": "stdout",
     "output_type": "stream",
     "text": [
      "Currently evaluating params:\n",
      "{'max_depth': 8, 'min_samples_leaf': 1, 'min_samples_split': 2}\n",
      "score: 0.6324077140510225\n"
     ]
    },
    {
     "name": "stderr",
     "output_type": "stream",
     "text": [
      "/Users/atharva/.pyenv/versions/anaconda3-2019.03/lib/python3.7/site-packages/skopt/optimizer/optimizer.py:399: UserWarning: The objective has been evaluated at this point before.\n",
      "  warnings.warn(\"The objective has been evaluated \"\n"
     ]
    },
    {
     "name": "stdout",
     "output_type": "stream",
     "text": [
      "Currently evaluating params:\n",
      "{'max_depth': 8, 'min_samples_leaf': 10, 'min_samples_split': 20}\n",
      "score: 0.6308548478729094\n"
     ]
    },
    {
     "name": "stderr",
     "output_type": "stream",
     "text": [
      "/Users/atharva/.pyenv/versions/anaconda3-2019.03/lib/python3.7/site-packages/skopt/optimizer/optimizer.py:399: UserWarning: The objective has been evaluated at this point before.\n",
      "  warnings.warn(\"The objective has been evaluated \"\n"
     ]
    },
    {
     "name": "stdout",
     "output_type": "stream",
     "text": [
      "Currently evaluating params:\n",
      "{'max_depth': 8, 'min_samples_leaf': 10, 'min_samples_split': 20}\n",
      "score: 0.6308548478729094\n",
      "Currently evaluating params:\n",
      "{'max_depth': 8, 'min_samples_leaf': 5, 'min_samples_split': 18}\n",
      "score: 0.6346257615695923\n",
      "Currently evaluating params:\n",
      "{'max_depth': 8, 'min_samples_leaf': 5, 'min_samples_split': 20}\n",
      "score: 0.634441605886124\n"
     ]
    },
    {
     "name": "stderr",
     "output_type": "stream",
     "text": [
      "/Users/atharva/.pyenv/versions/anaconda3-2019.03/lib/python3.7/site-packages/skopt/optimizer/optimizer.py:399: UserWarning: The objective has been evaluated at this point before.\n",
      "  warnings.warn(\"The objective has been evaluated \"\n"
     ]
    },
    {
     "name": "stdout",
     "output_type": "stream",
     "text": [
      "Currently evaluating params:\n",
      "{'max_depth': 8, 'min_samples_leaf': 5, 'min_samples_split': 20}\n",
      "score: 0.634441605886124\n",
      "Currently evaluating params:\n",
      "{'max_depth': 8, 'min_samples_leaf': 5, 'min_samples_split': 2}\n",
      "score: 0.6359923835256888\n",
      "Currently evaluating params:\n",
      "{'max_depth': 8, 'min_samples_leaf': 6, 'min_samples_split': 20}\n",
      "score: 0.6337204751218203\n"
     ]
    },
    {
     "name": "stderr",
     "output_type": "stream",
     "text": [
      "/Users/atharva/.pyenv/versions/anaconda3-2019.03/lib/python3.7/site-packages/skopt/optimizer/optimizer.py:399: UserWarning: The objective has been evaluated at this point before.\n",
      "  warnings.warn(\"The objective has been evaluated \"\n"
     ]
    },
    {
     "name": "stdout",
     "output_type": "stream",
     "text": [
      "Currently evaluating params:\n",
      "{'max_depth': 8, 'min_samples_leaf': 5, 'min_samples_split': 2}\n",
      "score: 0.6359923835256888\n"
     ]
    },
    {
     "name": "stderr",
     "output_type": "stream",
     "text": [
      "/Users/atharva/.pyenv/versions/anaconda3-2019.03/lib/python3.7/site-packages/skopt/optimizer/optimizer.py:399: UserWarning: The objective has been evaluated at this point before.\n",
      "  warnings.warn(\"The objective has been evaluated \"\n"
     ]
    },
    {
     "name": "stdout",
     "output_type": "stream",
     "text": [
      "Currently evaluating params:\n",
      "{'max_depth': 8, 'min_samples_leaf': 5, 'min_samples_split': 20}\n",
      "score: 0.634441605886124\n"
     ]
    },
    {
     "name": "stderr",
     "output_type": "stream",
     "text": [
      "/Users/atharva/.pyenv/versions/anaconda3-2019.03/lib/python3.7/site-packages/skopt/optimizer/optimizer.py:399: UserWarning: The objective has been evaluated at this point before.\n",
      "  warnings.warn(\"The objective has been evaluated \"\n"
     ]
    },
    {
     "name": "stdout",
     "output_type": "stream",
     "text": [
      "Currently evaluating params:\n",
      "{'max_depth': 8, 'min_samples_leaf': 5, 'min_samples_split': 20}\n",
      "score: 0.634441605886124\n"
     ]
    },
    {
     "name": "stderr",
     "output_type": "stream",
     "text": [
      "/Users/atharva/.pyenv/versions/anaconda3-2019.03/lib/python3.7/site-packages/skopt/optimizer/optimizer.py:399: UserWarning: The objective has been evaluated at this point before.\n",
      "  warnings.warn(\"The objective has been evaluated \"\n"
     ]
    },
    {
     "name": "stdout",
     "output_type": "stream",
     "text": [
      "Currently evaluating params:\n",
      "{'max_depth': 8, 'min_samples_leaf': 5, 'min_samples_split': 2}\n",
      "score: 0.6359923835256888\n",
      "Currently evaluating params:\n",
      "{'max_depth': 8, 'min_samples_leaf': 6, 'min_samples_split': 2}\n",
      "score: 0.6338021986866853\n"
     ]
    },
    {
     "name": "stderr",
     "output_type": "stream",
     "text": [
      "/Users/atharva/.pyenv/versions/anaconda3-2019.03/lib/python3.7/site-packages/skopt/optimizer/optimizer.py:399: UserWarning: The objective has been evaluated at this point before.\n",
      "  warnings.warn(\"The objective has been evaluated \"\n"
     ]
    },
    {
     "name": "stdout",
     "output_type": "stream",
     "text": [
      "Currently evaluating params:\n",
      "{'max_depth': 8, 'min_samples_leaf': 5, 'min_samples_split': 20}\n",
      "score: 0.634441605886124\n"
     ]
    },
    {
     "name": "stderr",
     "output_type": "stream",
     "text": [
      "/Users/atharva/.pyenv/versions/anaconda3-2019.03/lib/python3.7/site-packages/skopt/optimizer/optimizer.py:399: UserWarning: The objective has been evaluated at this point before.\n",
      "  warnings.warn(\"The objective has been evaluated \"\n"
     ]
    },
    {
     "name": "stdout",
     "output_type": "stream",
     "text": [
      "Currently evaluating params:\n",
      "{'max_depth': 8, 'min_samples_leaf': 1, 'min_samples_split': 20}\n",
      "score: 0.6321371560495125\n"
     ]
    },
    {
     "name": "stderr",
     "output_type": "stream",
     "text": [
      "/Users/atharva/.pyenv/versions/anaconda3-2019.03/lib/python3.7/site-packages/skopt/optimizer/optimizer.py:399: UserWarning: The objective has been evaluated at this point before.\n",
      "  warnings.warn(\"The objective has been evaluated \"\n"
     ]
    },
    {
     "name": "stdout",
     "output_type": "stream",
     "text": [
      "Currently evaluating params:\n",
      "{'max_depth': 30, 'min_samples_leaf': 10, 'min_samples_split': 3}\n",
      "score: 0.6236094758810931\n"
     ]
    },
    {
     "name": "stderr",
     "output_type": "stream",
     "text": [
      "/Users/atharva/.pyenv/versions/anaconda3-2019.03/lib/python3.7/site-packages/skopt/optimizer/optimizer.py:399: UserWarning: The objective has been evaluated at this point before.\n",
      "  warnings.warn(\"The objective has been evaluated \"\n"
     ]
    },
    {
     "name": "stdout",
     "output_type": "stream",
     "text": [
      "Currently evaluating params:\n",
      "{'max_depth': 8, 'min_samples_leaf': 6, 'min_samples_split': 2}\n",
      "score: 0.6338021986866853\n",
      "Currently evaluating params:\n",
      "{'max_depth': 30, 'min_samples_leaf': 1, 'min_samples_split': 3}\n",
      "score: 0.6192766327988463\n",
      "Currently evaluating params:\n",
      "{'max_depth': 30, 'min_samples_leaf': 7, 'min_samples_split': 20}\n",
      "score: 0.6273163427576811\n",
      "Currently evaluating params:\n",
      "{'max_depth': 8, 'min_samples_leaf': 1, 'min_samples_split': 3}\n",
      "score: 0.6317146897834681\n"
     ]
    },
    {
     "name": "stderr",
     "output_type": "stream",
     "text": [
      "/Users/atharva/.pyenv/versions/anaconda3-2019.03/lib/python3.7/site-packages/skopt/optimizer/optimizer.py:399: UserWarning: The objective has been evaluated at this point before.\n",
      "  warnings.warn(\"The objective has been evaluated \"\n"
     ]
    },
    {
     "name": "stdout",
     "output_type": "stream",
     "text": [
      "Currently evaluating params:\n",
      "{'max_depth': 8, 'min_samples_leaf': 6, 'min_samples_split': 2}\n",
      "score: 0.6338021986866853\n"
     ]
    },
    {
     "name": "stderr",
     "output_type": "stream",
     "text": [
      "/Users/atharva/.pyenv/versions/anaconda3-2019.03/lib/python3.7/site-packages/skopt/optimizer/optimizer.py:399: UserWarning: The objective has been evaluated at this point before.\n",
      "  warnings.warn(\"The objective has been evaluated \"\n"
     ]
    },
    {
     "name": "stdout",
     "output_type": "stream",
     "text": [
      "Currently evaluating params:\n",
      "{'max_depth': 8, 'min_samples_leaf': 5, 'min_samples_split': 20}\n",
      "score: 0.634441605886124\n"
     ]
    },
    {
     "name": "stderr",
     "output_type": "stream",
     "text": [
      "/Users/atharva/.pyenv/versions/anaconda3-2019.03/lib/python3.7/site-packages/skopt/optimizer/optimizer.py:399: UserWarning: The objective has been evaluated at this point before.\n",
      "  warnings.warn(\"The objective has been evaluated \"\n"
     ]
    },
    {
     "name": "stdout",
     "output_type": "stream",
     "text": [
      "Currently evaluating params:\n",
      "{'max_depth': 8, 'min_samples_leaf': 5, 'min_samples_split': 20}\n",
      "score: 0.634441605886124\n"
     ]
    },
    {
     "name": "stderr",
     "output_type": "stream",
     "text": [
      "/Users/atharva/.pyenv/versions/anaconda3-2019.03/lib/python3.7/site-packages/skopt/optimizer/optimizer.py:399: UserWarning: The objective has been evaluated at this point before.\n",
      "  warnings.warn(\"The objective has been evaluated \"\n"
     ]
    },
    {
     "name": "stdout",
     "output_type": "stream",
     "text": [
      "Currently evaluating params:\n",
      "{'max_depth': 8, 'min_samples_leaf': 1, 'min_samples_split': 18}\n",
      "score: 0.6331894725829186\n",
      "Currently evaluating params:\n",
      "{'max_depth': 8, 'min_samples_leaf': 10, 'min_samples_split': 3}\n",
      "score: 0.6308548478729094\n"
     ]
    },
    {
     "name": "stderr",
     "output_type": "stream",
     "text": [
      "/Users/atharva/.pyenv/versions/anaconda3-2019.03/lib/python3.7/site-packages/skopt/optimizer/optimizer.py:399: UserWarning: The objective has been evaluated at this point before.\n",
      "  warnings.warn(\"The objective has been evaluated \"\n"
     ]
    },
    {
     "name": "stdout",
     "output_type": "stream",
     "text": [
      "Currently evaluating params:\n",
      "{'max_depth': 30, 'min_samples_leaf': 10, 'min_samples_split': 20}\n",
      "score: 0.6236094758810931\n"
     ]
    },
    {
     "name": "stderr",
     "output_type": "stream",
     "text": [
      "/Users/atharva/.pyenv/versions/anaconda3-2019.03/lib/python3.7/site-packages/skopt/optimizer/optimizer.py:399: UserWarning: The objective has been evaluated at this point before.\n",
      "  warnings.warn(\"The objective has been evaluated \"\n"
     ]
    },
    {
     "name": "stdout",
     "output_type": "stream",
     "text": [
      "Currently evaluating params:\n",
      "{'max_depth': 8, 'min_samples_leaf': 1, 'min_samples_split': 20}\n",
      "score: 0.6321371560495125\n"
     ]
    },
    {
     "name": "stderr",
     "output_type": "stream",
     "text": [
      "/Users/atharva/.pyenv/versions/anaconda3-2019.03/lib/python3.7/site-packages/skopt/optimizer/optimizer.py:399: UserWarning: The objective has been evaluated at this point before.\n",
      "  warnings.warn(\"The objective has been evaluated \"\n"
     ]
    },
    {
     "name": "stdout",
     "output_type": "stream",
     "text": [
      "Currently evaluating params:\n",
      "{'max_depth': 8, 'min_samples_leaf': 5, 'min_samples_split': 2}\n",
      "score: 0.6359923835256888\n"
     ]
    },
    {
     "name": "stderr",
     "output_type": "stream",
     "text": [
      "/Users/atharva/.pyenv/versions/anaconda3-2019.03/lib/python3.7/site-packages/skopt/optimizer/optimizer.py:399: UserWarning: The objective has been evaluated at this point before.\n",
      "  warnings.warn(\"The objective has been evaluated \"\n"
     ]
    },
    {
     "name": "stdout",
     "output_type": "stream",
     "text": [
      "Currently evaluating params:\n",
      "{'max_depth': 8, 'min_samples_leaf': 5, 'min_samples_split': 20}\n",
      "score: 0.634441605886124\n"
     ]
    },
    {
     "name": "stderr",
     "output_type": "stream",
     "text": [
      "/Users/atharva/.pyenv/versions/anaconda3-2019.03/lib/python3.7/site-packages/skopt/optimizer/optimizer.py:399: UserWarning: The objective has been evaluated at this point before.\n",
      "  warnings.warn(\"The objective has been evaluated \"\n"
     ]
    },
    {
     "name": "stdout",
     "output_type": "stream",
     "text": [
      "Currently evaluating params:\n",
      "{'max_depth': 8, 'min_samples_leaf': 5, 'min_samples_split': 20}\n",
      "score: 0.634441605886124\n",
      "Currently evaluating params:\n",
      "{'max_depth': 8, 'min_samples_leaf': 4, 'min_samples_split': 2}\n",
      "score: 0.6372562019921614\n"
     ]
    },
    {
     "name": "stderr",
     "output_type": "stream",
     "text": [
      "/Users/atharva/.pyenv/versions/anaconda3-2019.03/lib/python3.7/site-packages/skopt/optimizer/optimizer.py:399: UserWarning: The objective has been evaluated at this point before.\n",
      "  warnings.warn(\"The objective has been evaluated \"\n"
     ]
    },
    {
     "name": "stdout",
     "output_type": "stream",
     "text": [
      "Currently evaluating params:\n",
      "{'max_depth': 8, 'min_samples_leaf': 1, 'min_samples_split': 20}\n",
      "score: 0.6321371560495125\n"
     ]
    },
    {
     "name": "stderr",
     "output_type": "stream",
     "text": [
      "/Users/atharva/.pyenv/versions/anaconda3-2019.03/lib/python3.7/site-packages/skopt/optimizer/optimizer.py:399: UserWarning: The objective has been evaluated at this point before.\n",
      "  warnings.warn(\"The objective has been evaluated \"\n"
     ]
    },
    {
     "name": "stdout",
     "output_type": "stream",
     "text": [
      "Currently evaluating params:\n",
      "{'max_depth': 8, 'min_samples_leaf': 5, 'min_samples_split': 20}\n",
      "score: 0.634441605886124\n",
      "Currently evaluating params:\n",
      "{'max_depth': 8, 'min_samples_leaf': 7, 'min_samples_split': 2}\n",
      "score: 0.626944881609888\n"
     ]
    },
    {
     "name": "stderr",
     "output_type": "stream",
     "text": [
      "/Users/atharva/.pyenv/versions/anaconda3-2019.03/lib/python3.7/site-packages/skopt/optimizer/optimizer.py:399: UserWarning: The objective has been evaluated at this point before.\n",
      "  warnings.warn(\"The objective has been evaluated \"\n"
     ]
    },
    {
     "name": "stdout",
     "output_type": "stream",
     "text": [
      "Currently evaluating params:\n",
      "{'max_depth': 8, 'min_samples_leaf': 5, 'min_samples_split': 20}\n",
      "score: 0.634441605886124\n",
      "Currently evaluating params:\n",
      "{'max_depth': 30, 'min_samples_leaf': 1, 'min_samples_split': 17}\n",
      "score: 0.6211962910268569\n",
      "Currently evaluating params:\n",
      "{'max_depth': 8, 'min_samples_leaf': 3, 'min_samples_split': 2}\n",
      "score: 0.6327641550189279\n"
     ]
    },
    {
     "name": "stderr",
     "output_type": "stream",
     "text": [
      "/Users/atharva/.pyenv/versions/anaconda3-2019.03/lib/python3.7/site-packages/skopt/optimizer/optimizer.py:399: UserWarning: The objective has been evaluated at this point before.\n",
      "  warnings.warn(\"The objective has been evaluated \"\n"
     ]
    },
    {
     "name": "stdout",
     "output_type": "stream",
     "text": [
      "Currently evaluating params:\n",
      "{'max_depth': 8, 'min_samples_leaf': 10, 'min_samples_split': 19}\n",
      "score: 0.6308548478729094\n",
      "Currently evaluating params:\n",
      "{'max_depth': 30, 'min_samples_leaf': 10, 'min_samples_split': 2}\n",
      "score: 0.6236094758810931\n"
     ]
    },
    {
     "name": "stderr",
     "output_type": "stream",
     "text": [
      "/Users/atharva/.pyenv/versions/anaconda3-2019.03/lib/python3.7/site-packages/skopt/optimizer/optimizer.py:399: UserWarning: The objective has been evaluated at this point before.\n",
      "  warnings.warn(\"The objective has been evaluated \"\n"
     ]
    },
    {
     "name": "stdout",
     "output_type": "stream",
     "text": [
      "Currently evaluating params:\n",
      "{'max_depth': 8, 'min_samples_leaf': 10, 'min_samples_split': 2}\n",
      "score: 0.6308548478729094\n"
     ]
    },
    {
     "name": "stderr",
     "output_type": "stream",
     "text": [
      "/Users/atharva/.pyenv/versions/anaconda3-2019.03/lib/python3.7/site-packages/skopt/optimizer/optimizer.py:399: UserWarning: The objective has been evaluated at this point before.\n",
      "  warnings.warn(\"The objective has been evaluated \"\n"
     ]
    },
    {
     "name": "stdout",
     "output_type": "stream",
     "text": [
      "Currently evaluating params:\n",
      "{'max_depth': 8, 'min_samples_leaf': 5, 'min_samples_split': 20}\n",
      "score: 0.634441605886124\n"
     ]
    },
    {
     "name": "stderr",
     "output_type": "stream",
     "text": [
      "/Users/atharva/.pyenv/versions/anaconda3-2019.03/lib/python3.7/site-packages/skopt/optimizer/optimizer.py:399: UserWarning: The objective has been evaluated at this point before.\n",
      "  warnings.warn(\"The objective has been evaluated \"\n"
     ]
    },
    {
     "name": "stdout",
     "output_type": "stream",
     "text": [
      "Currently evaluating params:\n",
      "{'max_depth': 8, 'min_samples_leaf': 1, 'min_samples_split': 2}\n",
      "score: 0.6324077140510225\n"
     ]
    },
    {
     "name": "stderr",
     "output_type": "stream",
     "text": [
      "/Users/atharva/.pyenv/versions/anaconda3-2019.03/lib/python3.7/site-packages/skopt/optimizer/optimizer.py:399: UserWarning: The objective has been evaluated at this point before.\n",
      "  warnings.warn(\"The objective has been evaluated \"\n"
     ]
    },
    {
     "name": "stdout",
     "output_type": "stream",
     "text": [
      "Currently evaluating params:\n",
      "{'max_depth': 30, 'min_samples_leaf': 7, 'min_samples_split': 20}\n",
      "score: 0.6273163427576811\n"
     ]
    },
    {
     "name": "stderr",
     "output_type": "stream",
     "text": [
      "/Users/atharva/.pyenv/versions/anaconda3-2019.03/lib/python3.7/site-packages/skopt/optimizer/optimizer.py:399: UserWarning: The objective has been evaluated at this point before.\n",
      "  warnings.warn(\"The objective has been evaluated \"\n"
     ]
    },
    {
     "name": "stdout",
     "output_type": "stream",
     "text": [
      "Currently evaluating params:\n",
      "{'max_depth': 8, 'min_samples_leaf': 1, 'min_samples_split': 2}\n",
      "score: 0.6324077140510225\n",
      "Currently evaluating params:\n",
      "{'max_depth': 8, 'min_samples_leaf': 8, 'min_samples_split': 2}\n",
      "score: 0.6291492630659807\n",
      "Currently evaluating params:\n",
      "{'max_depth': 8, 'min_samples_leaf': 3, 'min_samples_split': 20}\n",
      "score: 0.6335209273947828\n",
      "Currently evaluating params:\n",
      "{'max_depth': 8, 'min_samples_leaf': 4, 'min_samples_split': 20}\n",
      "score: 0.6360159831227487\n"
     ]
    },
    {
     "name": "stderr",
     "output_type": "stream",
     "text": [
      "/Users/atharva/.pyenv/versions/anaconda3-2019.03/lib/python3.7/site-packages/skopt/optimizer/optimizer.py:399: UserWarning: The objective has been evaluated at this point before.\n",
      "  warnings.warn(\"The objective has been evaluated \"\n"
     ]
    },
    {
     "name": "stdout",
     "output_type": "stream",
     "text": [
      "Currently evaluating params:\n",
      "{'max_depth': 8, 'min_samples_leaf': 4, 'min_samples_split': 20}\n",
      "score: 0.6360159831227487\n",
      "Currently evaluating params:\n",
      "{'max_depth': 8, 'min_samples_leaf': 8, 'min_samples_split': 20}\n",
      "score: 0.6282338549148779\n",
      "Currently evaluating params:\n",
      "{'max_depth': 8, 'min_samples_leaf': 3, 'min_samples_split': 3}\n",
      "score: 0.6327641550189279\n",
      "Currently evaluating params:\n",
      "{'max_depth': 30, 'min_samples_leaf': 5, 'min_samples_split': 3}\n",
      "score: 0.6292458868622335\n"
     ]
    },
    {
     "name": "stderr",
     "output_type": "stream",
     "text": [
      "/Users/atharva/.pyenv/versions/anaconda3-2019.03/lib/python3.7/site-packages/skopt/optimizer/optimizer.py:399: UserWarning: The objective has been evaluated at this point before.\n",
      "  warnings.warn(\"The objective has been evaluated \"\n"
     ]
    },
    {
     "name": "stdout",
     "output_type": "stream",
     "text": [
      "Currently evaluating params:\n",
      "{'max_depth': 8, 'min_samples_leaf': 3, 'min_samples_split': 2}\n",
      "score: 0.6327641550189279\n"
     ]
    },
    {
     "name": "stderr",
     "output_type": "stream",
     "text": [
      "/Users/atharva/.pyenv/versions/anaconda3-2019.03/lib/python3.7/site-packages/skopt/optimizer/optimizer.py:399: UserWarning: The objective has been evaluated at this point before.\n",
      "  warnings.warn(\"The objective has been evaluated \"\n"
     ]
    },
    {
     "name": "stdout",
     "output_type": "stream",
     "text": [
      "Currently evaluating params:\n",
      "{'max_depth': 8, 'min_samples_leaf': 3, 'min_samples_split': 20}\n",
      "score: 0.6335209273947828\n",
      "Currently evaluating params:\n",
      "{'max_depth': 30, 'min_samples_leaf': 5, 'min_samples_split': 20}\n",
      "score: 0.6347476414632406\n"
     ]
    },
    {
     "name": "stderr",
     "output_type": "stream",
     "text": [
      "/Users/atharva/.pyenv/versions/anaconda3-2019.03/lib/python3.7/site-packages/skopt/optimizer/optimizer.py:399: UserWarning: The objective has been evaluated at this point before.\n",
      "  warnings.warn(\"The objective has been evaluated \"\n"
     ]
    },
    {
     "name": "stdout",
     "output_type": "stream",
     "text": [
      "Currently evaluating params:\n",
      "{'max_depth': 8, 'min_samples_leaf': 4, 'min_samples_split': 20}\n",
      "score: 0.6360159831227487\n"
     ]
    },
    {
     "name": "stderr",
     "output_type": "stream",
     "text": [
      "/Users/atharva/.pyenv/versions/anaconda3-2019.03/lib/python3.7/site-packages/skopt/optimizer/optimizer.py:399: UserWarning: The objective has been evaluated at this point before.\n",
      "  warnings.warn(\"The objective has been evaluated \"\n"
     ]
    },
    {
     "name": "stdout",
     "output_type": "stream",
     "text": [
      "Currently evaluating params:\n",
      "{'max_depth': 8, 'min_samples_leaf': 4, 'min_samples_split': 20}\n",
      "score: 0.6360159831227487\n"
     ]
    },
    {
     "name": "stderr",
     "output_type": "stream",
     "text": [
      "/Users/atharva/.pyenv/versions/anaconda3-2019.03/lib/python3.7/site-packages/skopt/optimizer/optimizer.py:399: UserWarning: The objective has been evaluated at this point before.\n",
      "  warnings.warn(\"The objective has been evaluated \"\n"
     ]
    },
    {
     "name": "stdout",
     "output_type": "stream",
     "text": [
      "Currently evaluating params:\n",
      "{'max_depth': 8, 'min_samples_leaf': 4, 'min_samples_split': 20}\n",
      "score: 0.6360159831227487\n",
      "Currently evaluating params:\n",
      "{'max_depth': 30, 'min_samples_leaf': 4, 'min_samples_split': 20}\n",
      "score: 0.6320464056356518\n"
     ]
    },
    {
     "name": "stderr",
     "output_type": "stream",
     "text": [
      "/Users/atharva/.pyenv/versions/anaconda3-2019.03/lib/python3.7/site-packages/skopt/optimizer/optimizer.py:399: UserWarning: The objective has been evaluated at this point before.\n",
      "  warnings.warn(\"The objective has been evaluated \"\n"
     ]
    },
    {
     "name": "stdout",
     "output_type": "stream",
     "text": [
      "Currently evaluating params:\n",
      "{'max_depth': 8, 'min_samples_leaf': 4, 'min_samples_split': 20}\n",
      "score: 0.6360159831227487\n",
      "Currently evaluating params:\n",
      "{'max_depth': 30, 'min_samples_leaf': 5, 'min_samples_split': 2}\n",
      "score: 0.6292458868622335\n"
     ]
    },
    {
     "name": "stderr",
     "output_type": "stream",
     "text": [
      "/Users/atharva/.pyenv/versions/anaconda3-2019.03/lib/python3.7/site-packages/skopt/optimizer/optimizer.py:399: UserWarning: The objective has been evaluated at this point before.\n",
      "  warnings.warn(\"The objective has been evaluated \"\n"
     ]
    },
    {
     "name": "stdout",
     "output_type": "stream",
     "text": [
      "Currently evaluating params:\n",
      "{'max_depth': 8, 'min_samples_leaf': 4, 'min_samples_split': 20}\n",
      "score: 0.6360159831227487\n"
     ]
    },
    {
     "name": "stderr",
     "output_type": "stream",
     "text": [
      "/Users/atharva/.pyenv/versions/anaconda3-2019.03/lib/python3.7/site-packages/skopt/optimizer/optimizer.py:399: UserWarning: The objective has been evaluated at this point before.\n",
      "  warnings.warn(\"The objective has been evaluated \"\n"
     ]
    },
    {
     "name": "stdout",
     "output_type": "stream",
     "text": [
      "Currently evaluating params:\n",
      "{'max_depth': 8, 'min_samples_leaf': 8, 'min_samples_split': 20}\n",
      "score: 0.6282338549148779\n"
     ]
    },
    {
     "name": "stderr",
     "output_type": "stream",
     "text": [
      "/Users/atharva/.pyenv/versions/anaconda3-2019.03/lib/python3.7/site-packages/skopt/optimizer/optimizer.py:399: UserWarning: The objective has been evaluated at this point before.\n",
      "  warnings.warn(\"The objective has been evaluated \"\n"
     ]
    },
    {
     "name": "stdout",
     "output_type": "stream",
     "text": [
      "Currently evaluating params:\n",
      "{'max_depth': 8, 'min_samples_leaf': 4, 'min_samples_split': 20}\n",
      "score: 0.6360159831227487\n"
     ]
    },
    {
     "name": "stderr",
     "output_type": "stream",
     "text": [
      "/Users/atharva/.pyenv/versions/anaconda3-2019.03/lib/python3.7/site-packages/skopt/optimizer/optimizer.py:399: UserWarning: The objective has been evaluated at this point before.\n",
      "  warnings.warn(\"The objective has been evaluated \"\n"
     ]
    },
    {
     "name": "stdout",
     "output_type": "stream",
     "text": [
      "Currently evaluating params:\n",
      "{'max_depth': 8, 'min_samples_leaf': 4, 'min_samples_split': 20}\n",
      "score: 0.6360159831227487\n",
      "Currently evaluating params:\n",
      "{'max_depth': 30, 'min_samples_leaf': 8, 'min_samples_split': 20}\n",
      "score: 0.6216274050057167\n",
      "Currently evaluating params:\n",
      "{'max_depth': 8, 'min_samples_leaf': 3, 'min_samples_split': 4}\n",
      "score: 0.6327641550189279\n",
      "Currently evaluating params:\n",
      "{'max_depth': 30, 'min_samples_leaf': 4, 'min_samples_split': 2}\n",
      "score: 0.6259049038534973\n"
     ]
    },
    {
     "name": "stderr",
     "output_type": "stream",
     "text": [
      "/Users/atharva/.pyenv/versions/anaconda3-2019.03/lib/python3.7/site-packages/skopt/optimizer/optimizer.py:399: UserWarning: The objective has been evaluated at this point before.\n",
      "  warnings.warn(\"The objective has been evaluated \"\n"
     ]
    },
    {
     "name": "stdout",
     "output_type": "stream",
     "text": [
      "Currently evaluating params:\n",
      "{'max_depth': 8, 'min_samples_leaf': 4, 'min_samples_split': 20}\n",
      "score: 0.6360159831227487\n"
     ]
    },
    {
     "name": "stderr",
     "output_type": "stream",
     "text": [
      "/Users/atharva/.pyenv/versions/anaconda3-2019.03/lib/python3.7/site-packages/skopt/optimizer/optimizer.py:399: UserWarning: The objective has been evaluated at this point before.\n",
      "  warnings.warn(\"The objective has been evaluated \"\n"
     ]
    },
    {
     "name": "stdout",
     "output_type": "stream",
     "text": [
      "Currently evaluating params:\n",
      "{'max_depth': 8, 'min_samples_leaf': 4, 'min_samples_split': 20}\n",
      "score: 0.6360159831227487\n"
     ]
    },
    {
     "name": "stderr",
     "output_type": "stream",
     "text": [
      "/Users/atharva/.pyenv/versions/anaconda3-2019.03/lib/python3.7/site-packages/skopt/optimizer/optimizer.py:399: UserWarning: The objective has been evaluated at this point before.\n",
      "  warnings.warn(\"The objective has been evaluated \"\n"
     ]
    },
    {
     "name": "stdout",
     "output_type": "stream",
     "text": [
      "Currently evaluating params:\n",
      "{'max_depth': 8, 'min_samples_leaf': 3, 'min_samples_split': 2}\n",
      "score: 0.6327641550189279\n"
     ]
    },
    {
     "name": "stderr",
     "output_type": "stream",
     "text": [
      "/Users/atharva/.pyenv/versions/anaconda3-2019.03/lib/python3.7/site-packages/skopt/optimizer/optimizer.py:399: UserWarning: The objective has been evaluated at this point before.\n",
      "  warnings.warn(\"The objective has been evaluated \"\n"
     ]
    },
    {
     "name": "stdout",
     "output_type": "stream",
     "text": [
      "Currently evaluating params:\n",
      "{'max_depth': 8, 'min_samples_leaf': 4, 'min_samples_split': 20}\n",
      "score: 0.6360159831227487\n",
      "Currently evaluating params:\n",
      "{'max_depth': 8, 'min_samples_leaf': 2, 'min_samples_split': 20}\n",
      "score: 0.6316720885718226\n"
     ]
    },
    {
     "name": "stderr",
     "output_type": "stream",
     "text": [
      "/Users/atharva/.pyenv/versions/anaconda3-2019.03/lib/python3.7/site-packages/skopt/optimizer/optimizer.py:399: UserWarning: The objective has been evaluated at this point before.\n",
      "  warnings.warn(\"The objective has been evaluated \"\n"
     ]
    },
    {
     "name": "stdout",
     "output_type": "stream",
     "text": [
      "Currently evaluating params:\n",
      "{'max_depth': 8, 'min_samples_leaf': 4, 'min_samples_split': 20}\n",
      "score: 0.6360159831227487\n"
     ]
    },
    {
     "name": "stderr",
     "output_type": "stream",
     "text": [
      "/Users/atharva/.pyenv/versions/anaconda3-2019.03/lib/python3.7/site-packages/skopt/optimizer/optimizer.py:399: UserWarning: The objective has been evaluated at this point before.\n",
      "  warnings.warn(\"The objective has been evaluated \"\n"
     ]
    },
    {
     "name": "stdout",
     "output_type": "stream",
     "text": [
      "Currently evaluating params:\n",
      "{'max_depth': 8, 'min_samples_leaf': 8, 'min_samples_split': 2}\n",
      "score: 0.6291492630659807\n",
      "Currently evaluating params:\n",
      "{'max_depth': 30, 'min_samples_leaf': 6, 'min_samples_split': 2}\n",
      "score: 0.626340813508253\n"
     ]
    },
    {
     "name": "stderr",
     "output_type": "stream",
     "text": [
      "/Users/atharva/.pyenv/versions/anaconda3-2019.03/lib/python3.7/site-packages/skopt/optimizer/optimizer.py:399: UserWarning: The objective has been evaluated at this point before.\n",
      "  warnings.warn(\"The objective has been evaluated \"\n"
     ]
    },
    {
     "name": "stdout",
     "output_type": "stream",
     "text": [
      "Currently evaluating params:\n",
      "{'max_depth': 8, 'min_samples_leaf': 8, 'min_samples_split': 20}\n",
      "score: 0.6282338549148779\n",
      "Elapsed computation time: 10.936 mins\n",
      "Best score: 0.6372562019921614\n",
      "Best params: {'max_depth': 8, 'min_samples_leaf': 4, 'min_samples_split': 2}\n"
     ]
    }
   ],
   "source": [
    "def objective_dtc(params):\n",
    "    clf = DecisionTreeClassifier(\n",
    "        max_depth = params[0],\n",
    "        min_samples_leaf = params[1],\n",
    "        min_samples_split = params[2],\n",
    "        random_state = 42\n",
    "    )\n",
    "    score = my_cross_val_score(clf, X=X_train_sample, y=y_train_sample)\n",
    "    print (\"Currently evaluating params:\")\n",
    "    print({\n",
    "      \"max_depth\": params[0],\n",
    "      \"min_samples_leaf\": params[1],\n",
    "      \"min_samples_split\": params[2]\n",
    "    })\n",
    "    print (\"score: \" + str(score))\n",
    "    return -score\n",
    "start_time = time.time()\n",
    "dtc_opt_result = gp_minimize(\n",
    "    func=objective_dtc,\n",
    "    dimensions=[\n",
    "        (8, 30),\n",
    "        (1, 10),\n",
    "        (2, 20)\n",
    "    ],\n",
    "    random_state=42\n",
    ")\n",
    "elapsed_time = (time.time() - start_time) / 60\n",
    "print('Elapsed computation time: {:.3f} mins'.format(elapsed_time))\n",
    "best_params_list_dtc = dtc_opt_result.x\n",
    "best_score_dtc = -dtc_opt_result.fun\n",
    "best_params_dtc = {\n",
    "    \"max_depth\": best_params_list_dtc[0],\n",
    "    \"min_samples_leaf\": best_params_list_dtc[1],\n",
    "    \"min_samples_split\": best_params_list_dtc[2]\n",
    "}\n",
    "print (\"Best score: \" + str(best_score_dtc))\n",
    "print (\"Best params: \" + str(best_params_dtc))"
   ]
  },
  {
   "cell_type": "code",
   "execution_count": 16,
   "metadata": {
    "colab": {},
    "colab_type": "code",
    "id": "Xg4Jd7ECyk-g"
   },
   "outputs": [],
   "source": [
    "dtc = DecisionTreeClassifier()\n",
    "best_params_dtc = {'max_depth': 8, 'min_samples_leaf': 4, 'min_samples_split': 2, 'random_state': 42}\n",
    "dtc.set_params(**best_params_dtc)\n",
    "dtc.fit(X=X_train.drop(columns=[\"listing_id\"]), y=y_train.drop(columns=[\"listing_id\"]))\n",
    "pickle.dump(dtc, open(data_dir + '/dtc_best.pkl', 'wb'))"
   ]
  },
  {
   "cell_type": "markdown",
   "metadata": {
    "colab_type": "text",
    "id": "zZQsmGobyFn_"
   },
   "source": [
    "## Ensemble Learners"
   ]
  },
  {
   "cell_type": "markdown",
   "metadata": {
    "colab_type": "text",
    "id": "JWep1DD0lXFH"
   },
   "source": [
    "### Extreme Gradient Boosting (XGBoost)"
   ]
  },
  {
   "cell_type": "code",
   "execution_count": null,
   "metadata": {
    "colab": {},
    "colab_type": "code",
    "id": "10FalIJSFWlq"
   },
   "outputs": [
    {
     "name": "stdout",
     "output_type": "stream",
     "text": [
      "\r",
      "  0%|          | 0/25 [00:00<?, ?it/s, best loss: ?]"
     ]
    }
   ],
   "source": [
    "def objective_xgb(params):\n",
    "    clf = XGBClassifier()\n",
    "    clf.set_params(**params)    \n",
    "    score = my_cross_val_score(clf, X=X_train_sample, y=y_train_sample)\n",
    "    print(params)\n",
    "    print(\"score: \" + str(score))\n",
    "    return -score\n",
    "\n",
    "xgb_param_space = {    \n",
    "    \"max_depth\": hp.choice(\"max_depth\", range(4,11,1)),\n",
    "    \"n_estimators\": hp.choice(\"n_estimators\", range(100, 501, 100)),\n",
    "    \"random_state\": hp.choice(\"random_state\", [42])\n",
    "}\n",
    "start_time = time.time()\n",
    "best_params_xgb = space_eval(xgb_param_space, fmin(objective_xgb, xgb_param_space, algo=tpe.suggest, max_evals=25))\n",
    "elapsed_time = (time.time() - start_time) / 60\n",
    "print('Elapsed computation time: {:.3f} mins'.format(elapsed_time))\n",
    "print (\"Best params: \")\n",
    "print (best_params_xgb)\n",
    "xgb = XGBClassifier()\n",
    "xgb.set_params(**best_params_xgb)\n",
    "xgb.fit(X=X_train.drop(columns=[\"listing_id\"]), y=y_train.drop(columns=[\"listing_id\"]).values.ravel())\n",
    "pickle.dump(gb, open(data_dir + '/xgb_best.pkl', 'wb'))"
   ]
  },
  {
   "cell_type": "code",
   "execution_count": null,
   "metadata": {},
   "outputs": [],
   "source": [
    "print (best_params_xgb)"
   ]
  },
  {
   "cell_type": "markdown",
   "metadata": {
    "colab_type": "text",
    "id": "xzjK61a0yFoH"
   },
   "source": [
    "### Gradient Boost"
   ]
  },
  {
   "cell_type": "code",
   "execution_count": null,
   "metadata": {
    "colab": {},
    "colab_type": "code",
    "id": "L9_PB6UPGrKL"
   },
   "outputs": [
    {
     "name": "stdout",
     "output_type": "stream",
     "text": [
      "{'max_depth': 6, 'n_estimators': 600, 'random_state': 42}\n",
      "score: 0.6923144019436998                           \n",
      "{'max_depth': 7, 'n_estimators': 400, 'random_state': 42}                        \n",
      "score: 0.6976229557245273                                                        \n",
      "{'max_depth': 10, 'n_estimators': 400, 'random_state': 42}                       \n",
      "score: 0.7010499157605944                                                        \n",
      "{'max_depth': 5, 'n_estimators': 600, 'random_state': 42}                         \n",
      "score: 0.6906034330317485                                                           \n",
      "{'max_depth': 4, 'n_estimators': 900, 'random_state': 42}                           \n",
      "score: 0.689915674179244                                                           \n",
      "{'max_depth': 6, 'n_estimators': 1000, 'random_state': 42}                         \n",
      "score: 0.6907171332374892                                                          \n",
      "{'max_depth': 8, 'n_estimators': 700, 'random_state': 42}                           \n",
      "score: 0.6976428886172157                                                           \n",
      "{'max_depth': 4, 'n_estimators': 300, 'random_state': 42}                           \n",
      "score: 0.6874841282494166                                                           \n",
      "{'max_depth': 4, 'n_estimators': 700, 'random_state': 42}                           \n",
      "score: 0.6903526183939915                                                          \n",
      "{'max_depth': 4, 'n_estimators': 500, 'random_state': 42}                          \n",
      "score: 0.6902108843596138                                                          \n",
      "{'max_depth': 4, 'n_estimators': 300, 'random_state': 42}                           \n",
      "score: 0.6874841282494166                                                           \n",
      "{'max_depth': 5, 'n_estimators': 500, 'random_state': 42}                           \n",
      "score: 0.6917332887538841                                                           \n",
      "{'max_depth': 6, 'n_estimators': 900, 'random_state': 42}                           \n",
      "score: 0.6904818962072978                                                           \n",
      "{'max_depth': 4, 'n_estimators': 900, 'random_state': 42}                           \n",
      "score: 0.689915674179244                                                            \n",
      "{'max_depth': 8, 'n_estimators': 900, 'random_state': 42}                           \n",
      "score: 0.693895026807924                                                            \n",
      "{'max_depth': 3, 'n_estimators': 1000, 'random_state': 42}                           \n",
      "score: 0.6891748574719012                                                            \n",
      "{'max_depth': 6, 'n_estimators': 300, 'random_state': 42}                            \n",
      "score: 0.6961004533667362                                                            \n",
      "{'max_depth': 6, 'n_estimators': 800, 'random_state': 42}                            \n",
      "score: 0.6908253054027389                                                           \n",
      "{'max_depth': 8, 'n_estimators': 200, 'random_state': 42}                           \n",
      "score: 0.6988103912356893                                                           \n",
      "{'max_depth': 7, 'n_estimators': 900, 'random_state': 42}                           \n",
      "score: 0.694355600283265                                                            \n",
      "{'max_depth': 10, 'n_estimators': 200, 'random_state': 42}                           \n",
      "score: 0.7015920631685323                                                            \n",
      "{'max_depth': 10, 'n_estimators': 100, 'random_state': 42}                           \n",
      "score: 0.6988824827478066                                                            \n",
      "{'max_depth': 10, 'n_estimators': 400, 'random_state': 42}                           \n",
      "score: 0.7010499157605944                                                         \n",
      "{'max_depth': 2, 'n_estimators': 200, 'random_state': 42}                          \n",
      "score: 0.6637784068868291                                                          \n",
      "{'max_depth': 10, 'n_estimators': 200, 'random_state': 42}                         \n",
      "score: 0.7015920631685323                                                         \n",
      "100%|██████████| 25/25 [6:23:10<00:00, 840.39s/it, best loss: -0.7015920631685323]\n",
      "Elapsed computation time: 383.200 mins\n",
      "Best params: \n",
      "{'max_depth': 10, 'n_estimators': 200, 'random_state': 42}\n"
     ]
    }
   ],
   "source": [
    "def objective_gb(params):\n",
    "    clf = GradientBoostingClassifier()\n",
    "    clf.set_params(**params)    \n",
    "    score = my_cross_val_score(clf, X=X_train_sample, y=y_train_sample)\n",
    "    print(params)\n",
    "    print(\"score: \" + str(score))\n",
    "    return -score\n",
    "\n",
    "gb_param_space = {    \n",
    "    \"max_depth\": hp.choice(\"max_depth\", range(2, 11, 1)),\n",
    "    \"n_estimators\": hp.choice(\"n_estimators\", range(100, 1001, 100)),\n",
    "    \"random_state\": hp.choice(\"random_state\", [42])\n",
    "}\n",
    "start_time = time.time()\n",
    "best_params_gb = space_eval(gb_param_space, fmin(objective_gb, gb_param_space, algo=tpe.suggest, max_evals=25))\n",
    "elapsed_time = (time.time() - start_time) / 60\n",
    "print('Elapsed computation time: {:.3f} mins'.format(elapsed_time))\n",
    "print (\"Best params: \")\n",
    "print (best_params_gb)\n",
    "gb = GradientBoostingClassifier()\n",
    "gb.set_params(**best_params_gb)\n",
    "gb.fit(X=X_train.drop(columns=[\"listing_id\"]), y=y_train.drop(columns=[\"listing_id\"]).values.ravel())\n",
    "pickle.dump(gb, open(data_dir + '/gb_best.pkl', 'wb'))"
   ]
  },
  {
   "cell_type": "markdown",
   "metadata": {
    "colab_type": "text",
    "id": "C4sZ8a7qyFoA"
   },
   "source": [
    "### AdaBoost"
   ]
  },
  {
   "cell_type": "code",
   "execution_count": null,
   "metadata": {
    "colab": {},
    "colab_type": "code",
    "id": "J3dlw7gAyFoB"
   },
   "outputs": [],
   "source": [
    "def objective_ada(params):\n",
    "    clf = AdaBoostClassifier(DecisionTreeClassifier())\n",
    "    clf.set_params(**params)    \n",
    "    score = my_cross_val_score(clf, X=X_train_sample, y=y_train_sample)\n",
    "    print(params)\n",
    "    print(\"score: \" + str(score))\n",
    "    return -score\n",
    "ada_param_space = {\n",
    "    \"base_estimator__max_depth\": hp.choice(\"base_estimator__max_depth\", range(2,11,1)),\n",
    "    \"n_estimators\": hp.choice(\"n_estimators\", range(100, 1001, 100)),\n",
    "    \"random_state\": hp.choice(\"random_state\", [42])\n",
    "}\n",
    "start_time = time.time()\n",
    "best_params_ada = space_eval(ada_param_space, fmin(objective_ada, ada_param_space, algo=tpe.suggest, max_evals=25))\n",
    "elapsed_time = (time.time() - start_time) / 60\n",
    "print('Elapsed computation time: {:.3f} mins'.format(elapsed_time))\n",
    "print (\"Best params: \")\n",
    "print (best_params_ada)\n",
    "ada = AdaBoostClassifier(DecisionTreeClassifier())\n",
    "ada.set_params(**best_params_ada)\n",
    "ada.fit(X=X_train.drop(columns=[\"listing_id\"]), y=y_train.drop(columns=[\"listing_id\"]))\n",
    "pickle.dump(ada, open(data_dir + '/ada_best.pkl', 'wb'))"
   ]
  },
  {
   "cell_type": "markdown",
   "metadata": {
    "colab_type": "text",
    "id": "oHoXclxZyFoM"
   },
   "source": [
    "## Support Vector Machine"
   ]
  },
  {
   "cell_type": "markdown",
   "metadata": {
    "colab_type": "text",
    "id": "dUFS1poxIizF"
   },
   "source": [
    "The execution of even one iteration of of this algorithm appears to be very slow on this dataset. I have just kept this here for reference in case I want to try it in future."
   ]
  },
  {
   "cell_type": "code",
   "execution_count": 0,
   "metadata": {
    "colab": {},
    "colab_type": "code",
    "id": "z8g0jV5eyFoM"
   },
   "outputs": [],
   "source": [
    "# def objective_svm(params):\n",
    "#     clf = SVC()\n",
    "#     clf.set_params(**params)\n",
    "#     score = my_cross_val_score(clf, X=X_train_sample, y=y_train_sample)\n",
    "#     print(params)\n",
    "#     print(\"score: \" + str(score))\n",
    "#     return -score\n",
    "# svm_param_space = {\n",
    "#     \"kernel\": hp.choice(\"kernel\", ['rbf']),\n",
    "#     \"gamma\": hp.choice(\"gamma\", [0.001, 0.005, 0.01, 0.1, 1]),\n",
    "#     \"C\": hp.choice(\"C\", [1, 5, 10, 50, 100, 500, 1000]),\n",
    "#     \"random_state\": hp.choice(\"random_state\", [42]),\n",
    "  \n",
    "# }\n",
    "# start_time = time.time()\n",
    "# best_params_svm = space_eval(svm_param_space, fmin(objective_svm, svm_param_space, algo=tpe.suggest, max_evals=50))\n",
    "# elapsed_time = (time.time() - start_time) / 60\n",
    "# print('Elapsed computation time: {:.3f} mins'.format(elapsed_time))\n",
    "# print (\"Best params: \")\n",
    "# print (best_params_svm)\n",
    "# svm = SVC()\n",
    "# best_params_svm[\"probability\"] = True\n",
    "# svm.set_params(**best_params_svm)\n",
    "# svm.fit(X=X_train.drop(columns=[\"listing_id\"]), y=y_train.drop(columns=[\"listing_id\"]).values.ravel())\n",
    "# pickle.dump(svm, open(data_dir + '/svm_best.pkl', 'wb'))"
   ]
  },
  {
   "cell_type": "markdown",
   "metadata": {
    "colab_type": "text",
    "id": "gujejNkkyFoO"
   },
   "source": [
    "## Neural Network with Keras"
   ]
  },
  {
   "cell_type": "markdown",
   "metadata": {
    "colab_type": "text",
    "id": "yFJ8DoLOjYE_"
   },
   "source": [
    "For deciding number of hidden layers and number of neurons in each layer, I followed following rules of thumb suggested by some ML researches on discussion forums related to machine learning and statistics.\n",
    "- The number of hidden neurons should be between the size of the input layer and the size of the output layer.\n",
    "- The number of hidden neurons should be 2/3 the size of the input layer, plus the size of the output layer.\n",
    "- The number of hidden neurons should be less than twice the size of the input layer.  \n",
    "\n",
    "While these values can be a good starting point, the most optimal values for number and width of hidden layers can be decided by treating those numbers as hyperparameters to be tuned."
   ]
  },
  {
   "cell_type": "code",
   "execution_count": 12,
   "metadata": {
    "colab": {},
    "colab_type": "code",
    "id": "FQiNCpwfyFoO"
   },
   "outputs": [],
   "source": [
    "def make_model(n_features, n_hidden_layers, n_neurons_per_layer, reduction_in_num_of_neurons_per_layer, learn_rate):\n",
    "    model = Sequential()    \n",
    "    model.add(Dense(n_neurons_per_layer, input_shape=(n_features,), kernel_initializer='glorot_normal'))\n",
    "    model.add(Activation('relu'))\n",
    "    model.add(BatchNormalization())\n",
    "    model.add(Dropout(0.5))\n",
    "    \n",
    "    for i in range(1, n_hidden_layers):\n",
    "      model.add(Dense(int(n_neurons_per_layer * (1-reduction_in_num_of_neurons_per_layer)), kernel_initializer='glorot_normal'))\n",
    "      model.add(Activation('relu'))\n",
    "      model.add(BatchNormalization())\n",
    "      model.add(Dropout(0.5))\n",
    "    \n",
    "    model.add(Dense(1, activation='sigmoid'))\n",
    "    \n",
    "    model.compile(loss='binary_crossentropy',\n",
    "                optimizer=Adam(lr=learn_rate),\n",
    "                metrics=['acc'])\n",
    "    return model"
   ]
  },
  {
   "cell_type": "markdown",
   "metadata": {
    "colab_type": "text",
    "id": "EmCjgWC57yn9"
   },
   "source": [
    "### Hyper Parameter Tuner for Deep Learning model\n",
    "\n"
   ]
  },
  {
   "cell_type": "code",
   "execution_count": 10,
   "metadata": {
    "colab": {},
    "colab_type": "code",
    "id": "uTGBuaLD4Fks"
   },
   "outputs": [],
   "source": [
    "class HyperTuner(object):\n",
    "    \n",
    "    def __init__(self, param_grid, cv=3):\n",
    "        self.param_grid = param_grid\n",
    "        self.best_score = -math.inf\n",
    "        self.best_estimator_scores_median = -math.inf\n",
    "        self.best_estimator_scores_mean = -math.inf\n",
    "        self.best_estimator_scores_stdev = -math.inf\n",
    "        self.best_params= None\n",
    "        self.cv = cv       \n",
    "    \n",
    "    def fit(self, X, y):\n",
    "        for param_point in self.get_param_grid_points():\n",
    "            print (\"Evaluating Parameter Values:\")\n",
    "            print (param_point)\n",
    "            def splits(array, k):\n",
    "                splits = []\n",
    "                \n",
    "                for i in range(k):\n",
    "                    split_length = math.ceil(len(array)/k)\n",
    "                    split = []\n",
    "                    for j in range(i * split_length, (i+1) * split_length):\n",
    "                        if j < len(array):\n",
    "                            split.append(array[j])\n",
    "                        \n",
    "                    splits.append(split)\n",
    "                cvs = []\n",
    "                for i, split in enumerate(splits):\n",
    "                    train = []\n",
    "                    for j, other_split in enumerate(splits):\n",
    "                        if i != j:\n",
    "                            train += other_split\n",
    "                    test = [] + split\n",
    "                    cvs.append((train, test))\n",
    "                return cvs\n",
    "                    \n",
    "            scores_for_point = []\n",
    "            n_features = len(X.drop(columns=[\"listing_id\"]).columns)\n",
    "            n_hidden_layers = param_point[\"n_hidden_layers\"]\n",
    "            n_neurons_per_layer = param_point[\"n_neurons_per_layer\"]\n",
    "            reduction_in_num_of_neurons_per_layer = param_point[\"reduction_in_num_of_neurons_per_layer\"]\n",
    "            learn_rate = param_point[\"learn_rate\"]\n",
    "\n",
    "            for l_train, l_test in splits(list(X[\"listing_id\"].unique()), k=self.cv):   \n",
    "                model = make_model(n_features, n_hidden_layers, n_neurons_per_layer, reduction_in_num_of_neurons_per_layer, learn_rate)             \n",
    "                X_train = X.query(\"listing_id in @l_train\").drop(columns=[\"listing_id\"])\n",
    "                X_test = X.query(\"listing_id in @l_test\").drop(columns=[\"listing_id\"])\n",
    "                y_train = y.query(\"listing_id in @l_train\").drop(columns=[\"listing_id\"])\n",
    "                y_test = y.query(\"listing_id in @l_test\").drop(columns=[\"listing_id\"])                \n",
    "                model.fit(X_train, y_train, validation_data=(X_test, y_test), epochs=50, verbose=0,\n",
    "                callbacks=[\n",
    "                  EarlyStopping(monitor='val_loss', verbose=0, patience=3),\n",
    "                  ModelCheckpoint(data_dir + '/nn_best_model_temp.h5', monitor='val_loss', verbose=0)\n",
    "                 ])\n",
    "                model.load_weights(data_dir + \"/nn_best_model_temp.h5\")\n",
    "                y_preds = model.predict_classes(X_test)\n",
    "                f1_score_1 = f1_score(y_test, y_preds, pos_label=True)\n",
    "                f1_score_0 = f1_score(y_test, y_preds, pos_label=False)\n",
    "                score = min([f1_score_1, f1_score_0])\n",
    "                scores_for_point.append(score)\n",
    "                gc.collect()\n",
    "                \n",
    "            median_score = np.median(scores_for_point)\n",
    "            \n",
    "            print (\"Done evaluation param point.\\nScore: \" + str(median_score))\n",
    "            print (\"-------------------------------------\")\n",
    "            if median_score > self.best_estimator_scores_median:\n",
    "                self.best_estimator_scores_mean = np.mean(scores_for_point)\n",
    "                self.best_estimator_scores_median = median_score\n",
    "                self.best_estimator_scores_stdev = np.std(scores_for_point)\n",
    "                self.best_params = param_point\n",
    "                self.best_score = self.best_estimator_scores_median\n",
    "            gc.collect()\n",
    "            \n",
    "        print (\"Finished evaluating all values for hyper parameters.\")\n",
    "        print (\"Best Parameter Values:\")\n",
    "        print (self.best_params)\n",
    "        print (\"Best Score (median of validation scores): \" + str(median_score))\n",
    "        gc.collect()\n",
    "            \n",
    "    def get_param_grid_points(self):\n",
    "        points = [{}]\n",
    "        for param, values in self.param_grid.items():\n",
    "            new_points = []\n",
    "            for point in points:\n",
    "                for value in values:                    \n",
    "                    new_point = point.copy()\n",
    "                    new_point[param]= value\n",
    "                    new_points.append(new_point)\n",
    "            points = new_points\n",
    "        return points\n",
    "    \n",
    "    def print_best(self):\n",
    "        print(\"Best score (median of validation scores):\")\n",
    "        print(self.best_score)\n",
    "        print(\"Best params:\")\n",
    "        print(self.best_params)\n",
    "        print(\"Best estimator scores mean:\")\n",
    "        print(self.best_estimator_scores_mean)\n",
    "        print(\"Best estimator scores stdev:\")\n",
    "        print(self.best_estimator_scores_stdev)"
   ]
  },
  {
   "cell_type": "code",
   "execution_count": 14,
   "metadata": {},
   "outputs": [
    {
     "data": {
      "text/plain": [
       "49"
      ]
     },
     "execution_count": 14,
     "metadata": {},
     "output_type": "execute_result"
    }
   ],
   "source": [
    "gc.collect()"
   ]
  },
  {
   "cell_type": "code",
   "execution_count": 15,
   "metadata": {
    "colab": {},
    "colab_type": "code",
    "id": "ic6SwXikEkR8"
   },
   "outputs": [
    {
     "name": "stdout",
     "output_type": "stream",
     "text": [
      "Evaluating Parameter Values:\n",
      "{'n_hidden_layers': 3, 'n_neurons_per_layer': 100, 'reduction_in_num_of_neurons_per_layer': 0.2, 'learn_rate': 0.01}\n",
      "Done evaluation param point.\n",
      "Score: 0.1502380851154288\n",
      "-------------------------------------\n",
      "Evaluating Parameter Values:\n",
      "{'n_hidden_layers': 5, 'n_neurons_per_layer': 100, 'reduction_in_num_of_neurons_per_layer': 0.2, 'learn_rate': 0.01}\n",
      "Done evaluation param point.\n",
      "Score: 0.5409145039033704\n",
      "-------------------------------------\n",
      "Evaluating Parameter Values:\n",
      "{'n_hidden_layers': 7, 'n_neurons_per_layer': 100, 'reduction_in_num_of_neurons_per_layer': 0.2, 'learn_rate': 0.01}\n",
      "Done evaluation param point.\n",
      "Score: 0.46514626249892554\n",
      "-------------------------------------\n",
      "Finished evaluating all values for hyper parameters.\n",
      "Best Parameter Values:\n",
      "{'n_hidden_layers': 5, 'n_neurons_per_layer': 100, 'reduction_in_num_of_neurons_per_layer': 0.2, 'learn_rate': 0.01}\n",
      "Best Score (median of validation scores): 0.46514626249892554\n"
     ]
    }
   ],
   "source": [
    "# I have fixed hyper parameters to save time and memory consumption\n",
    "# they can be tested by specifying values in the range as shown in comments\n",
    "\n",
    "hyper_tuner = HyperTuner(param_grid={\n",
    "    \"n_hidden_layers\": [3,5,7], # [3,4,5]\n",
    "    \"n_neurons_per_layer\": [100], # [50, 100, 150, 200]\n",
    "    \"reduction_in_num_of_neurons_per_layer\": [0.2], # [0, 0.1, 0.2, 0.5]\n",
    "    \"learn_rate\": [0.01] # [0.001, 0.01, 0.1]\n",
    "}, cv=3)\n",
    "hyper_tuner.fit(X_train, y_train)"
   ]
  },
  {
   "cell_type": "code",
   "execution_count": 16,
   "metadata": {
    "colab": {},
    "colab_type": "code",
    "id": "RZB2dv4-SG0i"
   },
   "outputs": [
    {
     "name": "stdout",
     "output_type": "stream",
     "text": [
      "Best score (median of validation scores):\n",
      "0.5409145039033704\n",
      "Best params:\n",
      "{'n_hidden_layers': 5, 'n_neurons_per_layer': 100, 'reduction_in_num_of_neurons_per_layer': 0.2, 'learn_rate': 0.01}\n",
      "Best estimator scores mean:\n",
      "0.39701294453662844\n",
      "Best estimator scores stdev:\n",
      "0.21361699787078586\n"
     ]
    }
   ],
   "source": [
    "hyper_tuner.print_best()"
   ]
  },
  {
   "cell_type": "markdown",
   "metadata": {
    "colab_type": "text",
    "id": "pJ-_OdCQEOV8"
   },
   "source": [
    "Preparing the best model with optimal values of hyper parameters.\n",
    "\n",
    "- I have used Early stopping to prevent the neural network overfit to the training data while being trained on same data through multiple epochs.  \n",
    "- I have also used ModelCheckpoint that saves the weights of last best performing model, so that I can set early stopping patience to greater zero and it allows a few epochs to be executed to confirm that the performance of model on unseen data is unlikely to improve by running any more epochs."
   ]
  },
  {
   "cell_type": "code",
   "execution_count": null,
   "metadata": {
    "colab": {},
    "colab_type": "code",
    "id": "f4mSJXo9EJUi"
   },
   "outputs": [],
   "source": [
    "n_features = len(X_train.drop(columns=[\"listing_id\"]).columns)\n",
    "n_hidden_layers = hyper_tuner.best_params[\"n_hidden_layers\"]\n",
    "n_neurons_per_layer = hyper_tuner.best_params[\"n_neurons_per_layer\"]\n",
    "reduction_in_num_of_neurons_per_layer = hyper_tuner.best_params[\"reduction_in_num_of_neurons_per_layer\"]\n",
    "learn_rate = 0.01           \n",
    "nn_model = make_model(n_features, n_hidden_layers, n_neurons_per_layer, reduction_in_num_of_neurons_per_layer, learn_rate)\n",
    "validation_listing_ids = list(X_train[[\"listing_id\"]].drop_duplicates([\"listing_id\"]).sample(frac=0.1)[\"listing_id\"])\n",
    "X_val_nn = X_train.query(\"listing_id in @validation_listing_ids\").drop(columns=[\"listing_id\"])\n",
    "y_val_nn = y_train.query(\"listing_id in @validation_listing_ids\").drop(columns=[\"listing_id\"])\n",
    "X_train_nn = X_train.query(\"listing_id not in @validation_listing_ids\").drop(columns=[\"listing_id\"])\n",
    "y_train_nn = y_train.query(\"listing_id not in @validation_listing_ids\").drop(columns=[\"listing_id\"])       \n",
    "nn_model.fit(X_train_nn, y_train_nn, validation_data=(X_val_nn, y_val_nn), epochs=50, verbose=1,\n",
    "        callbacks=[\n",
    "          EarlyStopping(monitor='val_loss', verbose=1, patience=5),\n",
    "          ModelCheckpoint(data_dir + '/nn_best_model_cv.h5', monitor='val_loss', verbose=1)\n",
    "        ])"
   ]
  },
  {
   "cell_type": "code",
   "execution_count": null,
   "metadata": {
    "colab": {},
    "colab_type": "code",
    "id": "L3x72Fb-HgA9"
   },
   "outputs": [],
   "source": [
    "nn_model.load_weights(data_dir + '/nn_best_model_cv.h5')"
   ]
  },
  {
   "cell_type": "markdown",
   "metadata": {
    "colab_type": "text",
    "id": "TaYcH-S3yFof"
   },
   "source": [
    "## Prediction & Model Evaluation"
   ]
  },
  {
   "cell_type": "code",
   "execution_count": null,
   "metadata": {
    "colab": {},
    "colab_type": "code",
    "id": "GlqBxISCyFof"
   },
   "outputs": [],
   "source": [
    "X_test = pd.read_csv(data_dir + \"/X_test.csv\")\n",
    "y_test = pd.read_csv(data_dir + \"/y_test.csv\")"
   ]
  },
  {
   "cell_type": "markdown",
   "metadata": {
    "colab_type": "text",
    "id": "WK8LcQkCY8Tv"
   },
   "source": [
    "### Evaluating Neural Network"
   ]
  },
  {
   "cell_type": "code",
   "execution_count": null,
   "metadata": {
    "colab": {},
    "colab_type": "code",
    "id": "z-K5fkQ_yFom"
   },
   "outputs": [],
   "source": [
    "nn_model = load_model(data_dir + \"/nn_best_model_cv.h5\")"
   ]
  },
  {
   "cell_type": "code",
   "execution_count": null,
   "metadata": {
    "colab": {},
    "colab_type": "code",
    "id": "gGvXwKHuyFoq"
   },
   "outputs": [],
   "source": [
    "nn_model.evaluate(x=X_test,y=y_test)"
   ]
  },
  {
   "cell_type": "code",
   "execution_count": null,
   "metadata": {
    "colab": {},
    "colab_type": "code",
    "id": "5Df89mm0yFot"
   },
   "outputs": [],
   "source": [
    "nn_model.metrics_names"
   ]
  },
  {
   "cell_type": "code",
   "execution_count": null,
   "metadata": {
    "colab": {},
    "colab_type": "code",
    "id": "OgltpwJnyFov"
   },
   "outputs": [],
   "source": [
    "y_preds_nn = nn_model.predict_classes(X_test)"
   ]
  },
  {
   "cell_type": "code",
   "execution_count": null,
   "metadata": {
    "colab": {},
    "colab_type": "code",
    "id": "zyehxpAeyFoy"
   },
   "outputs": [],
   "source": [
    "f1 = f1_score(y_test, y_preds_nn, average=\"macro\")\n",
    "print (\"f1-score: \" + str(f1))"
   ]
  },
  {
   "cell_type": "code",
   "execution_count": null,
   "metadata": {
    "colab": {},
    "colab_type": "code",
    "id": "iiWq77uQcZtl"
   },
   "outputs": [],
   "source": [
    "nn_model.predict(X_test.iloc[0:5, :])"
   ]
  },
  {
   "cell_type": "markdown",
   "metadata": {
    "colab_type": "text",
    "id": "tr87BMLX9BHg"
   },
   "source": [
    "### Evaluating Ensemble Learners"
   ]
  },
  {
   "cell_type": "code",
   "execution_count": null,
   "metadata": {
    "colab": {},
    "colab_type": "code",
    "id": "s5sdzLiPyFok"
   },
   "outputs": [],
   "source": [
    "models = {\n",
    "    \"Extreme Gradient Boost\": data_dir + \"/xgb_best.pkl\",\n",
    "    \"Gradient Boost\": data_dir + \"/gb_best.pkl\",\n",
    "    \"Single Decision Tree\": data_dir + \"/dtc_best.pkl\",\n",
    "    #     \"Ada Boost\": data_dir + \"/ada_best.pkl\",\n",
    "    #     \"SVM\": data_dir + \"/svm_best.pkl\",\n",
    "}\n"
   ]
  },
  {
   "cell_type": "code",
   "execution_count": null,
   "metadata": {
    "colab": {},
    "colab_type": "code",
    "id": "pFWr0-GSrvzl"
   },
   "outputs": [],
   "source": [
    "for model_name in models.keys():\n",
    "    model_file_name = models[model_name]\n",
    "    model = pickle.load(open(model_file_name, 'rb'))\n",
    "    y_preds = model.predict(X_test)\n",
    "    f1 = f1_score(y_test, y_preds, average=\"macro\")\n",
    "    print (\"Model: \" + model_name + \" f1-score: \" + str(f1))"
   ]
  },
  {
   "cell_type": "markdown",
   "metadata": {
    "colab_type": "text",
    "id": "O-RQjqboyFob"
   },
   "source": [
    "### Model Interpretation"
   ]
  },
  {
   "cell_type": "code",
   "execution_count": null,
   "metadata": {
    "colab": {},
    "colab_type": "code",
    "id": "ttOFDaSryFod"
   },
   "outputs": [],
   "source": [
    "import pprint\n",
    "pp = pprint.PrettyPrinter(indent=4)\n",
    "def print_top10(feature_names, clf, class_labels):\n",
    "    \"\"\"Prints features with the highest coefficient values, per class\"\"\"\n",
    "    pp.pprint(sorted(list(zip(feature_names, clf.feature_importances_)), key=lambda x: x[1], \n",
    "reverse=True)[:20])\n",
    "\n",
    "for model_name in models.keys():\n",
    "    model_file_name = models[model_name]\n",
    "    model = pickle.load(open(model_file_name, 'rb'))\n",
    "    print(\"\\nModel: \" + model_name)\n",
    "    print(\"Best Params: \")\n",
    "    pp.pprint(model.get_params())\n",
    "    print(\"Top 10 Feature importances: \")\n",
    "    print_top10(X_train_sample.columns, model, model.classes_)"
   ]
  },
  {
   "cell_type": "markdown",
   "metadata": {
    "colab_type": "text",
    "id": "TcuK3o33yFo0"
   },
   "source": [
    "## Tuning the booking price of property"
   ]
  },
  {
   "cell_type": "markdown",
   "metadata": {
    "colab_type": "text",
    "id": "Z8JHJIIoY1bG"
   },
   "source": [
    "### Aim: Maximizing expected revneue from individual properties"
   ]
  },
  {
   "cell_type": "markdown",
   "metadata": {
    "colab_type": "text",
    "id": "3xxUHQRyyFo1"
   },
   "source": [
    "Here I tune the booking price of the property by looking at the probability of the property being booked at given price. If the probability is too low, I try increasing it by setting the price the of that property slightly low and see if it increases the probability. My goal is to maximize the profit of the company by maximizing expected revneue from individual properties. "
   ]
  },
  {
   "cell_type": "code",
   "execution_count": 0,
   "metadata": {
    "colab": {},
    "colab_type": "code",
    "id": "Cw2mk1H8yFo1"
   },
   "outputs": [],
   "source": [
    "Sequential.predict_proba = Sequential.predict"
   ]
  },
  {
   "cell_type": "code",
   "execution_count": 0,
   "metadata": {
    "colab": {},
    "colab_type": "code",
    "id": "kUAoK8EPyFo3"
   },
   "outputs": [],
   "source": [
    "import decimal\n",
    "\n",
    "def float_range(start, stop, step):\n",
    "    start = decimal.Decimal(start)\n",
    "    stop = decimal.Decimal(stop)\n",
    "    step = decimal.Decimal(step)\n",
    "    while (start < stop):\n",
    "        yield float(start)\n",
    "        start += step"
   ]
  },
  {
   "cell_type": "markdown",
   "metadata": {
    "colab_type": "text",
    "id": "PJyc81PlyFo4"
   },
   "source": [
    "As per the economic principle of price elasticity of demand, the quantity of a product demanded should be varying with changes in price like this curve if the demanded quantity is elastic to the price."
   ]
  },
  {
   "cell_type": "markdown",
   "metadata": {
    "colab_type": "text",
    "id": "Y9UGvjevyFo4"
   },
   "source": [
    "![Price Elasticity of Demand Curve](http://wikieducator.org/images/0/0f/Ed1.jpeg)"
   ]
  },
  {
   "cell_type": "markdown",
   "metadata": {
    "colab_type": "text",
    "id": "Um-wOQMpyFo5"
   },
   "source": [
    "In our case, the quantity of demand synonymous to the probability of the property being booked and the price is the booking price of the property. Let's try and check if some randomly selected properties from our dataset demonstrates price elasticity for probability of being booked."
   ]
  },
  {
   "cell_type": "markdown",
   "metadata": {
    "colab_type": "text",
    "id": "o33JjjeTyFo5"
   },
   "source": [
    "### Methods to calculate probability of a property being booked at given normalized price and market condition\n"
   ]
  },
  {
   "cell_type": "code",
   "execution_count": null,
   "metadata": {
    "colab": {},
    "colab_type": "code",
    "id": "bd8TYlILEQhh"
   },
   "outputs": [],
   "source": [
    "nn_model = load_model(data_dir + \"/nn_best_model_cv.h5\")\n",
    "def calc_prob_booked_nn(row):\n",
    "  df = pd.DataFrame(data=row.to_dict(), index=[0])\n",
    "  return 1 - nn_model.predict(df)[0][0]"
   ]
  },
  {
   "cell_type": "code",
   "execution_count": null,
   "metadata": {
    "colab": {},
    "colab_type": "code",
    "id": "ulKZakl5Ec7_"
   },
   "outputs": [],
   "source": [
    "xgb_clf = pickle.load(open(data_dir + \"/xgb_best.pkl\", 'rb'))\n",
    "def calc_prob_booked_xgb(row):\n",
    "  df = pd.DataFrame(data=row.to_dict(), index=[0])  \n",
    "  return xgb_clf.predict_proba(df)[0][0]"
   ]
  },
  {
   "cell_type": "code",
   "execution_count": null,
   "metadata": {
    "colab": {},
    "colab_type": "code",
    "id": "bh37bojhIYn5"
   },
   "outputs": [],
   "source": [
    "gb_clf = pickle.load(open(data_dir + \"/gb_best.pkl\", 'rb'))\n",
    "def calc_prob_booked_gb(row):\n",
    "  df = pd.DataFrame(data=row.to_dict(), index=[0])\n",
    "  return gb_clf.predict_proba(df)[0][0]"
   ]
  },
  {
   "cell_type": "code",
   "execution_count": null,
   "metadata": {
    "colab": {},
    "colab_type": "code",
    "id": "FQwZ5aLsITpG"
   },
   "outputs": [],
   "source": [
    "dtc_clf = pickle.load(open(data_dir + \"/dtc_best.pkl\", 'rb'))\n",
    "def calc_prob_booked_dtc(row):\n",
    "  df = pd.DataFrame(data=row.to_dict(), index=[0])  \n",
    "  return dtc_clf.predict_proba(df)[0][0]"
   ]
  },
  {
   "cell_type": "code",
   "execution_count": 0,
   "metadata": {
    "colab": {},
    "colab_type": "code",
    "id": "JMGvhTkGMpkz"
   },
   "outputs": [],
   "source": [
    "# ada_clf = pickle.load(open(data_dir + \"/ada_best.pkl\", 'rb'))\n",
    "# def calc_prob_booked_ada(row):\n",
    "#   df = pd.DataFrame(data=row.to_dict(), index=[0])\n",
    "#   return ada_clf.predict_proba(df)[0][0]"
   ]
  },
  {
   "cell_type": "markdown",
   "metadata": {
    "colab_type": "text",
    "id": "eTHWeAecuAR6"
   },
   "source": [
    "### Price Elasticity for probability of a property getting booked"
   ]
  },
  {
   "cell_type": "code",
   "execution_count": 0,
   "metadata": {
    "colab": {},
    "colab_type": "code",
    "id": "idJ1N5k4yFo8"
   },
   "outputs": [],
   "source": [
    "def draw_price_elasticity_curves(calc_prob_booked):\n",
    "  fig, ax = plt.subplots(3, 2, figsize=(15,10))\n",
    "  sample_listings = [listing for (index, listing) in X_test.sample(6, random_state=42).copy().iterrows()]\n",
    "\n",
    "  for plot_row in range(0,3):\n",
    "    for plot_col in range(0,2):  \n",
    "      listing = sample_listings.pop()\n",
    "      current_normalized_price = listing[\"price_calendar_normalized\"]\n",
    "      current_price = int(round(listing[\"price_calendar_normalized\"] * listing[\"total_env_prices\"],0))\n",
    "      price_upper = current_normalized_price * (1 + 100/100)\n",
    "      price_lower = current_normalized_price * 0\n",
    "      normalized_price_range = list(float_range(str(price_lower), str(price_upper), str((price_upper - price_lower)/50)))\n",
    "\n",
    "      probs = []\n",
    "      absolute_prices = [listing[\"total_env_prices\"] * normalized_price for normalized_price in normalized_price_range]\n",
    "\n",
    "      for price in normalized_price_range:\n",
    "          listing[\"price_calendar_normalized\"] = price\n",
    "          prob = calc_prob_booked(listing)\n",
    "          probs.append(prob)\n",
    "\n",
    "      price_elasticity_curve, = ax[plot_row, plot_col].plot(absolute_prices, probs)\n",
    "      ax[plot_row, plot_col].set_ylabel('Probability of property being booked')\n",
    "      ax[plot_row, plot_col].set_xlabel('Booking price of property')\n",
    "      current_price_line = ax[plot_row, plot_col].axvline(x=current_price, color='g')   \n",
    "\n",
    "      # Measuring price elasticity\n",
    "      elasticity = calculate_price_elasticity(calc_prob_booked, listing)\n",
    "\n",
    "      ax[plot_row, plot_col].legend((current_price_line, price_elasticity_curve), ('Current price = ' +str(current_price), 'Price elasticity ED = ' +str(round(elasticity, 5))))\n",
    "\n",
    "  plt.show()"
   ]
  },
  {
   "cell_type": "markdown",
   "metadata": {
    "colab_type": "text",
    "id": "-cerGbSpImd4"
   },
   "source": [
    "### Price elasticity for probability of booking learnt by Neural Network"
   ]
  },
  {
   "cell_type": "code",
   "execution_count": 0,
   "metadata": {
    "colab": {},
    "colab_type": "code",
    "id": "HsBY5ulTISHM"
   },
   "outputs": [],
   "source": [
    "draw_price_elasticity_curves(calc_prob_booked_nn)"
   ]
  },
  {
   "cell_type": "markdown",
   "metadata": {
    "colab_type": "text",
    "id": "kDex2VuiyFo-"
   },
   "source": [
    "As we can see above, choosing some random properties from dataset and plotting relationship between normalized price and probability of getting the property booked shows that they demonstrate price elasticity for probability of the property being booked.\n",
    "\n",
    "Although the price elasticity curve generated using Neural Network is smooth, it represents that probability of property getting booked is inelastic towards price in very large price range. Such model does not very well represent the real world scenario where demand of property can be inelastic to price within only a small range of price.\n",
    "\n",
    "In my first iteration of project, I tried using absolute price to evaluate the relationship between probability of property being booked and the price. At that time, I the plot did not follow the price elasticity curve.\n",
    "\n",
    "One of the assumption in the price elasticity curve is that all the other factors in the market should be held relatively constant and only the price of the property should be varying. Only then the relation between booking probability and price will follow the popular price elasticity curve in wide range of price variation.\n",
    "\n",
    "The absolute value of price may have been increased in the dataset when the overall demand of properties for booking have increased. In such case, the property might be still getting booked at higher price duing the periods of higher demand. Therefore based on the dataset, the model trained on absolute price will suggest that the probability of booking may also increase when the property price is increased. \n",
    "\n",
    "To tackle this issue, I implemented workaround by normalizing the price relative to the sum of booking prices of all the other 100 properties that we are using in our training dataset to represent the competitive market environment conditions. Now we can observe the trend of change in probability along with the change in relative price and see that it shows some price elasticity as expected."
   ]
  },
  {
   "cell_type": "markdown",
   "metadata": {
    "colab_type": "text",
    "id": "28Ba6C_tJHvc"
   },
   "source": [
    "### Price Elasticity for probability of booking learnt by Extreme Gradient Boosting (XGBoost)"
   ]
  },
  {
   "cell_type": "code",
   "execution_count": 0,
   "metadata": {
    "colab": {},
    "colab_type": "code",
    "id": "v3ooOBgcJN_1"
   },
   "outputs": [],
   "source": [
    "draw_price_elasticity_curves(calc_prob_booked_xgb)"
   ]
  },
  {
   "cell_type": "markdown",
   "metadata": {
    "colab_type": "text",
    "id": "uu9XrN2qI5iN"
   },
   "source": [
    "### Price Elasticity for probability of booking learnt by Gradient Boosting"
   ]
  },
  {
   "cell_type": "code",
   "execution_count": 0,
   "metadata": {
    "colab": {},
    "colab_type": "code",
    "id": "GxkOKsahINy2"
   },
   "outputs": [],
   "source": [
    "draw_price_elasticity_curves(calc_prob_booked_gb)"
   ]
  },
  {
   "cell_type": "markdown",
   "metadata": {
    "colab_type": "text",
    "id": "bDqgrtO1NAV2"
   },
   "source": [
    "### Price Elasticity for probability of booking learnt by Ada Boost"
   ]
  },
  {
   "cell_type": "code",
   "execution_count": 0,
   "metadata": {
    "colab": {},
    "colab_type": "code",
    "id": "0K77mYrRNAV6"
   },
   "outputs": [],
   "source": [
    "draw_price_elasticity_curves(calc_prob_booked_ada)"
   ]
  },
  {
   "cell_type": "markdown",
   "metadata": {
    "colab_type": "text",
    "id": "HsSSm4gKIw-9"
   },
   "source": [
    "### Price elasticity for probability of booking learnt by Single Decision Tree"
   ]
  },
  {
   "cell_type": "code",
   "execution_count": 0,
   "metadata": {
    "colab": {},
    "colab_type": "code",
    "id": "oL9OfEMlVA5W"
   },
   "outputs": [],
   "source": [
    "draw_price_elasticity_curves(clac_prob_booked_dtc)"
   ]
  },
  {
   "cell_type": "markdown",
   "metadata": {
    "colab_type": "text",
    "id": "NgkINGajl7T3"
   },
   "source": [
    "### Calculating the expected revenue from properties after tuning the price"
   ]
  },
  {
   "cell_type": "markdown",
   "metadata": {
    "colab_type": "text",
    "id": "P7OrVhYAmyv6"
   },
   "source": [
    "Let's tune prices of the properties that show significant price elasticity for demand."
   ]
  },
  {
   "cell_type": "markdown",
   "metadata": {
    "colab_type": "text",
    "id": "FiMbgm8duMnf"
   },
   "source": [
    "`get_price_elasticity_curve` function gets price elasticity curve for the probability of property getting booked by calculating the probability from the given calc_prob_booked function within a range values varying from current normalized price of property by specified percentage. It then fits a polynomial curve that fits the points calculated from the probability of property getting booked at that normalized price point it returns that fitted curve as output."
   ]
  },
  {
   "cell_type": "code",
   "execution_count": 0,
   "metadata": {
    "colab": {},
    "colab_type": "code",
    "id": "ahzt_W6TPQnx"
   },
   "outputs": [],
   "source": [
    "def get_price_elasticity_curve(listing, calc_prob_booked, percentage):\n",
    "  current_norm_price = listing[\"price_calendar_normalized\"]\n",
    "  higher_price_normalized = current_norm_price * (1 + (percentage/100))\n",
    "  lower_price_normalized = max(0, current_norm_price * (1 - (percentage/100)))    \n",
    "  samples_price_norm = list(float_range(str(lower_price_normalized), str(higher_price_normalized), str((higher_price_normalized - lower_price_normalized)/100)))\n",
    "  samples_price_norm += list(float_range(str(current_norm_price * (0.95)), str(current_norm_price * (1.05)), str(current_norm_price * (0.1/50))))\n",
    "\n",
    "  probs = []\n",
    "  \n",
    "  for sample_price_norm in samples_price_norm:\n",
    "    listing[\"price_calendar_normalized\"] = sample_price_norm\n",
    "    prob = calc_prob_booked(listing)\n",
    "    probs.append(prob)  \n",
    "\n",
    "  X = pd.DataFrame({\"x\" : samples_price_norm})\n",
    "  y = pd.DataFrame({\"y\": probs})\n",
    "  curve = make_pipeline(PolynomialFeatures(degree=1), LinearRegression())\n",
    "  curve.fit(X,y)\n",
    "  return curve\n",
    "  \n",
    "  "
   ]
  },
  {
   "cell_type": "code",
   "execution_count": 0,
   "metadata": {
    "colab": {},
    "colab_type": "code",
    "id": "0y0TpiBcVTbY"
   },
   "outputs": [],
   "source": [
    "def draw_price_elasticity_for_prop(listing, calc_prob_booked, percentage, curve, rec_price):\n",
    "    square_feet = listing[\"square_feet\"]\n",
    "    beds = listing[\"beds\"]\n",
    "    month = listing[\"month\"]\n",
    "    year = listing[\"year\"]\n",
    "    week_of_month = listing[\"week_of_month\"]\n",
    "    day_of_week = listing[\"day_of_week\"]\n",
    "    accommodates = listing[\"accommodates\"]\n",
    "    neighbourhood_cleansed = listing[\"neighbourhood_cleansed\"]\n",
    "    city = listing[\"city\"]\n",
    "    print (f\"Price elasticity plot for a property of\")\n",
    "    print (f\"Size: {square_feet}sq.ft\")\n",
    "    print (f\"Accommodates: {accommodates}\")\n",
    "    print (f\"Bedrooms: {bedrooms}\")\n",
    "    print (f\"Day: {day_of_week}\")\n",
    "    print (f\"Week of month: {week_of_month}\")\n",
    "    print (f\"Month: {month}\")\n",
    "    print (f\"Year: {year}\")\n",
    "    print (f\"Neighbourhood: {neighbourhood_cleansed}\")\n",
    "    \n",
    "    current_normalized_price = listing[\"price_calendar_normalized\"]\n",
    "    current_price = int(round(listing[\"price_calendar_normalized\"] * listing[\"total_env_prices\"],0))\n",
    "    price_upper = current_normalized_price * (1 + percentage/100)\n",
    "    price_lower = current_normalized_price * max(0, (1 - percentage/100))\n",
    "    normalized_price_range = list(float_range(str(price_lower), str(price_upper), str((price_upper - price_lower)/50)))\n",
    "\n",
    "    probs = []\n",
    "    absolute_prices = [listing[\"total_env_prices\"] * normalized_price for normalized_price in normalized_price_range]\n",
    "    curve_probs = []\n",
    "    for price in normalized_price_range:\n",
    "        listing[\"price_calendar_normalized\"] = price\n",
    "        prob = calc_prob_booked(listing)\n",
    "        probs.append(prob)       \n",
    "        df_norm_price = pd.DataFrame(data={\"x\" : price}, index=[0])\n",
    "        curve_prob = curve.predict(df_norm_price)[0]\n",
    "        curve_probs.append(curve_prob)\n",
    "   \n",
    "    price_elasticity_curve, = plt.plot(absolute_prices, probs)\n",
    "    regression_curve, = plt.plot(absolute_prices, curve_probs)\n",
    "    recommended_price_line, = plt.axvline(x=rec_price, color='g')\n",
    "    plt.ylabel('Probability of property being booked')\n",
    "    plt.xlabel('Booking price of property')\n",
    "    beds = listing[\"beds\"]\n",
    "    square_feet= listing[\"square_feet\"]\n",
    "    current_price_line = plt.axvline(x=current_price, color='r')   \n",
    "    plt.legend((current_price_line, \n",
    "                recommended_price_line,\n",
    "                price_elasticity_curve, \n",
    "                regression_curve), \n",
    "               ('Current price = ' +str(current_price), \n",
    "                'Recommended price = ' + str(rec_price),\n",
    "                'Booking probability at price', \n",
    "                'Fitted Regression line'))\n",
    "    plt.show()"
   ]
  },
  {
   "cell_type": "markdown",
   "metadata": {
    "colab_type": "text",
    "id": "TAdtVEu0lxiV"
   },
   "source": [
    "- For each property I first check whether the property follows conventional price elasticity where the probability of the property getting booked increases as its relative price is decreased and only tuned price for those properties that demonstrated such trend.\n",
    "- Instead of using exact probability predicted by the classifier, I decided to use the one derived from line fitted on the predicted probability values for normalized price range near the current normalized price, so that tuning algorithm has to work with smoothly varying values that smoothes sudden bumps in the probability values often seen to be generated by ensemble learners."
   ]
  },
  {
   "cell_type": "code",
   "execution_count": 0,
   "metadata": {
    "colab": {},
    "colab_type": "code",
    "id": "QV85nECfSUEY"
   },
   "outputs": [],
   "source": [
    "def calculate_price_elasticity(curve, listing, percentage_to_check):\n",
    "  current_normalized_price = listing[\"price_calendar_normalized\"]\n",
    "  norm_price_1 = min(0, current_normalized_price * (1 - percentage_to_check/100))\n",
    "  price_1 = norm_price_1 * listing[\"total_env_prices\"]\n",
    "  listing[\"price_calendar_normalized\"] = norm_price_1\n",
    "  df_norm_price_1 = pd.DataFrame(data={\"x\" : norm_price_1}, index=[0])\n",
    "  d_1 = curve.predict(df_norm_price_1)[0]\n",
    "\n",
    "  norm_price_2 = current_normalized_price * (1 + percentage_to_check/100)\n",
    "  price_2 = norm_price_2 * listing[\"total_env_prices\"]\n",
    "  listing[\"price_calendar_normalized\"] = norm_price_2\n",
    "  df_norm_price_1 = pd.DataFrame(data={\"x\" : norm_price_1}, index=[0])\n",
    "  d_2 = curve.predict(df_norm_price_2)[0]\n",
    "\n",
    "  price_change = (price_2 - price_1)/((price_2 + price_1)/2)\n",
    "  demand_change = (d_2 - d_1)/((d_2 + d_1)/2)\n",
    "  elasticity = demand_change / -price_change\n",
    "  return elasticity"
   ]
  },
  {
   "cell_type": "code",
   "execution_count": 0,
   "metadata": {
    "colab": {},
    "colab_type": "code",
    "id": "3j2N3B5_yFpT"
   },
   "outputs": [],
   "source": [
    "def calc_revenue_at_tuned_price(row, calc_prob_booked):  \n",
    "    current_price_norm = row[\"price_calendar_normalized\"]\n",
    "    current_price = current_price_norm * row[\"total_env_prices\"]\n",
    "    prob_booked = calc_prob_booked(row)    \n",
    "#     print(\"price_calendar: \" + str(current_price))\n",
    "    \n",
    "\n",
    "    percentage_to_check = 20\n",
    "    \n",
    "    curve = get_price_elasticity_curve(listing=row, calc_prob_booked=calc_prob_booked, percentage=20)\n",
    "        \n",
    "    print (\"Checking for price elasticity...\")\n",
    "    row[\"price_calendar_normalized\"] = current_price_norm\n",
    "    if calculate_price_elasticity(curve, listing=row, percentage_to_check=percentage_to_check) > 0.1:          \n",
    "        print(\"✔ The property follows significant price elasiticity in reasonable price range according to model\")\n",
    "\n",
    "        print (\"Probability of being booked at current price: \" + str(prob_booked))\n",
    "        print (\"Probability of being booked at higher price: \" + str(prob_booked_higher_price))\n",
    "        print (\"Probability of being booked at lower price: \" + str(prob_booked_lower_price))\n",
    "        row[\"price_calendar_normalized\"] = current_price_norm\n",
    "        current_expected_revenue = current_price * prob_booked        \n",
    "        print (\"\")\n",
    "        print(\"Current price: \" + str(round(current_price, 0)))\n",
    "        print(\"Probability of being booked at current price: \" + str(prob_booked))\n",
    "        print(\"Expected revenue at current price: \" + str(current_expected_revenue))       \n",
    "        \n",
    "        max_expected_revenue = -math.inf\n",
    "        prob_at_max = None\n",
    "        price_at_max = None\n",
    "        for trial_price_norm in float_range(str(lower_price_normalized), str(higher_price_normalized), str((higher_price_normalized-lower_price_normalized)/100)):\n",
    "          # Instead of using probability predicted by the classifier,\n",
    "          # I decided to use the one derived from line fitted on the values\n",
    "          # in normalized price range near the current normalized price\n",
    "          # so that I can have a smoothly varying values which avoid sudden\n",
    "          # bumps in the probability values often seen to be generated by\n",
    "          # ensemble learners.\n",
    "#             row[\"price_calendar_normalized\"] = trial_price_norm\n",
    "#             prob_at_trial_price_norm = calc_prob_booked(row)\n",
    "            df_trial = pd.DataFrame(data={\"x\" : trial_price_norm}, index=[0])\n",
    "            prob_at_trial_price_norm = curve.predict(df_trial)[0]   \n",
    "            expected_revenue = prob_at_trial_price_norm * trial_price_norm * row[\"total_env_prices\"]\n",
    "            if expected_revenue > max_expected_revenue:\n",
    "                max_expected_revenue = expected_revenue\n",
    "                prob_at_max = prob_at_trial_price_norm\n",
    "                price_at_max = trial_price_norm * row[\"total_env_prices\"]\n",
    "        draw_price_elasticity_for_prop(row, calc_prob_booked, percentage_to_check, curve, rec_price=round(price_at_max,0))\n",
    "        print (\"Recommended price: \" + str(round(price_at_max,0)))\n",
    "        print (\"Probability of booked at recommended price: \" + str(np.round(prob_at_max, 5)))\n",
    "        print (\"Expected revenue at recommended price: \" + str(np.round(max_expected_revenue,2)))\n",
    "        print (\"Percentage of recommended price change: \" + str(np.round(100*(price_at_max - current_price)/current_price, 3)) +\"%\")\n",
    "        print (\"Percentage of change in expected revenue: \" + str(np.round(100*(max_expected_revenue - current_expected_revenue)/current_expected_revenue, 2)) +\"%\")\n",
    "        print (\"----------------------------------------------------------------\")\n",
    "        return max_expected_revenue\n",
    "    else:\n",
    "        print(\"✘ The property does not follow desired price elasiticity in reasonable price range according to model\")\n",
    "        return current_price * prob_booked"
   ]
  },
  {
   "cell_type": "markdown",
   "metadata": {
    "colab_type": "text",
    "id": "xt7uWkaXk2lu"
   },
   "source": [
    "I decided to tune the prices of properties using Extreme Gradient Boosting model for predicting probability of property being booked under giving time, price and market conditions. The reason is that it shows higher accuracy in terms of F1-score as compared to neural network model. Even though the predicted probability graph while varying normalized price is not as smooth as the one generated by neural network, the more accurate prediction of probabilities for property getting booked leads to more accurate prediction for expected revenue from properties at given price point."
   ]
  },
  {
   "cell_type": "code",
   "execution_count": 0,
   "metadata": {
    "colab": {},
    "colab_type": "code",
    "id": "L1NMeMG2S7Xk"
   },
   "outputs": [],
   "source": [
    "expected_revenue_at_current_prices = 0\n",
    "expected_revenue_at_recommended_prices = 0\n",
    "number_of_properties_to_be_sampled = 1000\n",
    "number_of_properties_with_price_updated = 0\n",
    "\n",
    "for index, row in X_test.sample(n=number_of_properties_to_be_sampled, random_state=42).copy().iterrows():  \n",
    "    expected_revenue_at_current_prices += row[\"price_calendar_normalized\"] * row[\"total_env_prices\"] * calc_prob_booked_xgb(row)\n",
    "    expected_revenue_at_recommended_prices += calc_revenue_at_tuned_price(row, calc_prob_booked=calc_prob_booked_xgb)\n",
    "    if np.round(expected_revenue_at_current_prices, 2) != np.round(expected_revenue_at_recommended_prices, 2):\n",
    "      number_of_properties_with_price_updated += 1"
   ]
  },
  {
   "cell_type": "code",
   "execution_count": 0,
   "metadata": {
    "colab": {},
    "colab_type": "code",
    "id": "TX7w51MlNFok"
   },
   "outputs": [],
   "source": [
    "percentage_of_change = 100*(expected_revenue_at_recommended_prices - expected_revenue_at_current_prices)/expected_revenue_at_current_prices\n",
    "\n",
    "print(f\"After tuning prices for {number_of_properties_with_price_updated}\")\n",
    "print(f\"out of {number_of_properties_to_be_sampled} properties evaluated\")\n",
    "print(\"the percentage of change in expected revenue is: \" + str(np.round(percentage_of_change, 2)) + \"%\")"
   ]
  },
  {
   "cell_type": "markdown",
   "metadata": {
    "colab_type": "text",
    "id": "S3USkXgnswjX"
   },
   "source": [
    "### Ideas for improvement in accuracy of this predictive model\n",
    "- Accuracy of predicting the probability of the property getting booked can be further improved by using all the training data availabile for training the Extreme Gradient Boosting model. Currently I have used only 100,000 samples execute my code within memory constraints imposed by Google Colab environment.\n",
    "- Alternate models like deep neural network can also be utilized with availability of larger dataset and computing resources to train it and choosing the most optimal hyperparameters like number of hidden layers and number of neurons in each layer etc.\n",
    "\n",
    "This kind of improvements can result in more accurate prediction about the expected revenue from property at given price point."
   ]
  },
  {
   "cell_type": "markdown",
   "metadata": {
    "colab_type": "text",
    "id": "Sc8FY7eSmop1"
   },
   "source": [
    "## Application of this price tuning model based on predictive analysis\n",
    "There might be a limitation for **Airbnb** based on its business policy where prices are largely set by property owners and there is a less room for Airbnb to experiment with difference price points of a property to gather sufficient data to understand price elasticity of each property for its demand.\n",
    "\n",
    "Booking companies like **Booking.com**, **Trivago** and **OYO** can benefit from such kind of predictive price tuning model because they have more control over the booking price of the hotel room. Such a company can easily look at its past data of having each room offered at different prices and estimating the price elasticity for demand for each hotel room of some type. It can then train a predictive model for estimating the probability of a property getting booked at given price point on given day and market scenario. After calculating the price elasticity for given property, it can then tune the price of the hotel room type using above suggested method such that it maximizes expected revenue from that hotel room type on given day."
   ]
  }
 ],
 "metadata": {
  "accelerator": "GPU",
  "colab": {
   "collapsed_sections": [],
   "include_colab_link": true,
   "machine_shape": "hm",
   "name": "colab_tuning_booking_price_to_maximize_expected_revenue.ipynb",
   "provenance": [],
   "toc_visible": true,
   "version": "0.3.2"
  },
  "kernelspec": {
   "display_name": "Python 3",
   "language": "python",
   "name": "python3"
  },
  "language_info": {
   "codemirror_mode": {
    "name": "ipython",
    "version": 3
   },
   "file_extension": ".py",
   "mimetype": "text/x-python",
   "name": "python",
   "nbconvert_exporter": "python",
   "pygments_lexer": "ipython3",
   "version": "3.7.3"
  }
 },
 "nbformat": 4,
 "nbformat_minor": 1
}
