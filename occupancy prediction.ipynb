{
 "cells": [
  {
   "cell_type": "code",
   "execution_count": 1,
   "metadata": {},
   "outputs": [
    {
     "name": "stdout",
     "output_type": "stream",
     "text": [
      "Requirement already satisfied: scikit-optimize in /Users/atharva/.pyenv/versions/anaconda3-2019.03/lib/python3.7/site-packages (0.5.2)\n",
      "Requirement already satisfied: numpy in /Users/atharva/.pyenv/versions/anaconda3-2019.03/lib/python3.7/site-packages (from scikit-optimize) (1.16.2)\n",
      "Requirement already satisfied: scipy>=0.14.0 in /Users/atharva/.pyenv/versions/anaconda3-2019.03/lib/python3.7/site-packages (from scikit-optimize) (1.2.1)\n",
      "Requirement already satisfied: scikit-learn>=0.19.1 in /Users/atharva/.pyenv/versions/anaconda3-2019.03/lib/python3.7/site-packages (from scikit-optimize) (0.20.3)\n",
      "Requirement already satisfied: hyperopt in /Users/atharva/.pyenv/versions/anaconda3-2019.03/lib/python3.7/site-packages (0.1.2)\n",
      "Requirement already satisfied: future in /Users/atharva/.pyenv/versions/anaconda3-2019.03/lib/python3.7/site-packages (from hyperopt) (0.17.1)\n",
      "Requirement already satisfied: pymongo in /Users/atharva/.pyenv/versions/anaconda3-2019.03/lib/python3.7/site-packages (from hyperopt) (3.9.0)\n",
      "Requirement already satisfied: scipy in /Users/atharva/.pyenv/versions/anaconda3-2019.03/lib/python3.7/site-packages (from hyperopt) (1.2.1)\n",
      "Requirement already satisfied: tqdm in /Users/atharva/.pyenv/versions/anaconda3-2019.03/lib/python3.7/site-packages (from hyperopt) (4.31.1)\n",
      "Requirement already satisfied: six in /Users/atharva/.pyenv/versions/anaconda3-2019.03/lib/python3.7/site-packages (from hyperopt) (1.12.0)\n",
      "Requirement already satisfied: numpy in /Users/atharva/.pyenv/versions/anaconda3-2019.03/lib/python3.7/site-packages (from hyperopt) (1.16.2)\n",
      "Requirement already satisfied: networkx in /Users/atharva/.pyenv/versions/anaconda3-2019.03/lib/python3.7/site-packages (from hyperopt) (2.2)\n",
      "Requirement already satisfied: decorator>=4.3.0 in /Users/atharva/.pyenv/versions/anaconda3-2019.03/lib/python3.7/site-packages (from networkx->hyperopt) (4.4.0)\n",
      "Requirement already satisfied: keras in /Users/atharva/.pyenv/versions/anaconda3-2019.03/lib/python3.7/site-packages (2.2.4)\n",
      "Requirement already satisfied: h5py in /Users/atharva/.pyenv/versions/anaconda3-2019.03/lib/python3.7/site-packages (from keras) (2.9.0)\n",
      "Requirement already satisfied: six>=1.9.0 in /Users/atharva/.pyenv/versions/anaconda3-2019.03/lib/python3.7/site-packages (from keras) (1.12.0)\n",
      "Requirement already satisfied: scipy>=0.14 in /Users/atharva/.pyenv/versions/anaconda3-2019.03/lib/python3.7/site-packages (from keras) (1.2.1)\n",
      "Requirement already satisfied: pyyaml in /Users/atharva/.pyenv/versions/anaconda3-2019.03/lib/python3.7/site-packages (from keras) (5.1)\n",
      "Requirement already satisfied: keras-preprocessing>=1.0.5 in /Users/atharva/.pyenv/versions/anaconda3-2019.03/lib/python3.7/site-packages (from keras) (1.1.0)\n",
      "Requirement already satisfied: numpy>=1.9.1 in /Users/atharva/.pyenv/versions/anaconda3-2019.03/lib/python3.7/site-packages (from keras) (1.16.2)\n",
      "Requirement already satisfied: keras-applications>=1.0.6 in /Users/atharva/.pyenv/versions/anaconda3-2019.03/lib/python3.7/site-packages (from keras) (1.0.8)\n",
      "Requirement already satisfied: tensorflow in /Users/atharva/.pyenv/versions/anaconda3-2019.03/lib/python3.7/site-packages (1.14.0)\n",
      "Requirement already satisfied: wrapt>=1.11.1 in /Users/atharva/.pyenv/versions/anaconda3-2019.03/lib/python3.7/site-packages (from tensorflow) (1.11.1)\n",
      "Requirement already satisfied: astor>=0.6.0 in /Users/atharva/.pyenv/versions/anaconda3-2019.03/lib/python3.7/site-packages (from tensorflow) (0.8.0)\n",
      "Requirement already satisfied: keras-applications>=1.0.6 in /Users/atharva/.pyenv/versions/anaconda3-2019.03/lib/python3.7/site-packages (from tensorflow) (1.0.8)\n",
      "Requirement already satisfied: tensorflow-estimator<1.15.0rc0,>=1.14.0rc0 in /Users/atharva/.pyenv/versions/anaconda3-2019.03/lib/python3.7/site-packages (from tensorflow) (1.14.0)\n",
      "Requirement already satisfied: gast>=0.2.0 in /Users/atharva/.pyenv/versions/anaconda3-2019.03/lib/python3.7/site-packages (from tensorflow) (0.2.2)\n",
      "Requirement already satisfied: termcolor>=1.1.0 in /Users/atharva/.pyenv/versions/anaconda3-2019.03/lib/python3.7/site-packages (from tensorflow) (1.1.0)\n",
      "Requirement already satisfied: wheel>=0.26 in /Users/atharva/.pyenv/versions/anaconda3-2019.03/lib/python3.7/site-packages (from tensorflow) (0.33.1)\n",
      "Requirement already satisfied: google-pasta>=0.1.6 in /Users/atharva/.pyenv/versions/anaconda3-2019.03/lib/python3.7/site-packages (from tensorflow) (0.1.7)\n",
      "Requirement already satisfied: absl-py>=0.7.0 in /Users/atharva/.pyenv/versions/anaconda3-2019.03/lib/python3.7/site-packages (from tensorflow) (0.7.1)\n",
      "Requirement already satisfied: tensorboard<1.15.0,>=1.14.0 in /Users/atharva/.pyenv/versions/anaconda3-2019.03/lib/python3.7/site-packages (from tensorflow) (1.14.0)\n",
      "Requirement already satisfied: grpcio>=1.8.6 in /Users/atharva/.pyenv/versions/anaconda3-2019.03/lib/python3.7/site-packages (from tensorflow) (1.22.0)\n",
      "Requirement already satisfied: six>=1.10.0 in /Users/atharva/.pyenv/versions/anaconda3-2019.03/lib/python3.7/site-packages (from tensorflow) (1.12.0)\n",
      "Requirement already satisfied: protobuf>=3.6.1 in /Users/atharva/.pyenv/versions/anaconda3-2019.03/lib/python3.7/site-packages (from tensorflow) (3.9.1)\n",
      "Requirement already satisfied: keras-preprocessing>=1.0.5 in /Users/atharva/.pyenv/versions/anaconda3-2019.03/lib/python3.7/site-packages (from tensorflow) (1.1.0)\n",
      "Requirement already satisfied: numpy<2.0,>=1.14.5 in /Users/atharva/.pyenv/versions/anaconda3-2019.03/lib/python3.7/site-packages (from tensorflow) (1.16.2)\n",
      "Requirement already satisfied: h5py in /Users/atharva/.pyenv/versions/anaconda3-2019.03/lib/python3.7/site-packages (from keras-applications>=1.0.6->tensorflow) (2.9.0)\n",
      "Requirement already satisfied: setuptools>=41.0.0 in /Users/atharva/.pyenv/versions/anaconda3-2019.03/lib/python3.7/site-packages (from tensorboard<1.15.0,>=1.14.0->tensorflow) (41.0.1)\n",
      "Requirement already satisfied: werkzeug>=0.11.15 in /Users/atharva/.pyenv/versions/anaconda3-2019.03/lib/python3.7/site-packages (from tensorboard<1.15.0,>=1.14.0->tensorflow) (0.14.1)\n",
      "Requirement already satisfied: markdown>=2.6.8 in /Users/atharva/.pyenv/versions/anaconda3-2019.03/lib/python3.7/site-packages (from tensorboard<1.15.0,>=1.14.0->tensorflow) (3.1.1)\n"
     ]
    },
    {
     "name": "stderr",
     "output_type": "stream",
     "text": [
      "Using TensorFlow backend.\n"
     ]
    },
    {
     "name": "stdout",
     "output_type": "stream",
     "text": [
      "Requirement already satisfied: h5py in /Users/atharva/.pyenv/versions/anaconda3-2019.03/lib/python3.7/site-packages (2.9.0)\n",
      "Requirement already satisfied: six in /Users/atharva/.pyenv/versions/anaconda3-2019.03/lib/python3.7/site-packages (from h5py) (1.12.0)\n",
      "Requirement already satisfied: numpy>=1.7 in /Users/atharva/.pyenv/versions/anaconda3-2019.03/lib/python3.7/site-packages (from h5py) (1.16.2)\n"
     ]
    }
   ],
   "source": [
    "import numpy as np\n",
    "import pandas as pd\n",
    "import matplotlib.pyplot as plt\n",
    "import matplotlib.dates as mdates\n",
    "from sklearn.model_selection import GridSearchCV\n",
    "from sklearn.model_selection import train_test_split\n",
    "from sklearn.metrics import r2_score, mean_squared_error\n",
    "import seaborn as sns\n",
    "from pandas.plotting import register_matplotlib_converters\n",
    "register_matplotlib_converters()\n",
    "%matplotlib inline\n",
    "import glob\n",
    "import pickle\n",
    "import time\n",
    "from sklearn.metrics import roc_auc_score, f1_score\n",
    "from sklearn.tree import DecisionTreeClassifier\n",
    "from sklearn.ensemble import GradientBoostingClassifier, AdaBoostClassifier, RandomForestClassifier\n",
    "from sklearn.svm import SVC\n",
    "import math\n",
    "from sklearn.base import clone\n",
    "!pip install scikit-optimize\n",
    "from skopt import gp_minimize\n",
    "!pip install hyperopt\n",
    "from hyperopt import fmin, tpe, hp, STATUS_OK, Trials\n",
    "from hyperopt import space_eval\n",
    "!pip install keras\n",
    "!pip install tensorflow\n",
    "import keras\n",
    "from keras.models import Sequential\n",
    "from keras.layers import Activation, Dense, Dropout, BatchNormalization\n",
    "from keras.wrappers.scikit_learn import KerasClassifier\n",
    "from keras.optimizers import Adam\n",
    "from keras.callbacks import EarlyStopping, ModelCheckpoint\n",
    "!pip install h5py\n",
    "from keras.models import load_model"
   ]
  },
  {
   "cell_type": "code",
   "execution_count": 2,
   "metadata": {},
   "outputs": [],
   "source": [
    "# calendar_dfs = []\n",
    "# for file_name in glob.glob('./data/amsterdam/calendar*.gz'):\n",
    "#     calendar_dfs.append(pd.read_csv(file_name, compression='gzip'))\n",
    "# calendar = pd.concat(calendar_dfs, sort=True)"
   ]
  },
  {
   "cell_type": "code",
   "execution_count": 3,
   "metadata": {},
   "outputs": [],
   "source": [
    "# reviews_dfs = []\n",
    "# for file_name in glob.glob('./data/amsterdam/reviews*.gz'):\n",
    "#     reviews_dfs.append(pd.read_csv(file_name, compression='gzip'))\n",
    "# reviews = pd.concat(reviews_dfs, sort=True)"
   ]
  },
  {
   "cell_type": "code",
   "execution_count": 4,
   "metadata": {},
   "outputs": [],
   "source": [
    "# listings_dfs = []\n",
    "# for file_name in glob.glob('./data/amsterdam/listings*.gz'):\n",
    "#     listings_dfs.append(pd.read_csv(file_name, compression='gzip', dtype=\"str\"))\n",
    "# listings = pd.concat(listings_dfs, sort=True)"
   ]
  },
  {
   "cell_type": "markdown",
   "metadata": {},
   "source": [
    "## Data Preparation"
   ]
  },
  {
   "cell_type": "code",
   "execution_count": 5,
   "metadata": {},
   "outputs": [],
   "source": [
    "calendar = pd.read_csv(\"./data/boston/calendar.csv\")\n",
    "reviews = pd.read_csv(\"./data/boston/reviews.csv\")\n",
    "listings = pd.read_csv(\"./data/boston/listings.csv\")"
   ]
  },
  {
   "cell_type": "markdown",
   "metadata": {},
   "source": [
    "### Transforming 'price' from string to numeric"
   ]
  },
  {
   "cell_type": "code",
   "execution_count": 6,
   "metadata": {},
   "outputs": [
    {
     "data": {
      "text/plain": [
       "0    250.0\n",
       "1     65.0\n",
       "2     65.0\n",
       "3     75.0\n",
       "4     79.0\n",
       "Name: price, dtype: float64"
      ]
     },
     "execution_count": 6,
     "metadata": {},
     "output_type": "execute_result"
    }
   ],
   "source": [
    "\"\"\"\n",
    "    Converts price in the string format like \"$1,125.00\" into numeric value 1125.00\n",
    "    INPUT:\n",
    "    - string price in string format\n",
    "    OUTPUT:\n",
    "    - float value corresponding to the price or None if the input is not parseable to float\n",
    "\"\"\"\n",
    "def str_to_num (string):\n",
    "    if string is not None:\n",
    "        if type(string) is str and string.startswith('$'):\n",
    "            return float(string.replace('$', '').replace(',', ''))\n",
    "        else:\n",
    "            return None\n",
    "    else:\n",
    "        return None\n",
    "listings_cleaned = pd.concat([listings.drop('price', axis=1), listings[\"price\"].apply(str_to_num)], axis=1)\n",
    "listings_cleaned['price'].head()"
   ]
  },
  {
   "cell_type": "code",
   "execution_count": 7,
   "metadata": {},
   "outputs": [
    {
     "data": {
      "text/plain": [
       "0   NaN\n",
       "1   NaN\n",
       "2   NaN\n",
       "3   NaN\n",
       "4   NaN\n",
       "Name: price, dtype: float64"
      ]
     },
     "execution_count": 7,
     "metadata": {},
     "output_type": "execute_result"
    }
   ],
   "source": [
    "calendar_cleaned = pd.concat([calendar.drop('price', axis=1), calendar[\"price\"].apply(str_to_num)], axis=1)\n",
    "calendar_cleaned['price'].head()"
   ]
  },
  {
   "cell_type": "markdown",
   "metadata": {},
   "source": [
    "### Converting 'avilable' field from string to binary"
   ]
  },
  {
   "cell_type": "code",
   "execution_count": 8,
   "metadata": {},
   "outputs": [
    {
     "data": {
      "text/plain": [
       "0    False\n",
       "1    False\n",
       "2    False\n",
       "3    False\n",
       "4    False\n",
       "Name: available, dtype: bool"
      ]
     },
     "execution_count": 8,
     "metadata": {},
     "output_type": "execute_result"
    }
   ],
   "source": [
    "calendar_cleaned['available'] = calendar_cleaned['available'] == 't'\n",
    "calendar_cleaned['available'].head()"
   ]
  },
  {
   "cell_type": "markdown",
   "metadata": {},
   "source": [
    "### Converting 'date' from string to datetime format"
   ]
  },
  {
   "cell_type": "code",
   "execution_count": 9,
   "metadata": {},
   "outputs": [],
   "source": [
    "calendar_cleaned[\"date\"] = pd.to_datetime(calendar_cleaned[\"date\"], format=\"%Y-%m-%d\")"
   ]
  },
  {
   "cell_type": "markdown",
   "metadata": {},
   "source": [
    "### Converting location field from numeric to categorical"
   ]
  },
  {
   "cell_type": "code",
   "execution_count": 10,
   "metadata": {},
   "outputs": [],
   "source": [
    "listings_cleaned[\"location_categorical\"] = listings_cleaned.apply(lambda row: str((format(row.latitude, '.2f'), format(row.longitude, '.2f'))), axis=1)"
   ]
  },
  {
   "cell_type": "code",
   "execution_count": 11,
   "metadata": {},
   "outputs": [
    {
     "data": {
      "text/plain": [
       "0    ('42.28', '-71.13')\n",
       "1    ('42.29', '-71.13')\n",
       "2    ('42.29', '-71.14')\n",
       "3    ('42.28', '-71.12')\n",
       "4    ('42.28', '-71.14')\n",
       "Name: location_categorical, dtype: object"
      ]
     },
     "execution_count": 11,
     "metadata": {},
     "output_type": "execute_result"
    }
   ],
   "source": [
    "listings_cleaned.location_categorical.head()"
   ]
  },
  {
   "cell_type": "markdown",
   "metadata": {},
   "source": [
    "### Converting 'amenities' field containing list into separate categorical columns for each amenity in dataframe"
   ]
  },
  {
   "cell_type": "code",
   "execution_count": 12,
   "metadata": {},
   "outputs": [
    {
     "data": {
      "text/plain": [
       "['TV',\n",
       " 'Wireless Internet',\n",
       " 'Kitchen',\n",
       " 'Free Parking on Premises',\n",
       " 'Pets live on this property',\n",
       " 'Dog(s)',\n",
       " 'Heating',\n",
       " 'Family/Kid Friendly',\n",
       " 'Washer',\n",
       " 'Dryer',\n",
       " 'Smoke Detector',\n",
       " 'Fire Extinguisher',\n",
       " 'Essentials',\n",
       " 'Shampoo',\n",
       " 'Laptop Friendly Workspace']"
      ]
     },
     "execution_count": 12,
     "metadata": {},
     "output_type": "execute_result"
    }
   ],
   "source": [
    "list(map(lambda amenity : amenity.replace(\"\\\"\",\"\").replace(\"{\",\"\").replace(\"}\", \"\"), listings_cleaned.amenities.iloc[0].split(\",\")))"
   ]
  },
  {
   "cell_type": "code",
   "execution_count": 13,
   "metadata": {},
   "outputs": [],
   "source": [
    "\"\"\"\n",
    "    Separates the string value of `amenities` attribute in the row, into a list of individual amenities.\n",
    "    \n",
    "    INPUT:\n",
    "    - row : from dataset having amenities attribute\n",
    "    OUTPUT:    \n",
    "    - list of amenities derived from the value of `amenities` attribute in row\n",
    "\"\"\"\n",
    "def separate_amenities(row):\n",
    "    amenities = row.amenities\n",
    "    list_to_return = []\n",
    "    if (amenities is not None and type(amenities) == str):            \n",
    "        list_to_return = list(map(lambda amenity : amenity.replace(\"\\\"\",\"\").replace(\"{\",\"\").replace(\"}\", \"\"), amenities.split(\",\")))\n",
    "    if '' in list_to_return:\n",
    "        list_to_return.remove('')\n",
    "    return list_to_return\n",
    "listings_cleaned[\"amenities_list\"] = listings_cleaned.apply(separate_amenities, axis=1)"
   ]
  },
  {
   "cell_type": "code",
   "execution_count": null,
   "metadata": {},
   "outputs": [
    {
     "data": {
      "text/plain": [
       "array(['TV', 'Wireless Internet', 'Kitchen', 'Free Parking on Premises',\n",
       "       'Pets live on this property', 'Dog(s)', 'Heating',\n",
       "       'Family/Kid Friendly', 'Washer', 'Dryer', 'Smoke Detector',\n",
       "       'Fire Extinguisher', 'Essentials', 'Shampoo',\n",
       "       'Laptop Friendly Workspace', 'Internet', 'Air Conditioning',\n",
       "       'Pets Allowed', 'Carbon Monoxide Detector', 'Lock on Bedroom Door',\n",
       "       'Hangers', 'Hair Dryer', 'Iron', 'Cable TV', 'First Aid Kit',\n",
       "       'Safety Card', 'translation missing: en.hosting_amenity_49',\n",
       "       'translation missing: en.hosting_amenity_50', 'Gym', 'Breakfast',\n",
       "       'Indoor Fireplace', 'Cat(s)', '24-Hour Check-in', 'Hot Tub',\n",
       "       'Buzzer/Wireless Intercom', 'Other pet(s)', 'Washer / Dryer',\n",
       "       'Smoking Allowed', 'Suitable for Events', 'Wheelchair Accessible',\n",
       "       'Elevator in Building', 'Pool', 'Doorman',\n",
       "       'Paid Parking Off Premises', 'Free Parking on Street'],\n",
       "      dtype=object)"
      ]
     },
     "execution_count": 14,
     "metadata": {},
     "output_type": "execute_result"
    }
   ],
   "source": [
    "possible_amenities = listings_cleaned['amenities_list'].apply(pd.Series).stack().unique()\n",
    "possible_amenities"
   ]
  },
  {
   "cell_type": "code",
   "execution_count": null,
   "metadata": {},
   "outputs": [],
   "source": [
    "\"\"\"\n",
    "    Assigns new boolean attribute to the row based on the presence of that amenity in the list.\n",
    "    Returns updated row with additional attributes corresponding to the amenities added to it.\n",
    "    \n",
    "    INPUT:\n",
    "    - row containing attributes related to the property, including `amenities_list`\n",
    "    OUTPUT:\n",
    "    - row containing newly added boolean attributes indicating the presence of each possible type of amenity in the property\n",
    "\"\"\"\n",
    "def add_amenities_columns (row):\n",
    "    amenities = set(row.amenities_list)\n",
    "    for possible_amenity in possible_amenities:\n",
    "        row[\"amenity_\" + possible_amenity] = possible_amenity in amenities\n",
    "    return row\n",
    "\n",
    "listings_cleaned = listings_cleaned.apply(add_amenities_columns, axis=1)"
   ]
  },
  {
   "cell_type": "markdown",
   "metadata": {},
   "source": [
    "### Identifying the activation date for each property listing"
   ]
  },
  {
   "cell_type": "code",
   "execution_count": null,
   "metadata": {},
   "outputs": [
    {
     "data": {
      "text/html": [
       "<div>\n",
       "<style scoped>\n",
       "    .dataframe tbody tr th:only-of-type {\n",
       "        vertical-align: middle;\n",
       "    }\n",
       "\n",
       "    .dataframe tbody tr th {\n",
       "        vertical-align: top;\n",
       "    }\n",
       "\n",
       "    .dataframe thead th {\n",
       "        text-align: right;\n",
       "    }\n",
       "</style>\n",
       "<table border=\"1\" class=\"dataframe\">\n",
       "  <thead>\n",
       "    <tr style=\"text-align: right;\">\n",
       "      <th></th>\n",
       "      <th>listing_id</th>\n",
       "      <th>date</th>\n",
       "      <th>available</th>\n",
       "      <th>price</th>\n",
       "    </tr>\n",
       "  </thead>\n",
       "  <tbody>\n",
       "    <tr>\n",
       "      <th>0</th>\n",
       "      <td>3353</td>\n",
       "      <td>2017-09-05</td>\n",
       "      <td>True</td>\n",
       "      <td>36.0</td>\n",
       "    </tr>\n",
       "    <tr>\n",
       "      <th>1</th>\n",
       "      <td>3353</td>\n",
       "      <td>2016-12-30</td>\n",
       "      <td>False</td>\n",
       "      <td>NaN</td>\n",
       "    </tr>\n",
       "    <tr>\n",
       "      <th>2</th>\n",
       "      <td>3353</td>\n",
       "      <td>2017-08-18</td>\n",
       "      <td>True</td>\n",
       "      <td>36.0</td>\n",
       "    </tr>\n",
       "    <tr>\n",
       "      <th>3</th>\n",
       "      <td>3353</td>\n",
       "      <td>2016-10-12</td>\n",
       "      <td>False</td>\n",
       "      <td>NaN</td>\n",
       "    </tr>\n",
       "    <tr>\n",
       "      <th>4</th>\n",
       "      <td>5506</td>\n",
       "      <td>2017-09-05</td>\n",
       "      <td>True</td>\n",
       "      <td>145.0</td>\n",
       "    </tr>\n",
       "    <tr>\n",
       "      <th>5</th>\n",
       "      <td>5506</td>\n",
       "      <td>2016-10-10</td>\n",
       "      <td>False</td>\n",
       "      <td>NaN</td>\n",
       "    </tr>\n",
       "    <tr>\n",
       "      <th>6</th>\n",
       "      <td>5506</td>\n",
       "      <td>2016-10-03</td>\n",
       "      <td>True</td>\n",
       "      <td>145.0</td>\n",
       "    </tr>\n",
       "    <tr>\n",
       "      <th>7</th>\n",
       "      <td>5506</td>\n",
       "      <td>2016-09-30</td>\n",
       "      <td>False</td>\n",
       "      <td>NaN</td>\n",
       "    </tr>\n",
       "    <tr>\n",
       "      <th>8</th>\n",
       "      <td>5506</td>\n",
       "      <td>2016-09-28</td>\n",
       "      <td>True</td>\n",
       "      <td>145.0</td>\n",
       "    </tr>\n",
       "    <tr>\n",
       "      <th>9</th>\n",
       "      <td>5506</td>\n",
       "      <td>2016-09-25</td>\n",
       "      <td>False</td>\n",
       "      <td>NaN</td>\n",
       "    </tr>\n",
       "    <tr>\n",
       "      <th>10</th>\n",
       "      <td>5506</td>\n",
       "      <td>2016-09-22</td>\n",
       "      <td>True</td>\n",
       "      <td>145.0</td>\n",
       "    </tr>\n",
       "    <tr>\n",
       "      <th>11</th>\n",
       "      <td>5506</td>\n",
       "      <td>2016-09-21</td>\n",
       "      <td>False</td>\n",
       "      <td>NaN</td>\n",
       "    </tr>\n",
       "    <tr>\n",
       "      <th>12</th>\n",
       "      <td>5506</td>\n",
       "      <td>2016-09-19</td>\n",
       "      <td>True</td>\n",
       "      <td>145.0</td>\n",
       "    </tr>\n",
       "    <tr>\n",
       "      <th>13</th>\n",
       "      <td>5506</td>\n",
       "      <td>2016-09-18</td>\n",
       "      <td>False</td>\n",
       "      <td>NaN</td>\n",
       "    </tr>\n",
       "    <tr>\n",
       "      <th>14</th>\n",
       "      <td>5506</td>\n",
       "      <td>2016-09-15</td>\n",
       "      <td>True</td>\n",
       "      <td>145.0</td>\n",
       "    </tr>\n",
       "    <tr>\n",
       "      <th>15</th>\n",
       "      <td>5506</td>\n",
       "      <td>2016-09-12</td>\n",
       "      <td>False</td>\n",
       "      <td>NaN</td>\n",
       "    </tr>\n",
       "    <tr>\n",
       "      <th>16</th>\n",
       "      <td>5506</td>\n",
       "      <td>2016-09-08</td>\n",
       "      <td>True</td>\n",
       "      <td>145.0</td>\n",
       "    </tr>\n",
       "    <tr>\n",
       "      <th>17</th>\n",
       "      <td>6695</td>\n",
       "      <td>2017-09-05</td>\n",
       "      <td>True</td>\n",
       "      <td>195.0</td>\n",
       "    </tr>\n",
       "    <tr>\n",
       "      <th>18</th>\n",
       "      <td>6695</td>\n",
       "      <td>2016-10-24</td>\n",
       "      <td>False</td>\n",
       "      <td>NaN</td>\n",
       "    </tr>\n",
       "    <tr>\n",
       "      <th>19</th>\n",
       "      <td>6695</td>\n",
       "      <td>2016-10-19</td>\n",
       "      <td>True</td>\n",
       "      <td>195.0</td>\n",
       "    </tr>\n",
       "  </tbody>\n",
       "</table>\n",
       "</div>"
      ],
      "text/plain": [
       "    listing_id       date  available  price\n",
       "0         3353 2017-09-05       True   36.0\n",
       "1         3353 2016-12-30      False    NaN\n",
       "2         3353 2017-08-18       True   36.0\n",
       "3         3353 2016-10-12      False    NaN\n",
       "4         5506 2017-09-05       True  145.0\n",
       "5         5506 2016-10-10      False    NaN\n",
       "6         5506 2016-10-03       True  145.0\n",
       "7         5506 2016-09-30      False    NaN\n",
       "8         5506 2016-09-28       True  145.0\n",
       "9         5506 2016-09-25      False    NaN\n",
       "10        5506 2016-09-22       True  145.0\n",
       "11        5506 2016-09-21      False    NaN\n",
       "12        5506 2016-09-19       True  145.0\n",
       "13        5506 2016-09-18      False    NaN\n",
       "14        5506 2016-09-15       True  145.0\n",
       "15        5506 2016-09-12      False    NaN\n",
       "16        5506 2016-09-08       True  145.0\n",
       "17        6695 2017-09-05       True  195.0\n",
       "18        6695 2016-10-24      False    NaN\n",
       "19        6695 2016-10-19       True  195.0"
      ]
     },
     "execution_count": 16,
     "metadata": {},
     "output_type": "execute_result"
    }
   ],
   "source": [
    "df = calendar_cleaned\n",
    "df = df.groupby('listing_id', group_keys=False)\\\n",
    "    .apply(lambda x: x[x.available.ne(x.available.shift())])\\\n",
    "    .reset_index(drop=True)\n",
    "df.head(20)"
   ]
  },
  {
   "cell_type": "code",
   "execution_count": null,
   "metadata": {},
   "outputs": [],
   "source": [
    "listing_activation_dates = df[df.available == True].groupby(\"listing_id\")[[\"listing_id\",\"date\"]].min()"
   ]
  },
  {
   "cell_type": "code",
   "execution_count": null,
   "metadata": {},
   "outputs": [
    {
     "data": {
      "text/html": [
       "<div>\n",
       "<style scoped>\n",
       "    .dataframe tbody tr th:only-of-type {\n",
       "        vertical-align: middle;\n",
       "    }\n",
       "\n",
       "    .dataframe tbody tr th {\n",
       "        vertical-align: top;\n",
       "    }\n",
       "\n",
       "    .dataframe thead th {\n",
       "        text-align: right;\n",
       "    }\n",
       "</style>\n",
       "<table border=\"1\" class=\"dataframe\">\n",
       "  <thead>\n",
       "    <tr style=\"text-align: right;\">\n",
       "      <th></th>\n",
       "      <th>listing_id</th>\n",
       "      <th>date</th>\n",
       "    </tr>\n",
       "    <tr>\n",
       "      <th>listing_id</th>\n",
       "      <th></th>\n",
       "      <th></th>\n",
       "    </tr>\n",
       "  </thead>\n",
       "  <tbody>\n",
       "    <tr>\n",
       "      <th>530983</th>\n",
       "      <td>530983</td>\n",
       "      <td>2016-09-06</td>\n",
       "    </tr>\n",
       "    <tr>\n",
       "      <th>815639</th>\n",
       "      <td>815639</td>\n",
       "      <td>2016-09-06</td>\n",
       "    </tr>\n",
       "    <tr>\n",
       "      <th>12726343</th>\n",
       "      <td>12726343</td>\n",
       "      <td>2016-09-06</td>\n",
       "    </tr>\n",
       "    <tr>\n",
       "      <th>2776391</th>\n",
       "      <td>2776391</td>\n",
       "      <td>2016-09-06</td>\n",
       "    </tr>\n",
       "    <tr>\n",
       "      <th>10524612</th>\n",
       "      <td>10524612</td>\n",
       "      <td>2016-09-06</td>\n",
       "    </tr>\n",
       "  </tbody>\n",
       "</table>\n",
       "</div>"
      ],
      "text/plain": [
       "            listing_id       date\n",
       "listing_id                       \n",
       "530983          530983 2016-09-06\n",
       "815639          815639 2016-09-06\n",
       "12726343      12726343 2016-09-06\n",
       "2776391        2776391 2016-09-06\n",
       "10524612      10524612 2016-09-06"
      ]
     },
     "execution_count": 18,
     "metadata": {},
     "output_type": "execute_result"
    }
   ],
   "source": [
    "listing_activation_dates.sort_values(by=[\"date\"]).head()"
   ]
  },
  {
   "cell_type": "markdown",
   "metadata": {},
   "source": [
    "### Only retaining entries in calendar for each property after its activation date"
   ]
  },
  {
   "cell_type": "code",
   "execution_count": null,
   "metadata": {},
   "outputs": [],
   "source": [
    "cal_by_listing_groups = calendar_cleaned.groupby([\"listing_id\"])"
   ]
  },
  {
   "cell_type": "code",
   "execution_count": null,
   "metadata": {},
   "outputs": [
    {
     "data": {
      "text/html": [
       "<div>\n",
       "<style scoped>\n",
       "    .dataframe tbody tr th:only-of-type {\n",
       "        vertical-align: middle;\n",
       "    }\n",
       "\n",
       "    .dataframe tbody tr th {\n",
       "        vertical-align: top;\n",
       "    }\n",
       "\n",
       "    .dataframe thead th {\n",
       "        text-align: right;\n",
       "    }\n",
       "</style>\n",
       "<table border=\"1\" class=\"dataframe\">\n",
       "  <thead>\n",
       "    <tr style=\"text-align: right;\">\n",
       "      <th></th>\n",
       "      <th>listing_id</th>\n",
       "      <th>date</th>\n",
       "      <th>available</th>\n",
       "      <th>price</th>\n",
       "    </tr>\n",
       "  </thead>\n",
       "  <tbody>\n",
       "    <tr>\n",
       "      <th>0</th>\n",
       "      <td>12147973</td>\n",
       "      <td>2017-09-05</td>\n",
       "      <td>False</td>\n",
       "      <td>NaN</td>\n",
       "    </tr>\n",
       "    <tr>\n",
       "      <th>1</th>\n",
       "      <td>12147973</td>\n",
       "      <td>2017-09-04</td>\n",
       "      <td>False</td>\n",
       "      <td>NaN</td>\n",
       "    </tr>\n",
       "    <tr>\n",
       "      <th>2</th>\n",
       "      <td>12147973</td>\n",
       "      <td>2017-09-03</td>\n",
       "      <td>False</td>\n",
       "      <td>NaN</td>\n",
       "    </tr>\n",
       "    <tr>\n",
       "      <th>3</th>\n",
       "      <td>12147973</td>\n",
       "      <td>2017-09-02</td>\n",
       "      <td>False</td>\n",
       "      <td>NaN</td>\n",
       "    </tr>\n",
       "    <tr>\n",
       "      <th>4</th>\n",
       "      <td>12147973</td>\n",
       "      <td>2017-09-01</td>\n",
       "      <td>False</td>\n",
       "      <td>NaN</td>\n",
       "    </tr>\n",
       "    <tr>\n",
       "      <th>365</th>\n",
       "      <td>3075044</td>\n",
       "      <td>2017-08-22</td>\n",
       "      <td>True</td>\n",
       "      <td>65.0</td>\n",
       "    </tr>\n",
       "    <tr>\n",
       "      <th>366</th>\n",
       "      <td>3075044</td>\n",
       "      <td>2017-08-21</td>\n",
       "      <td>True</td>\n",
       "      <td>65.0</td>\n",
       "    </tr>\n",
       "    <tr>\n",
       "      <th>367</th>\n",
       "      <td>3075044</td>\n",
       "      <td>2017-08-20</td>\n",
       "      <td>True</td>\n",
       "      <td>65.0</td>\n",
       "    </tr>\n",
       "    <tr>\n",
       "      <th>368</th>\n",
       "      <td>3075044</td>\n",
       "      <td>2017-08-19</td>\n",
       "      <td>True</td>\n",
       "      <td>75.0</td>\n",
       "    </tr>\n",
       "    <tr>\n",
       "      <th>369</th>\n",
       "      <td>3075044</td>\n",
       "      <td>2017-08-18</td>\n",
       "      <td>True</td>\n",
       "      <td>75.0</td>\n",
       "    </tr>\n",
       "    <tr>\n",
       "      <th>730</th>\n",
       "      <td>6976</td>\n",
       "      <td>2017-05-12</td>\n",
       "      <td>True</td>\n",
       "      <td>65.0</td>\n",
       "    </tr>\n",
       "    <tr>\n",
       "      <th>731</th>\n",
       "      <td>6976</td>\n",
       "      <td>2017-05-11</td>\n",
       "      <td>True</td>\n",
       "      <td>65.0</td>\n",
       "    </tr>\n",
       "    <tr>\n",
       "      <th>732</th>\n",
       "      <td>6976</td>\n",
       "      <td>2017-05-10</td>\n",
       "      <td>True</td>\n",
       "      <td>65.0</td>\n",
       "    </tr>\n",
       "    <tr>\n",
       "      <th>733</th>\n",
       "      <td>6976</td>\n",
       "      <td>2017-05-09</td>\n",
       "      <td>True</td>\n",
       "      <td>65.0</td>\n",
       "    </tr>\n",
       "    <tr>\n",
       "      <th>734</th>\n",
       "      <td>6976</td>\n",
       "      <td>2017-05-08</td>\n",
       "      <td>True</td>\n",
       "      <td>65.0</td>\n",
       "    </tr>\n",
       "    <tr>\n",
       "      <th>1095</th>\n",
       "      <td>1436513</td>\n",
       "      <td>2017-05-10</td>\n",
       "      <td>False</td>\n",
       "      <td>NaN</td>\n",
       "    </tr>\n",
       "    <tr>\n",
       "      <th>1096</th>\n",
       "      <td>1436513</td>\n",
       "      <td>2017-05-09</td>\n",
       "      <td>False</td>\n",
       "      <td>NaN</td>\n",
       "    </tr>\n",
       "    <tr>\n",
       "      <th>1097</th>\n",
       "      <td>1436513</td>\n",
       "      <td>2017-05-08</td>\n",
       "      <td>False</td>\n",
       "      <td>NaN</td>\n",
       "    </tr>\n",
       "    <tr>\n",
       "      <th>1098</th>\n",
       "      <td>1436513</td>\n",
       "      <td>2017-05-07</td>\n",
       "      <td>True</td>\n",
       "      <td>75.0</td>\n",
       "    </tr>\n",
       "    <tr>\n",
       "      <th>1099</th>\n",
       "      <td>1436513</td>\n",
       "      <td>2017-05-06</td>\n",
       "      <td>True</td>\n",
       "      <td>75.0</td>\n",
       "    </tr>\n",
       "    <tr>\n",
       "      <th>1460</th>\n",
       "      <td>7651065</td>\n",
       "      <td>2017-06-21</td>\n",
       "      <td>True</td>\n",
       "      <td>79.0</td>\n",
       "    </tr>\n",
       "    <tr>\n",
       "      <th>1461</th>\n",
       "      <td>7651065</td>\n",
       "      <td>2017-06-20</td>\n",
       "      <td>True</td>\n",
       "      <td>79.0</td>\n",
       "    </tr>\n",
       "    <tr>\n",
       "      <th>1462</th>\n",
       "      <td>7651065</td>\n",
       "      <td>2017-06-19</td>\n",
       "      <td>True</td>\n",
       "      <td>79.0</td>\n",
       "    </tr>\n",
       "    <tr>\n",
       "      <th>1463</th>\n",
       "      <td>7651065</td>\n",
       "      <td>2017-06-18</td>\n",
       "      <td>True</td>\n",
       "      <td>79.0</td>\n",
       "    </tr>\n",
       "    <tr>\n",
       "      <th>1464</th>\n",
       "      <td>7651065</td>\n",
       "      <td>2017-06-17</td>\n",
       "      <td>True</td>\n",
       "      <td>79.0</td>\n",
       "    </tr>\n",
       "    <tr>\n",
       "      <th>1825</th>\n",
       "      <td>12386020</td>\n",
       "      <td>2017-04-25</td>\n",
       "      <td>False</td>\n",
       "      <td>NaN</td>\n",
       "    </tr>\n",
       "    <tr>\n",
       "      <th>1826</th>\n",
       "      <td>12386020</td>\n",
       "      <td>2017-04-24</td>\n",
       "      <td>False</td>\n",
       "      <td>NaN</td>\n",
       "    </tr>\n",
       "    <tr>\n",
       "      <th>1827</th>\n",
       "      <td>12386020</td>\n",
       "      <td>2017-04-23</td>\n",
       "      <td>False</td>\n",
       "      <td>NaN</td>\n",
       "    </tr>\n",
       "    <tr>\n",
       "      <th>1828</th>\n",
       "      <td>12386020</td>\n",
       "      <td>2017-04-22</td>\n",
       "      <td>False</td>\n",
       "      <td>NaN</td>\n",
       "    </tr>\n",
       "    <tr>\n",
       "      <th>1829</th>\n",
       "      <td>12386020</td>\n",
       "      <td>2017-04-21</td>\n",
       "      <td>False</td>\n",
       "      <td>NaN</td>\n",
       "    </tr>\n",
       "    <tr>\n",
       "      <th>...</th>\n",
       "      <td>...</td>\n",
       "      <td>...</td>\n",
       "      <td>...</td>\n",
       "      <td>...</td>\n",
       "    </tr>\n",
       "    <tr>\n",
       "      <th>1306700</th>\n",
       "      <td>14852179</td>\n",
       "      <td>2017-08-20</td>\n",
       "      <td>False</td>\n",
       "      <td>NaN</td>\n",
       "    </tr>\n",
       "    <tr>\n",
       "      <th>1306701</th>\n",
       "      <td>14852179</td>\n",
       "      <td>2017-08-19</td>\n",
       "      <td>False</td>\n",
       "      <td>NaN</td>\n",
       "    </tr>\n",
       "    <tr>\n",
       "      <th>1306702</th>\n",
       "      <td>14852179</td>\n",
       "      <td>2017-08-18</td>\n",
       "      <td>False</td>\n",
       "      <td>NaN</td>\n",
       "    </tr>\n",
       "    <tr>\n",
       "      <th>1306703</th>\n",
       "      <td>14852179</td>\n",
       "      <td>2017-08-17</td>\n",
       "      <td>False</td>\n",
       "      <td>NaN</td>\n",
       "    </tr>\n",
       "    <tr>\n",
       "      <th>1306704</th>\n",
       "      <td>14852179</td>\n",
       "      <td>2017-08-16</td>\n",
       "      <td>False</td>\n",
       "      <td>NaN</td>\n",
       "    </tr>\n",
       "    <tr>\n",
       "      <th>1307065</th>\n",
       "      <td>8373729</td>\n",
       "      <td>2017-05-18</td>\n",
       "      <td>True</td>\n",
       "      <td>69.0</td>\n",
       "    </tr>\n",
       "    <tr>\n",
       "      <th>1307066</th>\n",
       "      <td>8373729</td>\n",
       "      <td>2017-05-17</td>\n",
       "      <td>True</td>\n",
       "      <td>69.0</td>\n",
       "    </tr>\n",
       "    <tr>\n",
       "      <th>1307067</th>\n",
       "      <td>8373729</td>\n",
       "      <td>2017-05-16</td>\n",
       "      <td>True</td>\n",
       "      <td>69.0</td>\n",
       "    </tr>\n",
       "    <tr>\n",
       "      <th>1307068</th>\n",
       "      <td>8373729</td>\n",
       "      <td>2017-05-15</td>\n",
       "      <td>True</td>\n",
       "      <td>69.0</td>\n",
       "    </tr>\n",
       "    <tr>\n",
       "      <th>1307069</th>\n",
       "      <td>8373729</td>\n",
       "      <td>2017-05-14</td>\n",
       "      <td>True</td>\n",
       "      <td>69.0</td>\n",
       "    </tr>\n",
       "    <tr>\n",
       "      <th>1307430</th>\n",
       "      <td>14844274</td>\n",
       "      <td>2017-06-22</td>\n",
       "      <td>True</td>\n",
       "      <td>150.0</td>\n",
       "    </tr>\n",
       "    <tr>\n",
       "      <th>1307431</th>\n",
       "      <td>14844274</td>\n",
       "      <td>2017-06-21</td>\n",
       "      <td>True</td>\n",
       "      <td>150.0</td>\n",
       "    </tr>\n",
       "    <tr>\n",
       "      <th>1307432</th>\n",
       "      <td>14844274</td>\n",
       "      <td>2017-06-20</td>\n",
       "      <td>True</td>\n",
       "      <td>150.0</td>\n",
       "    </tr>\n",
       "    <tr>\n",
       "      <th>1307433</th>\n",
       "      <td>14844274</td>\n",
       "      <td>2017-06-19</td>\n",
       "      <td>True</td>\n",
       "      <td>150.0</td>\n",
       "    </tr>\n",
       "    <tr>\n",
       "      <th>1307434</th>\n",
       "      <td>14844274</td>\n",
       "      <td>2017-06-18</td>\n",
       "      <td>True</td>\n",
       "      <td>150.0</td>\n",
       "    </tr>\n",
       "    <tr>\n",
       "      <th>1307795</th>\n",
       "      <td>14585486</td>\n",
       "      <td>2017-09-05</td>\n",
       "      <td>False</td>\n",
       "      <td>NaN</td>\n",
       "    </tr>\n",
       "    <tr>\n",
       "      <th>1307796</th>\n",
       "      <td>14585486</td>\n",
       "      <td>2017-09-04</td>\n",
       "      <td>False</td>\n",
       "      <td>NaN</td>\n",
       "    </tr>\n",
       "    <tr>\n",
       "      <th>1307797</th>\n",
       "      <td>14585486</td>\n",
       "      <td>2017-09-03</td>\n",
       "      <td>False</td>\n",
       "      <td>NaN</td>\n",
       "    </tr>\n",
       "    <tr>\n",
       "      <th>1307798</th>\n",
       "      <td>14585486</td>\n",
       "      <td>2017-09-02</td>\n",
       "      <td>False</td>\n",
       "      <td>NaN</td>\n",
       "    </tr>\n",
       "    <tr>\n",
       "      <th>1307799</th>\n",
       "      <td>14585486</td>\n",
       "      <td>2017-09-01</td>\n",
       "      <td>False</td>\n",
       "      <td>NaN</td>\n",
       "    </tr>\n",
       "    <tr>\n",
       "      <th>1308160</th>\n",
       "      <td>14603878</td>\n",
       "      <td>2017-09-05</td>\n",
       "      <td>True</td>\n",
       "      <td>59.0</td>\n",
       "    </tr>\n",
       "    <tr>\n",
       "      <th>1308161</th>\n",
       "      <td>14603878</td>\n",
       "      <td>2017-09-04</td>\n",
       "      <td>True</td>\n",
       "      <td>59.0</td>\n",
       "    </tr>\n",
       "    <tr>\n",
       "      <th>1308162</th>\n",
       "      <td>14603878</td>\n",
       "      <td>2017-09-03</td>\n",
       "      <td>True</td>\n",
       "      <td>59.0</td>\n",
       "    </tr>\n",
       "    <tr>\n",
       "      <th>1308163</th>\n",
       "      <td>14603878</td>\n",
       "      <td>2017-09-02</td>\n",
       "      <td>True</td>\n",
       "      <td>59.0</td>\n",
       "    </tr>\n",
       "    <tr>\n",
       "      <th>1308164</th>\n",
       "      <td>14603878</td>\n",
       "      <td>2017-09-01</td>\n",
       "      <td>True</td>\n",
       "      <td>59.0</td>\n",
       "    </tr>\n",
       "    <tr>\n",
       "      <th>1308525</th>\n",
       "      <td>14504422</td>\n",
       "      <td>2017-06-21</td>\n",
       "      <td>False</td>\n",
       "      <td>NaN</td>\n",
       "    </tr>\n",
       "    <tr>\n",
       "      <th>1308526</th>\n",
       "      <td>14504422</td>\n",
       "      <td>2017-06-20</td>\n",
       "      <td>False</td>\n",
       "      <td>NaN</td>\n",
       "    </tr>\n",
       "    <tr>\n",
       "      <th>1308527</th>\n",
       "      <td>14504422</td>\n",
       "      <td>2017-06-19</td>\n",
       "      <td>False</td>\n",
       "      <td>NaN</td>\n",
       "    </tr>\n",
       "    <tr>\n",
       "      <th>1308528</th>\n",
       "      <td>14504422</td>\n",
       "      <td>2017-06-18</td>\n",
       "      <td>False</td>\n",
       "      <td>NaN</td>\n",
       "    </tr>\n",
       "    <tr>\n",
       "      <th>1308529</th>\n",
       "      <td>14504422</td>\n",
       "      <td>2017-06-17</td>\n",
       "      <td>False</td>\n",
       "      <td>NaN</td>\n",
       "    </tr>\n",
       "  </tbody>\n",
       "</table>\n",
       "<p>17925 rows × 4 columns</p>\n",
       "</div>"
      ],
      "text/plain": [
       "         listing_id       date  available  price\n",
       "0          12147973 2017-09-05      False    NaN\n",
       "1          12147973 2017-09-04      False    NaN\n",
       "2          12147973 2017-09-03      False    NaN\n",
       "3          12147973 2017-09-02      False    NaN\n",
       "4          12147973 2017-09-01      False    NaN\n",
       "365         3075044 2017-08-22       True   65.0\n",
       "366         3075044 2017-08-21       True   65.0\n",
       "367         3075044 2017-08-20       True   65.0\n",
       "368         3075044 2017-08-19       True   75.0\n",
       "369         3075044 2017-08-18       True   75.0\n",
       "730            6976 2017-05-12       True   65.0\n",
       "731            6976 2017-05-11       True   65.0\n",
       "732            6976 2017-05-10       True   65.0\n",
       "733            6976 2017-05-09       True   65.0\n",
       "734            6976 2017-05-08       True   65.0\n",
       "1095        1436513 2017-05-10      False    NaN\n",
       "1096        1436513 2017-05-09      False    NaN\n",
       "1097        1436513 2017-05-08      False    NaN\n",
       "1098        1436513 2017-05-07       True   75.0\n",
       "1099        1436513 2017-05-06       True   75.0\n",
       "1460        7651065 2017-06-21       True   79.0\n",
       "1461        7651065 2017-06-20       True   79.0\n",
       "1462        7651065 2017-06-19       True   79.0\n",
       "1463        7651065 2017-06-18       True   79.0\n",
       "1464        7651065 2017-06-17       True   79.0\n",
       "1825       12386020 2017-04-25      False    NaN\n",
       "1826       12386020 2017-04-24      False    NaN\n",
       "1827       12386020 2017-04-23      False    NaN\n",
       "1828       12386020 2017-04-22      False    NaN\n",
       "1829       12386020 2017-04-21      False    NaN\n",
       "...             ...        ...        ...    ...\n",
       "1306700    14852179 2017-08-20      False    NaN\n",
       "1306701    14852179 2017-08-19      False    NaN\n",
       "1306702    14852179 2017-08-18      False    NaN\n",
       "1306703    14852179 2017-08-17      False    NaN\n",
       "1306704    14852179 2017-08-16      False    NaN\n",
       "1307065     8373729 2017-05-18       True   69.0\n",
       "1307066     8373729 2017-05-17       True   69.0\n",
       "1307067     8373729 2017-05-16       True   69.0\n",
       "1307068     8373729 2017-05-15       True   69.0\n",
       "1307069     8373729 2017-05-14       True   69.0\n",
       "1307430    14844274 2017-06-22       True  150.0\n",
       "1307431    14844274 2017-06-21       True  150.0\n",
       "1307432    14844274 2017-06-20       True  150.0\n",
       "1307433    14844274 2017-06-19       True  150.0\n",
       "1307434    14844274 2017-06-18       True  150.0\n",
       "1307795    14585486 2017-09-05      False    NaN\n",
       "1307796    14585486 2017-09-04      False    NaN\n",
       "1307797    14585486 2017-09-03      False    NaN\n",
       "1307798    14585486 2017-09-02      False    NaN\n",
       "1307799    14585486 2017-09-01      False    NaN\n",
       "1308160    14603878 2017-09-05       True   59.0\n",
       "1308161    14603878 2017-09-04       True   59.0\n",
       "1308162    14603878 2017-09-03       True   59.0\n",
       "1308163    14603878 2017-09-02       True   59.0\n",
       "1308164    14603878 2017-09-01       True   59.0\n",
       "1308525    14504422 2017-06-21      False    NaN\n",
       "1308526    14504422 2017-06-20      False    NaN\n",
       "1308527    14504422 2017-06-19      False    NaN\n",
       "1308528    14504422 2017-06-18      False    NaN\n",
       "1308529    14504422 2017-06-17      False    NaN\n",
       "\n",
       "[17925 rows x 4 columns]"
      ]
     },
     "execution_count": 20,
     "metadata": {},
     "output_type": "execute_result"
    }
   ],
   "source": [
    "cal_by_listing_groups.head()"
   ]
  },
  {
   "cell_type": "code",
   "execution_count": null,
   "metadata": {},
   "outputs": [],
   "source": [
    "def select_entries_after_activation_date(g):\n",
    "\n",
    "    listing_id = g.name\n",
    "    activation_date_df = listing_activation_dates.query(\"listing_id == @listing_id\")[\"date\"]\n",
    "    if activation_date_df.shape[0] > 0:        \n",
    "        activation_date = activation_date_df.iloc[0]\n",
    "#         print(\"activatation_date: \" + str(activation_date))\n",
    "#         print(g[\"date\"].dtype)\n",
    "#         print(type(activation_date))\n",
    "        return g[g[\"date\"] <= activation_date]\n",
    "    \n",
    "    \n",
    "cal_after_activation_dates =cal_by_listing_groups.apply(select_entries_after_activation_date)"
   ]
  },
  {
   "cell_type": "markdown",
   "metadata": {},
   "source": [
    "### Select and add necessary variables to be used for predicting occupancy of property at given time of the year"
   ]
  },
  {
   "cell_type": "code",
   "execution_count": null,
   "metadata": {},
   "outputs": [],
   "source": [
    "input_vars_from_listings = [\"neighbourhood_cleansed\", \n",
    "#                 \"neighbourhood_group_cleansed\",\n",
    "                \"city\",\n",
    "                \"state\",\n",
    "                \"zipcode\",\n",
    "                \"market\",\n",
    "                \"location_categorical\",\n",
    "                \"property_type\",\n",
    "                \"room_type\",\n",
    "                \"accommodates\",\n",
    "                \"bathrooms\",\n",
    "                \"bedrooms\",\n",
    "                \"beds\",\n",
    "                \"bed_type\",\n",
    "                \"square_feet\",\n",
    "                \"guests_included\",\n",
    "                \"minimum_nights\",\n",
    "                \"maximum_nights\",\n",
    "                \"review_scores_rating\",\n",
    "                \"review_scores_accuracy\",\n",
    "                  \"review_scores_cleanliness\",\n",
    "                  \"review_scores_checkin\",\n",
    "                  \"review_scores_communication\",\n",
    "                  \"review_scores_location\",\n",
    "                  \"review_scores_value\",\n",
    "#                   \"jurisdiction_names\",\n",
    "                  \"cancellation_policy\",\n",
    "#                   \"reviews_per_month\",\n",
    "                  \"number_of_reviews\"\n",
    "       ]\n",
    "amenity_variables = list(map(lambda amenity : \"amenity_\" + amenity, possible_amenities))\n",
    "input_vars_from_listings.extend(amenity_variables)\n"
   ]
  },
  {
   "cell_type": "code",
   "execution_count": null,
   "metadata": {},
   "outputs": [],
   "source": [
    "calendar_cleaned[\"month\"] = calendar_cleaned['date'].dt.month_name()"
   ]
  },
  {
   "cell_type": "code",
   "execution_count": null,
   "metadata": {},
   "outputs": [],
   "source": [
    "calendar_cleaned[\"day_of_week\"] = calendar_cleaned['date'].dt.weekday_name"
   ]
  },
  {
   "cell_type": "code",
   "execution_count": null,
   "metadata": {},
   "outputs": [],
   "source": [
    "calendar_cleaned[\"week_of_month\"] = np.ceil(calendar_cleaned['date'].dt.day/7).astype(int)"
   ]
  },
  {
   "cell_type": "code",
   "execution_count": null,
   "metadata": {},
   "outputs": [
    {
     "data": {
      "text/plain": [
       "array([1, 5, 4, 3, 2])"
      ]
     },
     "execution_count": 26,
     "metadata": {},
     "output_type": "execute_result"
    }
   ],
   "source": [
    "calendar_cleaned[\"week_of_month\"].unique()"
   ]
  },
  {
   "cell_type": "code",
   "execution_count": null,
   "metadata": {},
   "outputs": [],
   "source": [
    "df = pd.merge(listings_cleaned, calendar_cleaned, left_on=\"id\", right_on=\"listing_id\", how=\"inner\", suffixes=(\"_listings\", \"_calendar\"))"
   ]
  },
  {
   "cell_type": "code",
   "execution_count": null,
   "metadata": {},
   "outputs": [],
   "source": [
    "g = df.groupby([\"listing_id\", \"month\", \"day_of_week\"]).apply(lambda x: x.sort_values(by=[\"date\"]))"
   ]
  },
  {
   "cell_type": "code",
   "execution_count": null,
   "metadata": {},
   "outputs": [],
   "source": [
    "g.loc[:, \"price_calendar\"] = g[\"price_calendar\"].fillna(method=\"ffill\")"
   ]
  },
  {
   "cell_type": "code",
   "execution_count": null,
   "metadata": {},
   "outputs": [],
   "source": [
    "df = g.reset_index(drop=True)"
   ]
  },
  {
   "cell_type": "code",
   "execution_count": null,
   "metadata": {},
   "outputs": [],
   "source": [
    "g = df.groupby([\"listing_id\"]).apply(lambda x: x.sort_values(by=[\"date\"]))"
   ]
  },
  {
   "cell_type": "code",
   "execution_count": null,
   "metadata": {},
   "outputs": [],
   "source": [
    "g.loc[:, \"price_calendar\"] = g[\"price_calendar\"].fillna(method=\"ffill\")"
   ]
  },
  {
   "cell_type": "code",
   "execution_count": null,
   "metadata": {},
   "outputs": [],
   "source": [
    "df = g.reset_index(drop=True)"
   ]
  },
  {
   "cell_type": "code",
   "execution_count": null,
   "metadata": {},
   "outputs": [],
   "source": [
    "input_vars_from_calendar = [\"month\", \"day_of_week\", \"week_of_month\", \"price_calendar\"]"
   ]
  },
  {
   "cell_type": "code",
   "execution_count": null,
   "metadata": {},
   "outputs": [],
   "source": [
    "all_input_vars = input_vars_from_listings + input_vars_from_calendar;"
   ]
  },
  {
   "cell_type": "code",
   "execution_count": null,
   "metadata": {},
   "outputs": [],
   "source": [
    "df = df.dropna(subset=[\"available\"])"
   ]
  },
  {
   "cell_type": "markdown",
   "metadata": {},
   "source": [
    "Select a sample of properties to be used as an environment of alternatives competing with the property to be booked that can have impact on whether the given property gets booked or not."
   ]
  },
  {
   "cell_type": "code",
   "execution_count": null,
   "metadata": {},
   "outputs": [],
   "source": [
    "start_date = df[\"date\"].min()"
   ]
  },
  {
   "cell_type": "code",
   "execution_count": null,
   "metadata": {},
   "outputs": [],
   "source": [
    "listing_ids_environment = list(df.query(\"date == @start_date\").drop_duplicates(['listing_id'])[\"listing_id\"].sample(100, random_state=42))"
   ]
  },
  {
   "cell_type": "code",
   "execution_count": null,
   "metadata": {},
   "outputs": [],
   "source": [
    "X_with_env = df[all_input_vars + [\"listing_id\", \"date\"]].query(\"listing_id not in @listing_ids_environment\")\n",
    "for listing_id in listing_ids_environment:\n",
    "    listing_price_availability = df.query(\"listing_id == @listing_id\")[[\"price_calendar\", \"available\", \"date\"]]\n",
    "    X_with_env = pd.merge(X_with_env, listing_price_availability, left_on=\"date\", right_on=\"date\", how=\"inner\", suffixes=(\"\", \"_\"+str(listing_id)))"
   ]
  },
  {
   "cell_type": "code",
   "execution_count": null,
   "metadata": {},
   "outputs": [],
   "source": [
    "list(X_with_env.columns)"
   ]
  },
  {
   "cell_type": "code",
   "execution_count": null,
   "metadata": {},
   "outputs": [],
   "source": [
    "X = X_with_env.sort_values(by=[\"listing_id\", \"date\"]).drop(columns=[\"date\"]).reset_index(drop=True)"
   ]
  },
  {
   "cell_type": "code",
   "execution_count": null,
   "metadata": {},
   "outputs": [],
   "source": [
    "y = df[[\"available\",\"listing_id\", \"date\"]].query(\"listing_id not in @listing_ids_environment\").sort_values(by=[\"listing_id\", \"date\"]).drop(columns=[\"date\"]).reset_index(drop=True)"
   ]
  },
  {
   "cell_type": "code",
   "execution_count": null,
   "metadata": {},
   "outputs": [],
   "source": [
    "X.shape"
   ]
  },
  {
   "cell_type": "code",
   "execution_count": null,
   "metadata": {},
   "outputs": [],
   "source": [
    "y.shape"
   ]
  },
  {
   "cell_type": "code",
   "execution_count": null,
   "metadata": {},
   "outputs": [],
   "source": [
    "X.shape[0] == y.shape[0]"
   ]
  },
  {
   "cell_type": "code",
   "execution_count": null,
   "metadata": {},
   "outputs": [],
   "source": [
    "(X[\"listing_id\"] == y[\"listing_id\"]).all()"
   ]
  },
  {
   "cell_type": "markdown",
   "metadata": {},
   "source": [
    "### Fill missing values in numeric columns with mean of the corresponding column"
   ]
  },
  {
   "cell_type": "code",
   "execution_count": null,
   "metadata": {},
   "outputs": [],
   "source": [
    "num_vars = X.select_dtypes(exclude=['object']).copy().columns\n",
    "def fill_mean (col):\n",
    "    return col.fillna(col.mean())\n",
    "X.loc[X.index, num_vars] = X[num_vars].apply(fill_mean, axis=0)"
   ]
  },
  {
   "cell_type": "markdown",
   "metadata": {},
   "source": [
    "### Convert categorical variables into numeric variables with separate column for missing values"
   ]
  },
  {
   "cell_type": "code",
   "execution_count": null,
   "metadata": {},
   "outputs": [],
   "source": [
    "cat_vars = X.select_dtypes(include=['object']).copy().columns\n",
    "for var in  cat_vars:\n",
    "    # for each cat add dummy var, drop original column\n",
    "    X = pd.concat([X.drop(var, axis=1), pd.get_dummies(X[var], prefix=var, prefix_sep='_', drop_first=False, dummy_na=True)], axis=1)    "
   ]
  },
  {
   "cell_type": "markdown",
   "metadata": {},
   "source": [
    "### Splitting data into training and test sets while making sure that no property listing is common between them"
   ]
  },
  {
   "cell_type": "code",
   "execution_count": null,
   "metadata": {},
   "outputs": [],
   "source": [
    "unique_listing_ids = X[\"listing_id\"].unique()"
   ]
  },
  {
   "cell_type": "code",
   "execution_count": null,
   "metadata": {},
   "outputs": [],
   "source": [
    "np.random.seed(42)\n",
    "listing_ids_train = np.random.choice(np.array(unique_listing_ids), size= int(0.70 * len(unique_listing_ids)), replace=False)\n",
    "listing_ids_test = [l for l in unique_listing_ids if l not in listing_ids_train]"
   ]
  },
  {
   "cell_type": "code",
   "execution_count": null,
   "metadata": {},
   "outputs": [],
   "source": [
    "X_train = X.query(\"listing_id in @listing_ids_train\")\n",
    "y_train = y.query(\"listing_id in @listing_ids_train\")"
   ]
  },
  {
   "cell_type": "code",
   "execution_count": null,
   "metadata": {},
   "outputs": [],
   "source": [
    "(X_train.index == y_train.index).all()"
   ]
  },
  {
   "cell_type": "markdown",
   "metadata": {},
   "source": [
    "I am using here only a smaller sample of training data to choose hyper parameters using cross validation technique to complete the experiments in timely manner. However, in real world scenario with availability of time, higher computational resources and memory, entire training dataset should be used for choosing optimal hyper parameters."
   ]
  },
  {
   "cell_type": "code",
   "execution_count": null,
   "metadata": {},
   "outputs": [],
   "source": [
    "X_train_sample = X_train.sample(10000, random_state=42)\n",
    "y_train_sample = y_train.loc[X_train_sample.index]"
   ]
  },
  {
   "cell_type": "code",
   "execution_count": null,
   "metadata": {},
   "outputs": [],
   "source": [
    "(X_train_sample[\"listing_id\"] == y_train_sample[\"listing_id\"]).all()"
   ]
  },
  {
   "cell_type": "code",
   "execution_count": null,
   "metadata": {},
   "outputs": [],
   "source": [
    "X_train_sample.shape"
   ]
  },
  {
   "cell_type": "code",
   "execution_count": null,
   "metadata": {},
   "outputs": [],
   "source": [
    "y_train_sample.shape"
   ]
  },
  {
   "cell_type": "code",
   "execution_count": null,
   "metadata": {},
   "outputs": [],
   "source": [
    "X_test = X.query(\"listing_id in @listing_ids_test\").drop(columns=[\"listing_id\"])\n",
    "y_test = y.query(\"listing_id in @listing_ids_test\").drop(columns=[\"listing_id\"])"
   ]
  },
  {
   "cell_type": "code",
   "execution_count": null,
   "metadata": {},
   "outputs": [],
   "source": [
    "X_train_sample.to_csv(\"X_train_sample.csv\", index=False)\n",
    "y_train_sample.to_csv(\"y_train_sample.csv\", index=False)"
   ]
  },
  {
   "cell_type": "code",
   "execution_count": null,
   "metadata": {},
   "outputs": [],
   "source": [
    "X_test.to_csv(\"X_test.csv\", index=False)\n",
    "y_test.to_csv(\"y_test.csv\", index=False)"
   ]
  },
  {
   "cell_type": "code",
   "execution_count": null,
   "metadata": {},
   "outputs": [],
   "source": [
    "y_train[\"available\"].value_counts()/y_train.shape[0]"
   ]
  },
  {
   "cell_type": "markdown",
   "metadata": {},
   "source": [
    "Considering the ratio of samples classified for output True and False, the data looks to be balanced."
   ]
  },
  {
   "cell_type": "markdown",
   "metadata": {},
   "source": [
    "### Preparing cross validation splits to into training and test sets while making sure that no property listing is common between them"
   ]
  },
  {
   "cell_type": "code",
   "execution_count": null,
   "metadata": {},
   "outputs": [],
   "source": [
    "class MyGridSearchCV(object):\n",
    "    \n",
    "    def __init__(self, estimator, param_grid, cv=3):\n",
    "        self.estimator = estimator\n",
    "        self.param_grid = param_grid\n",
    "        self.best_score = -math.inf\n",
    "        self.best_estimator = None\n",
    "        self.best_estimator_scores_mean = -math.inf\n",
    "        self.best_estimator_scores_stdev = -math.inf\n",
    "        self.best_params= None\n",
    "        self.cv = cv       \n",
    "    \n",
    "    def fit(self, X, y):\n",
    "        for param_point in self.get_param_grid_points():\n",
    "            def splits(array, k):\n",
    "                splits = []\n",
    "                \n",
    "                for i in range(k):\n",
    "                    split_length = math.ceil(len(array)/k)\n",
    "                    split = []\n",
    "                    for j in range(i * split_length, (i+1) * split_length):\n",
    "                        if j < len(array):\n",
    "                            split.append(array[j])\n",
    "                        \n",
    "                    splits.append(split)\n",
    "                cvs = []\n",
    "                for i, split in enumerate(splits):\n",
    "                    train = []\n",
    "                    for j, other_split in enumerate(splits):\n",
    "                        if i != j:\n",
    "                            train += other_split\n",
    "                    test = [] + split\n",
    "                    cvs.append((train, test))\n",
    "                return cvs\n",
    "                    \n",
    "            scores_for_point = []\n",
    "            estimator = clone(self.estimator)\n",
    "            estimator.set_params(**param_point)\n",
    "            for l_train, l_test in splits(list(X[\"listing_id\"].unique()), k=self.cv):                \n",
    "                X_train = X.query(\"listing_id in @l_train\").drop(columns=[\"listing_id\"])\n",
    "                X_test = X.query(\"listing_id in @l_test\").drop(columns=[\"listing_id\"])\n",
    "                y_train = y.query(\"listing_id in @l_train\").drop(columns=[\"listing_id\"])\n",
    "                y_test = y.query(\"listing_id in @l_test\").drop(columns=[\"listing_id\"])                \n",
    "                estimator.fit(X_train, y_train.values.ravel())\n",
    "                y_preds = estimator.predict(X_test)\n",
    "                f1_score_1 = f1_score(y_test, y_preds, pos_label=True)\n",
    "                f1_score_0 = f1_score(y_test, y_preds, pos_label=False)\n",
    "                score = min([f1_score_1, f1_score_0])\n",
    "                scores_for_point.append(score)\n",
    "                \n",
    "            mean_score = np.mean(scores_for_point)\n",
    "            if mean_score > self.best_estimator_scores_mean:\n",
    "                self.best_estimator_scores_mean = mean_score\n",
    "                self.best_estimator_scores_stdev = np.std(scores_for_point)\n",
    "                self.best_estimator = estimator\n",
    "                self.best_params = self.best_estimator.get_params()\n",
    "                self.best_score = self.best_estimator_scores_mean\n",
    "   \n",
    "            \n",
    "    def get_param_grid_points(self):\n",
    "        points = [{}]\n",
    "        for param, values in self.param_grid.items():\n",
    "            new_points = []\n",
    "            for point in points:\n",
    "                for value in values:                    \n",
    "                    new_point = point.copy()\n",
    "                    new_point[param]= value\n",
    "                    new_points.append(new_point)\n",
    "            points = new_points\n",
    "        return points\n",
    "    \n",
    "    def print_best(self):\n",
    "        print(\"Best score:\")\n",
    "        print(self.best_score)\n",
    "        print(\"Best params:\")\n",
    "        print(self.best_params)\n",
    "        print(\"Best estimator scores mean:\")\n",
    "        print(self.best_estimator_scores_mean)\n",
    "        print(\"Best estimator scores stdev:\")\n",
    "        print(self.best_estimator_scores_stdev)"
   ]
  },
  {
   "cell_type": "code",
   "execution_count": null,
   "metadata": {},
   "outputs": [],
   "source": [
    "def my_cross_val_score(estimator, X, y):\n",
    "    def splits(array, k):\n",
    "        splits = []\n",
    "\n",
    "        for i in range(k):\n",
    "            split_length = math.ceil(len(array)/k)\n",
    "            split = []\n",
    "            for j in range(i * split_length, (i+1) * split_length):\n",
    "                if j < len(array):\n",
    "                    split.append(array[j])\n",
    "\n",
    "            splits.append(split)\n",
    "        cvs = []\n",
    "        for i, split in enumerate(splits):\n",
    "            train = []\n",
    "            for j, other_split in enumerate(splits):\n",
    "                if i != j:\n",
    "                    train += other_split\n",
    "            test = [] + split\n",
    "            cvs.append((train, test))\n",
    "        return cvs\n",
    "\n",
    "    scores_for_point = []\n",
    "    for l_train, l_test in splits(list(X[\"listing_id\"].unique()), k=5):\n",
    "        X_train = X.query(\"listing_id in @l_train\").drop(columns=[\"listing_id\"])\n",
    "        y_train = y.query(\"listing_id in @l_train\").drop(columns=[\"listing_id\"])\n",
    "        X_test = X.query(\"listing_id in @l_test\").drop(columns=[\"listing_id\"])\n",
    "        y_test = y.query(\"listing_id in @l_test\").drop(columns=[\"listing_id\"])\n",
    "        estimator.fit(X=X_train, y=y_train.astype('int').values.ravel())\n",
    "        y_preds = estimator.predict(X_test)\n",
    "        f1_score_1 = f1_score(y_test, y_preds, pos_label=True)\n",
    "        f1_score_0 = f1_score(y_test, y_preds, pos_label=False)\n",
    "        score = min([f1_score_1, f1_score_0])\n",
    "        scores_for_point.append(score)\n",
    "\n",
    "    mean_score = np.mean(scores_for_point)\n",
    "    return mean_score\n",
    "\n",
    "import decimal\n",
    "\n",
    "def float_range(start, stop, step):\n",
    "    start = decimal.Decimal(start)\n",
    "    stop = decimal.Decimal(stop)\n",
    "    step = decimal.Decimal(step)\n",
    "    while (start < stop):\n",
    "        yield float(start)\n",
    "        start += step"
   ]
  },
  {
   "cell_type": "markdown",
   "metadata": {},
   "source": [
    "### Decision Tree Classifier"
   ]
  },
  {
   "cell_type": "markdown",
   "metadata": {},
   "source": [
    "I will be using Tree of Parzen Estimators algorithm implemented in Hyperopt library for choosing hyper parameters to be evaluated to find the optimal ones that maximizes the score = min(f1_score_for_positive_class, f1_score_for_negative_class)"
   ]
  },
  {
   "cell_type": "code",
   "execution_count": null,
   "metadata": {},
   "outputs": [],
   "source": [
    "def objective_dtc(params):\n",
    "    clf = DecisionTreeClassifier()\n",
    "    clf.set_params(**params)    \n",
    "    score = my_cross_val_score(clf, X=X_train_sample, y=y_train_sample)\n",
    "    print(params)\n",
    "    print(\"score: \" + str(score))\n",
    "    return -score\n",
    "\n",
    "dtc_param_space = {\n",
    "    \"min_samples_leaf\": hp.choice(\"min_samples_leaf\", range(1,6,2)),\n",
    "    \"min_samples_split\": hp.choice(\"min_samples_split\", [2*x for x in range(1,11,2)]),\n",
    "    \"max_depth\": hp.choice(\"max_depth\", [2**x for x in range(2,11)]),    \n",
    "    \"random_state\": hp.choice(\"random_state\", [42])\n",
    "}\n",
    "start_time = time.time()\n",
    "best_params_dtc = space_eval(ada_param_space, fmin(objective_dtc, dtc_param_space, algo=tpe.suggest, max_evals=100))\n",
    "elapsed_time = (time.time() - start_time) / 60\n",
    "print('Elapsed computation time: {:.3f} mins'.format(elapsed_time))\n",
    "print (\"Best params: \")\n",
    "print (best_params_dtc)\n",
    "dtc = DecisionTreeClassifier()\n",
    "dtc.set_params(**best_params_dtc)\n",
    "dtc.fit(X=X_train.drop(columns=[\"listing_id\"]), y=y_train.drop(columns=[\"listing_id\"]))\n",
    "pickle.dump(dtc, open('dtc_best.pkl', 'wb'))"
   ]
  },
  {
   "cell_type": "markdown",
   "metadata": {},
   "source": [
    "Using Bayesian Optimization technique implemented in gp_minimize method of Scikit Optimize package to choose optimal hyper parameters that maximizes the score = min(f1_score_for_positive_class, f1_score_for_negative_class)"
   ]
  },
  {
   "cell_type": "code",
   "execution_count": null,
   "metadata": {},
   "outputs": [],
   "source": [
    "# Using Bayesian Optimization technique implemented in \n",
    "# gp_minimize method of Scikit Optimize package \n",
    "# to choose optimal hyper parameters.\n",
    "\n",
    "# def objective_dtc(params):\n",
    "#     clf = DecisionTreeClassifier(\n",
    "#         max_depth = params[0],\n",
    "#         min_samples_leaf = params[1],\n",
    "#         max_features = params[2],\n",
    "#         min_samples_split = params[3],\n",
    "#         random_state = 42\n",
    "#     )\n",
    "#     score = my_cross_val_score(clf, X=X_train_sample, y=y_train_sample)\n",
    "#     return -score\n",
    "# start_time = time.time()\n",
    "# dtc_opt_result = gp_minimize(\n",
    "#     func=objective_dtc,\n",
    "#     dimensions=[\n",
    "#         (5, 30),\n",
    "#         (1, 10),\n",
    "#         (0.1, 1.0),\n",
    "#         (2, 20)\n",
    "#     ],\n",
    "#     random_state=42\n",
    "# )\n",
    "# elapsed_time = (time.time() - start_time) / 60\n",
    "# print('Elapsed computation time: {:.3f} mins'.format(elapsed_time))\n",
    "# best_params_list_dtc = dtc_opt_result.x\n",
    "# best_score_dtc = -dtc_opt_result.fun\n",
    "# best_params_dtc = {\n",
    "#     \"max_depth\": best_params_list_dtc[0],\n",
    "#     \"min_samples_leaf\": best_params_list_dtc[1],\n",
    "#     \"max_features\": best_params_list_dtc[2],\n",
    "#     \"min_samples_split\": best_params_list_dtc[3]\n",
    "# }\n",
    "# print (\"Best score: \" + str(best_score_dtc))\n",
    "# dtc = DecisionTreeClassifier()\n",
    "# best_params_dtc[\"random_state\"] = 42\n",
    "# dtc.set_params(**best_params_dtc)\n",
    "# dtc.fit(X=X_train.drop(columns=[\"listing_id\"]), y=y_train.drop(columns=[\"listing_id\"]))\n",
    "# pickle.dump(dtc, open('dtc_best.pkl', 'wb'))"
   ]
  },
  {
   "cell_type": "markdown",
   "metadata": {},
   "source": [
    "## Ensemble Learners"
   ]
  },
  {
   "cell_type": "markdown",
   "metadata": {},
   "source": [
    "### AdaBoost"
   ]
  },
  {
   "cell_type": "code",
   "execution_count": null,
   "metadata": {},
   "outputs": [],
   "source": [
    "def objective_ada(params):\n",
    "    clf = AdaBoostClassifier(DecisionTreeClassifier())\n",
    "    clf.set_params(**params)    \n",
    "    score = my_cross_val_score(clf, X=X_train_sample, y=y_train_sample)\n",
    "    print(params)\n",
    "    print(\"score: \" + str(score))\n",
    "    return -score\n",
    "ada_param_space = {\n",
    "    \"base_estimator__min_samples_leaf\": hp.choice(\"base_estimator__min_samples_leaf\", range(1,6,2)),\n",
    "    \"base_estimator__min_samples_split\": hp.choice(\"base_estimator__min_samples_split\", [2*x for x in range(1,11,2)]),\n",
    "    \"base_estimator__max_depth\": hp.choice(\"base_estimator__max_depth\", [2**x for x in range(2,11)]),\n",
    "    \"n_estimators\": hp.choice(\"n_estimators\", range(10, 101, 10)),\n",
    "    \"random_state\": hp.choice(\"random_state\", [42])\n",
    "}\n",
    "start_time = time.time()\n",
    "best_params_ada = space_eval(ada_param_space, fmin(objective_ada, ada_param_space, algo=tpe.suggest, max_evals=100))\n",
    "elapsed_time = (time.time() - start_time) / 60\n",
    "print('Elapsed computation time: {:.3f} mins'.format(elapsed_time))\n",
    "print (\"Best params: \")\n",
    "print (best_params_ada)\n",
    "ada = AdaBoostClassifier(DecisionTreeClassifier())\n",
    "ada.set_params(**best_params_ada)\n",
    "ada.fit(X=X_train.drop(columns=[\"listing_id\"]), y=y_train.drop(columns=[\"listing_id\"]))\n",
    "pickle.dump(ada, open('ada_best.pkl', 'wb'))"
   ]
  },
  {
   "cell_type": "code",
   "execution_count": null,
   "metadata": {},
   "outputs": [],
   "source": [
    "ada = AdaBoostClassifier(DecisionTreeClassifier())\n",
    "best_params_ada = {'base_estimator__max_depth': 64, 'base_estimator__min_samples_leaf': 3, 'base_estimator__min_samples_split': 6, 'n_estimators': 100, 'random_state': 42}\n",
    "ada.set_params(**best_params_ada)\n",
    "ada.fit(X=X_train.drop(columns=[\"listing_id\"]), y=y_train.drop(columns=[\"listing_id\"]))\n",
    "pickle.dump(ada, open('ada_best.pkl', 'wb'))"
   ]
  },
  {
   "cell_type": "markdown",
   "metadata": {},
   "source": [
    "### Gradient Boost"
   ]
  },
  {
   "cell_type": "code",
   "execution_count": null,
   "metadata": {},
   "outputs": [],
   "source": [
    "def objective_gb(params):\n",
    "    clf = GradientBoostingClassifier()\n",
    "    clf.set_params(**params)    \n",
    "    score = my_cross_val_score(clf, X=X_train_sample, y=y_train_sample)\n",
    "    print(params)\n",
    "    print(\"score: \" + str(score))\n",
    "    return -score\n",
    "\n",
    "gb_param_space = {    \n",
    "    \"max_depth\": hp.choice(\"max_depth\", range(1, 11, 1)),\n",
    "    \"n_estimators\": hp.choice(\"n_estimators\", range(10, 101, 10)),\n",
    "    \"random_state\": hp.choice(\"random_state\", [42])\n",
    "}\n",
    "start_time = time.time()\n",
    "best_params_gb = space_eval(gb_param_space, fmin(objective_gb, gb_param_space, algo=tpe.suggest, max_evals=100))\n",
    "elapsed_time = (time.time() - start_time) / 60\n",
    "print('Elapsed computation time: {:.3f} mins'.format(elapsed_time))\n",
    "print (\"Best params: \")\n",
    "print (best_params_gb)\n",
    "gb = GradientBoostingClassifier()\n",
    "gb.set_params(**best_params_gb)\n",
    "gb.fit(X=X_train.drop(columns=[\"listing_id\"]), y=y_train.drop(columns=[\"listing_id\"]).values.ravel())\n",
    "pickle.dump(gb, open('gb_best.pkl', 'wb'))"
   ]
  },
  {
   "cell_type": "markdown",
   "metadata": {},
   "source": [
    "### Random Forest"
   ]
  },
  {
   "cell_type": "code",
   "execution_count": null,
   "metadata": {},
   "outputs": [],
   "source": [
    "def objective_rf(params):\n",
    "    clf = RandomForestClassifier()\n",
    "    clf.set_params(**params)\n",
    "    score = my_cross_val_score(clf, X=X_train_sample, y=y_train_sample)\n",
    "    print(params)\n",
    "    print(\"score: \" + str(score))\n",
    "    return -score\n",
    "rf_param_space = {\n",
    "    \"min_samples_leaf\": hp.choice(\"min_samples_leaf\", range(1, 10, 2)),\n",
    "    \"max_depth\": hp.choice(\"max_depth\", [2**x for x in range(2,11)]),\n",
    "    \"n_estimators\": hp.choice(\"n_estimators\", range(10, 101, 10)),\n",
    "    \"random_state\": hp.choice(\"random_state\", [42])\n",
    "}\n",
    "start_time = time.time()\n",
    "best_params_rf = space_eval(rf_param_space, fmin(objective_rf, rf_param_space, algo=tpe.suggest, max_evals=100))\n",
    "elapsed_time = (time.time() - start_time) / 60\n",
    "print('Elapsed computation time: {:.3f} mins'.format(elapsed_time))\n",
    "print (\"Best params: \")\n",
    "print (best_params_rf)\n",
    "rf = RandomForestClassifier()\n",
    "rf.set_params(**best_params_rf)\n",
    "rf.fit(X=X_train.drop(columns=[\"listing_id\"]), y=y_train.drop(columns=[\"listing_id\"]).values.ravel())\n",
    "pickle.dump(rf, open('rf_best.pkl', 'wb'))"
   ]
  },
  {
   "cell_type": "markdown",
   "metadata": {},
   "source": [
    "### Support Vector Machine"
   ]
  },
  {
   "cell_type": "code",
   "execution_count": null,
   "metadata": {},
   "outputs": [],
   "source": [
    "def objective_svm(params):\n",
    "    clf = SVC()\n",
    "    clf.set_params(**params)\n",
    "    score = my_cross_val_score(clf, X=X_train_sample, y=y_train_sample)\n",
    "    print(params)\n",
    "    print(\"score: \" + str(score))\n",
    "    return -score\n",
    "svm_param_space = {\n",
    "    \"kernel\": hp.choice(\"kernel\", ['rbf']),\n",
    "    \"gamma\": hp.choice(\"gamma\", [0.001, 0.005, 0.01, 0.05, 0.1, 0.5, 1, 5, 10, 50, 100]),\n",
    "    \"C\": hp.choice(\"C\", [0.1, 1, 5, 10, 25, 50, 75, 100, 250, 500, 750, 1000]),\n",
    "    \"random_state\": hp.choice(\"random_state\", [42]),\n",
    "    \"probability\": hp.choice(\"probability\", [True])\n",
    "}\n",
    "start_time = time.time()\n",
    "best_params_svm = space_eval(svm_param_space, fmin(objective_svm, svm_param_space, algo=tpe.suggest, max_evals=100))\n",
    "elapsed_time = (time.time() - start_time) / 60\n",
    "print('Elapsed computation time: {:.3f} mins'.format(elapsed_time))\n",
    "print (\"Best params: \")\n",
    "print (best_params_svm)\n",
    "svm = SVC()\n",
    "svm.set_params(**best_params_svm)\n",
    "svm.fit(X=X_train.drop(columns=[\"listing_id\"]), y=y_train.drop(columns=[\"listing_id\"]).values.ravel())\n",
    "pickle.dump(svm, open('svm_best.pkl', 'wb'))"
   ]
  },
  {
   "cell_type": "markdown",
   "metadata": {},
   "source": [
    "## Keras"
   ]
  },
  {
   "cell_type": "code",
   "execution_count": null,
   "metadata": {},
   "outputs": [],
   "source": [
    "def make_model(n_features, learn_rate):\n",
    "    model = Sequential()\n",
    "    \n",
    "    model.add(Dense(600, input_shape=(n_features,),\n",
    "              kernel_initializer='glorot_normal'))\n",
    "    model.add(Activation('relu'))\n",
    "    model.add(BatchNormalization())\n",
    "    model.add(Dropout(0.45))\n",
    "    \n",
    "    model.add(Dense(300, input_shape=(n_features,),\n",
    "              kernel_initializer='glorot_normal'))\n",
    "    model.add(Activation('relu'))\n",
    "    model.add(BatchNormalization())\n",
    "    model.add(Dropout(0.35))\n",
    "    \n",
    "    model.add(Dense(150, input_shape=(n_features,),\n",
    "              kernel_initializer='glorot_normal'))\n",
    "    model.add(Activation('relu'))\n",
    "    model.add(BatchNormalization())\n",
    "    model.add(Dropout(0.25))\n",
    "    \n",
    "    model.add(Dense(75, kernel_initializer='glorot_normal'))\n",
    "    model.add(Activation('relu'))\n",
    "    model.add(BatchNormalization())\n",
    "    model.add(Dropout(0.15))\n",
    "    \n",
    "    model.add(Dense(35, kernel_initializer='glorot_normal'))\n",
    "    model.add(Activation('relu'))\n",
    "    model.add(BatchNormalization())\n",
    "    model.add(Dropout(0.10))\n",
    "    \n",
    "    model.add(Dense(10, kernel_initializer='glorot_normal'))\n",
    "    model.add(Activation('relu'))\n",
    "    model.add(BatchNormalization())\n",
    "    model.add(Dropout(0.10))\n",
    "\n",
    "    \n",
    "    model.add(Dense(1, activation='sigmoid'))\n",
    "\n",
    "    model.compile(loss='binary_crossentropy',\n",
    "                  optimizer=Adam(lr=learn_rate),\n",
    "                  metrics=['acc'])\n",
    "\n",
    "    return model"
   ]
  },
  {
   "cell_type": "code",
   "execution_count": null,
   "metadata": {},
   "outputs": [],
   "source": [
    "nn_model = make_model(len(X_train.drop(columns=[\"listing_id\"]).columns), 0.01)"
   ]
  },
  {
   "cell_type": "code",
   "execution_count": null,
   "metadata": {},
   "outputs": [],
   "source": [
    "validation_listing_ids = list(X_train[[\"listing_id\"]].drop_duplicates([\"listing_id\"]).sample(frac=0.1)[\"listing_id\"])\n",
    "X_val_nn = X_train.query(\"listing_id in @validation_listing_ids\").drop(columns=[\"listing_id\"])\n",
    "y_val_nn = y_train.query(\"listing_id in @validation_listing_ids\").drop(columns=[\"listing_id\"])\n",
    "X_train_nn = X_train.query(\"listing_id not in @validation_listing_ids\").drop(columns=[\"listing_id\"])\n",
    "y_train_nn = y_train.query(\"listing_id not in @validation_listing_ids\").drop(columns=[\"listing_id\"])"
   ]
  },
  {
   "cell_type": "code",
   "execution_count": null,
   "metadata": {},
   "outputs": [],
   "source": [
    "nn_model.fit(X_train_nn, y_train_nn, validation_data=(X_val_nn, y_val_nn), epochs=50, verbose=1,\n",
    "            callbacks=[\n",
    "                EarlyStopping(monitor='val_loss', mode='min', verbose=1),\n",
    "                ModelCheckpoint('nn_best_model.h5', monitor='val_loss', mode='min', verbose=1)\n",
    "            ])"
   ]
  },
  {
   "cell_type": "code",
   "execution_count": null,
   "metadata": {},
   "outputs": [],
   "source": [
    "nn_model.load_weights('nn_best_model.h5')"
   ]
  },
  {
   "cell_type": "markdown",
   "metadata": {},
   "source": [
    "### Model Interpretation"
   ]
  },
  {
   "cell_type": "code",
   "execution_count": null,
   "metadata": {},
   "outputs": [],
   "source": [
    "X_train_sample = pd.read_csv(\"X_train_sample.csv\")\n",
    "y_train_sample = pd.read_csv(\"y_train_sample.csv\")"
   ]
  },
  {
   "cell_type": "code",
   "execution_count": null,
   "metadata": {},
   "outputs": [],
   "source": [
    "import pprint\n",
    "pp = pprint.PrettyPrinter(indent=4)\n",
    "def print_top10(feature_names, clf, class_labels):\n",
    "    \"\"\"Prints features with the highest coefficient values, per class\"\"\"\n",
    "    pp.pprint(sorted(list(zip(feature_names, clf.feature_importances_)), key=lambda x: x[1], \n",
    "reverse=True)[:20])\n",
    "\n",
    "for model_name in models.keys():\n",
    "    model_file_name = models[model_name]\n",
    "    model = pickle.load(open(model_file_name, 'rb'))\n",
    "    print(\"\\nModel: \" + model_name)\n",
    "    print(\"Best Params: \")\n",
    "    pp.pprint(model.get_params())\n",
    "    print(\"Top 10 Feature importances: \")\n",
    "    print_top10(X_train_sample.columns, model, model.classes_)"
   ]
  },
  {
   "cell_type": "markdown",
   "metadata": {},
   "source": [
    "### Prediction & Model Evaluation"
   ]
  },
  {
   "cell_type": "code",
   "execution_count": 2,
   "metadata": {},
   "outputs": [],
   "source": [
    "X_test = pd.read_csv(\"X_test.csv\")\n",
    "y_test = pd.read_csv(\"y_test.csv\")"
   ]
  },
  {
   "cell_type": "code",
   "execution_count": 3,
   "metadata": {},
   "outputs": [
    {
     "name": "stdout",
     "output_type": "stream",
     "text": [
      "Model: Random Forest f1-score: 0.7314898673823129\n",
      "Model: Gradient Boost f1-score: 0.7307059891734311\n"
     ]
    }
   ],
   "source": [
    "models = {\n",
    "    \"Random Forest\": \"rf_best.pkl\",\n",
    "    \"Gradient Boost\": \"gb_best.pkl\",\n",
    "#     \"Ada Boost\": \"ada_best.pkl\",\n",
    "#     \"Single Decision Tree\": \"dtc_best.pkl\"\n",
    "}\n",
    "for model_name in models.keys():\n",
    "    model_file_name = models[model_name]\n",
    "    model = pickle.load(open(model_file_name, 'rb'))\n",
    "    y_preds = model.predict(X_test)\n",
    "    f1 = f1_score(y_test, y_preds, average=\"macro\")\n",
    "    print (\"Model: \" + model_name + \" f1-score: \" + str(f1))"
   ]
  },
  {
   "cell_type": "code",
   "execution_count": 4,
   "metadata": {},
   "outputs": [
    {
     "name": "stderr",
     "output_type": "stream",
     "text": [
      "WARNING: Logging before flag parsing goes to stderr.\n",
      "W0904 20:09:31.182117 140736017159040 deprecation_wrapper.py:119] From /Users/atharva/.pyenv/versions/anaconda3-2019.03/lib/python3.7/site-packages/keras/backend/tensorflow_backend.py:517: The name tf.placeholder is deprecated. Please use tf.compat.v1.placeholder instead.\n",
      "\n",
      "W0904 20:09:31.600405 140736017159040 deprecation_wrapper.py:119] From /Users/atharva/.pyenv/versions/anaconda3-2019.03/lib/python3.7/site-packages/keras/backend/tensorflow_backend.py:4185: The name tf.truncated_normal is deprecated. Please use tf.random.truncated_normal instead.\n",
      "\n",
      "W0904 20:09:31.881095 140736017159040 deprecation_wrapper.py:119] From /Users/atharva/.pyenv/versions/anaconda3-2019.03/lib/python3.7/site-packages/keras/backend/tensorflow_backend.py:131: The name tf.get_default_graph is deprecated. Please use tf.compat.v1.get_default_graph instead.\n",
      "\n",
      "W0904 20:09:31.882040 140736017159040 deprecation_wrapper.py:119] From /Users/atharva/.pyenv/versions/anaconda3-2019.03/lib/python3.7/site-packages/keras/backend/tensorflow_backend.py:133: The name tf.placeholder_with_default is deprecated. Please use tf.compat.v1.placeholder_with_default instead.\n",
      "\n",
      "W0904 20:09:31.944174 140736017159040 deprecation.py:506] From /Users/atharva/.pyenv/versions/anaconda3-2019.03/lib/python3.7/site-packages/keras/backend/tensorflow_backend.py:3445: calling dropout (from tensorflow.python.ops.nn_ops) with keep_prob is deprecated and will be removed in a future version.\n",
      "Instructions for updating:\n",
      "Please use `rate` instead of `keep_prob`. Rate should be set to `rate = 1 - keep_prob`.\n",
      "W0904 20:09:32.511731 140736017159040 deprecation_wrapper.py:119] From /Users/atharva/.pyenv/versions/anaconda3-2019.03/lib/python3.7/site-packages/keras/backend/tensorflow_backend.py:4138: The name tf.random_uniform is deprecated. Please use tf.random.uniform instead.\n",
      "\n",
      "W0904 20:09:33.843790 140736017159040 deprecation_wrapper.py:119] From /Users/atharva/.pyenv/versions/anaconda3-2019.03/lib/python3.7/site-packages/keras/optimizers.py:790: The name tf.train.Optimizer is deprecated. Please use tf.compat.v1.train.Optimizer instead.\n",
      "\n",
      "W0904 20:09:33.854117 140736017159040 deprecation.py:323] From /Users/atharva/.pyenv/versions/anaconda3-2019.03/lib/python3.7/site-packages/tensorflow/python/ops/nn_impl.py:180: add_dispatch_support.<locals>.wrapper (from tensorflow.python.ops.array_ops) is deprecated and will be removed in a future version.\n",
      "Instructions for updating:\n",
      "Use tf.where in 2.0, which has the same broadcast rule as np.where\n"
     ]
    }
   ],
   "source": [
    "nn_model = load_model('nn_best_model.h5')"
   ]
  },
  {
   "cell_type": "code",
   "execution_count": 5,
   "metadata": {},
   "outputs": [
    {
     "name": "stdout",
     "output_type": "stream",
     "text": [
      "381790/381790 [==============================] - 51s 134us/step\n"
     ]
    },
    {
     "data": {
      "text/plain": [
       "[0.6647628992374424, 0.6641871185730376]"
      ]
     },
     "execution_count": 5,
     "metadata": {},
     "output_type": "execute_result"
    }
   ],
   "source": [
    "nn_model.evaluate(x=X_test,y=y_test)"
   ]
  },
  {
   "cell_type": "code",
   "execution_count": 6,
   "metadata": {},
   "outputs": [
    {
     "data": {
      "text/plain": [
       "['loss', 'acc']"
      ]
     },
     "execution_count": 6,
     "metadata": {},
     "output_type": "execute_result"
    }
   ],
   "source": [
    "nn_model.metrics_names"
   ]
  },
  {
   "cell_type": "code",
   "execution_count": 7,
   "metadata": {},
   "outputs": [],
   "source": [
    "y_preds_nn = nn_model.predict_classes(X_test)"
   ]
  },
  {
   "cell_type": "code",
   "execution_count": 8,
   "metadata": {},
   "outputs": [
    {
     "name": "stdout",
     "output_type": "stream",
     "text": [
      "f1-score: 0.6565949692226779\n"
     ]
    }
   ],
   "source": [
    "f1 = f1_score(y_test, y_preds_nn, average=\"macro\")\n",
    "print (\"f1-score: \" + str(f1))"
   ]
  },
  {
   "cell_type": "markdown",
   "metadata": {},
   "source": [
    "## Deciding the booking price of property"
   ]
  },
  {
   "cell_type": "markdown",
   "metadata": {},
   "source": [
    "Here I tune the booking price of the property by looking at the probability of the property being booked at given price. If the probability is too low, I try increasing it by setting the price the of that property slightly low and see if it increases the probability. My goal is to maximize the profit of the company. "
   ]
  },
  {
   "cell_type": "code",
   "execution_count": 9,
   "metadata": {},
   "outputs": [],
   "source": [
    "Sequential.predict_proba = Sequential.predict"
   ]
  },
  {
   "cell_type": "code",
   "execution_count": 10,
   "metadata": {},
   "outputs": [],
   "source": [
    "import decimal\n",
    "\n",
    "def float_range(start, stop, step):\n",
    "    start = decimal.Decimal(start)\n",
    "    stop = decimal.Decimal(stop)\n",
    "    step = decimal.Decimal(step)\n",
    "    while (start < stop):\n",
    "        yield float(start)\n",
    "        start += step"
   ]
  },
  {
   "cell_type": "code",
   "execution_count": 63,
   "metadata": {},
   "outputs": [],
   "source": [
    "thresholds = list(float_range('0.025', '1', '0.025'))\n",
    "revenue_by_threshold= pd.DataFrame({\"revenue\": 0}, index=thresholds)"
   ]
  },
  {
   "cell_type": "code",
   "execution_count": 62,
   "metadata": {},
   "outputs": [],
   "source": [
    "def calc_revenue_at_tuned_price(row, threshold, classifiers):\n",
    "    current_price = row[\"price_calendar\"]\n",
    "#     print(\"price_calendar: \" + str(current_price))\n",
    "    \n",
    "    def calc_average_prob_booked(row):        \n",
    "        df = pd.DataFrame(data=row.to_dict(), index=[0])\n",
    "        sum_prob_booked = 0\n",
    "        for clf in classifiers:\n",
    "            sum_prob_booked += clf.predict_proba(df)[0][0]\n",
    "        return sum_prob_booked/len(classifiers)\n",
    "    patience = 50\n",
    "    prob_booked = calc_average_prob_booked(row)\n",
    "    \n",
    "#     print (\"probability of booked at price_calendar: \" + str(prob_booked))\n",
    "    if (prob_booked < threshold):\n",
    "#         print (\"Will try with reduced the price\")\n",
    "        trial_price = current_price\n",
    "        saved_trial_price = trial_price\n",
    "        steps_in_trap = 0\n",
    "        while (prob_booked < threshold and trial_price > 10):\n",
    "            trial_price = trial_price * 0.99\n",
    "            row[\"price_calendar\"] = trial_price\n",
    "            prob_booked_trial = calc_average_prob_booked(row)\n",
    "#             print (\"trial_price: \" + str(trial_price))\n",
    "#             print (\"prob_booked_trial: \" + str(prob_booked_trial))\n",
    "\n",
    "            if prob_booked_trial >= prob_booked:\n",
    "                if prob_booked_trial == prob_booked:\n",
    "                    steps_in_trap += 1\n",
    "                    if steps_in_trap > patience:\n",
    "                        return saved_trial_price * prob_booked\n",
    "                else:\n",
    "                    saved_trial_price = trial_price\n",
    "                    steps_in_trap = 0\n",
    "                prob_booked = prob_booked_trial\n",
    "            else:\n",
    "                steps_in_trap += 1\n",
    "                if steps_in_trap > patience:\n",
    "                    return saved_trial_price * prob_booked\n",
    "\n",
    "        return trial_price * prob_booked\n",
    "    else:\n",
    "#         print (\"Will try with increased the price\")\n",
    "        trial_price = current_price\n",
    "        saved_trial_price = trial_price\n",
    "        steps_in_trap = 0\n",
    "        while (True):\n",
    "            trial_price = trial_price * 1.01\n",
    "            row[\"price_calendar\"] = trial_price\n",
    "            prob_booked_trial = calc_average_prob_booked(row)\n",
    "#             print (\"trial_price: \" + str(trial_price))\n",
    "#             print (\"prob_booked_trial: \" + str(prob_booked_trial))\n",
    "            if prob_booked_trial <= prob_booked:\n",
    "                if prob_booked_trial == prob_booked:\n",
    "                    steps_in_trap += 1\n",
    "                    if steps_in_trap > patience:\n",
    "                        return saved_trial_price * prob_booked\n",
    "                else:\n",
    "                    saved_trial_price = trial_price\n",
    "                    steps_in_trap = 0\n",
    "                prob_booked = prob_booked_trial\n",
    "                if (prob_booked > threshold and trial_price < 3 * current_price):\n",
    "                    pass\n",
    "                else:\n",
    "                    return saved_trial_price * prob_booked    \n",
    "            else:\n",
    "                steps_in_trap += 1\n",
    "                if steps_in_trap > patience:\n",
    "                    return saved_trial_price * prob_booked"
   ]
  },
  {
   "cell_type": "markdown",
   "metadata": {},
   "source": [
    "I decided to use average of all probabilities of a property being avialable for booking predicted by the best version of each of the classifiers that I trained to get probability value smoothly varying the price."
   ]
  },
  {
   "cell_type": "code",
   "execution_count": 33,
   "metadata": {},
   "outputs": [],
   "source": [
    "classifiers = [\n",
    "#                 pickle.load(open(\"gb_best.pkl\", 'rb')),\n",
    "#                pickle.load(open(\"rf_best.pkl\", 'rb')),\n",
    "#                 pickle.load(open(\"ada_best.pkl\", 'rb')),\n",
    "               nn_model]"
   ]
  },
  {
   "cell_type": "code",
   "execution_count": 64,
   "metadata": {},
   "outputs": [
    {
     "name": "stdout",
     "output_type": "stream",
     "text": [
      "Evaluating expected revenue at threshold: 0.025\n",
      "Expected revenue:  15684.28767090591\n",
      "Evaluating expected revenue at threshold: 0.05\n",
      "Expected revenue:  15680.40514813056\n",
      "Evaluating expected revenue at threshold: 0.075\n",
      "Expected revenue:  15681.124442491284\n",
      "Evaluating expected revenue at threshold: 0.1\n",
      "Expected revenue:  15689.653799255304\n",
      "Evaluating expected revenue at threshold: 0.125\n",
      "Expected revenue:  15697.528717478339\n",
      "Evaluating expected revenue at threshold: 0.15\n",
      "Expected revenue:  15720.602064757042\n",
      "Evaluating expected revenue at threshold: 0.175\n",
      "Expected revenue:  15719.68724362067\n",
      "Evaluating expected revenue at threshold: 0.2\n",
      "Expected revenue:  15740.617176625747\n",
      "Evaluating expected revenue at threshold: 0.225\n",
      "Expected revenue:  15759.09729224913\n",
      "Evaluating expected revenue at threshold: 0.25\n",
      "Expected revenue:  15776.240943320723\n",
      "Evaluating expected revenue at threshold: 0.275\n",
      "Expected revenue:  15785.582176043861\n",
      "Evaluating expected revenue at threshold: 0.3\n",
      "Expected revenue:  15822.59686044482\n",
      "Evaluating expected revenue at threshold: 0.325\n",
      "Expected revenue:  15856.125838881931\n",
      "Evaluating expected revenue at threshold: 0.35\n",
      "Expected revenue:  15850.189144476642\n",
      "Evaluating expected revenue at threshold: 0.375\n",
      "Expected revenue:  15839.626029009678\n",
      "Evaluating expected revenue at threshold: 0.4\n",
      "Expected revenue:  15857.032517561302\n",
      "Evaluating expected revenue at threshold: 0.425\n",
      "Expected revenue:  15848.617459019892\n",
      "Evaluating expected revenue at threshold: 0.45\n",
      "Expected revenue:  15867.95205970503\n",
      "Evaluating expected revenue at threshold: 0.475\n",
      "Expected revenue:  15905.258301673244\n",
      "Evaluating expected revenue at threshold: 0.5\n",
      "Expected revenue:  15921.857007186476\n",
      "Evaluating expected revenue at threshold: 0.525\n",
      "Expected revenue:  15917.742994346287\n",
      "Evaluating expected revenue at threshold: 0.55\n",
      "Expected revenue:  15890.106878031504\n",
      "Evaluating expected revenue at threshold: 0.575\n",
      "Expected revenue:  15853.80496621744\n",
      "Evaluating expected revenue at threshold: 0.6\n",
      "Expected revenue:  15795.716242347715\n",
      "Evaluating expected revenue at threshold: 0.625\n",
      "Expected revenue:  15727.438079629012\n",
      "Evaluating expected revenue at threshold: 0.65\n",
      "Expected revenue:  15545.711018297456\n",
      "Evaluating expected revenue at threshold: 0.675\n",
      "Expected revenue:  15206.360488921915\n",
      "Evaluating expected revenue at threshold: 0.7\n",
      "Expected revenue:  14836.495802905607\n",
      "Evaluating expected revenue at threshold: 0.725\n",
      "Expected revenue:  14468.328876231173\n",
      "Evaluating expected revenue at threshold: 0.75\n",
      "Expected revenue:  14030.249651229113\n",
      "Evaluating expected revenue at threshold: 0.775\n",
      "Expected revenue:  13687.08379426684\n",
      "Evaluating expected revenue at threshold: 0.8\n",
      "Expected revenue:  13011.126900324714\n",
      "Evaluating expected revenue at threshold: 0.825\n",
      "Expected revenue:  12135.779739338323\n",
      "Evaluating expected revenue at threshold: 0.85\n",
      "Expected revenue:  11689.711740315077\n",
      "Evaluating expected revenue at threshold: 0.875\n",
      "Expected revenue:  10674.416272868135\n",
      "Evaluating expected revenue at threshold: 0.9\n",
      "Expected revenue:  10211.066297483558\n",
      "Evaluating expected revenue at threshold: 0.925\n",
      "Expected revenue:  9639.182114682999\n",
      "Evaluating expected revenue at threshold: 0.95\n",
      "Expected revenue:  9138.938581299684\n",
      "Evaluating expected revenue at threshold: 0.975\n",
      "Expected revenue:  9108.211694350437\n"
     ]
    }
   ],
   "source": [
    "highest_revenue = -math.inf\n",
    "threshold_at_highest_revenue = None\n",
    "for threshold in thresholds:\n",
    "#     print(\"====================================================\\n\")    \n",
    "    print (\"Evaluating expected revenue at threshold: \" + str(threshold))\n",
    "#     print(\"====================================================\\n\")\n",
    "    revenue = 0\n",
    "    for index, row in X_test.sample(n=100, random_state=42).copy().iterrows():\n",
    "        revenue_at_tuned_price = calc_revenue_at_tuned_price(row, threshold, classifiers)\n",
    "#         print (\"threshold: \" + str(threshold))\n",
    "#         print (\"revenue at tuned price: \" + str(revenue_at_tuned_price))\n",
    "        revenue += revenue_at_tuned_price\n",
    "#         print (\"------------------------------------------------------------\")\n",
    "    print (\"Expected revenue: \", str(revenue))\n",
    "    if revenue > highest_revenue:\n",
    "        highest_revenue = revenue\n",
    "        threshold_at_highest_revenue = threshold\n",
    "    revenue_by_threshold.loc[threshold, \"revenue\"] = revenue"
   ]
  },
  {
   "cell_type": "code",
   "execution_count": 65,
   "metadata": {},
   "outputs": [
    {
     "data": {
      "text/html": [
       "<div>\n",
       "<style scoped>\n",
       "    .dataframe tbody tr th:only-of-type {\n",
       "        vertical-align: middle;\n",
       "    }\n",
       "\n",
       "    .dataframe tbody tr th {\n",
       "        vertical-align: top;\n",
       "    }\n",
       "\n",
       "    .dataframe thead th {\n",
       "        text-align: right;\n",
       "    }\n",
       "</style>\n",
       "<table border=\"1\" class=\"dataframe\">\n",
       "  <thead>\n",
       "    <tr style=\"text-align: right;\">\n",
       "      <th></th>\n",
       "      <th>revenue</th>\n",
       "    </tr>\n",
       "  </thead>\n",
       "  <tbody>\n",
       "    <tr>\n",
       "      <th>0.025</th>\n",
       "      <td>15684.287671</td>\n",
       "    </tr>\n",
       "    <tr>\n",
       "      <th>0.050</th>\n",
       "      <td>15680.405148</td>\n",
       "    </tr>\n",
       "    <tr>\n",
       "      <th>0.075</th>\n",
       "      <td>15681.124442</td>\n",
       "    </tr>\n",
       "    <tr>\n",
       "      <th>0.100</th>\n",
       "      <td>15689.653799</td>\n",
       "    </tr>\n",
       "    <tr>\n",
       "      <th>0.125</th>\n",
       "      <td>15697.528717</td>\n",
       "    </tr>\n",
       "    <tr>\n",
       "      <th>0.150</th>\n",
       "      <td>15720.602065</td>\n",
       "    </tr>\n",
       "    <tr>\n",
       "      <th>0.175</th>\n",
       "      <td>15719.687244</td>\n",
       "    </tr>\n",
       "    <tr>\n",
       "      <th>0.200</th>\n",
       "      <td>15740.617177</td>\n",
       "    </tr>\n",
       "    <tr>\n",
       "      <th>0.225</th>\n",
       "      <td>15759.097292</td>\n",
       "    </tr>\n",
       "    <tr>\n",
       "      <th>0.250</th>\n",
       "      <td>15776.240943</td>\n",
       "    </tr>\n",
       "    <tr>\n",
       "      <th>0.275</th>\n",
       "      <td>15785.582176</td>\n",
       "    </tr>\n",
       "    <tr>\n",
       "      <th>0.300</th>\n",
       "      <td>15822.596860</td>\n",
       "    </tr>\n",
       "    <tr>\n",
       "      <th>0.325</th>\n",
       "      <td>15856.125839</td>\n",
       "    </tr>\n",
       "    <tr>\n",
       "      <th>0.350</th>\n",
       "      <td>15850.189144</td>\n",
       "    </tr>\n",
       "    <tr>\n",
       "      <th>0.375</th>\n",
       "      <td>15839.626029</td>\n",
       "    </tr>\n",
       "    <tr>\n",
       "      <th>0.400</th>\n",
       "      <td>15857.032518</td>\n",
       "    </tr>\n",
       "    <tr>\n",
       "      <th>0.425</th>\n",
       "      <td>15848.617459</td>\n",
       "    </tr>\n",
       "    <tr>\n",
       "      <th>0.450</th>\n",
       "      <td>15867.952060</td>\n",
       "    </tr>\n",
       "    <tr>\n",
       "      <th>0.475</th>\n",
       "      <td>15905.258302</td>\n",
       "    </tr>\n",
       "    <tr>\n",
       "      <th>0.500</th>\n",
       "      <td>15921.857007</td>\n",
       "    </tr>\n",
       "    <tr>\n",
       "      <th>0.525</th>\n",
       "      <td>15917.742994</td>\n",
       "    </tr>\n",
       "    <tr>\n",
       "      <th>0.550</th>\n",
       "      <td>15890.106878</td>\n",
       "    </tr>\n",
       "    <tr>\n",
       "      <th>0.575</th>\n",
       "      <td>15853.804966</td>\n",
       "    </tr>\n",
       "    <tr>\n",
       "      <th>0.600</th>\n",
       "      <td>15795.716242</td>\n",
       "    </tr>\n",
       "    <tr>\n",
       "      <th>0.625</th>\n",
       "      <td>15727.438080</td>\n",
       "    </tr>\n",
       "    <tr>\n",
       "      <th>0.650</th>\n",
       "      <td>15545.711018</td>\n",
       "    </tr>\n",
       "    <tr>\n",
       "      <th>0.675</th>\n",
       "      <td>15206.360489</td>\n",
       "    </tr>\n",
       "    <tr>\n",
       "      <th>0.700</th>\n",
       "      <td>14836.495803</td>\n",
       "    </tr>\n",
       "    <tr>\n",
       "      <th>0.725</th>\n",
       "      <td>14468.328876</td>\n",
       "    </tr>\n",
       "    <tr>\n",
       "      <th>0.750</th>\n",
       "      <td>14030.249651</td>\n",
       "    </tr>\n",
       "    <tr>\n",
       "      <th>0.775</th>\n",
       "      <td>13687.083794</td>\n",
       "    </tr>\n",
       "    <tr>\n",
       "      <th>0.800</th>\n",
       "      <td>13011.126900</td>\n",
       "    </tr>\n",
       "    <tr>\n",
       "      <th>0.825</th>\n",
       "      <td>12135.779739</td>\n",
       "    </tr>\n",
       "    <tr>\n",
       "      <th>0.850</th>\n",
       "      <td>11689.711740</td>\n",
       "    </tr>\n",
       "    <tr>\n",
       "      <th>0.875</th>\n",
       "      <td>10674.416273</td>\n",
       "    </tr>\n",
       "    <tr>\n",
       "      <th>0.900</th>\n",
       "      <td>10211.066297</td>\n",
       "    </tr>\n",
       "    <tr>\n",
       "      <th>0.925</th>\n",
       "      <td>9639.182115</td>\n",
       "    </tr>\n",
       "    <tr>\n",
       "      <th>0.950</th>\n",
       "      <td>9138.938581</td>\n",
       "    </tr>\n",
       "    <tr>\n",
       "      <th>0.975</th>\n",
       "      <td>9108.211694</td>\n",
       "    </tr>\n",
       "  </tbody>\n",
       "</table>\n",
       "</div>"
      ],
      "text/plain": [
       "            revenue\n",
       "0.025  15684.287671\n",
       "0.050  15680.405148\n",
       "0.075  15681.124442\n",
       "0.100  15689.653799\n",
       "0.125  15697.528717\n",
       "0.150  15720.602065\n",
       "0.175  15719.687244\n",
       "0.200  15740.617177\n",
       "0.225  15759.097292\n",
       "0.250  15776.240943\n",
       "0.275  15785.582176\n",
       "0.300  15822.596860\n",
       "0.325  15856.125839\n",
       "0.350  15850.189144\n",
       "0.375  15839.626029\n",
       "0.400  15857.032518\n",
       "0.425  15848.617459\n",
       "0.450  15867.952060\n",
       "0.475  15905.258302\n",
       "0.500  15921.857007\n",
       "0.525  15917.742994\n",
       "0.550  15890.106878\n",
       "0.575  15853.804966\n",
       "0.600  15795.716242\n",
       "0.625  15727.438080\n",
       "0.650  15545.711018\n",
       "0.675  15206.360489\n",
       "0.700  14836.495803\n",
       "0.725  14468.328876\n",
       "0.750  14030.249651\n",
       "0.775  13687.083794\n",
       "0.800  13011.126900\n",
       "0.825  12135.779739\n",
       "0.850  11689.711740\n",
       "0.875  10674.416273\n",
       "0.900  10211.066297\n",
       "0.925   9639.182115\n",
       "0.950   9138.938581\n",
       "0.975   9108.211694"
      ]
     },
     "execution_count": 65,
     "metadata": {},
     "output_type": "execute_result"
    }
   ],
   "source": [
    "revenue_by_threshold"
   ]
  },
  {
   "cell_type": "code",
   "execution_count": 66,
   "metadata": {},
   "outputs": [
    {
     "data": {
      "text/plain": [
       "15921.857007186476"
      ]
     },
     "execution_count": 66,
     "metadata": {},
     "output_type": "execute_result"
    }
   ],
   "source": [
    "highest_revenue"
   ]
  },
  {
   "cell_type": "code",
   "execution_count": 67,
   "metadata": {},
   "outputs": [
    {
     "data": {
      "text/plain": [
       "0.5"
      ]
     },
     "execution_count": 67,
     "metadata": {},
     "output_type": "execute_result"
    }
   ],
   "source": [
    "threshold_at_highest_revenue"
   ]
  },
  {
   "cell_type": "code",
   "execution_count": 68,
   "metadata": {},
   "outputs": [
    {
     "data": {
      "image/png": "[encoded data removed]",
      "text/plain": [
       "<Figure size 432x288 with 1 Axes>"
      ]
     },
     "metadata": {
      "needs_background": "light"
     },
     "output_type": "display_data"
    }
   ],
   "source": [
    "import matplotlib.pyplot as plt\n",
    "plt.plot(revenue_by_threshold.index, revenue_by_threshold)\n",
    "plt.ylabel('Revenue projection')\n",
    "plt.xlabel('Threshold of probability for property to be booked')\n",
    "plt.show()"
   ]
  },
  {
   "cell_type": "markdown",
   "metadata": {},
   "source": [
    "Calculating percentage of change in expected revenue before and after tuning price using occupancy prediction model."
   ]
  },
  {
   "cell_type": "code",
   "execution_count": 69,
   "metadata": {},
   "outputs": [],
   "source": [
    "expected_revenue_original_price = 0\n",
    "expected_revenue_modified_price = 0\n",
    "\n",
    "for index, row in X_test.sample(n=100, random_state=42).copy().iterrows():\n",
    "    def calc_average_prob_booked(row):        \n",
    "        df = pd.DataFrame(data=row.to_dict(), index=[0])\n",
    "        sum_prob_booked = 0\n",
    "        for clf in classifiers:\n",
    "            sum_prob_booked += clf.predict_proba(df)[0][0]\n",
    "        return sum_prob_booked/len(classifiers)\n",
    "    prob_booked = calc_average_prob_booked(row)\n",
    "    expected_revenue_original_price += prob_booked    * row[\"price_calendar\"]\n",
    "    revenue_at_tuned_price = calc_revenue_at_tuned_price(row, threshold_at_highest_revenue, classifiers)\n",
    "    expected_revenue_modified_price += revenue_at_tuned_price"
   ]
  },
  {
   "cell_type": "code",
   "execution_count": 70,
   "metadata": {},
   "outputs": [],
   "source": [
    "percentag_change = 100*(expected_revenue_modified_price - expected_revenue_original_price)/expected_revenue_original_price"
   ]
  },
  {
   "cell_type": "code",
   "execution_count": 71,
   "metadata": {},
   "outputs": [
    {
     "data": {
      "text/plain": [
       "58.53088419507424"
      ]
     },
     "execution_count": 71,
     "metadata": {},
     "output_type": "execute_result"
    }
   ],
   "source": [
    "percentag_change"
   ]
  },
  {
   "cell_type": "code",
   "execution_count": null,
   "metadata": {},
   "outputs": [],
   "source": []
  }
 ],
 "metadata": {
  "kernelspec": {
   "display_name": "Python 3",
   "language": "python",
   "name": "python3"
  },
  "language_info": {
   "codemirror_mode": {
    "name": "ipython",
    "version": 3
   },
   "file_extension": ".py",
   "mimetype": "text/x-python",
   "name": "python",
   "nbconvert_exporter": "python",
   "pygments_lexer": "ipython3",
   "version": "3.7.3"
  }
 },
 "nbformat": 4,
 "nbformat_minor": 2
}
