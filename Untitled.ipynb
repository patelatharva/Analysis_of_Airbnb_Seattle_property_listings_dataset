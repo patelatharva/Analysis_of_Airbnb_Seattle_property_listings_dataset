{
 "cells": [
  {
   "cell_type": "code",
   "execution_count": null,
   "metadata": {},
   "outputs": [],
   "source": [
    "import numpy as np\n",
    "import pandas as pd\n",
    "import matplotlib.pyplot as plt\n",
    "import matplotlib.dates as mdates\n",
    "from sklearn.model_selection import GridSearchCV\n",
    "from sklearn.model_selection import train_test_split\n",
    "from sklearn.metrics import r2_score, mean_squared_error\n",
    "import seaborn as sns\n",
    "from pandas.plotting import register_matplotlib_converters\n",
    "register_matplotlib_converters()\n",
    "%matplotlib inline\n",
    "import glob\n",
    "import pickle\n",
    "import time\n",
    "from sklearn.metrics import roc_auc_score, f1_score\n",
    "from sklearn.tree import DecisionTreeClassifier\n",
    "from sklearn.ensemble import GradientBoostingClassifier, AdaBoostClassifier, RandomForestClassifier\n",
    "import math\n",
    "from sklearn.base import clone\n",
    "!pip install scikit-optimize\n",
    "from skopt import gp_minimize"
   ]
  },
  {
   "cell_type": "code",
   "execution_count": null,
   "metadata": {},
   "outputs": [],
   "source": [
    "X_test = pd.read_csv(\"X_test.csv\")\n",
    "y_test = pd.read_csv(\"y_test.csv\")"
   ]
  },
  {
   "cell_type": "code",
   "execution_count": null,
   "metadata": {},
   "outputs": [],
   "source": [
    "X_test.head(5)"
   ]
  },
  {
   "cell_type": "code",
   "execution_count": null,
   "metadata": {},
   "outputs": [],
   "source": [
    "y_test.head(5)"
   ]
  },
  {
   "cell_type": "code",
   "execution_count": null,
   "metadata": {},
   "outputs": [],
   "source": [
    "X_test[\"beds\"].unique()"
   ]
  },
  {
   "cell_type": "code",
   "execution_count": null,
   "metadata": {},
   "outputs": [],
   "source": [
    "import decimal\n",
    "\n",
    "def float_range(start, stop, step):\n",
    "    start = decimal.Decimal(start)\n",
    "    stop = decimal.Decimal(stop)\n",
    "    step = decimal.Decimal(step)\n",
    "    while (start < stop):\n",
    "        yield float(start)\n",
    "        start += step"
   ]
  },
  {
   "cell_type": "code",
   "execution_count": null,
   "metadata": {},
   "outputs": [],
   "source": [
    "thresholds = list(float_range('0.025', '1', '0.025'))\n",
    "revenue_by_threshold= pd.DataFrame({\"revenue\": 0}, index=thresholds)\n",
    "revenue_by_threshold"
   ]
  },
  {
   "cell_type": "code",
   "execution_count": null,
   "metadata": {},
   "outputs": [],
   "source": [
    "def calc_revenue_at_tuned_price(row, threshold, clf):\n",
    "    current_price = row[\"price_calendar\"]\n",
    "    print(\"price_calendar: \" + str(current_price))\n",
    "    df = pd.DataFrame(data=row.to_dict(), index=[0])\n",
    "    prob_booked = clf.predict_proba(df)[0][0]\n",
    "#     print (\"probability of booked at price_calendar: \" + str(prob_booked))\n",
    "    if (prob_booked < threshold):\n",
    "#         print (\"Will try with reduced the price\")\n",
    "        trial_price = current_price\n",
    "        saved_trial_price = None\n",
    "        steps_in_trap = 0\n",
    "        while (prob_booked < threshold and trial_price > 10):\n",
    "            saved_trial_price = trial_price\n",
    "            trial_price = trial_price * 0.95\n",
    "            row[\"price_calendar\"] = trial_price\n",
    "            df = pd.DataFrame(data=row.to_dict(), index=[0])\n",
    "            prob_booked_trial = clf.predict_proba(df)[0][0]\n",
    "#             print (\"trial_price: \" + str(trial_price))\n",
    "#             print (\"prob_booked_trial: \" + str(prob_booked_trial))\n",
    "\n",
    "            if prob_booked_trial >= prob_booked:\n",
    "                if prob_booked_trial == prob_booked:\n",
    "                    steps_in_trap += 1\n",
    "                    if steps_in_trap > 3:\n",
    "                        return saved_trial_price * prob_booked\n",
    "                else:\n",
    "                    steps_in_trap = 0\n",
    "                prob_booked = prob_booked_trial\n",
    "            else:\n",
    "                return saved_trial_price * prob_booked\n",
    "        return trial_price * prob_booked\n",
    "    else:\n",
    "#         print (\"Will try with increased the price\")\n",
    "        trial_price = current_price\n",
    "        saved_trial_price = None\n",
    "        steps_in_trap = 0\n",
    "        while (True):\n",
    "            saved_trial_price = trial_price\n",
    "            trial_price = trial_price * 1.05\n",
    "            row[\"price_calendar\"] = trial_price\n",
    "            df = pd.DataFrame(data=row.to_dict(), index=[0])\n",
    "            prob_booked_trial = clf.predict_proba(df)[0][0]\n",
    "#             print (\"trial_price: \" + str(trial_price))\n",
    "#             print (\"prob_booked_trial: \" + str(prob_booked_trial))\n",
    "            if prob_booked_trial <= prob_booked:\n",
    "                if prob_booked_trial == prob_booked:\n",
    "                    steps_in_trap += 1\n",
    "                    if steps_in_trap > 3:\n",
    "                        return saved_trial_price * prob_booked\n",
    "                else:\n",
    "                    steps_in_trap = 0\n",
    "                prob_booked = prob_booked_trial\n",
    "                if (prob_booked > threshold):\n",
    "                    pass\n",
    "                else:\n",
    "                    return saved_trial_price * prob_booked    \n",
    "            else:\n",
    "                return saved_trial_price * prob_booked\n",
    "        "
   ]
  },
  {
   "cell_type": "code",
   "execution_count": null,
   "metadata": {},
   "outputs": [],
   "source": [
    "clf = pickle.load(open(\"gb_best.pkl\", 'rb'))"
   ]
  },
  {
   "cell_type": "code",
   "execution_count": null,
   "metadata": {},
   "outputs": [],
   "source": [
    "clf.classes_"
   ]
  },
  {
   "cell_type": "code",
   "execution_count": null,
   "metadata": {},
   "outputs": [],
   "source": [
    "highest_revenue = -math.inf\n",
    "threshold_at_highest_revenue = None\n",
    "for threshold in thresholds:\n",
    "#     print(\"====================================================\\n\")    \n",
    "#     print (\"Evaluating revenue at threshold: \" + str(threshold))\n",
    "#     print(\"====================================================\\n\")\n",
    "    revenue = 0\n",
    "    for index, row in X_test.sample(n=10000, random_state=42).copy().iterrows():\n",
    "        revenue_at_tuned_price = calc_revenue_at_tuned_price(row, threshold, clf)\n",
    "#         print (\"threshold: \" + str(threshold))\n",
    "#         print (\"revenue at tuned price: \" + str(revenue_at_tuned_price))\n",
    "        revenue += revenue_at_tuned_price\n",
    "#         print (\"------------------------------------------------------------\")\n",
    "    if revenue > highest_revenue:\n",
    "        highest_revenue = revenue\n",
    "        threshold_at_highest_revenue = threshold\n",
    "    revenue_by_threshold.loc[threshold, \"revenue\"] = revenue"
   ]
  },
  {
   "cell_type": "code",
   "execution_count": null,
   "metadata": {},
   "outputs": [],
   "source": [
    "revenue_by_threshold"
   ]
  },
  {
   "cell_type": "code",
   "execution_count": null,
   "metadata": {},
   "outputs": [],
   "source": [
    "highest_revenue"
   ]
  },
  {
   "cell_type": "code",
   "execution_count": null,
   "metadata": {},
   "outputs": [],
   "source": [
    "threshold_at_highest_revenue"
   ]
  },
  {
   "cell_type": "code",
   "execution_count": null,
   "metadata": {},
   "outputs": [],
   "source": [
    "import matplotlib.pyplot as plt\n",
    "plt.plot(revenue_by_threshold.index, revenue_by_threshold)\n",
    "plt.ylabel('Revenue projection')\n",
    "plt.xlabel('Threshold of probability for property to be booked')\n",
    "plt.show()"
   ]
  },
  {
   "cell_type": "code",
   "execution_count": null,
   "metadata": {},
   "outputs": [],
   "source": []
  }
 ],
 "metadata": {
  "kernelspec": {
   "display_name": "Python 3",
   "language": "python",
   "name": "python3"
  },
  "language_info": {
   "codemirror_mode": {
    "name": "ipython",
    "version": 3
   },
   "file_extension": ".py",
   "mimetype": "text/x-python",
   "name": "python",
   "nbconvert_exporter": "python",
   "pygments_lexer": "ipython3",
   "version": "3.7.3"
  }
 },
 "nbformat": 4,
 "nbformat_minor": 2
}
